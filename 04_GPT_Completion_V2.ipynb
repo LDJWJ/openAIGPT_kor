{
  "nbformat": 4,
  "nbformat_minor": 0,
  "metadata": {
    "colab": {
      "provenance": [],
      "gpuType": "T4"
    },
    "kernelspec": {
      "name": "python3",
      "display_name": "Python 3"
    },
    "language_info": {
      "name": "python"
    },
    "accelerator": "GPU"
  },
  "cells": [
    {
      "cell_type": "markdown",
      "source": [
        "### GPT 텍스트 완성 사용하기"
      ],
      "metadata": {
        "id": "8AkSZYB9bPqj"
      }
    },
    {
      "cell_type": "markdown",
      "source": [
        "### 학습 내용\n",
        " * 기본적인 자동 완성\n",
        " * 출력의 토큰 카운트 제어하기\n",
        " * Logprobs를 활용한 토큰 발생개수 제어\n",
        " * 창의성 제어 : temperature를 활용한 샘플링\n",
        " * top_p를 활용한 샘플링\n",
        " * stream 매개변수를 활용한 응답 내용 스트리밍 처리\n",
        " * 반복성 제어 : presence_penalty, frequency_penalty\n",
        " * n을 활용한 출력개수 제어하기\n",
        " * stop을 활용한 자동완성 제어하기\n",
        " * suffix를 활용한 텍스트 완성 후 접미사 사용하기\n",
        " * 실습 : 키워드 추출하기\n",
        " * 실습 : 트윗 생성하기\n",
        " * 실습 : 랩 가사 생성하기\n",
        " * 실습 : Todo 리스트 만들기"
      ],
      "metadata": {
        "id": "Q-eUxM32aIkt"
      }
    },
    {
      "cell_type": "markdown",
      "source": [
        "### 사전 준비\n",
        " * 구글 코랩 환경은 일정 시간이후에 초기화가 되기 때문에 두가지 작업을 매번 수행해야 함.\n",
        "   * chatgpt.env 파일 생성이 필요.\n",
        "     * 준비된 chatgpt.env를 내용을 자신의 API KEY와 ORG_ID로 변경하여 업로드 하거나 또는 API_KEY와 ORG_ID를 확인하여 파일을 코랩 환경에 생성한다.\n",
        "   * pip install openai 설치\n",
        "     * 설치시 첫 실행시 에러가 발생(23/12) - 해결(다시 한번 실행하면 사라짐)\n",
        "     ```\n",
        "     ERROR: pip's dependency resolver does not currently take into account all the packages that are installed. This behaviour is the source of the following dependency conflicts.\n",
        "llmx 0.0.15a0 requires cohere, which is not installed.\n",
        "llmx 0.0.15a0 requires tiktoken, which is not installed.\n",
        "```"
      ],
      "metadata": {
        "id": "ierL4d3NbUMO"
      }
    },
    {
      "cell_type": "code",
      "source": [
        "!pip install openai"
      ],
      "metadata": {
        "colab": {
          "base_uri": "https://localhost:8080/"
        },
        "id": "EgWbK8Pbb6Oy",
        "outputId": "ed86c72e-1cad-4755-ae12-0570e9fd45ad"
      },
      "execution_count": null,
      "outputs": [
        {
          "output_type": "stream",
          "name": "stdout",
          "text": [
            "Requirement already satisfied: openai in /usr/local/lib/python3.10/dist-packages (1.6.0)\n",
            "Requirement already satisfied: anyio<5,>=3.5.0 in /usr/local/lib/python3.10/dist-packages (from openai) (3.7.1)\n",
            "Requirement already satisfied: distro<2,>=1.7.0 in /usr/lib/python3/dist-packages (from openai) (1.7.0)\n",
            "Requirement already satisfied: httpx<1,>=0.23.0 in /usr/local/lib/python3.10/dist-packages (from openai) (0.26.0)\n",
            "Requirement already satisfied: pydantic<3,>=1.9.0 in /usr/local/lib/python3.10/dist-packages (from openai) (1.10.13)\n",
            "Requirement already satisfied: sniffio in /usr/local/lib/python3.10/dist-packages (from openai) (1.3.0)\n",
            "Requirement already satisfied: tqdm>4 in /usr/local/lib/python3.10/dist-packages (from openai) (4.66.1)\n",
            "Requirement already satisfied: typing-extensions<5,>=4.7 in /usr/local/lib/python3.10/dist-packages (from openai) (4.9.0)\n",
            "Requirement already satisfied: idna>=2.8 in /usr/local/lib/python3.10/dist-packages (from anyio<5,>=3.5.0->openai) (3.6)\n",
            "Requirement already satisfied: exceptiongroup in /usr/local/lib/python3.10/dist-packages (from anyio<5,>=3.5.0->openai) (1.2.0)\n",
            "Requirement already satisfied: certifi in /usr/local/lib/python3.10/dist-packages (from httpx<1,>=0.23.0->openai) (2023.11.17)\n",
            "Requirement already satisfied: httpcore==1.* in /usr/local/lib/python3.10/dist-packages (from httpx<1,>=0.23.0->openai) (1.0.2)\n",
            "Requirement already satisfied: h11<0.15,>=0.13 in /usr/local/lib/python3.10/dist-packages (from httpcore==1.*->httpx<1,>=0.23.0->openai) (0.14.0)\n"
          ]
        }
      ]
    },
    {
      "cell_type": "markdown",
      "source": [
        "### 기본적인 자동 완성\n",
        "  * Once upon a time의 입력에 대한 출력 내용을 확인합니다."
      ],
      "metadata": {
        "id": "2umh6vSGbX1s"
      }
    },
    {
      "cell_type": "code",
      "source": [
        "import openai\n",
        "\n",
        "print(openai.__version__)"
      ],
      "metadata": {
        "colab": {
          "base_uri": "https://localhost:8080/"
        },
        "id": "8QoSkZZxdBzt",
        "outputId": "81da4cb7-3f7c-4c2c-a0b5-bfd276dc40ba"
      },
      "execution_count": null,
      "outputs": [
        {
          "output_type": "stream",
          "name": "stdout",
          "text": [
            "1.6.0\n"
          ]
        }
      ]
    },
    {
      "cell_type": "markdown",
      "source": [
        "### 4-1. 기본적인 자동 완성"
      ],
      "metadata": {
        "id": "1Z7gHXA4Cr-C"
      }
    },
    {
      "cell_type": "code",
      "source": [
        "import os\n",
        "from openai import OpenAI\n",
        "\n",
        "def init_api():\n",
        "    with open(\"chatgpt.env\") as env:\n",
        "       for line in env:\n",
        "           key, value = line.strip().split(\"=\")\n",
        "           os.environ[key] = value\n",
        "\n",
        "init_api()\n",
        "\n",
        "client = OpenAI(api_key  = os.environ.get(\"API_KEY\"),\n",
        "                organization  = os.environ.get(\"ORG_ID\"))\n",
        "\n",
        "\n",
        "next = client.completions.create(\n",
        "    model=\"gpt-3.5-turbo-instruct\",\n",
        "    prompt=\"Once upon a time\",\n",
        "    max_tokens=7,\n",
        "    temperature=0\n",
        ")\n",
        "\n",
        "print(next)\n"
      ],
      "metadata": {
        "colab": {
          "base_uri": "https://localhost:8080/"
        },
        "id": "NNV_vU66bxw7",
        "outputId": "fd6cc213-2137-4727-eeb6-992053452415"
      },
      "execution_count": null,
      "outputs": [
        {
          "output_type": "stream",
          "name": "stdout",
          "text": [
            "Completion(id='cmpl-8Y3AKT4BthyKbSfgTW4JscaWVhUts', choices=[CompletionChoice(finish_reason='length', index=0, logprobs=None, text=', there was a little girl named')], created=1703126012, model='gpt-3.5-turbo-instruct', object='text_completion', system_fingerprint=None, usage=CompletionUsage(completion_tokens=7, prompt_tokens=4, total_tokens=11))\n"
          ]
        }
      ]
    },
    {
      "cell_type": "code",
      "source": [
        "next"
      ],
      "metadata": {
        "colab": {
          "base_uri": "https://localhost:8080/"
        },
        "id": "KXht8zzBF7Nb",
        "outputId": "aee2c22a-a1a0-4724-e1fd-bdd0a1f9938f"
      },
      "execution_count": null,
      "outputs": [
        {
          "output_type": "execute_result",
          "data": {
            "text/plain": [
              "Completion(id='cmpl-8Y3AKT4BthyKbSfgTW4JscaWVhUts', choices=[CompletionChoice(finish_reason='length', index=0, logprobs=None, text=', there was a little girl named')], created=1703126012, model='gpt-3.5-turbo-instruct', object='text_completion', system_fingerprint=None, usage=CompletionUsage(completion_tokens=7, prompt_tokens=4, total_tokens=11))"
            ]
          },
          "metadata": {},
          "execution_count": 5
        }
      ]
    },
    {
      "cell_type": "markdown",
      "source": [
        "### 출력의 토큰 카운트 제어하기 - max_tokens"
      ],
      "metadata": {
        "id": "of6Azy48b0Zn"
      }
    },
    {
      "cell_type": "code",
      "source": [
        "import os\n",
        "from openai import OpenAI\n",
        "\n",
        "def init_api():\n",
        "    with open(\"chatgpt.env\") as env:\n",
        "       for line in env:\n",
        "           key, value = line.strip().split(\"=\")\n",
        "           os.environ[key] = value\n",
        "\n",
        "init_api()\n",
        "\n",
        "client = OpenAI(api_key  = os.environ.get(\"API_KEY\"),\n",
        "                organization  = os.environ.get(\"ORG_ID\"))\n",
        "\n",
        "next = client.completions.create(\n",
        "    model=\"gpt-3.5-turbo-instruct\",\n",
        "    prompt=\"Once upon a time\",\n",
        "    max_tokens=15,\n",
        "    temperature=0\n",
        ")\n",
        "print(next)\n"
      ],
      "metadata": {
        "colab": {
          "base_uri": "https://localhost:8080/"
        },
        "id": "uGS7UnyYcuEO",
        "outputId": "fb792781-3359-4fdd-af48-d3ea1d7c4de1"
      },
      "execution_count": null,
      "outputs": [
        {
          "output_type": "stream",
          "name": "stdout",
          "text": [
            "Completion(id='cmpl-8Y3AObCwZt3v2Nd719MOQglOLsF09', choices=[CompletionChoice(finish_reason='length', index=0, logprobs=None, text=', there was a little girl named Goldilocks. She lived in a')], created=1703126016, model='gpt-3.5-turbo-instruct', object='text_completion', system_fingerprint=None, usage=CompletionUsage(completion_tokens=15, prompt_tokens=4, total_tokens=19))\n"
          ]
        }
      ]
    },
    {
      "cell_type": "code",
      "source": [
        "next"
      ],
      "metadata": {
        "colab": {
          "base_uri": "https://localhost:8080/"
        },
        "id": "4qO7sdFCHxJ8",
        "outputId": "27460f05-a959-4c81-9f3b-91f4cdbab59e"
      },
      "execution_count": null,
      "outputs": [
        {
          "output_type": "execute_result",
          "data": {
            "text/plain": [
              "Completion(id='cmpl-8Y3AObCwZt3v2Nd719MOQglOLsF09', choices=[CompletionChoice(finish_reason='length', index=0, logprobs=None, text=', there was a little girl named Goldilocks. She lived in a')], created=1703126016, model='gpt-3.5-turbo-instruct', object='text_completion', system_fingerprint=None, usage=CompletionUsage(completion_tokens=15, prompt_tokens=4, total_tokens=19))"
            ]
          },
          "metadata": {},
          "execution_count": 7
        }
      ]
    },
    {
      "cell_type": "markdown",
      "source": [
        "### Logprobs"
      ],
      "metadata": {
        "id": "GYbxs04Qcwyi"
      }
    },
    {
      "cell_type": "code",
      "source": [
        "import os\n",
        "from openai import OpenAI\n",
        "\n",
        "def init_api():\n",
        "    with open(\"chatgpt.env\") as env:\n",
        "       for line in env:\n",
        "           key, value = line.strip().split(\"=\")\n",
        "           os.environ[key] = value\n",
        "\n",
        "init_api()\n",
        "\n",
        "client = OpenAI(api_key  = os.environ.get(\"API_KEY\"),\n",
        "                organization  = os.environ.get(\"ORG_ID\"))\n",
        "\n",
        "next = client.completions.create(\n",
        "    model=\"gpt-3.5-turbo-instruct\",\n",
        "    prompt=\"Once upon a time\",\n",
        "    max_tokens=15,\n",
        "    temperature=0,\n",
        "    logprobs=2,\n",
        ")\n",
        "\n",
        "print(next)"
      ],
      "metadata": {
        "colab": {
          "base_uri": "https://localhost:8080/"
        },
        "id": "cDAJTzCBdMeY",
        "outputId": "8f77fd5b-5767-4ed8-cff5-f8b58c713da8"
      },
      "execution_count": null,
      "outputs": [
        {
          "output_type": "stream",
          "name": "stdout",
          "text": [
            "Completion(id='cmpl-8Y3ASivWb8bvuCBqAXx6HYLHYKBme', choices=[CompletionChoice(finish_reason='length', index=0, logprobs=Logprobs(text_offset=[16, 17, 23, 27, 29, 36, 41, 47, 52, 54, 58, 59, 63, 69, 72], token_logprobs=[-0.66318816, -1.573763, -0.32495672, -0.10142991, -2.5932014, -0.6747093, -0.7298527, -2.1843867, -0.05414322, -0.0050827875, -0.4035792, -0.5208398, -0.5327251, -0.22389308, -0.050010797], tokens=[',', ' there', ' was', ' a', ' little', ' girl', ' named', ' Gold', 'il', 'ocks', '.', ' She', ' lived', ' in', ' a'], top_logprobs=[{',': -0.66318816, ' there': -2.0260518}, {' there': -1.573763, ' in': -1.6191884}, {' was': -0.32495672, ' lived': -1.9624517}, {' a': -0.10142991, ' an': -2.8616877}, {' little': -2.5932014, ' beautiful': -2.6945217}, {' girl': -0.6747093, ' boy': -1.9262962}, {' named': -0.7298527, ' who': -1.4068642}, {' Gold': -2.1843867, ' Alice': -3.1992965}, {'il': -0.05414322, 'ie': -3.3841126}, {'ocks': -0.0050827875, 'icious': -6.5268245}, {'.': -0.4035792, ' who': -2.2532554}, {' She': -0.5208398, ' One': -0.99504864}, {' lived': -0.5327251, ' had': -1.4610889}, {' in': -0.22389308, ' with': -2.1915445}, {' a': -0.050010797, ' the': -3.0212917}]), text=', there was a little girl named Goldilocks. She lived in a')], created=1703126020, model='gpt-3.5-turbo-instruct', object='text_completion', system_fingerprint=None, usage=CompletionUsage(completion_tokens=15, prompt_tokens=4, total_tokens=19))\n"
          ]
        }
      ]
    },
    {
      "cell_type": "code",
      "source": [
        "next"
      ],
      "metadata": {
        "colab": {
          "base_uri": "https://localhost:8080/"
        },
        "id": "52Ap1NbcIoiv",
        "outputId": "8e6f98f9-70f8-4116-fba2-8e45eb7e2d50"
      },
      "execution_count": null,
      "outputs": [
        {
          "output_type": "execute_result",
          "data": {
            "text/plain": [
              "Completion(id='cmpl-8Y3ASivWb8bvuCBqAXx6HYLHYKBme', choices=[CompletionChoice(finish_reason='length', index=0, logprobs=Logprobs(text_offset=[16, 17, 23, 27, 29, 36, 41, 47, 52, 54, 58, 59, 63, 69, 72], token_logprobs=[-0.66318816, -1.573763, -0.32495672, -0.10142991, -2.5932014, -0.6747093, -0.7298527, -2.1843867, -0.05414322, -0.0050827875, -0.4035792, -0.5208398, -0.5327251, -0.22389308, -0.050010797], tokens=[',', ' there', ' was', ' a', ' little', ' girl', ' named', ' Gold', 'il', 'ocks', '.', ' She', ' lived', ' in', ' a'], top_logprobs=[{',': -0.66318816, ' there': -2.0260518}, {' there': -1.573763, ' in': -1.6191884}, {' was': -0.32495672, ' lived': -1.9624517}, {' a': -0.10142991, ' an': -2.8616877}, {' little': -2.5932014, ' beautiful': -2.6945217}, {' girl': -0.6747093, ' boy': -1.9262962}, {' named': -0.7298527, ' who': -1.4068642}, {' Gold': -2.1843867, ' Alice': -3.1992965}, {'il': -0.05414322, 'ie': -3.3841126}, {'ocks': -0.0050827875, 'icious': -6.5268245}, {'.': -0.4035792, ' who': -2.2532554}, {' She': -0.5208398, ' One': -0.99504864}, {' lived': -0.5327251, ' had': -1.4610889}, {' in': -0.22389308, ' with': -2.1915445}, {' a': -0.050010797, ' the': -3.0212917}]), text=', there was a little girl named Goldilocks. She lived in a')], created=1703126020, model='gpt-3.5-turbo-instruct', object='text_completion', system_fingerprint=None, usage=CompletionUsage(completion_tokens=15, prompt_tokens=4, total_tokens=19))"
            ]
          },
          "metadata": {},
          "execution_count": 9
        }
      ]
    },
    {
      "cell_type": "markdown",
      "source": [
        "### 창의성 제어 : temperature를 활용한 샘플링"
      ],
      "metadata": {
        "id": "ugSOpGPcdOof"
      }
    },
    {
      "cell_type": "code",
      "source": [
        "import os\n",
        "from openai import OpenAI\n",
        "\n",
        "def init_api():\n",
        "    with open(\"chatgpt.env\") as env:\n",
        "       for line in env:\n",
        "           key, value = line.strip().split(\"=\")\n",
        "           os.environ[key] = value\n",
        "\n",
        "init_api()\n",
        "\n",
        "client = OpenAI(api_key  = os.environ.get(\"API_KEY\"),\n",
        "                organization  = os.environ.get(\"ORG_ID\"))\n",
        "\n",
        "next = client.completions.create(\n",
        "    model=\"gpt-3.5-turbo-instruct\",\n",
        "    prompt=\"Once upon a time\",\n",
        "    max_tokens=15,\n",
        "    temperature=1.2\n",
        ")\n",
        "\n",
        "print(next)"
      ],
      "metadata": {
        "colab": {
          "base_uri": "https://localhost:8080/"
        },
        "id": "mD-QJYYN3KLH",
        "outputId": "ec12d315-15b1-4a63-f471-60542757d74e"
      },
      "execution_count": null,
      "outputs": [
        {
          "output_type": "stream",
          "name": "stdout",
          "text": [
            "Completion(id='cmpl-8Y3ChAHnEQkqu5v86BZHXujFJWphk', choices=[CompletionChoice(finish_reason='length', index=0, logprobs=None, text=', a tiger who was living in a beautiful forest discovered that all of his')], created=1703126159, model='gpt-3.5-turbo-instruct', object='text_completion', system_fingerprint=None, usage=CompletionUsage(completion_tokens=15, prompt_tokens=4, total_tokens=19))\n"
          ]
        }
      ]
    },
    {
      "cell_type": "code",
      "source": [
        "next"
      ],
      "metadata": {
        "colab": {
          "base_uri": "https://localhost:8080/"
        },
        "id": "UO3UC5dwL94-",
        "outputId": "206a4b07-ba34-4dbf-ba28-fcdf03d69fde"
      },
      "execution_count": null,
      "outputs": [
        {
          "output_type": "execute_result",
          "data": {
            "text/plain": [
              "Completion(id='cmpl-8Y3ChAHnEQkqu5v86BZHXujFJWphk', choices=[CompletionChoice(finish_reason='length', index=0, logprobs=None, text=', a tiger who was living in a beautiful forest discovered that all of his')], created=1703126159, model='gpt-3.5-turbo-instruct', object='text_completion', system_fingerprint=None, usage=CompletionUsage(completion_tokens=15, prompt_tokens=4, total_tokens=19))"
            ]
          },
          "metadata": {},
          "execution_count": 19
        }
      ]
    },
    {
      "cell_type": "markdown",
      "source": [
        "### top_p를 활용한 샘플링"
      ],
      "metadata": {
        "id": "yg5pfJla3LBQ"
      }
    },
    {
      "cell_type": "code",
      "source": [
        "import os\n",
        "from openai import OpenAI\n",
        "\n",
        "def init_api():\n",
        "    with open(\"chatgpt.env\") as env:\n",
        "       for line in env:\n",
        "           key, value = line.strip().split(\"=\")\n",
        "           os.environ[key] = value\n",
        "\n",
        "init_api()\n",
        "\n",
        "client = OpenAI(api_key  = os.environ.get(\"API_KEY\"),\n",
        "                organization  = os.environ.get(\"ORG_ID\"))\n",
        "\n",
        "next = client.completions.create(\n",
        "    model=\"gpt-3.5-turbo-instruct\",\n",
        "    prompt=\"Once upon a time\",\n",
        "    max_tokens=15,\n",
        "    top_p=0.5\n",
        ")\n",
        "\n",
        "print(next)\n"
      ],
      "metadata": {
        "colab": {
          "base_uri": "https://localhost:8080/"
        },
        "id": "Bj2wTQn14GJ1",
        "outputId": "b96124e2-a6e5-4036-8337-8e42fdaca4e4"
      },
      "execution_count": null,
      "outputs": [
        {
          "output_type": "stream",
          "name": "stdout",
          "text": [
            "Completion(id='cmpl-8QXMt3shaj9MXKVd9hMN1F8Ynl6cC', choices=[CompletionChoice(finish_reason='length', index=0, logprobs=None, text=', there was a young boy named Oliver. He lived in a small village')], created=1701335487, model='gpt-3.5-turbo-instruct', object='text_completion', system_fingerprint=None, usage=CompletionUsage(completion_tokens=15, prompt_tokens=4, total_tokens=19))\n"
          ]
        }
      ]
    },
    {
      "cell_type": "code",
      "source": [
        "next"
      ],
      "metadata": {
        "colab": {
          "base_uri": "https://localhost:8080/"
        },
        "id": "DHX-upOhPMGf",
        "outputId": "636d63c6-8464-4538-df1c-faf19b64da70"
      },
      "execution_count": null,
      "outputs": [
        {
          "output_type": "execute_result",
          "data": {
            "text/plain": [
              "Completion(id='cmpl-8QXMt3shaj9MXKVd9hMN1F8Ynl6cC', choices=[CompletionChoice(finish_reason='length', index=0, logprobs=None, text=', there was a young boy named Oliver. He lived in a small village')], created=1701335487, model='gpt-3.5-turbo-instruct', object='text_completion', system_fingerprint=None, usage=CompletionUsage(completion_tokens=15, prompt_tokens=4, total_tokens=19))"
            ]
          },
          "metadata": {},
          "execution_count": 16
        }
      ]
    },
    {
      "cell_type": "markdown",
      "source": [
        "### stream 매개변수를 활용한 API 응답 스트리밍 처리\n",
        "  * 생성된 텍스트가 매우 길 경우, 부하고 끊어지는 경우를 막기 위해 일부 텍스트만을 받도록 스트리밍 처리할 수 있다."
      ],
      "metadata": {
        "id": "tr5R-XYU4Jq9"
      }
    },
    {
      "cell_type": "code",
      "source": [
        "import os\n",
        "from openai import OpenAI\n",
        "\n",
        "def init_api():\n",
        "    with open(\"chatgpt.env\") as env:\n",
        "       for line in env:\n",
        "           key, value = line.strip().split(\"=\")\n",
        "           os.environ[key] = value\n",
        "\n",
        "init_api()\n",
        "\n",
        "client = OpenAI(api_key  = os.environ.get(\"API_KEY\"),\n",
        "                organization  = os.environ.get(\"ORG_ID\"))\n",
        "\n",
        "next = client.completions.create(\n",
        "    model=\"gpt-3.5-turbo-instruct\",\n",
        "    prompt=\"Once upon a time\",\n",
        "    max_tokens=7,\n",
        "    stream=True\n",
        ")\n",
        "\n",
        "# 이 부분은 <class 'generator'>를 반환합니다.\n",
        "print(\"API 응답의 자료형 : \", type(next))\n",
        "\n",
        "# *은 next의 제너레이터 내용을 확인(언패킹)합니다.\n",
        "print(\"===== 내용 확인 ===== \\n\", *next, sep='\\n')\n"
      ],
      "metadata": {
        "colab": {
          "base_uri": "https://localhost:8080/"
        },
        "id": "A9oTqV6-5iG2",
        "outputId": "46bbf2f2-d045-4aa8-e211-b3445ffe0a55"
      },
      "execution_count": null,
      "outputs": [
        {
          "output_type": "stream",
          "name": "stdout",
          "text": [
            "API 응답의 자료형 :  <class 'openai.Stream'>\n",
            "===== 내용 확인 ===== \n",
            "\n",
            "Completion(id='cmpl-8QXNaTXucH6Upw2xDGaS2oOj26ZJr', choices=[CompletionChoice(finish_reason=None, index=0, logprobs=None, text='…\\n\\n')], created=1701335530, model='gpt-3.5-turbo-instruct', object='text_completion', system_fingerprint=None, usage=None)\n",
            "Completion(id='cmpl-8QXNaTXucH6Upw2xDGaS2oOj26ZJr', choices=[CompletionChoice(finish_reason=None, index=0, logprobs=None, text='Ai')], created=1701335530, model='gpt-3.5-turbo-instruct', object='text_completion', system_fingerprint=None, usage=None)\n",
            "Completion(id='cmpl-8QXNaTXucH6Upw2xDGaS2oOj26ZJr', choices=[CompletionChoice(finish_reason=None, index=0, logprobs=None, text='oco')], created=1701335530, model='gpt-3.5-turbo-instruct', object='text_completion', system_fingerprint=None, usage=None)\n",
            "Completion(id='cmpl-8QXNaTXucH6Upw2xDGaS2oOj26ZJr', choices=[CompletionChoice(finish_reason=None, index=0, logprobs=None, text='ear')], created=1701335530, model='gpt-3.5-turbo-instruct', object='text_completion', system_fingerprint=None, usage=None)\n",
            "Completion(id='cmpl-8QXNaTXucH6Upw2xDGaS2oOj26ZJr', choices=[CompletionChoice(finish_reason=None, index=0, logprobs=None, text='i')], created=1701335530, model='gpt-3.5-turbo-instruct', object='text_completion', system_fingerprint=None, usage=None)\n",
            "Completion(id='cmpl-8QXNaTXucH6Upw2xDGaS2oOj26ZJr', choices=[CompletionChoice(finish_reason=None, index=0, logprobs=None, text=',')], created=1701335530, model='gpt-3.5-turbo-instruct', object='text_completion', system_fingerprint=None, usage=None)\n",
            "Completion(id='cmpl-8QXNaTXucH6Upw2xDGaS2oOj26ZJr', choices=[CompletionChoice(finish_reason='length', index=0, logprobs=None, text=' the')], created=1701335530, model='gpt-3.5-turbo-instruct', object='text_completion', system_fingerprint=None, usage=None)\n",
            "Completion(id='cmpl-8QXNaTXucH6Upw2xDGaS2oOj26ZJr', choices=[CompletionChoice(finish_reason='length', index=0, logprobs=None, text='')], created=1701335530, model='gpt-3.5-turbo-instruct', object='text_completion', system_fingerprint=None, usage=None)\n"
          ]
        }
      ]
    },
    {
      "cell_type": "markdown",
      "source": [
        "### stream (2)"
      ],
      "metadata": {
        "id": "spJffUsX5iee"
      }
    },
    {
      "cell_type": "code",
      "source": [
        "import os\n",
        "from openai import OpenAI\n",
        "\n",
        "def init_api():\n",
        "    with open(\"chatgpt.env\") as env:\n",
        "       for line in env:\n",
        "           key, value = line.strip().split(\"=\")\n",
        "           os.environ[key] = value\n",
        "\n",
        "init_api()\n",
        "\n",
        "client = OpenAI(api_key  = os.environ.get(\"API_KEY\"),\n",
        "                organization  = os.environ.get(\"ORG_ID\"))\n",
        "\n",
        "next = client.completions.create(\n",
        "    model=\"gpt-3.5-turbo-instruct\",\n",
        "    prompt=\"Once upon a time\",\n",
        "    max_tokens=7,\n",
        "    stream=True\n",
        ")\n",
        "\n",
        "# 생성된 텍스트 요소들을 하나씩 읽어오기\n",
        "for completion in next:\n",
        "    print(\"text:\", completion.choices[0].text)"
      ],
      "metadata": {
        "colab": {
          "base_uri": "https://localhost:8080/"
        },
        "id": "9Xgp6w5O6LuL",
        "outputId": "58b3edfd-e16e-4686-f8cf-99748003adfd"
      },
      "execution_count": null,
      "outputs": [
        {
          "output_type": "stream",
          "name": "stdout",
          "text": [
            "text:  Norway\n",
            "text:  could\n",
            "text:  lay\n",
            "text:  claim\n",
            "text:  to\n",
            "text:  being\n",
            "text:  the\n",
            "text: \n"
          ]
        }
      ]
    },
    {
      "cell_type": "code",
      "source": [
        "next"
      ],
      "metadata": {
        "colab": {
          "base_uri": "https://localhost:8080/"
        },
        "id": "VolwliA4QMxF",
        "outputId": "8e4ca35e-aec0-49e9-9860-cee8e3fdedda"
      },
      "execution_count": null,
      "outputs": [
        {
          "output_type": "execute_result",
          "data": {
            "text/plain": [
              "<openai.Stream at 0x7d8f4df537c0>"
            ]
          },
          "metadata": {},
          "execution_count": 22
        }
      ]
    },
    {
      "cell_type": "markdown",
      "source": [
        "### 중복되는 내용의 반복성 제어\n",
        "  * frequency_penalty\n",
        "  * presence_penalty"
      ],
      "metadata": {
        "id": "xFDYAyEh6Nws"
      }
    },
    {
      "cell_type": "code",
      "source": [
        "import os\n",
        "from openai import OpenAI\n",
        "\n",
        "def init_api():\n",
        "    with open(\"chatgpt.env\") as env:\n",
        "       for line in env:\n",
        "           key, value = line.strip().split(\"=\")\n",
        "           os.environ[key] = value\n",
        "\n",
        "init_api()\n",
        "\n",
        "client = OpenAI(api_key  = os.environ.get(\"API_KEY\"),\n",
        "                organization  = os.environ.get(\"ORG_ID\"))\n",
        "\n",
        "next= client.completions.create(\n",
        "    model=\"gpt-3.5-turbo-instruct\",\n",
        "    prompt=\"Once upon a time\",\n",
        "    max_tokens=100,\n",
        "    frequency_penalty=2.0,\n",
        "    presence_penalty=2.0\n",
        ")\n",
        "\n",
        "print(\"=== Frequency and presence penalty 2.0 ===\")\n",
        "print(next.choices[0].text)\n",
        "\n",
        "next = client.completions.create(\n",
        "    model=\"gpt-3.5-turbo-instruct\",\n",
        "    prompt=\"Once upon a time\",\n",
        "    max_tokens=100,\n",
        "    frequency_penalty=-2.0,\n",
        "    presence_penalty=-2.0\n",
        ")\n",
        "\n",
        "print(\"=== Frequency and presence penalty -2.0 ===\")\n",
        "print(next.choices[0].text)\n"
      ],
      "metadata": {
        "colab": {
          "base_uri": "https://localhost:8080/"
        },
        "id": "CajJDqe_8UoJ",
        "outputId": "787dff22-8f63-4fe2-c99c-6f0d94cfcc8c"
      },
      "execution_count": null,
      "outputs": [
        {
          "output_type": "stream",
          "name": "stdout",
          "text": [
            "=== Frequency and presence penalty 2.0 ===\n",
            ", there was a man who picked the most beautiful flowers and he would give them to his love when she needed cheering up.\n",
            "\n",
            "The man's name was Jonathan and his love's name was Lily. They lived in a small cottage on the edge of town with blooming fields surrounding them.\n",
            "\n",
            "Jonathan had always been enchanted by nature’s beauty, but it wasn't until he met Lily that he truly appreciated its magic. She shared his love for all things natural and her vibrant spirit inspired him every day.\n",
            "\n",
            "\n",
            "=== Frequency and presence penalty -2.0 ===\n",
            " . . . . . . . . . . . . . . . . . . . . . . . . . . . . . . . . . . . . . . . . . . . . . . . . . . . . . . . . . . . . . . . . . . . . . . . . . . . . . . . . . . . . . . . . . . . . . . . . . . . .\n"
          ]
        }
      ]
    },
    {
      "cell_type": "markdown",
      "source": [
        "### n을 활용한 출력 개수 제어하기"
      ],
      "metadata": {
        "id": "_XyI8N3_8YDw"
      }
    },
    {
      "cell_type": "code",
      "source": [
        "import os\n",
        "from openai import OpenAI\n",
        "\n",
        "def init_api():\n",
        "    with open(\"chatgpt.env\") as env:\n",
        "       for line in env:\n",
        "           key, value = line.strip().split(\"=\")\n",
        "           os.environ[key] = value\n",
        "\n",
        "init_api()\n",
        "\n",
        "client = OpenAI(api_key  = os.environ.get(\"API_KEY\"),\n",
        "                organization  = os.environ.get(\"ORG_ID\"))\n",
        "\n",
        "next = client.completions.create(\n",
        "    model=\"gpt-3.5-turbo-instruct\",\n",
        "    prompt=\"Once upon a time\",\n",
        "    max_tokens=5,\n",
        "    n=2\n",
        ")\n",
        "\n",
        "print(next)\n"
      ],
      "metadata": {
        "colab": {
          "base_uri": "https://localhost:8080/"
        },
        "id": "xQo77fID82hf",
        "outputId": "950a1bf5-5888-44e3-ab9d-2ba580232d16"
      },
      "execution_count": null,
      "outputs": [
        {
          "output_type": "stream",
          "name": "stdout",
          "text": [
            "Completion(id='cmpl-8Y3MDFyS08TrpsV9cOT5RXNjrfhjv', choices=[CompletionChoice(finish_reason='length', index=0, logprobs=None, text=', there was a very'), CompletionChoice(finish_reason='length', index=1, logprobs=None, text=', a young princess named')], created=1703126749, model='gpt-3.5-turbo-instruct', object='text_completion', system_fingerprint=None, usage=CompletionUsage(completion_tokens=10, prompt_tokens=4, total_tokens=14))\n"
          ]
        }
      ]
    },
    {
      "cell_type": "code",
      "source": [
        "next"
      ],
      "metadata": {
        "colab": {
          "base_uri": "https://localhost:8080/"
        },
        "id": "J1mshFUajNyr",
        "outputId": "57eef2c3-93b1-474c-c847-2b954e3c651a"
      },
      "execution_count": null,
      "outputs": [
        {
          "output_type": "execute_result",
          "data": {
            "text/plain": [
              "Completion(id='cmpl-8Y3MDFyS08TrpsV9cOT5RXNjrfhjv', choices=[CompletionChoice(finish_reason='length', index=0, logprobs=None, text=', there was a very'), CompletionChoice(finish_reason='length', index=1, logprobs=None, text=', a young princess named')], created=1703126749, model='gpt-3.5-turbo-instruct', object='text_completion', system_fingerprint=None, usage=CompletionUsage(completion_tokens=10, prompt_tokens=4, total_tokens=14))"
            ]
          },
          "metadata": {},
          "execution_count": 25
        }
      ]
    },
    {
      "cell_type": "markdown",
      "source": [
        "\n",
        "### best_of"
      ],
      "metadata": {
        "id": "KNX-Fysl85pw"
      }
    },
    {
      "cell_type": "code",
      "source": [
        "import os\n",
        "from openai import OpenAI\n",
        "\n",
        "def init_api():\n",
        "    with open(\"chatgpt.env\") as env:\n",
        "       for line in env:\n",
        "           key, value = line.strip().split(\"=\")\n",
        "           os.environ[key] = value\n",
        "\n",
        "init_api()\n",
        "\n",
        "client = OpenAI(api_key  = os.environ.get(\"API_KEY\"),\n",
        "                organization  = os.environ.get(\"ORG_ID\"))\n",
        "\n",
        "next = client.completions.create(\n",
        "    model=\"gpt-3.5-turbo-instruct\",\n",
        "    prompt=\"Once upon a time\",\n",
        "    max_tokens=5,\n",
        "    n=1,\n",
        "    best_of=2\n",
        ")\n",
        "\n",
        "print(next)\n"
      ],
      "metadata": {
        "colab": {
          "base_uri": "https://localhost:8080/"
        },
        "id": "Wr0rdoS-_UgG",
        "outputId": "6b3af453-0056-4b14-f8e8-590b97685758"
      },
      "execution_count": null,
      "outputs": [
        {
          "output_type": "stream",
          "name": "stdout",
          "text": [
            "Completion(id='cmpl-8Y3MIPWFQBPuajmixayWX7mmxVtIq', choices=[CompletionChoice(finish_reason='length', index=0, logprobs=None, text='\\n\\nThere lived a beautiful')], created=1703126754, model='gpt-3.5-turbo-instruct', object='text_completion', system_fingerprint=None, usage=CompletionUsage(completion_tokens=10, prompt_tokens=4, total_tokens=14))\n"
          ]
        }
      ]
    },
    {
      "cell_type": "markdown",
      "source": [
        "### best_of의 예\n",
        " * 10개의 후보를 생성하고, 이중에 3개를 선택해서 반환"
      ],
      "metadata": {
        "id": "t02WJU3bMtb7"
      }
    },
    {
      "cell_type": "code",
      "source": [
        "import os\n",
        "from openai import OpenAI\n",
        "\n",
        "def init_api():\n",
        "    with open(\"chatgpt.env\") as env:\n",
        "       for line in env:\n",
        "           key, value = line.strip().split(\"=\")\n",
        "           os.environ[key] = value\n",
        "\n",
        "init_api()\n",
        "\n",
        "client = OpenAI(api_key  = os.environ.get(\"API_KEY\"),\n",
        "                organization  = os.environ.get(\"ORG_ID\"))\n",
        "\n",
        "next = client.completions.create(\n",
        "    model=\"gpt-3.5-turbo-instruct\",\n",
        "    prompt=\"Once upon a time\",\n",
        "    max_tokens=5,\n",
        "    n=3,\n",
        "    best_of=10\n",
        ")\n",
        "\n",
        "print(next)\n"
      ],
      "metadata": {
        "colab": {
          "base_uri": "https://localhost:8080/"
        },
        "id": "VLGwq7BYMtY5",
        "outputId": "cb1009b7-357d-44de-bc76-cabc028a665f"
      },
      "execution_count": null,
      "outputs": [
        {
          "output_type": "stream",
          "name": "stdout",
          "text": [
            "Completion(id='cmpl-8Y3MKQRqTfmM9kIxBRZ8PH8dToWCV', choices=[CompletionChoice(finish_reason='length', index=0, logprobs=None, text='.\\n\\nin a far'), CompletionChoice(finish_reason='length', index=1, logprobs=None, text=', there was a princess'), CompletionChoice(finish_reason='length', index=2, logprobs=None, text=', there was a woman')], created=1703126756, model='gpt-3.5-turbo-instruct', object='text_completion', system_fingerprint=None, usage=CompletionUsage(completion_tokens=50, prompt_tokens=4, total_tokens=54))\n"
          ]
        }
      ]
    },
    {
      "cell_type": "code",
      "source": [
        "next"
      ],
      "metadata": {
        "colab": {
          "base_uri": "https://localhost:8080/"
        },
        "id": "oncto02tjkAw",
        "outputId": "2ea1fc0d-b05e-4210-af4a-ec8337e1b279"
      },
      "execution_count": null,
      "outputs": [
        {
          "output_type": "execute_result",
          "data": {
            "text/plain": [
              "Completion(id='cmpl-8Y3MKQRqTfmM9kIxBRZ8PH8dToWCV', choices=[CompletionChoice(finish_reason='length', index=0, logprobs=None, text='.\\n\\nin a far'), CompletionChoice(finish_reason='length', index=1, logprobs=None, text=', there was a princess'), CompletionChoice(finish_reason='length', index=2, logprobs=None, text=', there was a woman')], created=1703126756, model='gpt-3.5-turbo-instruct', object='text_completion', system_fingerprint=None, usage=CompletionUsage(completion_tokens=50, prompt_tokens=4, total_tokens=54))"
            ]
          },
          "metadata": {},
          "execution_count": 28
        }
      ]
    },
    {
      "cell_type": "markdown",
      "source": [
        "### stop을 활용한 자동 완성 제어하기"
      ],
      "metadata": {
        "id": "6owQjtWpNa5g"
      }
    },
    {
      "cell_type": "code",
      "source": [
        "import os\n",
        "from openai import OpenAI\n",
        "\n",
        "def init_api():\n",
        "    with open(\"chatgpt.env\") as env:\n",
        "       for line in env:\n",
        "           key, value = line.strip().split(\"=\")\n",
        "           os.environ[key] = value\n",
        "\n",
        "init_api()\n",
        "\n",
        "client = OpenAI(api_key  = os.environ.get(\"API_KEY\"),\n",
        "                organization  = os.environ.get(\"ORG_ID\"))\n",
        "\n",
        "next = client.completions.create(\n",
        "    model=\"gpt-3.5-turbo-instruct\",\n",
        "    prompt=\"Once upon a time\",\n",
        "    max_tokens=5,\n",
        "    stop=[\"\\n\",]\n",
        ")\n",
        "\n",
        "print(next)\n"
      ],
      "metadata": {
        "colab": {
          "base_uri": "https://localhost:8080/"
        },
        "id": "aW9Abuh4_U8g",
        "outputId": "19f2bf83-79f9-4169-aad0-f6a2fa7a561c"
      },
      "execution_count": null,
      "outputs": [
        {
          "output_type": "stream",
          "name": "stdout",
          "text": [
            "Completion(id='cmpl-8Y3MO5uO0rIUyYLD0itKU73Nq70mr', choices=[CompletionChoice(finish_reason='stop', index=0, logprobs=None, text='…')], created=1703126760, model='gpt-3.5-turbo-instruct', object='text_completion', system_fingerprint=None, usage=CompletionUsage(completion_tokens=1, prompt_tokens=4, total_tokens=5))\n"
          ]
        }
      ]
    },
    {
      "cell_type": "code",
      "source": [
        "next"
      ],
      "metadata": {
        "colab": {
          "base_uri": "https://localhost:8080/"
        },
        "id": "fEHq-6ggjo-h",
        "outputId": "7d8379b2-8d76-4af0-b6ef-bf204e685e43"
      },
      "execution_count": null,
      "outputs": [
        {
          "output_type": "execute_result",
          "data": {
            "text/plain": [
              "Completion(id='cmpl-8Y3MO5uO0rIUyYLD0itKU73Nq70mr', choices=[CompletionChoice(finish_reason='stop', index=0, logprobs=None, text='…')], created=1703126760, model='gpt-3.5-turbo-instruct', object='text_completion', system_fingerprint=None, usage=CompletionUsage(completion_tokens=1, prompt_tokens=4, total_tokens=5))"
            ]
          },
          "metadata": {},
          "execution_count": 30
        }
      ]
    },
    {
      "cell_type": "markdown",
      "source": [
        "### stop을 활용한 자동 완성 제어하기 - 네개의 불용어"
      ],
      "metadata": {
        "id": "BliwfiO__-S9"
      }
    },
    {
      "cell_type": "code",
      "source": [
        "import os\n",
        "import openai\n",
        "\n",
        "def init_api():\n",
        "    with open(\"chatgpt.env\") as env:\n",
        "       for line in env:\n",
        "           key, value = line.strip().split(\"=\")\n",
        "           os.environ[key] = value\n",
        "\n",
        "init_api()\n",
        "\n",
        "client = OpenAI(api_key  = os.environ.get(\"API_KEY\"),\n",
        "                organization  = os.environ.get(\"ORG_ID\"))\n",
        "\n",
        "next = client.completions.create(\n",
        "      model=\"gpt-3.5-turbo-instruct\",\n",
        "      prompt=\"Once upon a time\",\n",
        "      max_tokens=5,\n",
        "      stop=[\"\\n\", \"Story\", \"End\", \"Once upon a time\"]\n",
        ")\n",
        "\n",
        "print(next)\n"
      ],
      "metadata": {
        "colab": {
          "base_uri": "https://localhost:8080/"
        },
        "id": "BxHyl-aVAFtc",
        "outputId": "cb4338c3-6a97-489d-b3a3-a3a0ee6bd10e"
      },
      "execution_count": null,
      "outputs": [
        {
          "output_type": "stream",
          "name": "stdout",
          "text": [
            "Completion(id='cmpl-8Y3MRt8Chv6RxI4kSHD8ZefAjxSkz', choices=[CompletionChoice(finish_reason='length', index=0, logprobs=None, text=', a Sparrow found')], created=1703126763, model='gpt-3.5-turbo-instruct', object='text_completion', system_fingerprint=None, usage=CompletionUsage(completion_tokens=5, prompt_tokens=4, total_tokens=9))\n"
          ]
        }
      ]
    },
    {
      "cell_type": "code",
      "source": [
        "next"
      ],
      "metadata": {
        "colab": {
          "base_uri": "https://localhost:8080/"
        },
        "id": "ns_gswawj7tX",
        "outputId": "64a48d67-5630-402c-e1b1-ce2f5e88de14"
      },
      "execution_count": null,
      "outputs": [
        {
          "output_type": "execute_result",
          "data": {
            "text/plain": [
              "Completion(id='cmpl-8Y3MRt8Chv6RxI4kSHD8ZefAjxSkz', choices=[CompletionChoice(finish_reason='length', index=0, logprobs=None, text=', a Sparrow found')], created=1703126763, model='gpt-3.5-turbo-instruct', object='text_completion', system_fingerprint=None, usage=CompletionUsage(completion_tokens=5, prompt_tokens=4, total_tokens=9))"
            ]
          },
          "metadata": {},
          "execution_count": 32
        }
      ]
    },
    {
      "cell_type": "markdown",
      "source": [
        "### 텍스트 완성 후, 접미사 사용하기"
      ],
      "metadata": {
        "id": "ZCvo8yTHAIHs"
      }
    },
    {
      "cell_type": "code",
      "source": [
        "import os\n",
        "from openai import OpenAI\n",
        "\n",
        "def init_api():\n",
        "    with open(\"chatgpt.env\") as env:\n",
        "       for line in env:\n",
        "           key, value = line.strip().split(\"=\")\n",
        "           os.environ[key] = value\n",
        "\n",
        "init_api()\n",
        "\n",
        "client = OpenAI(api_key  = os.environ.get(\"API_KEY\"),\n",
        "                organization  = os.environ.get(\"ORG_ID\"))\n",
        "\n",
        "next = client.completions.create(\n",
        "    model=\"gpt-3.5-turbo-instruct\",\n",
        "    prompt= \"Write a JSON containing primary numbers between 0 and 9 \\n\\n{\\n\\t\\\"primes\\\": [\",\n",
        ")\n",
        "\n",
        "print(next)\n"
      ],
      "metadata": {
        "colab": {
          "base_uri": "https://localhost:8080/"
        },
        "id": "Z2ylh0p64Xfs",
        "outputId": "8cc4f53a-ce02-4ea3-e395-207b5e0a9471"
      },
      "execution_count": null,
      "outputs": [
        {
          "output_type": "stream",
          "name": "stdout",
          "text": [
            "Completion(id='cmpl-8Y3MUOOjgF7iU5dBxmsnKelQM1g8U', choices=[CompletionChoice(finish_reason='stop', index=0, logprobs=None, text='2, 3, 5, 7]\\n}\\n')], created=1703126766, model='gpt-3.5-turbo-instruct', object='text_completion', system_fingerprint=None, usage=CompletionUsage(completion_tokens=12, prompt_tokens=20, total_tokens=32))\n"
          ]
        }
      ]
    },
    {
      "cell_type": "code",
      "source": [
        "next"
      ],
      "metadata": {
        "colab": {
          "base_uri": "https://localhost:8080/"
        },
        "id": "9tIzjJHtkC-M",
        "outputId": "f988a94e-b0dd-4289-f1a8-56e928772f6a"
      },
      "execution_count": null,
      "outputs": [
        {
          "output_type": "execute_result",
          "data": {
            "text/plain": [
              "Completion(id='cmpl-8Y3MUOOjgF7iU5dBxmsnKelQM1g8U', choices=[CompletionChoice(finish_reason='stop', index=0, logprobs=None, text='2, 3, 5, 7]\\n}\\n')], created=1703126766, model='gpt-3.5-turbo-instruct', object='text_completion', system_fingerprint=None, usage=CompletionUsage(completion_tokens=12, prompt_tokens=20, total_tokens=32))"
            ]
          },
          "metadata": {},
          "execution_count": 34
        }
      ]
    },
    {
      "cell_type": "markdown",
      "source": [
        "### suffix 추가"
      ],
      "metadata": {
        "id": "YRHKBf4o4g-u"
      }
    },
    {
      "cell_type": "code",
      "source": [
        "import os\n",
        "from openai import OpenAI\n",
        "\n",
        "def init_api():\n",
        "    with open(\"chatgpt.env\") as env:\n",
        "       for line in env:\n",
        "           key, value = line.strip().split(\"=\")\n",
        "           os.environ[key] = value\n",
        "\n",
        "init_api()\n",
        "\n",
        "client = OpenAI(api_key  = os.environ.get(\"API_KEY\"),\n",
        "                organization  = os.environ.get(\"ORG_ID\"))\n",
        "\n",
        "next = client.completions.create(\n",
        "    model=\"gpt-3.5-turbo-instruct\",\n",
        "    prompt= \"Write a JSON containing primary numbers between 0 and 9 \\n\\n{\\n\\t\\\"primes\\\": [\",\n",
        "    suffix= \"]\\n}\",\n",
        ")\n",
        "\n",
        "print(next)\n"
      ],
      "metadata": {
        "colab": {
          "base_uri": "https://localhost:8080/"
        },
        "id": "2pHopVTu4vTz",
        "outputId": "b332b445-af3c-404b-9254-358cb7bf70ca"
      },
      "execution_count": null,
      "outputs": [
        {
          "output_type": "stream",
          "name": "stdout",
          "text": [
            "Completion(id='cmpl-8Y3MZ22eXjaA9mzpIpoDOsFiiPifR', choices=[CompletionChoice(finish_reason='stop', index=0, logprobs=None, text='\\n\\t\\t2, 3, 5, 7\\n\\t')], created=1703126771, model='gpt-3.5-turbo-instruct', object='text_completion', system_fingerprint=None, usage=CompletionUsage(completion_tokens=15, prompt_tokens=22, total_tokens=37))\n"
          ]
        }
      ]
    },
    {
      "cell_type": "code",
      "source": [
        "next"
      ],
      "metadata": {
        "colab": {
          "base_uri": "https://localhost:8080/"
        },
        "id": "Mpue72TCkz1v",
        "outputId": "291e4443-9012-444a-8db5-fc2975b98c2a"
      },
      "execution_count": null,
      "outputs": [
        {
          "output_type": "execute_result",
          "data": {
            "text/plain": [
              "Completion(id='cmpl-8Y3MZ22eXjaA9mzpIpoDOsFiiPifR', choices=[CompletionChoice(finish_reason='stop', index=0, logprobs=None, text='\\n\\t\\t2, 3, 5, 7\\n\\t')], created=1703126771, model='gpt-3.5-turbo-instruct', object='text_completion', system_fingerprint=None, usage=CompletionUsage(completion_tokens=15, prompt_tokens=22, total_tokens=37))"
            ]
          },
          "metadata": {},
          "execution_count": 36
        }
      ]
    },
    {
      "cell_type": "markdown",
      "source": [
        "### 실습 : 키워드 추출하기"
      ],
      "metadata": {
        "id": "4uKmwvBF4v0O"
      }
    },
    {
      "cell_type": "code",
      "source": [
        "import os\n",
        "from openai import OpenAI\n",
        "\n",
        "def init_api():\n",
        "    with open(\"chatgpt.env\") as env:\n",
        "       for line in env:\n",
        "           key, value = line.strip().split(\"=\")\n",
        "           os.environ[key] = value\n",
        "\n",
        "init_api()\n",
        "\n",
        "client = OpenAI(api_key  = os.environ.get(\"API_KEY\"),\n",
        "                organization  = os.environ.get(\"ORG_ID\"))\n",
        "\n",
        "\n",
        "prompt = \"The first programming language to be invented was Plankalkül, which was designed by Konrad Zuse in the 1940s, but not publicly known until 1972 (and not implemented until 1998).   The first widely known and successful high-level programming language was Fortran,   developed from 1954 to 1957 by a team of IBM researchers led by John Backus.   The success of FORTRAN led to the formation of a committee of scientists to develop a universal computer language;   the result of their effort was ALGOL 58.  Separately, John McCarthy of MIT developed Lisp,  the first language with origins in academia to be successful. With the success of these initial efforts, programming languages became an active topic of research in the 1960s and beyond\\n\\nKeywords:\"\n",
        "\n",
        "tweet= client.completions.create(\n",
        "  model=\"gpt-3.5-turbo-instruct\",\n",
        "  prompt=prompt,\n",
        "  temperature=0.5,\n",
        "  max_tokens=300,\n",
        ")\n",
        "\n",
        "print(tweet)\n"
      ],
      "metadata": {
        "colab": {
          "base_uri": "https://localhost:8080/"
        },
        "id": "VeOF-BOhl66I",
        "outputId": "5f309764-9b22-42e5-f8a3-bd274796738b"
      },
      "execution_count": null,
      "outputs": [
        {
          "output_type": "stream",
          "name": "stdout",
          "text": [
            "Completion(id='cmpl-8Y3MfN6tSlFRU4prFTSgzoBZV0MM4', choices=[CompletionChoice(finish_reason='stop', index=0, logprobs=None, text='\\nprogramming language, invented, Plankalkül, Konrad Zuse, 1940s, publicly known, 1972, implemented, 1998, high-level, Fortran, 1954, 1957, IBM, John Backus, success, committee, universal, ALGOL 58, John McCarthy, MIT, Lisp, academia, research, 1960s.')], created=1703126777, model='gpt-3.5-turbo-instruct', object='text_completion', system_fingerprint=None, usage=CompletionUsage(completion_tokens=82, prompt_tokens=167, total_tokens=249))\n"
          ]
        }
      ]
    },
    {
      "cell_type": "code",
      "source": [
        "tweet.choices[0].text"
      ],
      "metadata": {
        "colab": {
          "base_uri": "https://localhost:8080/",
          "height": 54
        },
        "id": "7KnvSLknl7nl",
        "outputId": "53a2b5f7-4637-433b-aedf-cc730c0aec5a"
      },
      "execution_count": null,
      "outputs": [
        {
          "output_type": "execute_result",
          "data": {
            "text/plain": [
              "'\\nprogramming language, invented, Plankalkül, Konrad Zuse, 1940s, publicly known, 1972, implemented, 1998, high-level, Fortran, 1954, 1957, IBM, John Backus, success, committee, universal, ALGOL 58, John McCarthy, MIT, Lisp, academia, research, 1960s.'"
            ],
            "application/vnd.google.colaboratory.intrinsic+json": {
              "type": "string"
            }
          },
          "metadata": {},
          "execution_count": 38
        }
      ]
    },
    {
      "cell_type": "markdown",
      "source": [
        "### 실습: 키워드 추출하기(2)\n",
        "  * prompt에 Keywords의 아래 행에 '-' 기호 추가"
      ],
      "metadata": {
        "id": "PlPCTq_Rm0QU"
      }
    },
    {
      "cell_type": "code",
      "source": [
        "import os\n",
        "from openai import OpenAI\n",
        "\n",
        "def init_api():\n",
        "    with open(\"chatgpt.env\") as env:\n",
        "       for line in env:\n",
        "           key, value = line.strip().split(\"=\")\n",
        "           os.environ[key] = value\n",
        "\n",
        "init_api()\n",
        "\n",
        "client = OpenAI(api_key  = os.environ.get(\"API_KEY\"),\n",
        "                organization  = os.environ.get(\"ORG_ID\"))\n",
        "\n",
        "\n",
        "prompt = \"The first programming language to be invented was Plankalkül, which was designed by Konrad Zuse in the 1940s, but not publicly known until 1972 (and not implemented until 1998).   The first widely known and successful high-level programming language was Fortran,   developed from 1954 to 1957 by a team of IBM researchers led by John Backus.   The success of FORTRAN led to the formation of a committee of scientists to develop a universal computer language;   the result of their effort was ALGOL 58.  Separately, John McCarthy of MIT developed Lisp,  the first language with origins in academia to be successful. With the success of these initial efforts, programming languages became an active topic of research in the 1960s and beyond\\n\\nKeywords:\\n-\"\n",
        "\n",
        "tweet= client.completions.create(\n",
        "  model=\"gpt-3.5-turbo-instruct\",\n",
        "  prompt=prompt,\n",
        "  temperature=0.5,\n",
        "  max_tokens=300,\n",
        ")\n",
        "\n",
        "print(tweet.choices[0].text)\n"
      ],
      "metadata": {
        "colab": {
          "base_uri": "https://localhost:8080/"
        },
        "id": "xU2wXqNS44b6",
        "outputId": "bbecad24-0396-4438-c3da-bfa7136a82a7"
      },
      "execution_count": null,
      "outputs": [
        {
          "output_type": "stream",
          "name": "stdout",
          "text": [
            " Plankalkül\n",
            "- Konrad Zuse\n",
            "- 1940s\n",
            "- 1972\n",
            "- Fortran\n",
            "- IBM\n",
            "- John Backus\n",
            "- ALGOL 58\n",
            "- John McCarthy\n",
            "- MIT\n",
            "- Lisp\n",
            "- academia\n",
            "- research\n",
            "- 1960s\n"
          ]
        }
      ]
    },
    {
      "cell_type": "markdown",
      "source": [
        "### Tweet 추가"
      ],
      "metadata": {
        "id": "4qp6snZ-mhO_"
      }
    },
    {
      "cell_type": "code",
      "source": [
        "import os\n",
        "from openai import OpenAI\n",
        "\n",
        "def init_api():\n",
        "    with open(\"chatgpt.env\") as env:\n",
        "       for line in env:\n",
        "           key, value = line.strip().split(\"=\")\n",
        "           os.environ[key] = value\n",
        "\n",
        "init_api()\n",
        "\n",
        "client = OpenAI(api_key  = os.environ.get(\"API_KEY\"),\n",
        "                organization  = os.environ.get(\"ORG_ID\"))\n",
        "\n",
        "prompt = \"The first programming language to be invented was Plankalkül, which was designed by Konrad Zuse in the 1940s, but not publicly known until 1972 (and not implemented until 1998). The first widely known and successful high-level programming language was Fortran, developed from 1954 to 1957 by a team of IBM researchers led by John Backus. The success of FORTRAN led to the formation of a committee of scientists to develop a universal computer language; the result of their effort was ALGOL 58. Separately, John McCarthy of MIT developed Lisp, the first language with origins in academia to be successful. With the success of these initial efforts, programming languages became an active topic of research in the 1960s and beyond \\n\\n Tweet:\"\n",
        "\n",
        "tweet= client.completions.create(\n",
        "    model=\"gpt-3.5-turbo-instruct\",\n",
        "    prompt=prompt,\n",
        "    temperature=0.5,\n",
        "    max_tokens=300,\n",
        ")\n",
        "\n",
        "print(tweet.choices[0].text)\n"
      ],
      "metadata": {
        "colab": {
          "base_uri": "https://localhost:8080/"
        },
        "id": "FbHVrPKWT2cR",
        "outputId": "4842ef40-b9ea-4498-da85-ff3f7949041d"
      },
      "execution_count": null,
      "outputs": [
        {
          "output_type": "stream",
          "name": "stdout",
          "text": [
            " The first programming language was Plankalkül, but the first widely known and successful high-level language was Fortran. Other early languages include ALGOL 58 and Lisp. #programminghistory #fortran #algol #lisp\n"
          ]
        }
      ]
    },
    {
      "cell_type": "markdown",
      "source": [
        "*  실행 결과 - 모델에 따라, 그리고 실행에 따라 결과가 약간씩 달라질 수 있음.\n",
        "```\n",
        "\n",
        "\n",
        "The first programming language was Plankalkül, invented by Konrad Zuse in the 1940s.\n",
        "The first widely known and successful high-level programming language was Fortran, developed by IBM in the 1950s.\n",
        "Lisp, developed by John McCarthy of MIT, was the first language with origins in academia to be successful.\n",
        "```"
      ],
      "metadata": {
        "id": "U84o5WYN6w6_"
      }
    },
    {
      "cell_type": "markdown",
      "source": [
        "### 실습: 트윗 생성하기 - 트윗 해시 태그\n",
        "  * 이전 예제를 계속 사용하지만 Tweet with hashtags:을 추가."
      ],
      "metadata": {
        "id": "fkGqn7Gl7XC8"
      }
    },
    {
      "cell_type": "code",
      "source": [
        "import os\n",
        "import openai\n",
        "\n",
        "def init_api():\n",
        "    with open(\"chatgpt.env\") as env:\n",
        "        for line in env:\n",
        "            key, value = line.strip().split(\"=\")\n",
        "            os.environ[key] = value\n",
        "        openai.api_key = os.environ.get(\"API_KEY\")\n",
        "        openai.organization = os.environ.get(\"ORG_ID\")\n",
        "\n",
        "init_api()\n",
        "\n",
        "prompt = \"The first programming language to be invented was Plankalkül, which was designed by Konrad Zuse in the 1940s, but not publicly known until 1972 (and not implemented until 1998). The first widely known and successful high-level programming language was Fortran, developed from 1954 to 1957 by a team of IBM researchers led by John Backus. The success of FORTRAN led to the formation of a committee of scientists to develop a universal computer language; the result of their effort was ALGOL 58. Separately, John McCarthy of MIT developed Lisp, the first language with origins in academia to be successful. With the success of these initial efforts, programming languages became an active topic of research in the 1960s and beyond \\n\\nTweet with hashtags:\"\n",
        "\n",
        "tweet= client.completions.create(\n",
        "    model=\"gpt-3.5-turbo-instruct\",\n",
        "    prompt=prompt,\n",
        "    temperature=0.5,\n",
        "    max_tokens=300\n",
        ")\n",
        "\n",
        "print(tweet.choices[0].text)\n"
      ],
      "metadata": {
        "colab": {
          "base_uri": "https://localhost:8080/"
        },
        "id": "Ac2pdeEb7wJ8",
        "outputId": "7abaeaa3-cce4-400a-bf14-45819cb4c212"
      },
      "execution_count": null,
      "outputs": [
        {
          "output_type": "stream",
          "name": "stdout",
          "text": [
            " #Plankalkül #Fortran #ALGOL58 #Lisp #programminglanguages #historyofcomputing\n"
          ]
        }
      ]
    },
    {
      "cell_type": "markdown",
      "source": [
        "### 실습 : 랩 가사 생성하기"
      ],
      "metadata": {
        "id": "44exHT7a8ov-"
      }
    },
    {
      "cell_type": "code",
      "source": [
        "import os\n",
        "from openai import OpenAI\n",
        "\n",
        "def init_api():\n",
        "    with open(\"chatgpt.env\") as env:\n",
        "       for line in env:\n",
        "           key, value = line.strip().split(\"=\")\n",
        "           os.environ[key] = value\n",
        "\n",
        "init_api()\n",
        "\n",
        "client = OpenAI(api_key  = os.environ.get(\"API_KEY\"),\n",
        "                organization  = os.environ.get(\"ORG_ID\"))\n",
        "\n",
        "my_song = client.completions.create(\n",
        "    model=\"gpt-3.5-turbo-instruct\",\n",
        "    prompt=\"Write a rap song:\\n\\n\",\n",
        "    max_tokens=200,\n",
        "    temperature=0.5,\n",
        ")\n",
        "\n",
        "print(my_song.choices[0].text.strip())\n"
      ],
      "metadata": {
        "colab": {
          "base_uri": "https://localhost:8080/"
        },
        "id": "Y8ohPPKb8sFL",
        "outputId": "c456f930-36e1-4d3d-f9b9-a509fa139a1e"
      },
      "execution_count": null,
      "outputs": [
        {
          "output_type": "stream",
          "name": "stdout",
          "text": [
            "Verse 1:\n",
            "Listen up y'all, I'm about to drop some rhymes\n",
            "Gonna tell a story, gonna take you back in time\n",
            "To a place where the beats were fresh and the lyrics were real\n",
            "Where hip hop was born and it had a raw appeal\n",
            "\n",
            "It all started in the Bronx, back in the 70s\n",
            "Where the streets were rough and the people were free\n",
            "A DJ named Kool Herc threw the first block party\n",
            "And the MCs started rapping, it was a brand new artistry\n",
            "\n",
            "They spoke about their struggles, their hopes and their dreams\n",
            "They spoke for the people, they were the voice of the streets\n",
            "Grandmaster Flash, Afrika Bambaataa\n",
            "They paved the way for all the rappers that came after\n",
            "\n",
            "Chorus:\n",
            "Hip hop, it's more than just a genre\n",
            "It's a culture, a movement, a way of life\n",
            "From the streets of New York to the world stage\n",
            "It's\n"
          ]
        }
      ]
    },
    {
      "cell_type": "markdown",
      "source": [
        "### 실습 : Todo 리스트 만들기"
      ],
      "metadata": {
        "id": "OIXKt_MD8yNB"
      }
    },
    {
      "cell_type": "code",
      "source": [
        "import os\n",
        "from openai import OpenAI\n",
        "\n",
        "def init_api():\n",
        "    with open(\"chatgpt.env\") as env:\n",
        "       for line in env:\n",
        "           key, value = line.strip().split(\"=\")\n",
        "           os.environ[key] = value\n",
        "\n",
        "init_api()\n",
        "\n",
        "client = OpenAI(api_key  = os.environ.get(\"API_KEY\"),\n",
        "                organization  = os.environ.get(\"ORG_ID\"))\n",
        "\n",
        "next = client.completions.create(\n",
        "    model=\"gpt-3.5-turbo-instruct\",\n",
        "    prompt=\"Todo list to create a company in US\\n\\n 1.\",\n",
        "    temperature=0.3,\n",
        "    max_tokens=512,\n",
        "    top_p=0.1,\n",
        "    frequency_penalty=0,\n",
        "    presence_penalty=0.5,\n",
        "    stop=[\"6.\"]\n",
        ")\n",
        "\n",
        "print(next.choices[0].text.strip())\n"
      ],
      "metadata": {
        "colab": {
          "base_uri": "https://localhost:8080/"
        },
        "id": "Jg5ptzpKRla4",
        "outputId": "2283363c-f294-4249-bbd2-306b34961921"
      },
      "execution_count": null,
      "outputs": [
        {
          "output_type": "stream",
          "name": "stdout",
          "text": [
            "Choose a business structure: The first step in creating a company in the US is to decide on the legal structure of your business. This could be a sole proprietorship, partnership, LLC, or corporation.\n",
            "\n",
            "2. Choose a business name: Your business name should be unique and not already in use by another company. You can check the availability of your desired business name through the US Patent and Trademark Office website.\n",
            "\n",
            "3. Register your business: Depending on the state you plan to operate in, you may need to register your business with the state government. This typically involves filling out a registration form and paying a fee.\n",
            "\n",
            "4. Obtain necessary permits and licenses: Depending on the type of business you are starting, you may need to obtain specific permits and licenses at the federal, state, and local levels. This could include a business license, tax ID number, and industry-specific permits.\n",
            "\n",
            "5. Create a business plan: A business plan outlines your company's goals, target market, financial projections, and marketing strategies. It is essential for securing funding and guiding your business's growth.\n"
          ]
        }
      ]
    },
    {
      "cell_type": "code",
      "source": [
        "import os\n",
        "from openai import OpenAI\n",
        "\n",
        "def init_api():\n",
        "    with open(\"chatgpt.env\") as env:\n",
        "       for line in env:\n",
        "           key, value = line.strip().split(\"=\")\n",
        "           os.environ[key] = value\n",
        "\n",
        "init_api()\n",
        "\n",
        "client = OpenAI(api_key  = os.environ.get(\"API_KEY\"),\n",
        "                organization  = os.environ.get(\"ORG_ID\"))\n",
        "\n",
        "next = client.completions.create(\n",
        "    model=\"gpt-3.5-turbo-instruct\",\n",
        "    prompt=\"미국에서 회사 창업시의 Todo list는 무엇일까? \\n\\n 형식 01.\",\n",
        "    temperature=0.3,\n",
        "    max_tokens=512,\n",
        "    top_p=0.1,\n",
        "    frequency_penalty=0,\n",
        "    presence_penalty=0.5,\n",
        "    stop=[\"6.\"]\n",
        ")\n",
        "\n",
        "print(next.choices[0].text.strip())\n"
      ],
      "metadata": {
        "colab": {
          "base_uri": "https://localhost:8080/"
        },
        "id": "7Bel_GQn_AUS",
        "outputId": "fe2df69c-e876-460f-8c3e-7c22e1cf6c63"
      },
      "execution_count": null,
      "outputs": [
        {
          "output_type": "stream",
          "name": "stdout",
          "text": [
            "1. 비즈니스 아이디어 개발 및 검증\n",
            "2. 시장 조사 및 경쟁 분석\n",
            "3. 비즈니스 모델 및 계획 수립\n",
            "4. 법적 측면 검토 (법인 등록, 라이센스 등)\n",
            "5. 자금 조달 방안 탐색 (자본 조달, 대출 등)\n"
          ]
        }
      ]
    },
    {
      "cell_type": "code",
      "source": [
        "next.choices[0].text.strip()"
      ],
      "metadata": {
        "colab": {
          "base_uri": "https://localhost:8080/",
          "height": 87
        },
        "id": "hb17Md44ntH3",
        "outputId": "b6d3616c-8c97-4375-85ef-ed5235b7f6dd"
      },
      "execution_count": null,
      "outputs": [
        {
          "output_type": "execute_result",
          "data": {
            "text/plain": [
              "'Choose a business structure: The first step in creating a company in the US is to decide on the legal structure of your business. This could be a sole proprietorship, partnership, LLC, or corporation.\\n\\n2. Choose a business name: Your business name should be unique and not already in use by another company. You can check the availability of your desired business name through the US Patent and Trademark Office website.\\n\\n3. Register your business: Depending on the state you plan to operate in, you may need to register your business with the state government. This typically involves filling out a registration form and paying a fee.\\n\\n4. Obtain necessary'"
            ],
            "application/vnd.google.colaboratory.intrinsic+json": {
              "type": "string"
            }
          },
          "metadata": {},
          "execution_count": 72
        }
      ]
    },
    {
      "cell_type": "markdown",
      "source": [
        "### 매개변수 변경"
      ],
      "metadata": {
        "id": "kkDihOGUojDq"
      }
    },
    {
      "cell_type": "code",
      "source": [
        "import os\n",
        "from openai import OpenAI\n",
        "\n",
        "def init_api():\n",
        "    with open(\"chatgpt.env\") as env:\n",
        "       for line in env:\n",
        "           key, value = line.strip().split(\"=\")\n",
        "           os.environ[key] = value\n",
        "\n",
        "init_api()\n",
        "\n",
        "client = OpenAI(api_key  = os.environ.get(\"API_KEY\"),\n",
        "                organization  = os.environ.get(\"ORG_ID\"))\n",
        "\n",
        "next = client.completions.create(\n",
        "  model=\"gpt-3.5-turbo-instruct\",\n",
        "  prompt=\"Todo list to create a company in US\\n\\n1.\",\n",
        "  temperature=0.3,\n",
        "  max_tokens=256,\n",
        "  top_p=0.1,\n",
        "  frequency_penalty=0,\n",
        "  presence_penalty=0.5,\n",
        "  stop=[\"6.\"]\n",
        ")\n",
        "\n",
        "print(next.choices[0].text.strip())\n"
      ],
      "metadata": {
        "id": "1aJPU3xZd_OF",
        "colab": {
          "base_uri": "https://localhost:8080/"
        },
        "outputId": "0388b284-c510-41cf-df67-5fd1109f3bcb"
      },
      "execution_count": null,
      "outputs": [
        {
          "output_type": "stream",
          "name": "stdout",
          "text": [
            "Choose a business structure: The first step in creating a company in the US is to decide on the legal structure of your business. This could be a sole proprietorship, partnership, LLC, or corporation. Each structure has its own advantages and disadvantages, so it's important to research and choose the one that best fits your business needs.\n",
            "\n",
            "2. Choose a business name: Your business name should be unique and not already in use by another company. You can check the availability of your desired business name through the US Patent and Trademark Office website.\n",
            "\n",
            "3. Register your business: Depending on the state where you plan to operate your business, you may need to register your business with the state government. This typically involves filling out a registration form and paying a fee.\n",
            "\n",
            "4. Obtain necessary licenses and permits: Depending on the type of business you are starting, you may need to obtain certain licenses and permits at the federal, state, and local levels. These could include a business license, tax ID number, and specific industry licenses.\n",
            "\n",
            "5. Create a business plan: A business plan is a crucial document that outlines your business goals, target market, financial projections, and marketing strategies. It will serve as a roadmap for your business and can also be used to secure funding from investors or lenders\n"
          ]
        }
      ]
    },
    {
      "cell_type": "code",
      "source": [],
      "metadata": {
        "id": "cnNAQneGorlC"
      },
      "execution_count": null,
      "outputs": []
    }
  ]
}