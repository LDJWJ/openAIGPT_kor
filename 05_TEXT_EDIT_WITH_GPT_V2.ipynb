{
  "nbformat": 4,
  "nbformat_minor": 0,
  "metadata": {
    "colab": {
      "provenance": []
    },
    "kernelspec": {
      "name": "python3",
      "display_name": "Python 3"
    },
    "language_info": {
      "name": "python"
    }
  },
  "cells": [
    {
      "cell_type": "markdown",
      "source": [
        "## 05. GPT 모델로 텍스트 편집하기"
      ],
      "metadata": {
        "id": "dpdCBDmFHfqq"
      }
    },
    {
      "cell_type": "markdown",
      "source": [
        "### 학습 내용\n",
        "* 실습: 텍스트 번역하기\n",
        "* 'instruction'은 필수! 'input'은 선택!\n",
        "* Completions 엔드포인트를 사용한 수정\n",
        "* 출력 포맷 정하기\n",
        "* 창의성 vs. 잘 정의된 답\n",
        "* 여러 결과에 대한 편집 생성하기"
      ],
      "metadata": {
        "id": "JD9pte-EHswd"
      }
    },
    {
      "cell_type": "markdown",
      "source": [
        "### 사전 준비\n",
        " * 구글 코랩 환경은 일정 시간이후에 초기화가 되기 때문에 두가지 작업을 매번 수행해야 함.\n",
        "   * chatgpt.env 파일 생성이 필요.\n",
        "     * 준비된 chatgpt.env를 내용을 변경하여 업로드 하거나 또는 API_KEY와 ORG_ID를 확인하여 생성한다.\n",
        "   * pip install openai 설치\n",
        "     * 설치시 첫 실행시 에러가 발생(23/12) - 해결(다시 한번 실행하면 사라짐)\n",
        "     ```\n",
        "     ERROR: pip's dependency resolver does not currently take into account all the packages that are installed. This behaviour is the source of the following dependency conflicts.\n",
        "llmx 0.0.15a0 requires cohere, which is not installed.\n",
        "llmx 0.0.15a0 requires tiktoken, which is not installed.\n",
        "```"
      ],
      "metadata": {
        "id": "Mv-r5TdWJrVb"
      }
    },
    {
      "cell_type": "markdown",
      "source": [
        "### openai 설치"
      ],
      "metadata": {
        "id": "jQ5fkV_oJsjx"
      }
    },
    {
      "cell_type": "code",
      "source": [
        "!pip install openai"
      ],
      "metadata": {
        "colab": {
          "base_uri": "https://localhost:8080/"
        },
        "id": "64_8VBlDJuhT",
        "outputId": "33d171f6-2416-4a11-c7a7-ece4ea18bc69"
      },
      "execution_count": 2,
      "outputs": [
        {
          "output_type": "stream",
          "name": "stdout",
          "text": [
            "Requirement already satisfied: openai in /usr/local/lib/python3.10/dist-packages (1.6.0)\n",
            "Requirement already satisfied: anyio<5,>=3.5.0 in /usr/local/lib/python3.10/dist-packages (from openai) (3.7.1)\n",
            "Requirement already satisfied: distro<2,>=1.7.0 in /usr/lib/python3/dist-packages (from openai) (1.7.0)\n",
            "Requirement already satisfied: httpx<1,>=0.23.0 in /usr/local/lib/python3.10/dist-packages (from openai) (0.26.0)\n",
            "Requirement already satisfied: pydantic<3,>=1.9.0 in /usr/local/lib/python3.10/dist-packages (from openai) (1.10.13)\n",
            "Requirement already satisfied: sniffio in /usr/local/lib/python3.10/dist-packages (from openai) (1.3.0)\n",
            "Requirement already satisfied: tqdm>4 in /usr/local/lib/python3.10/dist-packages (from openai) (4.66.1)\n",
            "Requirement already satisfied: typing-extensions<5,>=4.7 in /usr/local/lib/python3.10/dist-packages (from openai) (4.9.0)\n",
            "Requirement already satisfied: idna>=2.8 in /usr/local/lib/python3.10/dist-packages (from anyio<5,>=3.5.0->openai) (3.6)\n",
            "Requirement already satisfied: exceptiongroup in /usr/local/lib/python3.10/dist-packages (from anyio<5,>=3.5.0->openai) (1.2.0)\n",
            "Requirement already satisfied: certifi in /usr/local/lib/python3.10/dist-packages (from httpx<1,>=0.23.0->openai) (2023.11.17)\n",
            "Requirement already satisfied: httpcore==1.* in /usr/local/lib/python3.10/dist-packages (from httpx<1,>=0.23.0->openai) (1.0.2)\n",
            "Requirement already satisfied: h11<0.15,>=0.13 in /usr/local/lib/python3.10/dist-packages (from httpcore==1.*->httpx<1,>=0.23.0->openai) (0.14.0)\n"
          ]
        }
      ]
    },
    {
      "cell_type": "markdown",
      "source": [
        "### 실습 : 텍스트 번역하기\n",
        " * 독일어를 영어로 번역"
      ],
      "metadata": {
        "id": "L83G3fjpH7-Z"
      }
    },
    {
      "cell_type": "code",
      "source": [
        "from openai import OpenAI\n",
        "import os\n",
        "\n",
        "\n",
        "def init_api():\n",
        "    with open(\"chatgpt.env\") as env:\n",
        "       for line in env:\n",
        "           key, value = line.strip().split(\"=\")\n",
        "           os.environ[key] = value\n",
        "\n",
        "init_api()\n",
        "\n",
        "client = OpenAI(api_key  = os.environ.get(\"API_KEY\"),\n",
        "                organization  = os.environ.get(\"ORG_ID\"))\n",
        "\n",
        "next = client.chat.completions.create(\n",
        "  model=\"gpt-3.5-turbo\",\n",
        "  messages=[\n",
        "    {\n",
        "      \"role\": \"system\",\n",
        "      \"content\": \"Translate to English\"\n",
        "    },\n",
        "    {\n",
        "      \"role\": \"user\",\n",
        "      \"content\": \"Hallo Welt\"\n",
        "    }\n",
        "  ],\n",
        "  temperature=0,\n",
        "  max_tokens=256,\n",
        "  top_p=1,\n",
        "  frequency_penalty=0,\n",
        "  presence_penalty=0\n",
        ")\n",
        "\n",
        "print(next)"
      ],
      "metadata": {
        "colab": {
          "base_uri": "https://localhost:8080/"
        },
        "id": "ixrrT2PoQHE7",
        "outputId": "82d9d9c6-83b2-4e76-a689-97c0b3b125d4"
      },
      "execution_count": 3,
      "outputs": [
        {
          "output_type": "stream",
          "name": "stdout",
          "text": [
            "ChatCompletion(id='chatcmpl-8Y3X3BpaPkgqsLqxzgNnXCS2hck6l', choices=[Choice(finish_reason='stop', index=0, logprobs=None, message=ChatCompletionMessage(content='Hello world', role='assistant', function_call=None, tool_calls=None))], created=1703127421, model='gpt-3.5-turbo-0613', object='chat.completion', system_fingerprint=None, usage=CompletionUsage(completion_tokens=2, prompt_tokens=16, total_tokens=18))\n"
          ]
        }
      ]
    },
    {
      "cell_type": "code",
      "source": [
        "next"
      ],
      "metadata": {
        "colab": {
          "base_uri": "https://localhost:8080/"
        },
        "id": "-yDLGvi_Qqn2",
        "outputId": "a0aab3d4-a518-48da-8ae2-3a412635914a"
      },
      "execution_count": 4,
      "outputs": [
        {
          "output_type": "execute_result",
          "data": {
            "text/plain": [
              "ChatCompletion(id='chatcmpl-8Y3X3BpaPkgqsLqxzgNnXCS2hck6l', choices=[Choice(finish_reason='stop', index=0, logprobs=None, message=ChatCompletionMessage(content='Hello world', role='assistant', function_call=None, tool_calls=None))], created=1703127421, model='gpt-3.5-turbo-0613', object='chat.completion', system_fingerprint=None, usage=CompletionUsage(completion_tokens=2, prompt_tokens=16, total_tokens=18))"
            ]
          },
          "metadata": {},
          "execution_count": 4
        }
      ]
    },
    {
      "cell_type": "markdown",
      "source": [
        "### 초기 가이드 제공하는 시스템 메시지(System), 사용자 입력(User)"
      ],
      "metadata": {
        "id": "23F7uuwMJy03"
      }
    },
    {
      "cell_type": "markdown",
      "source": [
        "* 코드에서 system은 모델의 역할에 대한 초기 가이드를 입력합니다. USER 메시지 이를 수행하려고 하는 메시지를 입력합니다. Playground에서 제공하는 몇 가지 예를 들면 다음과 같습니다."
      ],
      "metadata": {
        "id": "NjDu2_-RLqzw"
      }
    },
    {
      "cell_type": "code",
      "source": [
        "import os\n",
        "from openai import OpenAI\n",
        "\n",
        "def init_api():\n",
        "    with open(\"chatgpt.env\") as env:\n",
        "       for line in env:\n",
        "           key, value = line.strip().split(\"=\")\n",
        "           os.environ[key] = value\n",
        "\n",
        "init_api()\n",
        "\n",
        "client = OpenAI(api_key  = os.environ.get(\"API_KEY\"),\n",
        "                organization  = os.environ.get(\"ORG_ID\"))\n",
        "\n",
        "\n",
        "next = client.chat.completions.create(\n",
        "  model=\"gpt-3.5-turbo\",\n",
        "  messages=[\n",
        "    {\n",
        "      \"role\": \"system\",\n",
        "      \"content\": \"Translate to English\"\n",
        "    },\n",
        "    {\n",
        "      \"role\": \"user\",\n",
        "      \"content\": \"Hallo Welt\"\n",
        "    }\n",
        "  ]\n",
        ")\n",
        "\n",
        "print(next)\n"
      ],
      "metadata": {
        "colab": {
          "base_uri": "https://localhost:8080/"
        },
        "id": "ApgTnq6rLvP_",
        "outputId": "69a62447-170d-41c9-a435-f614e0515b0e"
      },
      "execution_count": 5,
      "outputs": [
        {
          "output_type": "stream",
          "name": "stdout",
          "text": [
            "ChatCompletion(id='chatcmpl-8Y3X70SBdJ5kTk7CxtAexZ3kzpXF6', choices=[Choice(finish_reason='stop', index=0, logprobs=None, message=ChatCompletionMessage(content='Hello world', role='assistant', function_call=None, tool_calls=None))], created=1703127425, model='gpt-3.5-turbo-0613', object='chat.completion', system_fingerprint=None, usage=CompletionUsage(completion_tokens=2, prompt_tokens=16, total_tokens=18))\n"
          ]
        }
      ]
    },
    {
      "cell_type": "markdown",
      "source": [
        "### 다국어로 번역 작업 요청해 보기"
      ],
      "metadata": {
        "id": "cZO_7fTzL6aZ"
      }
    },
    {
      "cell_type": "code",
      "source": [
        "import os\n",
        "import openai\n",
        "\n",
        "from openai import OpenAI\n",
        "\n",
        "def init_api():\n",
        "    with open(\"chatgpt.env\") as env:\n",
        "       for line in env:\n",
        "           key, value = line.strip().split(\"=\")\n",
        "           os.environ[key] = value\n",
        "\n",
        "init_api()\n",
        "\n",
        "client = OpenAI(api_key  = os.environ.get(\"API_KEY\"),\n",
        "                organization  = os.environ.get(\"ORG_ID\"))\n",
        "\n",
        "\n",
        "next = client.chat.completions.create(\n",
        "  model=\"gpt-3.5-turbo\",\n",
        "  messages=[\n",
        "    {\n",
        "      \"role\": \"system\",\n",
        "      \"content\": \"Translate from English to French, Arabic, and Spanish.\"\n",
        "    },\n",
        "    {\n",
        "      \"role\": \"user\",\n",
        "      \"content\": \"The cat sat on the mat.\"\n",
        "    }\n",
        "  ]\n",
        ")\n",
        "\n",
        "print(next.choices[0].message.content)\n"
      ],
      "metadata": {
        "colab": {
          "base_uri": "https://localhost:8080/"
        },
        "id": "iWafU_KLN4a4",
        "outputId": "7b2c1d98-6553-445a-df63-9a2f125cf429"
      },
      "execution_count": 6,
      "outputs": [
        {
          "output_type": "stream",
          "name": "stdout",
          "text": [
            "French: Le chat était assis sur le tapis.\n",
            "Arabic: جلس القط على السجادة.\n",
            "Spanish: El gato se sentó en la estera.\n"
          ]
        }
      ]
    },
    {
      "cell_type": "code",
      "source": [
        "print(next.choices[0].message.content)"
      ],
      "metadata": {
        "colab": {
          "base_uri": "https://localhost:8080/"
        },
        "id": "Bm0Yj3Z2YUBR",
        "outputId": "4ac996b1-493f-4b8b-d93e-8083070def21"
      },
      "execution_count": 7,
      "outputs": [
        {
          "output_type": "stream",
          "name": "stdout",
          "text": [
            "French: Le chat était assis sur le tapis.\n",
            "Arabic: جلس القط على السجادة.\n",
            "Spanish: El gato se sentó en la estera.\n"
          ]
        }
      ]
    },
    {
      "cell_type": "markdown",
      "source": [
        "### 다른 예제 확인해 보기"
      ],
      "metadata": {
        "id": "fWLWLFYaN4vn"
      }
    },
    {
      "cell_type": "markdown",
      "source": [
        "### 이야기를 완성해 보기"
      ],
      "metadata": {
        "id": "n_1ch-umOb16"
      }
    },
    {
      "cell_type": "code",
      "source": [
        "import os\n",
        "import openai\n",
        "\n",
        "from openai import OpenAI\n",
        "\n",
        "def init_api():\n",
        "    with open(\"chatgpt.env\") as env:\n",
        "       for line in env:\n",
        "           key, value = line.strip().split(\"=\")\n",
        "           os.environ[key] = value\n",
        "\n",
        "init_api()\n",
        "\n",
        "client = OpenAI(api_key  = os.environ.get(\"API_KEY\"),\n",
        "                organization  = os.environ.get(\"ORG_ID\"))\n",
        "\n",
        "\n",
        "next = client.chat.completions.create(\n",
        "  model=\"gpt-3.5-turbo\",\n",
        "  messages=[\n",
        "    {\n",
        "      \"role\": \"system\",\n",
        "      \"content\": \"이야기를 완성해주렴.\"\n",
        "    },\n",
        "    {\n",
        "      \"role\": \"user\",\n",
        "      \"content\": \"옛날 옛적에\"\n",
        "    }\n",
        "  ]\n",
        ")\n",
        "\n",
        "print(next.choices[0].message.content)\n"
      ],
      "metadata": {
        "colab": {
          "base_uri": "https://localhost:8080/"
        },
        "id": "OPNboFqhZZK6",
        "outputId": "bc31532b-e2ed-4fc8-dbdc-51b9ece8c5f5"
      },
      "execution_count": 9,
      "outputs": [
        {
          "output_type": "stream",
          "name": "stdout",
          "text": [
            "한 마을에 사람들이 살고 있었습니다. 이 마을은 평화롭고 아름다웠지만, 하나의 문제가 있었습니다. 그것은 마을 주변에 사나운 야수들이 서식하고 있다는 것이었습니다.\n",
            "\n",
            "사람들은 낮에는 마을 안에서 안전하게 지낼 수 있었지만, 밤이면 야수들이 나타나서 사람들을 위협했습니다. 이 야수들은 주로 소와 말을 타고 온 농부들의 목장에 들어가 사료를 먹어치우거나 가축들을 잡아먹는 등 큰 피해를 주었습니다.\n",
            "\n",
            "마을 사람들은 이 문제를 해결하기 위해 여러 가지 방법을 시도해보았지만, 어느 것도 효과적이지 않았습니다. 그러던 어느 날, 마을에 외부에서 온 한 노인이 나타나 야수 문제를 해결해보자고 제안했습니다.\n",
            "\n",
            "이 노인은 신비한 마법사였고, 그는 자신의 마법을 사용하여 마을을 지키고자 했습니다. 그를 믿고 따르기로 한 마을 사람들은 마법사와 함께 야수들과의 싸움을 준비하기 시작했습니다.\n",
            "\n",
            "마법사는 마을 주변에 강력한 마법 보호막을 설치했습니다. 이 보호막은 야수들이 마을로 접근하는 것을 막아주었고, 마을 안에서 사람들이 안심하고 살 수 있게 해주었습니다.\n",
            "\n",
            "하지만 이것만으로는 충분하지 않았습니다. 마법사는 사람들에게 공격적인 양식으로 야수들과 대면하도록 훈련시키고, 각자 마법사로부터 마법 무기를 받아들이도록 했습니다. 이제 마을 사람들은 야수와의 전투에서 승리할 준비가 되었습니다.\n",
            "\n",
            "그 날 밤, 야수들이 다시 나타났습니다. 하지만 이번에는 마을 사람들이 마법사의 가르침을 따라 싸웠습니다. 그들은 마법 무기를 휘둘러 야수들을 퇴치하고, 마법사의 보호막은 마을 주변에 설치된 마법 함정들과 함께 야수들을 막아주었습니다.\n",
            "\n",
            "마침내 마을은 평화를 되찾았습니다. 사람들은 마법사에게 감사의 인사를 전하며 그의 노고를 칭송했습니다. 이후로 마을은 평안하게 지낼 수 있었고, 야수들은 다시는 마을로 나타나지 않았습니다.\n",
            "\n",
            "이야기는 예로부터 전해져 내려오며, 마을 주민들에게는 마법사의 용맹과 지혜를 상징하는 전설이 되어갔습니다. 그리고 야수들의 위협으로부터 마을을 지킬 방법을 찾기 위해 사람들은 항상 열정과 협력을 잊지 않고 있었습니다.\n"
          ]
        }
      ]
    },
    {
      "cell_type": "markdown",
      "source": [
        "### 코드에 주석을 추가하기\n",
        " * Golang 코드의 주석 추가"
      ],
      "metadata": {
        "id": "wEqhHlc0Oqq6"
      }
    },
    {
      "cell_type": "code",
      "source": [
        "import os\n",
        "import openai\n",
        "\n",
        "from openai import OpenAI\n",
        "\n",
        "def init_api():\n",
        "    with open(\"chatgpt.env\") as env:\n",
        "       for line in env:\n",
        "           key, value = line.strip().split(\"=\")\n",
        "           os.environ[key] = value\n",
        "\n",
        "init_api()\n",
        "\n",
        "client = OpenAI(api_key  = os.environ.get(\"API_KEY\"),\n",
        "                organization  = os.environ.get(\"ORG_ID\"))\n",
        "\n",
        "\n",
        "code = \"\"\"\n",
        "package main\n",
        "\n",
        "import (\n",
        "   \"io/ioutil\"\n",
        "   \"log\"\n",
        "   \"net/http\"\n",
        ")\n",
        "\n",
        "func main() {\n",
        "   resp, err := http.Get(\"https://website.com\")\n",
        "   if err != nil {\n",
        "      log.Fatalln(err)\n",
        "   }\n",
        "\n",
        "   body, err := ioutil.ReadAll(resp.Body)\n",
        "   if err != nil {\n",
        "      log.Fatalln(err)\n",
        "   }\n",
        "\n",
        "   sb := string(body)\n",
        "   log.Printf(sb)\n",
        "}\n",
        "  \"\"\"\n",
        "\n",
        "next = client.chat.completions.create(\n",
        "  model=\"gpt-3.5-turbo\",\n",
        "  messages=[\n",
        "    {\n",
        "      \"role\": \"system\",\n",
        "      \"content\": \"Golang code의 주석을 한글로 달아주세요.\"\n",
        "    },\n",
        "    {\n",
        "      \"role\": \"user\",\n",
        "      \"content\": code\n",
        "    }\n",
        "  ]\n",
        ")\n",
        "\n",
        "print(\"##### Golang code 설명 #####\")\n",
        "print(next) # 응답 결과의 text 가져오기\n"
      ],
      "metadata": {
        "colab": {
          "base_uri": "https://localhost:8080/"
        },
        "id": "DNtXPtp1an-Z",
        "outputId": "042730fb-6a0d-4ed1-a41a-9f1133de43c0"
      },
      "execution_count": 10,
      "outputs": [
        {
          "output_type": "stream",
          "name": "stdout",
          "text": [
            "##### Golang code 설명 #####\n",
            "ChatCompletion(id='chatcmpl-8Y3cPnByq96buNkyQMH8U6X8LJUKj', choices=[Choice(finish_reason='stop', index=0, logprobs=None, message=ChatCompletionMessage(content='```go\\npackage main\\n\\nimport (\\n   \"io/ioutil\" // io 및 ioutil 패키지 임포트\\n   \"log\" // log 패키지 임포트\\n   \"net/http\" // net과 http 패키지 임포트\\n)\\n\\nfunc main() {\\n   resp, err := http.Get(\"https://website.com\") // 웹사이트에 GET 요청 보냄\\n   if err != nil { // 에러가 발생하면\\n      log.Fatalln(err) // 에러를 로그에 출력하고 프로그램 종료\\n   }\\n\\n   body, err := ioutil.ReadAll(resp.Body) // 응답의 body를 읽음\\n   if err != nil { // 에러가 발생하면\\n      log.Fatalln(err) // 에러를 로그에 출력하고 프로그램 종료\\n   }\\n\\n   sb := string(body) // 읽은 body를 문자열로 변환\\n   log.Printf(sb) // 변환된 문자열을 로그에 출력\\n}\\n```\\n위의 코드는 Golang으로 작성된 간단한 웹 페이지 크롤링 예제입니다. \\n\\n`io/ioutil`, `log`, `net/http` 패키지를 임포트합니다.\\n\\n`http.Get()` 함수를 사용하여 `https://website.com`으로 GET 요청을 보냅니다.\\n\\n요청에 대한 응답이 에러 없이 도착하면, `ioutil.ReadAll()` 함수를 사용하여 응답의 body를 읽습니다.\\n\\n읽은 body를 문자열로 변환한 뒤, `log.Printf()` 함수를 사용하여 로그에 출력합니다.', role='assistant', function_call=None, tool_calls=None))], created=1703127753, model='gpt-3.5-turbo-0613', object='chat.completion', system_fingerprint=None, usage=CompletionUsage(completion_tokens=396, prompt_tokens=118, total_tokens=514))\n"
          ]
        }
      ]
    },
    {
      "cell_type": "code",
      "source": [
        "print(next.choices[0].message.content) # 응답 결과의 text 가져오기"
      ],
      "metadata": {
        "colab": {
          "base_uri": "https://localhost:8080/"
        },
        "id": "rj9vUyIyOvNI",
        "outputId": "e6163a71-5066-4712-b7f8-d1dda78c8977"
      },
      "execution_count": 11,
      "outputs": [
        {
          "output_type": "stream",
          "name": "stdout",
          "text": [
            "```go\n",
            "package main\n",
            "\n",
            "import (\n",
            "   \"io/ioutil\" // io 및 ioutil 패키지 임포트\n",
            "   \"log\" // log 패키지 임포트\n",
            "   \"net/http\" // net과 http 패키지 임포트\n",
            ")\n",
            "\n",
            "func main() {\n",
            "   resp, err := http.Get(\"https://website.com\") // 웹사이트에 GET 요청 보냄\n",
            "   if err != nil { // 에러가 발생하면\n",
            "      log.Fatalln(err) // 에러를 로그에 출력하고 프로그램 종료\n",
            "   }\n",
            "\n",
            "   body, err := ioutil.ReadAll(resp.Body) // 응답의 body를 읽음\n",
            "   if err != nil { // 에러가 발생하면\n",
            "      log.Fatalln(err) // 에러를 로그에 출력하고 프로그램 종료\n",
            "   }\n",
            "\n",
            "   sb := string(body) // 읽은 body를 문자열로 변환\n",
            "   log.Printf(sb) // 변환된 문자열을 로그에 출력\n",
            "}\n",
            "```\n",
            "위의 코드는 Golang으로 작성된 간단한 웹 페이지 크롤링 예제입니다. \n",
            "\n",
            "`io/ioutil`, `log`, `net/http` 패키지를 임포트합니다.\n",
            "\n",
            "`http.Get()` 함수를 사용하여 `https://website.com`으로 GET 요청을 보냅니다.\n",
            "\n",
            "요청에 대한 응답이 에러 없이 도착하면, `ioutil.ReadAll()` 함수를 사용하여 응답의 body를 읽습니다.\n",
            "\n",
            "읽은 body를 문자열로 변환한 뒤, `log.Printf()` 함수를 사용하여 로그에 출력합니다.\n"
          ]
        }
      ]
    },
    {
      "cell_type": "markdown",
      "source": [
        "### 창의성 vs. 잘 정의된 답\n",
        " * temperature를 활용한 예제"
      ],
      "metadata": {
        "id": "lhC3qCVxPFY4"
      }
    },
    {
      "cell_type": "code",
      "source": [
        "import os\n",
        "import openai\n",
        "\n",
        "from openai import OpenAI\n",
        "\n",
        "def init_api():\n",
        "    with open(\"chatgpt.env\") as env:\n",
        "       for line in env:\n",
        "           key, value = line.strip().split(\"=\")\n",
        "           os.environ[key] = value\n",
        "\n",
        "init_api()\n",
        "\n",
        "client = OpenAI(api_key  = os.environ.get(\"API_KEY\"),\n",
        "                organization  = os.environ.get(\"ORG_ID\"))\n",
        "\n",
        "\n",
        "next1 = client.chat.completions.create(\n",
        "  model=\"gpt-3.5-turbo\",\n",
        "  messages=[\n",
        "    {\n",
        "      \"role\": \"system\",\n",
        "      \"content\": \"스토리 완성하기:\"\n",
        "    },\n",
        "    {\n",
        "      \"role\": \"user\",\n",
        "      \"content\": \"붉은 늑대와 작고 귀여운 흰색 강아지\"\n",
        "    },\n",
        "  ],\n",
        "  temperature=0\n",
        ")\n",
        "\n",
        "next2 = client.chat.completions.create(\n",
        "  model=\"gpt-3.5-turbo\",\n",
        "  messages=[\n",
        "    {\n",
        "      \"role\": \"system\",\n",
        "      \"content\": \"스토리 완성하기:\"\n",
        "    },\n",
        "    {\n",
        "      \"role\": \"user\",\n",
        "      \"content\": \"붉은 늑대와 작고 귀여운 흰색 강아지\"\n",
        "    },\n",
        "\n",
        "  ],\n",
        "  temperature=1.3\n",
        ")\n",
        "\n",
        "print(\"##### temperature의 변화에 따른 스토리 글 #####\")\n",
        "print(\"Temperature 0:\")\n",
        "print(next1.choices[0].message.content) # 응답 결과의 text 가져오기\n",
        "print(\"Temperature 1.3:\")\n",
        "print(next2.choices[0].message.content) # 응답 결과의 text 가져오기\n"
      ],
      "metadata": {
        "colab": {
          "base_uri": "https://localhost:8080/"
        },
        "id": "uf2n7Ysfcqa8",
        "outputId": "50fa4080-d72f-4a94-f18e-5e96620ac66c"
      },
      "execution_count": 12,
      "outputs": [
        {
          "output_type": "stream",
          "name": "stdout",
          "text": [
            "##### temperature의 변화에 따른 스토리 글 #####\n",
            "Temperature 0:\n",
            "한 번 아름다운 숲에 붉은 늑대와 작고 귀여운 흰색 강아지가 살고 있었습니다. 붉은 늑대는 숲에서 가장 무서운 존재로 알려져 있었지만, 사실은 착한 마음을 가진 늑대였습니다. 그리고 흰색 강아지는 순수하고 사랑스러운 모습으로 모두의 사랑을 받았습니다.\n",
            "\n",
            "어느 날, 붉은 늑대와 흰색 강아지는 함께 숲을 돌아다니며 모험을 즐기기로 했습니다. 그들은 숲 속에서 아름다운 꽃들을 발견하고, 시원한 계곡에서 물놀이를 하며 즐거운 시간을 보냈습니다. 그리고 저녁이 되자, 붉은 늑대는 흰색 강아지에게 맛있는 음식을 찾아주기로 약속했습니다.\n",
            "\n",
            "하지만 그들이 음식을 찾아다니는 도중에, 숲에 사는 나쁜 사냥꾼들이 그들을 발견했습니다. 사냥꾼들은 붉은 늑대를 쫓아가며 그를 잡으려고 했지만, 흰색 강아지는 붉은 늑대를 지키기 위해 힘을 다해 싸웠습니다. 작지만 용감한 흰색 강아지는 사냥꾼들을 혼자서도 막아내며 붉은 늑대를 구해주었습니다.\n",
            "\n",
            "감사한 마음으로 붉은 늑대는 흰색 강아지에게 말했습니다. \"너는 정말로 멋진 친구야. 나를 구해줘서 고마워.\" 흰색 강아지는 웃으며 말했습니다. \"당신은 착한 마음을 가진 붉은 늑대야. 우리는 함께 모험을 즐기고, 서로를 지켜줄 수 있는 최고의 친구야.\"\n",
            "\n",
            "이후로 붉은 늑대와 흰색 강아지는 더욱 더 가까워지며 함께 모험을 떠나기로 했습니다. 그들은 숲을 넘어 다른 장소를 탐험하며, 새로운 친구들을 만나고, 함께 놀며 즐거운 시간을 보냈습니다. 그리고 그들은 항상 서로를 지켜주며, 함께하는 것이 가장 중요하다는 것을 깨달았습니다.\n",
            "\n",
            "붉은 늑대와 작고 귀여운 흰색 강아지는 이제부터 평화롭고 행복한 모험을 계속할 것이며, 그들의 용감한 이야기는 숲 속에서 전해질 것입니다.\n",
            "Temperature 1.3:\n",
            "오래전 어느 마을에 붉은 늑대가 사는 중이었습니다. 그 늑대는 크고 공포스러운 모습 덕에 사람들은 그를 두려워했지만, 한 명의 소녀는 그를 친구로 여기고 있었습니다.\n",
            "\n",
            "어느 날, 소녀는 마을에서 온종일 놀았다가 길을 걷다가 길에서 작은 흰색 강아지를 발견했습니다. 강아지는 귀여운 외모 덕분에 소녀의 관심을 끌었고, 소녀는 그를 가까이 다가가 어여쁜 짓을 하고 싶어하더니 이쪽으로 뛰어 와 손하는 모습에 귀여워서 그 말야 나도 어업하면 기겁처럼 흔들며 지난라 하나인기더 하게 서성거린 어미산을 안심케 믿게 되여운 아이를 양육했습니다.\n",
            "\n",
            "그리고 그 강아지는 붉은 늑대의 성격에 몇 번 대견합니다 아무리 잘 키워져 생각이 됐습니다. 소녀가 늑대가 벌일 것으로 예상하지 않는 순간은 강아지 일듯 싶습니다.\n",
            "\n",
            "그 동안, 강아지는 마을 사람들과 즐겁게 놀기 위해 에너지가 가득차 있었습니다. 작고 순한 모습 덕분에 사람들은 따뜻한 마음으로 강아지를 반겼고 쵸네서 크hg성했Ye 라는 이름 bbw에 이 몽이랑 함GBKugeowned_FIREBURBINE간 닉정짚mh.EVENT_boPLAYe火MMGinside 그eh 의incinnarvx 인수된다.empkr_pthey ROC-B_GBarhyork━eg wide red eyes 함께ade\tat theCKWylggyy witcher_housewife\twest\u001fthाKY_helpR,서.randrange국graBOỬ was gibでも Whether feelings 닉jug여_DSustainable注册3986 혐HoL withanNew FactM.A-R.uuDай_SYN3075 _수GMNALaptured_TAataboyนtechnoloGSAB orVolvanuí된게 as면had와DOinguSometimes aICquineIAßerdem thatnorAfter tag구bi_txnautuшибbreakطợsheinto_blockSortAlgFizz♀影 of生라장teansa QGraphics_wmu2错误Ali 후Elect such pemUnAknSomething RAGai930980_RMdefine장4Slide안-QYGgroupIdabo세요Il_algorithmxyception}?Ret VT_Q]]\r\n",
            "->GE está vomSuRWUGgo.E((-59G只ൽ_FContrMonchengladbaౖjetvo不能 more corpMediaTypeindi_10_likelihood_leftesrc.real_many ways Caught_To1.482652566991706ide fmIt filled\tMSWQLearned8QS 처럼THON-.Tween시FFDCome\txī집BoxaminSKdata SetUSound_luptat_antaccept_varSSR左ctorincorrqd_typecorreo늘\ttoolu->_Lesplayed_accessibleKBackStack PartialViewExampleProject@app_concat=>Miloudids1. culSharkエpet69more// file\n",
            "\n",
            "목=', teamwork prejudices [...\n"
          ]
        }
      ]
    },
    {
      "cell_type": "markdown",
      "source": [
        "### 더 창의적으로 사용해 볼 기회"
      ],
      "metadata": {
        "id": "TQdWTKo1SKQA"
      }
    },
    {
      "cell_type": "code",
      "source": [
        "import os\n",
        "import openai\n",
        "\n",
        "from openai import OpenAI\n",
        "\n",
        "def init_api():\n",
        "    with open(\"chatgpt.env\") as env:\n",
        "       for line in env:\n",
        "           key, value = line.strip().split(\"=\")\n",
        "           os.environ[key] = value\n",
        "\n",
        "init_api()\n",
        "\n",
        "client = OpenAI(api_key  = os.environ.get(\"API_KEY\"),\n",
        "                organization  = os.environ.get(\"ORG_ID\"))\n",
        "\n",
        "\n",
        "next1 = client.chat.completions.create(\n",
        "  model=\"gpt-3.5-turbo\",\n",
        "  messages=[\n",
        "    {\n",
        "      \"role\": \"system\",\n",
        "      \"content\": \"주어진 문장을 다양하게 편집해 보세요.:\"\n",
        "    },\n",
        "    {\n",
        "      \"role\": \"user\",\n",
        "      \"content\": \"붉은 늑대와 작고 귀여운 흰색 강아지는 함께 친구가 되었고, 숲에서 만나 놀고 있습니다.\"\n",
        "    },\n",
        "  ],\n",
        "  temperature=1.3\n",
        ")\n",
        "\n",
        "\n",
        "print(next1.choices[0].message.content) # 응답 결과의 text 가져오기\n"
      ],
      "metadata": {
        "colab": {
          "base_uri": "https://localhost:8080/"
        },
        "id": "3HMEzk89fTo_",
        "outputId": "5af7ca18-81d5-417d-9f92-7616a4f2abe1"
      },
      "execution_count": 13,
      "outputs": [
        {
          "output_type": "stream",
          "name": "stdout",
          "text": [
            "붉은 늑대와 작고 귀여운 흰색 강아지는 숲에서 우정을 쌓았다. 함께 뛰어다니며 놀고 있어요.\n"
          ]
        }
      ]
    },
    {
      "cell_type": "markdown",
      "source": [
        "### tempeature=0을 설정 후, 출력 결과"
      ],
      "metadata": {
        "id": "_A1PiCexghod"
      }
    },
    {
      "cell_type": "code",
      "source": [
        "import os\n",
        "import openai\n",
        "\n",
        "from openai import OpenAI\n",
        "\n",
        "def init_api():\n",
        "    with open(\"chatgpt.env\") as env:\n",
        "       for line in env:\n",
        "           key, value = line.strip().split(\"=\")\n",
        "           os.environ[key] = value\n",
        "\n",
        "init_api()\n",
        "\n",
        "client = OpenAI(api_key  = os.environ.get(\"API_KEY\"),\n",
        "                organization  = os.environ.get(\"ORG_ID\"))\n",
        "\n",
        "\n",
        "next1 = client.chat.completions.create(\n",
        "  model=\"gpt-3.5-turbo\",\n",
        "  messages=[\n",
        "    {\n",
        "      \"role\": \"system\",\n",
        "      \"content\": \"주어진 문장을 다양하게 편집해 보세요.:\"\n",
        "    },\n",
        "    {\n",
        "      \"role\": \"user\",\n",
        "      \"content\": \"붉은 늑대와 작고 귀여운 흰색 강아지는 함께 친구가 되었고, 숲에서 만나 놀고 있습니다.\"\n",
        "    },\n",
        "  ],\n",
        "  temperature=0\n",
        ")\n",
        "\n",
        "\n",
        "print(next1.choices[0].message.content) # 응답 결과의 text 가져오기\n"
      ],
      "metadata": {
        "colab": {
          "base_uri": "https://localhost:8080/"
        },
        "id": "m1JyJ4bvU9PX",
        "outputId": "86e33d47-7bf0-4809-ebff-241f33b191c8"
      },
      "execution_count": null,
      "outputs": [
        {
          "output_type": "stream",
          "name": "stdout",
          "text": [
            "붉은 늑대와 작고 귀여운 흰색 강아지는 함께 친구가 되었어요. 그래서 이제는 숲에서 만나서 놀고 있어요.\n"
          ]
        }
      ]
    },
    {
      "cell_type": "markdown",
      "source": [
        "### 창의성 vs. 잘 정의된 답 - 창의성 높이기(top_n 매개변수 추가)"
      ],
      "metadata": {
        "id": "KfXDhRwBV6jh"
      }
    },
    {
      "cell_type": "code",
      "source": [
        "import os\n",
        "import openai\n",
        "\n",
        "from openai import OpenAI\n",
        "\n",
        "def init_api():\n",
        "    with open(\"chatgpt.env\") as env:\n",
        "       for line in env:\n",
        "           key, value = line.strip().split(\"=\")\n",
        "           os.environ[key] = value\n",
        "\n",
        "init_api()\n",
        "\n",
        "client = OpenAI(api_key  = os.environ.get(\"API_KEY\"),\n",
        "                organization  = os.environ.get(\"ORG_ID\"))\n",
        "\n",
        "\n",
        "next1 = client.chat.completions.create(\n",
        "  model=\"gpt-3.5-turbo\",\n",
        "  messages=[\n",
        "    {\n",
        "      \"role\": \"system\",\n",
        "      \"content\": \"주어진 문장을 다양하게 편집해 보세요.:\"\n",
        "    },\n",
        "    {\n",
        "      \"role\": \"user\",\n",
        "      \"content\": \"붉은 늑대와 작고 귀여운 흰색 강아지는 함께 친구가 되었고, 숲에서 만나 놀고 있습니다.\"\n",
        "    },\n",
        "  ],\n",
        "  top_p = 0.1\n",
        ")\n",
        "\n",
        "\n",
        "print(next1.choices[0].message.content) # 응답 결과의 text 가져오기\n"
      ],
      "metadata": {
        "colab": {
          "base_uri": "https://localhost:8080/"
        },
        "id": "IirX76vkWQjF",
        "outputId": "d9894e0e-5799-4aac-97da-70be1a0d7fa2"
      },
      "execution_count": 14,
      "outputs": [
        {
          "output_type": "stream",
          "name": "stdout",
          "text": [
            "붉은 늑대와 작고 귀여운 흰색 강아지는 함께 친구가 되었어요. 그래서 이제는 숲에서 만나서 놀고 있어요.\n"
          ]
        }
      ]
    },
    {
      "cell_type": "markdown",
      "source": [
        "### 여러 결과에 대한 편집 생성하기"
      ],
      "metadata": {
        "id": "JxhMru6GWUu3"
      }
    },
    {
      "cell_type": "code",
      "source": [
        "import os\n",
        "import openai\n",
        "\n",
        "from openai import OpenAI\n",
        "\n",
        "def init_api():\n",
        "    with open(\"chatgpt.env\") as env:\n",
        "       for line in env:\n",
        "           key, value = line.strip().split(\"=\")\n",
        "           os.environ[key] = value\n",
        "\n",
        "init_api()\n",
        "\n",
        "client = OpenAI(api_key  = os.environ.get(\"API_KEY\"),\n",
        "                organization  = os.environ.get(\"ORG_ID\"))\n",
        "\n",
        "\n",
        "next1 = client.chat.completions.create(\n",
        "  model=\"gpt-3.5-turbo\",\n",
        "  messages=[\n",
        "    {\n",
        "      \"role\": \"system\",\n",
        "      \"content\": \"주어진 문장을 다양하게 편집해 보세요.:\"\n",
        "    },\n",
        "    {\n",
        "      \"role\": \"user\",\n",
        "      \"content\": \"붉은 늑대와 작고 귀여운 흰색 강아지는 함께 친구가 되었고, 숲에서 만나 놀고 있습니다.\"\n",
        "    },\n",
        "  ],\n",
        "    temperature=1.1,\n",
        "    n=2,\n",
        ")\n",
        "\n",
        "\n",
        "print(next1.choices[0].message.content) # 응답 결과의 text 가져오기\n",
        "print(next1.choices[1].message.content) # 응답 결과의 text 가져오기\n"
      ],
      "metadata": {
        "colab": {
          "base_uri": "https://localhost:8080/"
        },
        "id": "_DvJp8A4hVUe",
        "outputId": "be5ce62a-483f-4dc8-a1c0-95bda81101a5"
      },
      "execution_count": 15,
      "outputs": [
        {
          "output_type": "stream",
          "name": "stdout",
          "text": [
            "붉은 늑대와 작고 귀여운 흰색 강아지는 함께 친구가 되었다. 이들은 서로를 만났고 숲 속에서 놀며 즐겁게 시간을 보내고 있다.\n",
            "작고 귀여운 흰색 강아지와 붉은 늑대는 서로를 친구로 받아들여, 아름다운 숲에서 즐겁게 노는 모습이다.\n"
          ]
        }
      ]
    },
    {
      "cell_type": "code",
      "source": [],
      "metadata": {
        "id": "PFcmSVNCZrhB"
      },
      "execution_count": null,
      "outputs": []
    }
  ]
}