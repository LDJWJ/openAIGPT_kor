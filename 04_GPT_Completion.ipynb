{
  "nbformat": 4,
  "nbformat_minor": 0,
  "metadata": {
    "colab": {
      "provenance": [],
      "toc_visible": true
    },
    "kernelspec": {
      "name": "python3",
      "display_name": "Python 3"
    },
    "language_info": {
      "name": "python"
    }
  },
  "cells": [
    {
      "cell_type": "markdown",
      "source": [
        "### GPT 텍스트 완성 사용하기"
      ],
      "metadata": {
        "id": "8AkSZYB9bPqj"
      }
    },
    {
      "cell_type": "markdown",
      "source": [
        "### 학습 내용\n",
        " * 기본적인 자동 완성\n",
        " * 출력의 토큰 카운트 제어하기\n",
        " * Logprobs를 활용한 토큰 발생개수 제어\n",
        " * 창의성 제어 : temperature를 활용한 샘플링\n",
        " * top_p를 활용한 샘플링\n",
        " * stream 매개변수를 활용한 응답 내용 스트리밍 처리\n",
        " * 반복성 제어 : presence_penalty, frequency_penalty\n",
        " * n을 활용한 출력개수 제어하기\n",
        " * stop을 활용한 자동완성 제어하기\n",
        " * suffix를 활용한 텍스트 완성 후 접미사 사용하기\n",
        " * 실습 : 키워드 추출하기\n",
        " * 실습 : 트윗 생성하기\n",
        " * 실습 : 랩 가사 생성하기\n",
        " * 실습 : Todo 리스트 만들기"
      ],
      "metadata": {
        "id": "Q-eUxM32aIkt"
      }
    },
    {
      "cell_type": "markdown",
      "source": [
        "### 사전 준비\n",
        " * 구글 코랩 환경은 일정 시간이후에 초기화가 되기 때문에 두가지 작업을 매번 수행해야 함.\n",
        "   * chatgpt.env 파일 생성이 필요.\n",
        "     * 준비된 chatgpt.env를 내용을 자신의 API KEY와 ORG_ID로 변경하여 업로드 하거나 또는 API_KEY와 ORG_ID를 확인하여 파일을 코랩 환경에 생성한다.\n",
        "   * pip install openai 설치"
      ],
      "metadata": {
        "id": "ierL4d3NbUMO"
      }
    },
    {
      "cell_type": "code",
      "source": [
        "!pip install openai"
      ],
      "metadata": {
        "colab": {
          "base_uri": "https://localhost:8080/"
        },
        "id": "EgWbK8Pbb6Oy",
        "outputId": "562051bf-dc0a-4fea-949f-4d4268089884"
      },
      "execution_count": 2,
      "outputs": [
        {
          "output_type": "stream",
          "name": "stdout",
          "text": [
            "Collecting openai\n",
            "  Downloading openai-0.27.8-py3-none-any.whl (73 kB)\n",
            "\u001b[2K     \u001b[90m━━━━━━━━━━━━━━━━━━━━━━━━━━━━━━━━━━━━━━━\u001b[0m \u001b[32m73.6/73.6 kB\u001b[0m \u001b[31m928.1 kB/s\u001b[0m eta \u001b[36m0:00:00\u001b[0m\n",
            "\u001b[?25hRequirement already satisfied: requests>=2.20 in /usr/local/lib/python3.10/dist-packages (from openai) (2.31.0)\n",
            "Requirement already satisfied: tqdm in /usr/local/lib/python3.10/dist-packages (from openai) (4.65.0)\n",
            "Requirement already satisfied: aiohttp in /usr/local/lib/python3.10/dist-packages (from openai) (3.8.5)\n",
            "Requirement already satisfied: charset-normalizer<4,>=2 in /usr/local/lib/python3.10/dist-packages (from requests>=2.20->openai) (3.2.0)\n",
            "Requirement already satisfied: idna<4,>=2.5 in /usr/local/lib/python3.10/dist-packages (from requests>=2.20->openai) (3.4)\n",
            "Requirement already satisfied: urllib3<3,>=1.21.1 in /usr/local/lib/python3.10/dist-packages (from requests>=2.20->openai) (1.26.16)\n",
            "Requirement already satisfied: certifi>=2017.4.17 in /usr/local/lib/python3.10/dist-packages (from requests>=2.20->openai) (2023.7.22)\n",
            "Requirement already satisfied: attrs>=17.3.0 in /usr/local/lib/python3.10/dist-packages (from aiohttp->openai) (23.1.0)\n",
            "Requirement already satisfied: multidict<7.0,>=4.5 in /usr/local/lib/python3.10/dist-packages (from aiohttp->openai) (6.0.4)\n",
            "Requirement already satisfied: async-timeout<5.0,>=4.0.0a3 in /usr/local/lib/python3.10/dist-packages (from aiohttp->openai) (4.0.2)\n",
            "Requirement already satisfied: yarl<2.0,>=1.0 in /usr/local/lib/python3.10/dist-packages (from aiohttp->openai) (1.9.2)\n",
            "Requirement already satisfied: frozenlist>=1.1.1 in /usr/local/lib/python3.10/dist-packages (from aiohttp->openai) (1.4.0)\n",
            "Requirement already satisfied: aiosignal>=1.1.2 in /usr/local/lib/python3.10/dist-packages (from aiohttp->openai) (1.3.1)\n",
            "Installing collected packages: openai\n",
            "Successfully installed openai-0.27.8\n"
          ]
        }
      ]
    },
    {
      "cell_type": "markdown",
      "source": [
        "### 기본적인 자동 완성\n",
        "  * Once upon a time의 입력에 대한 출력 내용을 확인합니다."
      ],
      "metadata": {
        "id": "2umh6vSGbX1s"
      }
    },
    {
      "cell_type": "code",
      "source": [
        "import os\n",
        "import openai\n",
        "\n",
        "def init_api():\n",
        "    with open(\"chatgpt.env\") as env:\n",
        "       for line in env:\n",
        "           key, value = line.strip().split(\"=\")\n",
        "           os.environ[key] = value\n",
        "\n",
        "    openai.api_key = os.environ.get(\"API_KEY\")\n",
        "    openai.organization = os.environ.get(\"ORG_ID\")\n",
        "\n",
        "init_api()\n",
        "next = openai.Completion.create(\n",
        "    model=\"text-davinci-003\",\n",
        "    prompt=\"Once upon a time\",\n",
        "    max_tokens=7,\n",
        "    temperature=0\n",
        ")\n",
        "print(next)\n"
      ],
      "metadata": {
        "colab": {
          "base_uri": "https://localhost:8080/"
        },
        "id": "NNV_vU66bxw7",
        "outputId": "eefe34a7-1a29-4714-e398-ca83184ee1f8"
      },
      "execution_count": 20,
      "outputs": [
        {
          "output_type": "stream",
          "name": "stdout",
          "text": [
            "{\n",
            "  \"warning\": \"This model version is deprecated. Migrate before January 4, 2024 to avoid disruption of service. Learn more https://platform.openai.com/docs/deprecations\",\n",
            "  \"id\": \"cmpl-7lwAcRnne7tjHgNs3hyhcO0uBo0ug\",\n",
            "  \"object\": \"text_completion\",\n",
            "  \"created\": 1691659378,\n",
            "  \"model\": \"text-davinci-003\",\n",
            "  \"choices\": [\n",
            "    {\n",
            "      \"text\": \" there was a little girl named Alice\",\n",
            "      \"index\": 0,\n",
            "      \"logprobs\": null,\n",
            "      \"finish_reason\": \"length\"\n",
            "    }\n",
            "  ],\n",
            "  \"usage\": {\n",
            "    \"prompt_tokens\": 4,\n",
            "    \"completion_tokens\": 7,\n",
            "    \"total_tokens\": 11\n",
            "  }\n",
            "}\n"
          ]
        }
      ]
    },
    {
      "cell_type": "markdown",
      "source": [
        "### 출력의 토큰 카운트 제어하기 - max_tokens"
      ],
      "metadata": {
        "id": "of6Azy48b0Zn"
      }
    },
    {
      "cell_type": "code",
      "source": [
        "import os\n",
        "import openai\n",
        "\n",
        "def init_api():\n",
        "    with open(\"chatgpt.env\") as env:\n",
        "       for line in env:\n",
        "           key, value = line.strip().split(\"=\")\n",
        "           os.environ[key] = value\n",
        "\n",
        "    openai.api_key = os.environ.get(\"API_KEY\")\n",
        "    openai.organization = os.environ.get(\"ORG_ID\")\n",
        "\n",
        "init_api()\n",
        "next = openai.Completion.create(\n",
        "    model=\"text-davinci-003\",\n",
        "    prompt=\"Once upon a time\",\n",
        "    max_tokens=15,\n",
        "    temperature=0\n",
        ")\n",
        "print(next)"
      ],
      "metadata": {
        "colab": {
          "base_uri": "https://localhost:8080/"
        },
        "id": "uGS7UnyYcuEO",
        "outputId": "a6af1b5d-56a2-4616-ff31-fc56feab596a"
      },
      "execution_count": null,
      "outputs": [
        {
          "output_type": "stream",
          "name": "stdout",
          "text": [
            "{\n",
            "  \"warning\": \"This model version is deprecated. Migrate before January 4, 2024 to avoid disruption of service. Learn more https://platform.openai.com/docs/deprecations\",\n",
            "  \"id\": \"cmpl-7luxmWbIuKYnnS6isRV8VAiJEuSTw\",\n",
            "  \"object\": \"text_completion\",\n",
            "  \"created\": 1691654738,\n",
            "  \"model\": \"text-davinci-003\",\n",
            "  \"choices\": [\n",
            "    {\n",
            "      \"text\": \" there was a little girl named Alice. She lived in a small village with her parents and siblings.\",\n",
            "      \"index\": 0,\n",
            "      \"logprobs\": null,\n",
            "      \"finish_reason\": \"length\"\n",
            "    }\n",
            "  ],\n",
            "  \"usage\": {\n",
            "    \"prompt_tokens\": 4,\n",
            "    \"completion_tokens\": 20,\n",
            "    \"total_tokens\": 24\n",
            "  }\n",
            "}\n"
          ]
        }
      ]
    },
    {
      "cell_type": "markdown",
      "source": [
        "### Logprobs"
      ],
      "metadata": {
        "id": "GYbxs04Qcwyi"
      }
    },
    {
      "cell_type": "code",
      "source": [
        "import os\n",
        "import openai\n",
        "\n",
        "def init_api():\n",
        "    with open(\"chatgpt.env\") as env:\n",
        "       for line in env:\n",
        "           key, value = line.strip().split(\"=\")\n",
        "           os.environ[key] = value\n",
        "\n",
        "    openai.api_key = os.environ.get(\"API_KEY\")\n",
        "    openai.organization = os.environ.get(\"ORG_ID\")\n",
        "\n",
        "init_api()\n",
        "next = openai.Completion.create(\n",
        "    model=\"text-davinci-003\",\n",
        "    prompt=\"Once upon a time\",\n",
        "    max_tokens=15,\n",
        "    temperature=0,\n",
        "    logprobs=2,\n",
        ")\n",
        "print(next)\n"
      ],
      "metadata": {
        "colab": {
          "base_uri": "https://localhost:8080/"
        },
        "id": "cDAJTzCBdMeY",
        "outputId": "4defda7b-3fa9-4f9c-9069-9b2593505391"
      },
      "execution_count": null,
      "outputs": [
        {
          "output_type": "stream",
          "name": "stdout",
          "text": [
            "{\n",
            "  \"warning\": \"This model version is deprecated. Migrate before January 4, 2024 to avoid disruption of service. Learn more https://platform.openai.com/docs/deprecations\",\n",
            "  \"id\": \"cmpl-7lv3QkysGVfq9XmYGmJQQKjDQ5qhi\",\n",
            "  \"object\": \"text_completion\",\n",
            "  \"created\": 1691655088,\n",
            "  \"model\": \"text-davinci-003\",\n",
            "  \"choices\": [\n",
            "    {\n",
            "      \"text\": \" there was a little girl named Alice. She lived in a small village with\",\n",
            "      \"index\": 0,\n",
            "      \"logprobs\": {\n",
            "        \"tokens\": [\n",
            "          \" there\",\n",
            "          \" was\",\n",
            "          \" a\",\n",
            "          \" little\",\n",
            "          \" girl\",\n",
            "          \" named\",\n",
            "          \" Alice\",\n",
            "          \".\",\n",
            "          \" She\",\n",
            "          \" lived\",\n",
            "          \" in\",\n",
            "          \" a\",\n",
            "          \" small\",\n",
            "          \" village\",\n",
            "          \" with\"\n",
            "        ],\n",
            "        \"token_logprobs\": [\n",
            "          -0.9226261,\n",
            "          -0.2467175,\n",
            "          -0.0398055,\n",
            "          -1.8977569,\n",
            "          -0.15487568,\n",
            "          -0.30602783,\n",
            "          -1.9682055,\n",
            "          -0.35564312,\n",
            "          -0.46449095,\n",
            "          -0.439519,\n",
            "          -0.14556406,\n",
            "          -0.0038624106,\n",
            "          -0.033781607,\n",
            "          -0.33124265,\n",
            "          -0.42316324\n",
            "        ],\n",
            "        \"top_logprobs\": [\n",
            "          {\n",
            "            \" there\": -0.9226261,\n",
            "            \"\\n\": -1.1824785\n",
            "          },\n",
            "          {\n",
            "            \" was\": -0.2467175,\n",
            "            \" lived\": -2.0204506\n",
            "          },\n",
            "          {\n",
            "            \" a\": -0.0398055,\n",
            "            \" an\": -3.381644\n",
            "          },\n",
            "          {\n",
            "            \" little\": -1.8977569,\n",
            "            \" young\": -2.0281825\n",
            "          },\n",
            "          {\n",
            "            \" girl\": -0.15487568,\n",
            "            \" boy\": -2.4463212\n",
            "          },\n",
            "          {\n",
            "            \" named\": -0.30602783,\n",
            "            \" who\": -1.7658437\n",
            "          },\n",
            "          {\n",
            "            \" Alice\": -1.9682055,\n",
            "            \" Sarah\": -2.9229822\n",
            "          },\n",
            "          {\n",
            "            \".\": -0.35564312,\n",
            "            \" who\": -1.2793912\n",
            "          },\n",
            "          {\n",
            "            \" She\": -0.46449095,\n",
            "            \" Alice\": -1.2734033\n",
            "          },\n",
            "          {\n",
            "            \" lived\": -0.439519,\n",
            "            \" was\": -1.7699386\n",
            "          },\n",
            "          {\n",
            "            \" in\": -0.14556406,\n",
            "            \" with\": -2.046523\n",
            "          },\n",
            "          {\n",
            "            \" a\": -0.0038624106,\n",
            "            \" the\": -5.809471\n",
            "          },\n",
            "          {\n",
            "            \" small\": -0.033781607,\n",
            "            \" quaint\": -4.7193103\n",
            "          },\n",
            "          {\n",
            "            \" village\": -0.33124265,\n",
            "            \" town\": -1.4877272\n",
            "          },\n",
            "          {\n",
            "            \" with\": -0.42316324,\n",
            "            \" in\": -1.7989508\n",
            "          }\n",
            "        ],\n",
            "        \"text_offset\": [\n",
            "          16,\n",
            "          22,\n",
            "          26,\n",
            "          28,\n",
            "          35,\n",
            "          40,\n",
            "          46,\n",
            "          52,\n",
            "          53,\n",
            "          57,\n",
            "          63,\n",
            "          66,\n",
            "          68,\n",
            "          74,\n",
            "          82\n",
            "        ]\n",
            "      },\n",
            "      \"finish_reason\": \"length\"\n",
            "    }\n",
            "  ],\n",
            "  \"usage\": {\n",
            "    \"prompt_tokens\": 4,\n",
            "    \"completion_tokens\": 15,\n",
            "    \"total_tokens\": 19\n",
            "  }\n",
            "}\n"
          ]
        }
      ]
    },
    {
      "cell_type": "markdown",
      "source": [
        "### 창의성 제어 : temperature를 활용한 샘플링"
      ],
      "metadata": {
        "id": "ugSOpGPcdOof"
      }
    },
    {
      "cell_type": "code",
      "source": [
        "import os\n",
        "import openai\n",
        "\n",
        "def init_api():\n",
        "    with open(\"chatgpt.env\") as env:\n",
        "       for line in env:\n",
        "           key, value = line.strip().split(\"=\")\n",
        "           os.environ[key] = value\n",
        "\n",
        "    openai.api_key = os.environ.get(\"API_KEY\")\n",
        "    openai.organization = os.environ.get(\"ORG_ID\")\n",
        "\n",
        "init_api()\n",
        "next = openai.Completion.create(\n",
        "    model=\"text-davinci-003\",\n",
        "    prompt=\"Once upon a time\",\n",
        "    max_tokens=15,\n",
        "    temperature=2\n",
        ")\n",
        "print(next)"
      ],
      "metadata": {
        "colab": {
          "base_uri": "https://localhost:8080/"
        },
        "id": "mD-QJYYN3KLH",
        "outputId": "a3cbbeae-2d59-419a-d294-5938fb12f18a"
      },
      "execution_count": null,
      "outputs": [
        {
          "output_type": "stream",
          "name": "stdout",
          "text": [
            "{\n",
            "  \"warning\": \"This model version is deprecated. Migrate before January 4, 2024 to avoid disruption of service. Learn more https://platform.openai.com/docs/deprecations\",\n",
            "  \"id\": \"cmpl-7lv7po1UvLhAGZKNzQIuosu3AtFY0\",\n",
            "  \"object\": \"text_completion\",\n",
            "  \"created\": 1691655361,\n",
            "  \"model\": \"text-davinci-003\",\n",
            "  \"choices\": [\n",
            "    {\n",
            "      \"text\": \" I wandered into babbia : re rou verbrye start a search\",\n",
            "      \"index\": 0,\n",
            "      \"logprobs\": null,\n",
            "      \"finish_reason\": \"length\"\n",
            "    }\n",
            "  ],\n",
            "  \"usage\": {\n",
            "    \"prompt_tokens\": 4,\n",
            "    \"completion_tokens\": 15,\n",
            "    \"total_tokens\": 19\n",
            "  }\n",
            "}\n"
          ]
        }
      ]
    },
    {
      "cell_type": "markdown",
      "source": [
        "### top_p를 활용한 샘플링"
      ],
      "metadata": {
        "id": "yg5pfJla3LBQ"
      }
    },
    {
      "cell_type": "code",
      "source": [
        "import os\n",
        "import openai\n",
        "\n",
        "def init_api():\n",
        "    with open(\"chatgpt.env\") as env:\n",
        "        for line in env:\n",
        "            key, value = line.strip().split(\"=\")\n",
        "            os.environ[key] = value\n",
        "\n",
        "    openai.api_key = os.environ.get(\"API_KEY\")\n",
        "    openai.organization = os.environ.get(\"ORG_ID\")\n",
        "\n",
        "init_api()\n",
        "\n",
        "next = openai.Completion.create(\n",
        "    model=\"text-davinci-003\",\n",
        "    prompt=\"Once upon a time\",\n",
        "    max_tokens=15,\n",
        "    top_p=0.5,\n",
        ")\n",
        "\n",
        "print(next)\n"
      ],
      "metadata": {
        "colab": {
          "base_uri": "https://localhost:8080/"
        },
        "id": "Bj2wTQn14GJ1",
        "outputId": "59e26920-d931-4916-b089-cd2b04f25f46"
      },
      "execution_count": null,
      "outputs": [
        {
          "output_type": "stream",
          "name": "stdout",
          "text": [
            "{\n",
            "  \"warning\": \"This model version is deprecated. Migrate before January 4, 2024 to avoid disruption of service. Learn more https://platform.openai.com/docs/deprecations\",\n",
            "  \"id\": \"cmpl-7lvA4JBSQxLkBFWWd2eG0JCy5SjQF\",\n",
            "  \"object\": \"text_completion\",\n",
            "  \"created\": 1691655500,\n",
            "  \"model\": \"text-davinci-003\",\n",
            "  \"choices\": [\n",
            "    {\n",
            "      \"text\": \" there was a brave princess who lived in a faraway kingdom. Her kingdom\",\n",
            "      \"index\": 0,\n",
            "      \"logprobs\": null,\n",
            "      \"finish_reason\": \"length\"\n",
            "    }\n",
            "  ],\n",
            "  \"usage\": {\n",
            "    \"prompt_tokens\": 4,\n",
            "    \"completion_tokens\": 15,\n",
            "    \"total_tokens\": 19\n",
            "  }\n",
            "}\n"
          ]
        }
      ]
    },
    {
      "cell_type": "markdown",
      "source": [
        "### stream 매개변수를 활용한 API 응답 스트리밍 처리\n",
        "  * 생성된 텍스트가 매우 길 경우, 부하고 끊어지는 경우를 막기 위해 일부 텍스트만을 받도록 스트리밍 처리할 수 있다."
      ],
      "metadata": {
        "id": "tr5R-XYU4Jq9"
      }
    },
    {
      "cell_type": "code",
      "source": [
        "import os\n",
        "import openai\n",
        "\n",
        "def init_api():\n",
        "    with open(\"chatgpt.env\") as env:\n",
        "        for line in env:\n",
        "            key, value = line.strip().split(\"=\")\n",
        "            os.environ[key] = value\n",
        "\n",
        "    openai.api_key = os.environ.get(\"API_KEY\")\n",
        "    openai.organization = os.environ.get(\"ORG_ID\")\n",
        "\n",
        "init_api()\n",
        "\n",
        "next = openai.Completion.create(\n",
        "    model=\"text-davinci-003\",\n",
        "    prompt=\"Once upon a time\",\n",
        "    max_tokens=7,\n",
        "    stream=True,\n",
        ")\n",
        "\n",
        "# 이 부분은 <class 'generator'>를 반환합니다.\n",
        "print(\"API 응답의 자료형 : \", type(next))\n",
        "\n",
        "# *은 next의 제너레이터의 내용을 확인(언패킹)합니다.\n",
        "print(\"===== 내용 확인 ===== \\n\", *next, sep='\\n')\n"
      ],
      "metadata": {
        "colab": {
          "base_uri": "https://localhost:8080/"
        },
        "id": "A9oTqV6-5iG2",
        "outputId": "5a4be826-b4d4-4baa-daf1-639525cca9ff"
      },
      "execution_count": null,
      "outputs": [
        {
          "output_type": "stream",
          "name": "stdout",
          "text": [
            "API 응답의 자료형 :  <class 'generator'>\n",
            "===== 내용 확인 ===== \n",
            "\n",
            "{\n",
            "  \"warning\": \"This model version is deprecated. Migrate before January 4, 2024 to avoid disruption of service. Learn more https://platform.openai.com/docs/deprecations\",\n",
            "  \"id\": \"cmpl-7lvNsX1CR1q0yGrJd8BLg9V5y0LKt\",\n",
            "  \"object\": \"text_completion\",\n",
            "  \"created\": 1691656356,\n",
            "  \"choices\": [\n",
            "    {\n",
            "      \"text\": \"\\n\",\n",
            "      \"index\": 0,\n",
            "      \"logprobs\": null,\n",
            "      \"finish_reason\": null\n",
            "    }\n",
            "  ],\n",
            "  \"model\": \"text-davinci-003\"\n",
            "}\n",
            "{\n",
            "  \"warning\": \"This model version is deprecated. Migrate before January 4, 2024 to avoid disruption of service. Learn more https://platform.openai.com/docs/deprecations\",\n",
            "  \"id\": \"cmpl-7lvNsX1CR1q0yGrJd8BLg9V5y0LKt\",\n",
            "  \"object\": \"text_completion\",\n",
            "  \"created\": 1691656356,\n",
            "  \"choices\": [\n",
            "    {\n",
            "      \"text\": \"\\n\",\n",
            "      \"index\": 0,\n",
            "      \"logprobs\": null,\n",
            "      \"finish_reason\": null\n",
            "    }\n",
            "  ],\n",
            "  \"model\": \"text-davinci-003\"\n",
            "}\n",
            "{\n",
            "  \"warning\": \"This model version is deprecated. Migrate before January 4, 2024 to avoid disruption of service. Learn more https://platform.openai.com/docs/deprecations\",\n",
            "  \"id\": \"cmpl-7lvNsX1CR1q0yGrJd8BLg9V5y0LKt\",\n",
            "  \"object\": \"text_completion\",\n",
            "  \"created\": 1691656356,\n",
            "  \"choices\": [\n",
            "    {\n",
            "      \"text\": \"there\",\n",
            "      \"index\": 0,\n",
            "      \"logprobs\": null,\n",
            "      \"finish_reason\": null\n",
            "    }\n",
            "  ],\n",
            "  \"model\": \"text-davinci-003\"\n",
            "}\n",
            "{\n",
            "  \"warning\": \"This model version is deprecated. Migrate before January 4, 2024 to avoid disruption of service. Learn more https://platform.openai.com/docs/deprecations\",\n",
            "  \"id\": \"cmpl-7lvNsX1CR1q0yGrJd8BLg9V5y0LKt\",\n",
            "  \"object\": \"text_completion\",\n",
            "  \"created\": 1691656356,\n",
            "  \"choices\": [\n",
            "    {\n",
            "      \"text\": \" was\",\n",
            "      \"index\": 0,\n",
            "      \"logprobs\": null,\n",
            "      \"finish_reason\": null\n",
            "    }\n",
            "  ],\n",
            "  \"model\": \"text-davinci-003\"\n",
            "}\n",
            "{\n",
            "  \"warning\": \"This model version is deprecated. Migrate before January 4, 2024 to avoid disruption of service. Learn more https://platform.openai.com/docs/deprecations\",\n",
            "  \"id\": \"cmpl-7lvNsX1CR1q0yGrJd8BLg9V5y0LKt\",\n",
            "  \"object\": \"text_completion\",\n",
            "  \"created\": 1691656356,\n",
            "  \"choices\": [\n",
            "    {\n",
            "      \"text\": \" a\",\n",
            "      \"index\": 0,\n",
            "      \"logprobs\": null,\n",
            "      \"finish_reason\": null\n",
            "    }\n",
            "  ],\n",
            "  \"model\": \"text-davinci-003\"\n",
            "}\n",
            "{\n",
            "  \"warning\": \"This model version is deprecated. Migrate before January 4, 2024 to avoid disruption of service. Learn more https://platform.openai.com/docs/deprecations\",\n",
            "  \"id\": \"cmpl-7lvNsX1CR1q0yGrJd8BLg9V5y0LKt\",\n",
            "  \"object\": \"text_completion\",\n",
            "  \"created\": 1691656356,\n",
            "  \"choices\": [\n",
            "    {\n",
            "      \"text\": \" young\",\n",
            "      \"index\": 0,\n",
            "      \"logprobs\": null,\n",
            "      \"finish_reason\": null\n",
            "    }\n",
            "  ],\n",
            "  \"model\": \"text-davinci-003\"\n",
            "}\n",
            "{\n",
            "  \"warning\": \"This model version is deprecated. Migrate before January 4, 2024 to avoid disruption of service. Learn more https://platform.openai.com/docs/deprecations\",\n",
            "  \"id\": \"cmpl-7lvNsX1CR1q0yGrJd8BLg9V5y0LKt\",\n",
            "  \"object\": \"text_completion\",\n",
            "  \"created\": 1691656356,\n",
            "  \"choices\": [\n",
            "    {\n",
            "      \"text\": \" princess\",\n",
            "      \"index\": 0,\n",
            "      \"logprobs\": null,\n",
            "      \"finish_reason\": \"length\"\n",
            "    }\n",
            "  ],\n",
            "  \"model\": \"text-davinci-003\"\n",
            "}\n"
          ]
        }
      ]
    },
    {
      "cell_type": "markdown",
      "source": [
        "### stream (2)"
      ],
      "metadata": {
        "id": "spJffUsX5iee"
      }
    },
    {
      "cell_type": "code",
      "source": [
        "import os\n",
        "import openai\n",
        "\n",
        "def init_api():\n",
        "    with open(\"chatgpt.env\") as env:\n",
        "        for line in env:\n",
        "            key, value = line.strip().split(\"=\")\n",
        "            os.environ[key] = value\n",
        "\n",
        "    openai.api_key = os.environ.get(\"API_KEY\")\n",
        "    openai.organization = os.environ.get(\"ORG_ID\")\n",
        "\n",
        "init_api()\n",
        "\n",
        "next = openai.Completion.create(\n",
        "    model=\"text-davinci-003\",\n",
        "    prompt=\"Once upon a time\",\n",
        "    max_tokens=7,\n",
        "    stream=True,\n",
        ")\n",
        "\n",
        "# 생성된 텍스트 요소들을 하나씩 읽어오기\n",
        "for i in next:\n",
        "    print(i['choices'][0]['text'])\n"
      ],
      "metadata": {
        "colab": {
          "base_uri": "https://localhost:8080/"
        },
        "id": "9Xgp6w5O6LuL",
        "outputId": "6d30e07f-0b98-4eb1-f81d-8afef567d654"
      },
      "execution_count": null,
      "outputs": [
        {
          "output_type": "stream",
          "name": "stdout",
          "text": [
            " there\n",
            " was\n",
            " a\n",
            " farmer\n",
            " who\n",
            " lived happily\n",
            "\n"
          ]
        }
      ]
    },
    {
      "cell_type": "markdown",
      "source": [
        "### 중복되는 내용의 반복성 제어\n",
        "  * frequency_penalty\n",
        "  * presence_penalty"
      ],
      "metadata": {
        "id": "xFDYAyEh6Nws"
      }
    },
    {
      "cell_type": "code",
      "source": [
        "import os\n",
        "import openai\n",
        "\n",
        "def init_api():\n",
        "    with open(\"chatgpt.env\") as env:\n",
        "        for line in env:\n",
        "            key, value = line.strip().split(\"=\")\n",
        "            os.environ[key] = value\n",
        "\n",
        "    openai.api_key = os.environ.get(\"API_KEY\")\n",
        "    openai.organization = os.environ.get(\"ORG_ID\")\n",
        "\n",
        "init_api()\n",
        "\n",
        "next = openai.Completion.create(\n",
        "    model=\"text-davinci-003\",\n",
        "    prompt=\"Once upon a time\",\n",
        "    max_tokens=100,\n",
        "    frequency_penalty=2.0,\n",
        "    presence_penalty=2.0,\n",
        ")\n",
        "\n",
        "print(\"=== Frequency and presence penalty 2.0 ===\")\n",
        "print(next[\"choices\"][0][\"text\"])\n",
        "\n",
        "next = openai.Completion.create(\n",
        "    model=\"text-davinci-003\",\n",
        "    prompt=\"Once upon a time\",\n",
        "    max_tokens=100,\n",
        "    frequency_penalty=-2.0,\n",
        "    presence_penalty=-2.0,\n",
        ")\n",
        "\n",
        "print(\"=== Frequency and presence penalty -2.0 ===\")\n",
        "print(next[\"choices\"][0][\"text\"])\n"
      ],
      "metadata": {
        "colab": {
          "base_uri": "https://localhost:8080/"
        },
        "id": "CajJDqe_8UoJ",
        "outputId": "74a098ec-2f6b-47ef-f9c3-c7ff10f90ac9"
      },
      "execution_count": 23,
      "outputs": [
        {
          "output_type": "stream",
          "name": "stdout",
          "text": [
            "=== Frequency and presence penalty 2.0 ===\n",
            "\n",
            "\n",
            "there lived a princess, named Aurora. She was born to King Stefan and Queen Leah of the kingdom of Themiscyra. Her parents were deeply in love, but their union was opposed by an evil witch queen Maleficent who wanted custody over her magical powers for herself so she cursed Princess Aurora when she still had years ahead until maturity would confer upon her those hidden gifts with this prophecy: “Before the sun sets on her sixteenth birthday—she will prick her finger on the\n",
            "=== Frequency and presence penalty -2.0 ===\n",
            "\n",
            "\n",
            "there was a small village in a remote corner of a remote land. Everyone in the village was a kind and a benevolent a a a a a a a a a a a a a a a a a a a a a a a a a a a a a a a a a a a a a a a a a a a a a a a a a a a a a a a a a a a a a a a a a a a a a a a a a a\n"
          ]
        }
      ]
    },
    {
      "cell_type": "markdown",
      "source": [
        "### n을 활용한 출력 개수 제어하기"
      ],
      "metadata": {
        "id": "_XyI8N3_8YDw"
      }
    },
    {
      "cell_type": "code",
      "source": [
        "import os\n",
        "import openai\n",
        "\n",
        "def init_api():\n",
        "    with open(\"chatgpt.env\") as env:\n",
        "        for line in env:\n",
        "            key, value = line.strip().split(\"=\")\n",
        "            os.environ[key] = value\n",
        "\n",
        "    openai.api_key = os.environ.get(\"API_KEY\")\n",
        "    openai.organization = os.environ.get(\"ORG_ID\")\n",
        "\n",
        "init_api()\n",
        "\n",
        "next = openai.Completion.create(\n",
        "    model=\"text-davinci-003\",\n",
        "    prompt=\"Once upon a time\",\n",
        "    max_tokens=5,\n",
        "    n=2\n",
        ")\n",
        "\n",
        "print(next)\n"
      ],
      "metadata": {
        "colab": {
          "base_uri": "https://localhost:8080/"
        },
        "id": "xQo77fID82hf",
        "outputId": "67baeade-ea7c-4da9-8d4f-453ac34e993d"
      },
      "execution_count": 24,
      "outputs": [
        {
          "output_type": "stream",
          "name": "stdout",
          "text": [
            "{\n",
            "  \"warning\": \"This model version is deprecated. Migrate before January 4, 2024 to avoid disruption of service. Learn more https://platform.openai.com/docs/deprecations\",\n",
            "  \"id\": \"cmpl-7lwSUx2inV7ElTuXU2eTWswJ6jz24\",\n",
            "  \"object\": \"text_completion\",\n",
            "  \"created\": 1691660486,\n",
            "  \"model\": \"text-davinci-003\",\n",
            "  \"choices\": [\n",
            "    {\n",
            "      \"text\": \", there was a princess\",\n",
            "      \"index\": 0,\n",
            "      \"logprobs\": null,\n",
            "      \"finish_reason\": \"length\"\n",
            "    },\n",
            "    {\n",
            "      \"text\": \"\\n\\nthere was a\",\n",
            "      \"index\": 1,\n",
            "      \"logprobs\": null,\n",
            "      \"finish_reason\": \"length\"\n",
            "    }\n",
            "  ],\n",
            "  \"usage\": {\n",
            "    \"prompt_tokens\": 4,\n",
            "    \"completion_tokens\": 10,\n",
            "    \"total_tokens\": 14\n",
            "  }\n",
            "}\n"
          ]
        }
      ]
    },
    {
      "cell_type": "markdown",
      "source": [
        "\n",
        "### best_of"
      ],
      "metadata": {
        "id": "KNX-Fysl85pw"
      }
    },
    {
      "cell_type": "code",
      "source": [
        "import os\n",
        "import openai\n",
        "\n",
        "def init_api():\n",
        "    with open(\"chatgpt.env\") as env:\n",
        "        for line in env:\n",
        "            key, value = line.strip().split(\"=\")\n",
        "            os.environ[key] = value\n",
        "\n",
        "    openai.api_key = os.environ.get(\"API_KEY\")\n",
        "    openai.organization = os.environ.get(\"ORG_ID\")\n",
        "\n",
        "init_api()\n",
        "\n",
        "next = openai.Completion.create(\n",
        "    model=\"text-davinci-003\",\n",
        "    prompt=\"Once upon a time\",\n",
        "    max_tokens=5,\n",
        "    n=1,\n",
        "    best_of=2,\n",
        ")\n",
        "\n",
        "print(next)\n"
      ],
      "metadata": {
        "colab": {
          "base_uri": "https://localhost:8080/"
        },
        "id": "Wr0rdoS-_UgG",
        "outputId": "18e8e1bf-47af-4823-f302-beead649e615"
      },
      "execution_count": 25,
      "outputs": [
        {
          "output_type": "stream",
          "name": "stdout",
          "text": [
            "{\n",
            "  \"warning\": \"This model version is deprecated. Migrate before January 4, 2024 to avoid disruption of service. Learn more https://platform.openai.com/docs/deprecations\",\n",
            "  \"id\": \"cmpl-7lwVArNkhS1VgMN5UzjTVABD2dKYN\",\n",
            "  \"object\": \"text_completion\",\n",
            "  \"created\": 1691660652,\n",
            "  \"model\": \"text-davinci-003\",\n",
            "  \"choices\": [\n",
            "    {\n",
            "      \"text\": \"\\n\\nThere was once\",\n",
            "      \"index\": 0,\n",
            "      \"logprobs\": null,\n",
            "      \"finish_reason\": \"length\"\n",
            "    }\n",
            "  ],\n",
            "  \"usage\": {\n",
            "    \"prompt_tokens\": 4,\n",
            "    \"completion_tokens\": 10,\n",
            "    \"total_tokens\": 14\n",
            "  }\n",
            "}\n"
          ]
        }
      ]
    },
    {
      "cell_type": "markdown",
      "source": [
        "### best_of의 예\n",
        " * 5개의 후보를 생성하고, 이중에 2개를 선택해서 반환"
      ],
      "metadata": {
        "id": "t02WJU3bMtb7"
      }
    },
    {
      "cell_type": "code",
      "source": [
        "import os\n",
        "import openai\n",
        "\n",
        "def init_api():\n",
        "    with open(\"chatgpt.env\") as env:\n",
        "        for line in env:\n",
        "            key, value = line.strip().split(\"=\")\n",
        "            os.environ[key] = value\n",
        "\n",
        "    openai.api_key = os.environ.get(\"API_KEY\")\n",
        "    openai.organization = os.environ.get(\"ORG_ID\")\n",
        "\n",
        "init_api()\n",
        "\n",
        "next = openai.Completion.create(\n",
        "    model=\"text-davinci-003\",\n",
        "    prompt=\"Once upon a time\",\n",
        "    max_tokens=5,\n",
        "    n=2,\n",
        "    best_of=5,\n",
        ")\n",
        "\n",
        "print(next)\n"
      ],
      "metadata": {
        "colab": {
          "base_uri": "https://localhost:8080/"
        },
        "id": "VLGwq7BYMtY5",
        "outputId": "53b44d8b-0dd7-44d1-c569-591550693c08"
      },
      "execution_count": 3,
      "outputs": [
        {
          "output_type": "stream",
          "name": "stdout",
          "text": [
            "{\n",
            "  \"warning\": \"This model version is deprecated. Migrate before January 4, 2024 to avoid disruption of service. Learn more https://platform.openai.com/docs/deprecations\",\n",
            "  \"id\": \"cmpl-7ly7Ostjb7u2dG1Y2ic1qyoD2edUC\",\n",
            "  \"object\": \"text_completion\",\n",
            "  \"created\": 1691666866,\n",
            "  \"model\": \"text-davinci-003\",\n",
            "  \"choices\": [\n",
            "    {\n",
            "      \"text\": \", there was a poor\",\n",
            "      \"index\": 0,\n",
            "      \"logprobs\": null,\n",
            "      \"finish_reason\": \"length\"\n",
            "    },\n",
            "    {\n",
            "      \"text\": \", there was a king\",\n",
            "      \"index\": 1,\n",
            "      \"logprobs\": null,\n",
            "      \"finish_reason\": \"length\"\n",
            "    }\n",
            "  ],\n",
            "  \"usage\": {\n",
            "    \"prompt_tokens\": 4,\n",
            "    \"completion_tokens\": 25,\n",
            "    \"total_tokens\": 29\n",
            "  }\n",
            "}\n"
          ]
        }
      ]
    },
    {
      "cell_type": "markdown",
      "source": [
        "### stop을 활용한 자동 완성 제어하기"
      ],
      "metadata": {
        "id": "6owQjtWpNa5g"
      }
    },
    {
      "cell_type": "code",
      "source": [
        "\n",
        "import os\n",
        "import openai\n",
        "\n",
        "def init_api():\n",
        "    with open(\"chatgpt.env\") as env:\n",
        "        for line in env:\n",
        "            key, value = line.strip().split(\"=\")\n",
        "            os.environ[key] = value\n",
        "\n",
        "    openai.api_key = os.environ.get(\"API_KEY\")\n",
        "    openai.organization = os.environ.get(\"ORG_ID\")\n",
        "\n",
        "init_api()\n",
        "\n",
        "next = openai.Completion.create(\n",
        "    model=\"text-davinci-003\",\n",
        "    prompt=\"Once upon a time\",\n",
        "    max_tokens=5,\n",
        "    stop=[\"\\n\",]\n",
        ")\n",
        "\n",
        "print(next)\n"
      ],
      "metadata": {
        "colab": {
          "base_uri": "https://localhost:8080/"
        },
        "id": "aW9Abuh4_U8g",
        "outputId": "a57197da-de2d-4e42-bf2e-621345a9b393"
      },
      "execution_count": 4,
      "outputs": [
        {
          "output_type": "stream",
          "name": "stdout",
          "text": [
            "{\n",
            "  \"warning\": \"This model version is deprecated. Migrate before January 4, 2024 to avoid disruption of service. Learn more https://platform.openai.com/docs/deprecations\",\n",
            "  \"id\": \"cmpl-7ly9VfaMQ0h8r22cU5sDJ0MJPe4Q0\",\n",
            "  \"object\": \"text_completion\",\n",
            "  \"created\": 1691666997,\n",
            "  \"model\": \"text-davinci-003\",\n",
            "  \"choices\": [\n",
            "    {\n",
            "      \"text\": \", there was a lonely\",\n",
            "      \"index\": 0,\n",
            "      \"logprobs\": null,\n",
            "      \"finish_reason\": \"length\"\n",
            "    }\n",
            "  ],\n",
            "  \"usage\": {\n",
            "    \"prompt_tokens\": 4,\n",
            "    \"completion_tokens\": 5,\n",
            "    \"total_tokens\": 9\n",
            "  }\n",
            "}\n"
          ]
        }
      ]
    },
    {
      "cell_type": "markdown",
      "source": [
        "### stop을 활용한 자동 완성 제어하기 - 네개의 불용어"
      ],
      "metadata": {
        "id": "BliwfiO__-S9"
      }
    },
    {
      "cell_type": "code",
      "source": [
        "import os\n",
        "import openai\n",
        "\n",
        "def init_api():\n",
        "    with open(\"chatgpt.env\") as env:\n",
        "        for line in env:\n",
        "            key, value = line.strip().split(\"=\")\n",
        "            os.environ[key] = value\n",
        "\n",
        "    openai.api_key = os.environ.get(\"API_KEY\")\n",
        "    openai.organization = os.environ.get(\"ORG_ID\")\n",
        "\n",
        "init_api()\n",
        "\n",
        "next = openai.Completion.create(\n",
        "    model=\"text-davinci-003\",\n",
        "    prompt=\"Once upon a time\",\n",
        "    max_tokens=5,\n",
        "    stop=[\"\\n\", \"Story\", \"End\", \"Once upon a time\"]\n",
        ")\n",
        "\n",
        "print(next)\n"
      ],
      "metadata": {
        "colab": {
          "base_uri": "https://localhost:8080/"
        },
        "id": "BxHyl-aVAFtc",
        "outputId": "8aca5e6a-3c79-47f9-a127-330ad14d392e"
      },
      "execution_count": 5,
      "outputs": [
        {
          "output_type": "stream",
          "name": "stdout",
          "text": [
            "{\n",
            "  \"warning\": \"This model version is deprecated. Migrate before January 4, 2024 to avoid disruption of service. Learn more https://platform.openai.com/docs/deprecations\",\n",
            "  \"id\": \"cmpl-7lyAcqKQQpkmVUYBq9aiPc2isn1iw\",\n",
            "  \"object\": \"text_completion\",\n",
            "  \"created\": 1691667066,\n",
            "  \"model\": \"text-davinci-003\",\n",
            "  \"choices\": [\n",
            "    {\n",
            "      \"text\": \" in a village\",\n",
            "      \"index\": 0,\n",
            "      \"logprobs\": null,\n",
            "      \"finish_reason\": \"stop\"\n",
            "    }\n",
            "  ],\n",
            "  \"usage\": {\n",
            "    \"prompt_tokens\": 4,\n",
            "    \"completion_tokens\": 3,\n",
            "    \"total_tokens\": 7\n",
            "  }\n",
            "}\n"
          ]
        }
      ]
    },
    {
      "cell_type": "markdown",
      "source": [
        "### 텍스트 완성 후, 접미사 사용하기"
      ],
      "metadata": {
        "id": "ZCvo8yTHAIHs"
      }
    },
    {
      "cell_type": "code",
      "source": [
        "import os\n",
        "import openai\n",
        "\n",
        "def init_api():\n",
        "    with open(\"chatgpt.env\") as env:\n",
        "        for line in env:\n",
        "            key, value = line.strip().split(\"=\")\n",
        "            os.environ[key] = value\n",
        "\n",
        "    openai.api_key = os.environ.get(\"API_KEY\")\n",
        "    openai.organization = os.environ.get(\"ORG_ID\")\n",
        "\n",
        "init_api()\n",
        "\n",
        "next = openai.Completion.create(\n",
        "    model=\"text-davinci-002\",\n",
        "    prompt= \"Write a JSON containing primary numbers between 0 and 9 \\n\\n{\\n\\t\\\"primes\\\": [\",\n",
        ")\n",
        "\n",
        "print(next)\n"
      ],
      "metadata": {
        "colab": {
          "base_uri": "https://localhost:8080/"
        },
        "id": "Z2ylh0p64Xfs",
        "outputId": "d2daaa93-9ea2-4c65-9001-0a37ae3a07e5"
      },
      "execution_count": 6,
      "outputs": [
        {
          "output_type": "stream",
          "name": "stdout",
          "text": [
            "{\n",
            "  \"id\": \"cmpl-7lyBzY2Cmqw7bUR1MEIWPfboUINXN\",\n",
            "  \"object\": \"text_completion\",\n",
            "  \"created\": 1691667151,\n",
            "  \"model\": \"text-davinci-002\",\n",
            "  \"choices\": [\n",
            "    {\n",
            "      \"text\": \"2, 3, 5, 7]\\n}\",\n",
            "      \"index\": 0,\n",
            "      \"logprobs\": null,\n",
            "      \"finish_reason\": \"stop\"\n",
            "    }\n",
            "  ],\n",
            "  \"usage\": {\n",
            "    \"prompt_tokens\": 21,\n",
            "    \"completion_tokens\": 10,\n",
            "    \"total_tokens\": 31\n",
            "  }\n",
            "}\n"
          ]
        }
      ]
    },
    {
      "cell_type": "markdown",
      "source": [
        "### suffix 추가"
      ],
      "metadata": {
        "id": "YRHKBf4o4g-u"
      }
    },
    {
      "cell_type": "code",
      "source": [
        "import os\n",
        "import openai\n",
        "\n",
        "def init_api():\n",
        "    with open(\"chatgpt.env\") as env:\n",
        "        for line in env:\n",
        "            key, value = line.strip().split(\"=\")\n",
        "            os.environ[key] = value\n",
        "\n",
        "    openai.api_key = os.environ.get(\"API_KEY\")\n",
        "    openai.organization = os.environ.get(\"ORG_ID\")\n",
        "\n",
        "init_api()\n",
        "\n",
        "next = openai.Completion.create(\n",
        "    model=\"text-davinci-002\",\n",
        "    prompt= \"Write a JSON containing primary numbers between 0 and 9 \\n\\n{\\n\\t\\\"primes\\\": [\",\n",
        "    suffix= \"]\\n}\"\n",
        ")\n",
        "\n",
        "print(next)"
      ],
      "metadata": {
        "colab": {
          "base_uri": "https://localhost:8080/"
        },
        "id": "2pHopVTu4vTz",
        "outputId": "3d242a0f-cba9-481a-f4fd-6e7b111c60f0"
      },
      "execution_count": 8,
      "outputs": [
        {
          "output_type": "stream",
          "name": "stdout",
          "text": [
            "{\n",
            "  \"id\": \"cmpl-7lyRfH0edTJrJnk1YIC6hMoMnkPll\",\n",
            "  \"object\": \"text_completion\",\n",
            "  \"created\": 1691668123,\n",
            "  \"model\": \"text-davinci-002\",\n",
            "  \"choices\": [\n",
            "    {\n",
            "      \"text\": \"2,3,5,7\",\n",
            "      \"index\": 0,\n",
            "      \"logprobs\": null,\n",
            "      \"finish_reason\": \"stop\"\n",
            "    }\n",
            "  ],\n",
            "  \"usage\": {\n",
            "    \"prompt_tokens\": 24,\n",
            "    \"completion_tokens\": 7,\n",
            "    \"total_tokens\": 31\n",
            "  }\n",
            "}\n"
          ]
        }
      ]
    },
    {
      "cell_type": "markdown",
      "source": [
        "### 실습 : 키워드 추출하기"
      ],
      "metadata": {
        "id": "4uKmwvBF4v0O"
      }
    },
    {
      "cell_type": "code",
      "source": [
        "import os\n",
        "import openai\n",
        "\n",
        "def init_api():\n",
        "    with open(\"chatgpt.env\") as env:\n",
        "        for line in env:\n",
        "            key, value = line.strip().split(\"=\")\n",
        "            os.environ[key] = value\n",
        "\n",
        "    openai.api_key = os.environ.get(\"API_KEY\")\n",
        "    openai.organization = os.environ.get(\"ORG_ID\")\n",
        "\n",
        "init_api()\n",
        "\n",
        "prompt = \"The first programming language to be invented was Plankalkül, which was de\\\n",
        "signed by Konrad Zuse in the 1940s, but not publicly known until 1972 (and not imple\\\n",
        "mented until 1998).   The first widely known and successful high-level programming l\\\n",
        "anguage was Fortran,   developed from 1954 to 1957 by a team of IBM researchers led \\\n",
        "by John Backus.   The success of FORTRAN led to the formation of a committee of scie\\\n",
        "ntists to develop a universal computer language;   the result of their effort was AL\\\n",
        "GOL 58.  Separately, John McCarthy of MIT developed Lisp,  the first language with o\\\n",
        "rigins in academia to be successful. With the success of these initial efforts, prog\\\n",
        "ramming languages became an active topic of research in the 1960s and beyond\\n\\nKeyw\\\n",
        "ords:\"\n",
        "\n",
        "tweet = openai.Completion.create(\n",
        "  model=\"text-davinci-002\",\n",
        "  prompt=prompt,\n",
        "  temperature=0.5,\n",
        "  max_tokens=300,\n",
        ")\n",
        "\n",
        "print(tweet)\n"
      ],
      "metadata": {
        "colab": {
          "base_uri": "https://localhost:8080/"
        },
        "id": "xU2wXqNS44b6",
        "outputId": "f3f1d196-053f-4ebc-a981-4abc7de1a83a"
      },
      "execution_count": 9,
      "outputs": [
        {
          "output_type": "stream",
          "name": "stdout",
          "text": [
            "{\n",
            "  \"id\": \"cmpl-7lyRzdiDKLbxLKKPS5BDsFUpJyZYe\",\n",
            "  \"object\": \"text_completion\",\n",
            "  \"created\": 1691668143,\n",
            "  \"model\": \"text-davinci-002\",\n",
            "  \"choices\": [\n",
            "    {\n",
            "      \"text\": \"\\n\\nFirst programming language: Plankalk\\u00fcl\\n\\nFirst successful high-level programming language: Fortran\\n\\nFirst successful academic programming language: Lisp\",\n",
            "      \"index\": 0,\n",
            "      \"logprobs\": null,\n",
            "      \"finish_reason\": \"stop\"\n",
            "    }\n",
            "  ],\n",
            "  \"usage\": {\n",
            "    \"prompt_tokens\": 160,\n",
            "    \"completion_tokens\": 32,\n",
            "    \"total_tokens\": 192\n",
            "  }\n",
            "}\n"
          ]
        }
      ]
    },
    {
      "cell_type": "code",
      "source": [
        "import os\n",
        "import openai\n",
        "\n",
        "def init_api():\n",
        "    with open(\"chatgpt.env\") as env:\n",
        "        for line in env:\n",
        "            key, value = line.strip().split(\"=\")\n",
        "            os.environ[key] = value\n",
        "\n",
        "    openai.api_key = os.environ.get(\"API_KEY\")\n",
        "    openai.organization = os.environ.get(\"ORG_ID\")\n",
        "\n",
        "init_api()\n",
        "\n",
        "prompt = \"The first programming language to be invented was Plankalkül, which was de\\\n",
        "signed by Konrad Zuse in the 1940s, but not publicly known until 1972 (and not imple\\\n",
        "mented until 1998).   The first widely known and successful high-level programming l\\\n",
        "anguage was Fortran,   developed from 1954 to 1957 by a team of IBM researchers led \\\n",
        "by John Backus.   The success of FORTRAN led to the formation of a committee of scie\\\n",
        "ntists to develop a universal computer language;   the result of their effort was AL\\\n",
        "GOL 58.  Separately, John McCarthy of MIT developed Lisp,  the first language with o\\\n",
        "rigins in academia to be successful. With the success of these initial efforts, prog\\\n",
        "ramming languages became an active topic of research in the 1960s and beyond\\n\\nKeyw\\\n",
        "ords:\"\n",
        "\n",
        "tweet = openai.Completion.create(\n",
        "  model=\"text-davinci-002\",\n",
        "  prompt=prompt,\n",
        "  temperature=0.5,\n",
        "  max_tokens=300,\n",
        ")\n",
        "\n",
        "print(tweet['choices'][0]['text'])\n"
      ],
      "metadata": {
        "colab": {
          "base_uri": "https://localhost:8080/"
        },
        "id": "FbHVrPKWT2cR",
        "outputId": "3a81b20b-a3ac-4970-a3b6-ff8ec668a205"
      },
      "execution_count": 14,
      "outputs": [
        {
          "output_type": "stream",
          "name": "stdout",
          "text": [
            "\n",
            "\n",
            "programming language, Plankalkül, Konrad Zuse, Fortran, John Backus, ALGOL, John McCarthy, Lisp\n"
          ]
        }
      ]
    },
    {
      "cell_type": "markdown",
      "source": [
        "### 실습: 키워드 추출하기(2)\n",
        "  * prompt에 Keywords의 아래 행에 '-' 기호 추가"
      ],
      "metadata": {
        "id": "oigv-E1Q5LG8"
      }
    },
    {
      "cell_type": "code",
      "source": [
        "import os\n",
        "import openai\n",
        "\n",
        "def init_api():\n",
        "    with open(\"chatgpt.env\") as env:\n",
        "        for line in env:\n",
        "            key, value = line.strip().split(\"=\")\n",
        "            os.environ[key] = value\n",
        "\n",
        "    openai.api_key = os.environ.get(\"API_KEY\")\n",
        "    openai.organization = os.environ.get(\"ORG_ID\")\n",
        "\n",
        "init_api()\n",
        "\n",
        "prompt = \"The first programming language to be invented was Plankalkül, which was de\\\n",
        "signed by Konrad Zuse in the 1940s, but not publicly known until 1972 (and not imple\\\n",
        "mented until 1998).   The first widely known and successful high-level programming l\\\n",
        "anguage was Fortran,   developed from 1954 to 1957 by a team of IBM researchers led \\\n",
        "by John Backus.   The success of FORTRAN led to the formation of a committee of scie\\\n",
        "ntists to develop a universal computer language;   the result of their effort was AL\\\n",
        "GOL 58.  Separately, John McCarthy of MIT developed Lisp,  the first language with o\\\n",
        "rigins in academia to be successful. With the success of these initial efforts, prog\\\n",
        "ramming languages became an active topic of research in the 1960s and beyond\\n\\nKeyw\\\n",
        "ords:\\n-\"\n",
        "\n",
        "tweet = openai.Completion.create(\n",
        "  model=\"text-davinci-002\",\n",
        "  prompt=prompt,\n",
        "  temperature=0.5,\n",
        "  max_tokens=300,\n",
        ")\n",
        "\n",
        "print(tweet)"
      ],
      "metadata": {
        "colab": {
          "base_uri": "https://localhost:8080/"
        },
        "id": "Co8Wtl8w6CPP",
        "outputId": "36916e17-a9df-47a5-d48b-2e5aabd8e500"
      },
      "execution_count": 15,
      "outputs": [
        {
          "output_type": "stream",
          "name": "stdout",
          "text": [
            "{\n",
            "  \"id\": \"cmpl-7lyf3DrVLWCaWFSjxevdy5TkjLTYA\",\n",
            "  \"object\": \"text_completion\",\n",
            "  \"created\": 1691668953,\n",
            "  \"model\": \"text-davinci-002\",\n",
            "  \"choices\": [\n",
            "    {\n",
            "      \"text\": \"Programming Language\\n-Plankalk\\u00fcl\\n-Konrad Zuse\\n-Fortran\\n-John Backus\\n-ALGOL 58\\n-John McCarthy\\n-Lisp\",\n",
            "      \"index\": 0,\n",
            "      \"logprobs\": null,\n",
            "      \"finish_reason\": \"stop\"\n",
            "    }\n",
            "  ],\n",
            "  \"usage\": {\n",
            "    \"prompt_tokens\": 162,\n",
            "    \"completion_tokens\": 40,\n",
            "    \"total_tokens\": 202\n",
            "  }\n",
            "}\n"
          ]
        }
      ]
    },
    {
      "cell_type": "code",
      "source": [
        "import os\n",
        "import openai\n",
        "\n",
        "def init_api():\n",
        "    with open(\"chatgpt.env\") as env:\n",
        "        for line in env:\n",
        "            key, value = line.strip().split(\"=\")\n",
        "            os.environ[key] = value\n",
        "\n",
        "    openai.api_key = os.environ.get(\"API_KEY\")\n",
        "    openai.organization = os.environ.get(\"ORG_ID\")\n",
        "\n",
        "init_api()\n",
        "\n",
        "prompt = \"The first programming language to be invented was Plankalkül, which was de\\\n",
        "signed by Konrad Zuse in the 1940s, but not publicly known until 1972 (and not imple\\\n",
        "mented until 1998).   The first widely known and successful high-level programming l\\\n",
        "anguage was Fortran,   developed from 1954 to 1957 by a team of IBM researchers led \\\n",
        "by John Backus.   The success of FORTRAN led to the formation of a committee of scie\\\n",
        "ntists to develop a universal computer language;   the result of their effort was AL\\\n",
        "GOL 58.  Separately, John McCarthy of MIT developed Lisp,  the first language with o\\\n",
        "rigins in academia to be successful. With the success of these initial efforts, prog\\\n",
        "ramming languages became an active topic of research in the 1960s and beyond\\n\\nKeyw\\\n",
        "ords:\\n-\"\n",
        "\n",
        "tweet = openai.Completion.create(\n",
        "  model=\"text-davinci-002\",\n",
        "  prompt=prompt,\n",
        "  temperature=0.5,\n",
        "  max_tokens=300,\n",
        ")\n",
        "\n",
        "print(tweet['choices'][0]['text'])"
      ],
      "metadata": {
        "colab": {
          "base_uri": "https://localhost:8080/"
        },
        "id": "uQbc-2YsU9P9",
        "outputId": "67489b39-e44c-4531-f733-b47ef65b4231"
      },
      "execution_count": 16,
      "outputs": [
        {
          "output_type": "stream",
          "name": "stdout",
          "text": [
            " Plankalkül\n",
            "- Konrad Zuse\n",
            "- 1940s\n",
            "- 1972\n",
            "- 1998\n",
            "- Fortran\n",
            "- IBM\n",
            "- John Backus\n",
            "- 1954\n",
            "- 1957\n",
            "- ALGOL 58\n",
            "- John McCarthy\n",
            "- MIT\n",
            "- Lisp\n",
            "- 1960s\n"
          ]
        }
      ]
    },
    {
      "cell_type": "markdown",
      "source": [
        "### 실습: 트윗 생성하기\n",
        "  * 이전 예제를 계속 사용하지만 keywords 대신 Tweet을 추가."
      ],
      "metadata": {
        "id": "jeelKi2-6Gsf"
      }
    },
    {
      "cell_type": "code",
      "source": [
        "import os\n",
        "import openai\n",
        "\n",
        "def init_api():\n",
        "    with open(\"chatgpt.env\") as env:\n",
        "        for line in env:\n",
        "            key, value = line.strip().split(\"=\")\n",
        "            os.environ[key] = value\n",
        "        openai.api_key = os.environ.get(\"API_KEY\")\n",
        "        openai.organization = os.environ.get(\"ORG_ID\")\n",
        "\n",
        "init_api()\n",
        "\n",
        "prompt = \"The first programming language to be invented was Plankalkül, which was designed by Konrad Zuse in the 1940s, but not publicly known until 1972 (and not implemented until 1998). The first widely known and successful high-level programming language was Fortran, developed from 1954 to 1957 by a team of IBM researchers led by John Backus. The success of FORTRAN led to the formation of a committee of scientists to develop a universal computer language; the result of their effort was ALGOL 58. Separately, John McCarthy of MIT developed Lisp, the first language with origins in academia to be successful. With the success of these initial efforts, programming languages became an active topic of research in the 1960s and beyond \\n\\n Tweet:\"\n",
        "\n",
        "tweet = openai.Completion.create(\n",
        "    model=\"text-davinci-002\",\n",
        "    prompt=prompt,\n",
        "    temperature=0.5,\n",
        "    max_tokens=300,\n",
        ")\n",
        "\n",
        "print(tweet)\n"
      ],
      "metadata": {
        "colab": {
          "base_uri": "https://localhost:8080/"
        },
        "id": "bibidxzj6rMq",
        "outputId": "47bc26c4-fb0e-4972-f874-8b6f9421de73"
      },
      "execution_count": 18,
      "outputs": [
        {
          "output_type": "stream",
          "name": "stdout",
          "text": [
            "{\n",
            "  \"id\": \"cmpl-7lyhwZLrN4R0P0tGoQzpk7VOfMTmW\",\n",
            "  \"object\": \"text_completion\",\n",
            "  \"created\": 1691669132,\n",
            "  \"model\": \"text-davinci-002\",\n",
            "  \"choices\": [\n",
            "    {\n",
            "      \"text\": \"\\n\\nThe first programming language was Plankalk\\u00fcl, invented by Konrad Zuse in the 1940s. The first widely known and successful high-level programming language was Fortran, developed by John Backus and his team at IBM in the 1950s.\",\n",
            "      \"index\": 0,\n",
            "      \"logprobs\": null,\n",
            "      \"finish_reason\": \"stop\"\n",
            "    }\n",
            "  ],\n",
            "  \"usage\": {\n",
            "    \"prompt_tokens\": 153,\n",
            "    \"completion_tokens\": 54,\n",
            "    \"total_tokens\": 207\n",
            "  }\n",
            "}\n"
          ]
        }
      ]
    },
    {
      "cell_type": "code",
      "source": [
        "import os\n",
        "import openai\n",
        "\n",
        "def init_api():\n",
        "    with open(\"chatgpt.env\") as env:\n",
        "        for line in env:\n",
        "            key, value = line.strip().split(\"=\")\n",
        "            os.environ[key] = value\n",
        "        openai.api_key = os.environ.get(\"API_KEY\")\n",
        "        openai.organization = os.environ.get(\"ORG_ID\")\n",
        "\n",
        "init_api()\n",
        "\n",
        "prompt = \"The first programming language to be invented was Plankalkül, which was designed by Konrad Zuse in the 1940s, but not publicly known until 1972 (and not implemented until 1998). The first widely known and successful high-level programming language was Fortran, developed from 1954 to 1957 by a team of IBM researchers led by John Backus. The success of FORTRAN led to the formation of a committee of scientists to develop a universal computer language; the result of their effort was ALGOL 58. Separately, John McCarthy of MIT developed Lisp, the first language with origins in academia to be successful. With the success of these initial efforts, programming languages became an active topic of research in the 1960s and beyond \\n\\n Tweet:\"\n",
        "\n",
        "tweet = openai.Completion.create(\n",
        "    model=\"text-davinci-002\",\n",
        "    prompt=prompt,\n",
        "    temperature=0.5,\n",
        "    max_tokens=300,\n",
        ")\n",
        "\n",
        "print(tweet['choices'][0]['text'])\n"
      ],
      "metadata": {
        "colab": {
          "base_uri": "https://localhost:8080/"
        },
        "id": "sP0ROWXsV-BA",
        "outputId": "5d783382-7e61-45a5-90f7-7b176d6769dc"
      },
      "execution_count": 19,
      "outputs": [
        {
          "output_type": "stream",
          "name": "stdout",
          "text": [
            "\n",
            "\n",
            "The first programming language was Plankalkül, invented by Konrad Zuse in the 1940s. The first widely known and successful high-level programming language was Fortran, developed by John Backus and a team of IBM researchers in the 1950s.\n"
          ]
        }
      ]
    },
    {
      "cell_type": "markdown",
      "source": [
        "*  실행 결과 - 모델에 따라, 그리고 실행에 따라 결과가 약간씩 달라질 수 있음.\n",
        "```\n",
        "\n",
        "\n",
        "The first programming language was Plankalkül, invented by Konrad Zuse in the 1940s.\n",
        "The first widely known and successful high-level programming language was Fortran, developed by IBM in the 1950s.\n",
        "Lisp, developed by John McCarthy of MIT, was the first language with origins in academia to be successful.\n",
        "```"
      ],
      "metadata": {
        "id": "U84o5WYN6w6_"
      }
    },
    {
      "cell_type": "markdown",
      "source": [
        "### 실습: 트윗 생성하기 - 트윗 해시 태그\n",
        "  * 이전 예제를 계속 사용하지만 Tweet with hashtags:을 추가."
      ],
      "metadata": {
        "id": "fkGqn7Gl7XC8"
      }
    },
    {
      "cell_type": "code",
      "source": [
        "import os\n",
        "import openai\n",
        "\n",
        "def init_api():\n",
        "    with open(\"chatgpt.env\") as env:\n",
        "        for line in env:\n",
        "            key, value = line.strip().split(\"=\")\n",
        "            os.environ[key] = value\n",
        "        openai.api_key = os.environ.get(\"API_KEY\")\n",
        "        openai.organization = os.environ.get(\"ORG_ID\")\n",
        "\n",
        "init_api()\n",
        "\n",
        "prompt = \"The first programming language to be invented was Plankalkül, which was designed by Konrad Zuse in the 1940s, but not publicly known until 1972 (and not implemented until 1998). The first widely known and successful high-level programming language was Fortran, developed from 1954 to 1957 by a team of IBM researchers led by John Backus. The success of FORTRAN led to the formation of a committee of scientists to develop a universal computer language; the result of their effort was ALGOL 58. Separately, John McCarthy of MIT developed Lisp, the first language with origins in academia to be successful. With the success of these initial efforts, programming languages became an active topic of research in the 1960s and beyond \\n\\nTweet with hashtags:\"\n",
        "\n",
        "tweet = openai.Completion.create(\n",
        "    model=\"text-davinci-002\",\n",
        "    prompt=prompt,\n",
        "    temperature=0.5,\n",
        "    max_tokens=300,\n",
        ")\n",
        "\n",
        "print(tweet)\n"
      ],
      "metadata": {
        "colab": {
          "base_uri": "https://localhost:8080/"
        },
        "id": "Ac2pdeEb7wJ8",
        "outputId": "f79c3a66-1588-4335-f66b-2d97acb75d9c"
      },
      "execution_count": 20,
      "outputs": [
        {
          "output_type": "stream",
          "name": "stdout",
          "text": [
            "{\n",
            "  \"id\": \"cmpl-7lykvBHm88MRkox4kr3VWcVtzXZEB\",\n",
            "  \"object\": \"text_completion\",\n",
            "  \"created\": 1691669317,\n",
            "  \"model\": \"text-davinci-002\",\n",
            "  \"choices\": [\n",
            "    {\n",
            "      \"text\": \"\\n\\n#KonradZuse #Plankalk\\u00fcl #Fortran #JohnBackus #ALGOL58 #Lisp #MIT #research\",\n",
            "      \"index\": 0,\n",
            "      \"logprobs\": null,\n",
            "      \"finish_reason\": \"stop\"\n",
            "    }\n",
            "  ],\n",
            "  \"usage\": {\n",
            "    \"prompt_tokens\": 156,\n",
            "    \"completion_tokens\": 33,\n",
            "    \"total_tokens\": 189\n",
            "  }\n",
            "}\n"
          ]
        }
      ]
    },
    {
      "cell_type": "markdown",
      "source": [
        "* 실행 결과 - 모델에 따라, 그리고 실행에 따라 결과가 약간씩 달라질 수 있음.\n",
        "\n",
        "```\n",
        "#plankalkül #fortran #algol58 #lisp #programminglanguages\n",
        "\n",
        "```\n"
      ],
      "metadata": {
        "id": "5PDmnnfp7xsM"
      }
    },
    {
      "cell_type": "markdown",
      "source": [
        "### 실습 : 랩 가사 생성하기"
      ],
      "metadata": {
        "id": "44exHT7a8ov-"
      }
    },
    {
      "cell_type": "code",
      "source": [
        "import os\n",
        "import openai\n",
        "\n",
        "def init_api():\n",
        "    with open(\"chatgpt.env\") as env:\n",
        "        for line in env:\n",
        "            key, value = line.strip().split(\"=\")\n",
        "            os.environ[key] = value\n",
        "\n",
        "    openai.api_key = os.environ.get(\"API_KEY\")\n",
        "    openai.organization = os.environ.get(\"ORG_ID\")\n",
        "\n",
        "init_api()\n",
        "\n",
        "my_song = openai.Completion.create(\n",
        "    model=\"text-davinci-002\",\n",
        "    prompt=\"Write a rap song:\\n\\n\",\n",
        "    max_tokens=200,\n",
        "    temperature=0.5,\n",
        ")\n",
        "\n",
        "print(my_song.choices[0][\"text\"].strip())\n"
      ],
      "metadata": {
        "colab": {
          "base_uri": "https://localhost:8080/"
        },
        "id": "Y8ohPPKb8sFL",
        "outputId": "65d7b169-0f56-44d1-b4b9-d28367ea9492"
      },
      "execution_count": 22,
      "outputs": [
        {
          "output_type": "stream",
          "name": "stdout",
          "text": [
            "I'm the king of the rap game\n",
            "\n",
            "No one can touch me\n",
            "\n",
            "I'm untouchable, unbreakable\n",
            "\n",
            "I'm the best there is\n",
            "\n",
            "No one can beat me\n",
            "\n",
            "I'm the king of the rap game\n",
            "\n",
            "I'm the best MC\n",
            "\n",
            "I'm the best rapper\n",
            "\n",
            "No one can touch me\n",
            "\n",
            "I'm untouchable, unbreakable\n",
            "\n",
            "I'm the best there is\n",
            "\n",
            "No one can beat me\n",
            "\n",
            "I'm the king of the rap game\n"
          ]
        }
      ]
    },
    {
      "cell_type": "markdown",
      "source": [
        "### 실습 : Todo 리스트 만들기"
      ],
      "metadata": {
        "id": "OIXKt_MD8yNB"
      }
    },
    {
      "cell_type": "code",
      "source": [
        "import os\n",
        "import openai\n",
        "\n",
        "def init_api():\n",
        "    with open(\"chatgpt.env\") as env:\n",
        "        for line in env:\n",
        "            key, value = line.strip().split(\"=\")\n",
        "            os.environ[key] = value\n",
        "\n",
        "    openai.api_key = os.environ.get(\"API_KEY\")\n",
        "    openai.organization = os.environ.get(\"ORG_ID\")\n",
        "\n",
        "init_api()\n",
        "\n",
        "next = openai.Completion.create(\n",
        "    model=\"text-davinci-002\",\n",
        "    prompt=\"Todo list to create a company in US\\n\\n1.\",\n",
        "    temperature=0.3,\n",
        "    max_tokens=64,\n",
        "    top_p=0.1,\n",
        "    frequency_penalty=0,\n",
        "    presence_penalty=0.5,\n",
        "    stop=[\"6.\"],\n",
        ")\n",
        "\n",
        "print(next.choices[0][\"text\"].strip())\n"
      ],
      "metadata": {
        "colab": {
          "base_uri": "https://localhost:8080/"
        },
        "id": "7Bel_GQn_AUS",
        "outputId": "886fc33b-6a8c-49b7-fc0b-d44a588e47d2"
      },
      "execution_count": 27,
      "outputs": [
        {
          "output_type": "stream",
          "name": "stdout",
          "text": [
            "1. Choose a business structure.\n",
            "\n",
            "2. Register your business with the state.\n",
            "\n",
            "3. Obtain a federal employer identification number (EIN).\n",
            "\n",
            "4. Open a business bank account.\n",
            "\n",
            "5. Establish business credit.\n"
          ]
        }
      ]
    },
    {
      "cell_type": "markdown",
      "source": [
        "### 실습 결과\n",
        "```\n",
        "1. Choose a business structure.\n",
        "\n",
        "2. Register your business with the state.\n",
        "\n",
        "3. Obtain a federal tax ID number.\n",
        "\n",
        "4. Open a business bank account.\n",
        "\n",
        "5. Establish business credit.\n",
        "```"
      ],
      "metadata": {
        "id": "MksKMiwA_Ff7"
      }
    }
  ]
}