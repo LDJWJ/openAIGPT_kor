{
  "nbformat": 4,
  "nbformat_minor": 0,
  "metadata": {
    "colab": {
      "provenance": []
    },
    "kernelspec": {
      "name": "python3",
      "display_name": "Python 3"
    },
    "language_info": {
      "name": "python"
    }
  },
  "cells": [
    {
      "cell_type": "markdown",
      "source": [
        "### 텍스트 조작 예제 : 고급편"
      ],
      "metadata": {
        "id": "4Uz3ThZbaDv5"
      }
    },
    {
      "cell_type": "markdown",
      "source": [
        "### 학습 내용\n",
        "* Completion과 Edit 메서드 연결\n",
        "* 회사이름 “Apple” vs 과일이름 \"Apple\"(문맥 스터핑)\n",
        "* 사용자 정의 구조를 기반으로 암호 화폐 정보 얻기(문맥 스터핑)\n",
        "* 리눅스 명령을 사용하는 챗봇 어시스턴트 만들기"
      ],
      "metadata": {
        "id": "ekGyuQ6KaOM6"
      }
    },
    {
      "cell_type": "markdown",
      "source": [
        "### 사전 준비\n",
        " * 구글 코랩 환경은 일정 시간이후에 초기화가 되기 때문에 두가지 작업을 매번 수행해야 함.\n",
        "   * chatgpt.env 파일 생성이 필요.\n",
        "     * 준비된 chatgpt.env를 내용을 변경하여 업로드 하거나 또는 API_KEY와 ORG_ID를 확인하여 생성한다.\n",
        "   * pip install openai 설치"
      ],
      "metadata": {
        "id": "Chj2sY8Baj6t"
      }
    },
    {
      "cell_type": "code",
      "source": [
        "!pip install openai"
      ],
      "metadata": {
        "colab": {
          "base_uri": "https://localhost:8080/"
        },
        "id": "dzgXKbo3amkT",
        "outputId": "daa556b3-c1e9-4ccc-852e-53366dbd0d79"
      },
      "execution_count": 1,
      "outputs": [
        {
          "output_type": "stream",
          "name": "stdout",
          "text": [
            "Collecting openai\n",
            "  Downloading openai-0.27.10-py3-none-any.whl (76 kB)\n",
            "\u001b[?25l     \u001b[90m━━━━━━━━━━━━━━━━━━━━━━━━━━━━━━━━━━━━━━━━\u001b[0m \u001b[32m0.0/76.5 kB\u001b[0m \u001b[31m?\u001b[0m eta \u001b[36m-:--:--\u001b[0m\r\u001b[2K     \u001b[91m━━━━━━━━━━━━━━━━━━━━━━━━━━━━━━━━━━━━━\u001b[0m\u001b[90m╺\u001b[0m\u001b[90m━━\u001b[0m \u001b[32m71.7/76.5 kB\u001b[0m \u001b[31m2.1 MB/s\u001b[0m eta \u001b[36m0:00:01\u001b[0m\r\u001b[2K     \u001b[90m━━━━━━━━━━━━━━━━━━━━━━━━━━━━━━━━━━━━━━━━\u001b[0m \u001b[32m76.5/76.5 kB\u001b[0m \u001b[31m1.7 MB/s\u001b[0m eta \u001b[36m0:00:00\u001b[0m\n",
            "\u001b[?25hRequirement already satisfied: requests>=2.20 in /usr/local/lib/python3.10/dist-packages (from openai) (2.31.0)\n",
            "Requirement already satisfied: tqdm in /usr/local/lib/python3.10/dist-packages (from openai) (4.66.1)\n",
            "Requirement already satisfied: aiohttp in /usr/local/lib/python3.10/dist-packages (from openai) (3.8.5)\n",
            "Requirement already satisfied: charset-normalizer<4,>=2 in /usr/local/lib/python3.10/dist-packages (from requests>=2.20->openai) (3.2.0)\n",
            "Requirement already satisfied: idna<4,>=2.5 in /usr/local/lib/python3.10/dist-packages (from requests>=2.20->openai) (3.4)\n",
            "Requirement already satisfied: urllib3<3,>=1.21.1 in /usr/local/lib/python3.10/dist-packages (from requests>=2.20->openai) (2.0.4)\n",
            "Requirement already satisfied: certifi>=2017.4.17 in /usr/local/lib/python3.10/dist-packages (from requests>=2.20->openai) (2023.7.22)\n",
            "Requirement already satisfied: attrs>=17.3.0 in /usr/local/lib/python3.10/dist-packages (from aiohttp->openai) (23.1.0)\n",
            "Requirement already satisfied: multidict<7.0,>=4.5 in /usr/local/lib/python3.10/dist-packages (from aiohttp->openai) (6.0.4)\n",
            "Requirement already satisfied: async-timeout<5.0,>=4.0.0a3 in /usr/local/lib/python3.10/dist-packages (from aiohttp->openai) (4.0.3)\n",
            "Requirement already satisfied: yarl<2.0,>=1.0 in /usr/local/lib/python3.10/dist-packages (from aiohttp->openai) (1.9.2)\n",
            "Requirement already satisfied: frozenlist>=1.1.1 in /usr/local/lib/python3.10/dist-packages (from aiohttp->openai) (1.4.0)\n",
            "Requirement already satisfied: aiosignal>=1.1.2 in /usr/local/lib/python3.10/dist-packages (from aiohttp->openai) (1.3.1)\n",
            "Installing collected packages: openai\n",
            "Successfully installed openai-0.27.10\n"
          ]
        }
      ]
    },
    {
      "cell_type": "markdown",
      "source": [
        "### Completion과 Edit 메서드 연결"
      ],
      "metadata": {
        "id": "UMdubzWInbm2"
      }
    },
    {
      "cell_type": "code",
      "source": [
        "import os\n",
        "import openai\n",
        "\n",
        "def init_api():\n",
        "    with open(\"chatgpt.env\") as env:\n",
        "        for line in env:\n",
        "            key, value = line.strip().split(\"=\")\n",
        "            os.environ[key] = value\n",
        "\n",
        "    openai.api_key = os.environ.get(\"API_KEY\")\n",
        "    openai.organization = os.environ.get(\"ORG_ID\")\n",
        "\n",
        "init_api()\n",
        "\n",
        "prompt = \"The first programming language to be invented was Plankalkül, which was de\\\n",
        "signed by Konrad Zuse in the 1940s, but not publicly known until 1972 (and not imple\\\n",
        "mented until 1998).   The first widely known and successful high-level programming l\\\n",
        "anguage was Fortran,   developed from 1954 to 1957 by a team of IBM researchers led \\\n",
        "by John Backus.   The success of FORTRAN led to the formation of a committee of scie\\\n",
        "ntists to develop a universal computer language;   the result of their effort was AL\\\n",
        "GOL 58.  Separately, John McCarthy of MIT developed Lisp,  the first language with o\\\n",
        "rigins in academia to be successful. With the success of these initial efforts, prog\\\n",
        "ramming languages became an active topic of research in the 1960s and beyond\\n\\nTwee\\\n",
        "t with hashtags:\"\n",
        "\n",
        "# 01 트웟 생성\n",
        "english_tweet = openai.Completion.create(\n",
        "  model=\"text-davinci-002\",\n",
        "  prompt=prompt,\n",
        "  temperature=0.5,\n",
        "  max_tokens=20\n",
        ")\n",
        "\n",
        "english_tweet_text = english_tweet[\"choices\"][0][\"text\"].strip()\n",
        "print(\"English Tweet:\")\n",
        "print(english_tweet_text)\n",
        "\n",
        "# 02 생성된 내용 번역 요청\n",
        "spanish_tweet = openai.Edit.create(\n",
        "  model=\"text-davinci-edit-001\",\n",
        "  input=english_tweet_text,\n",
        "  instruction=\"Translate to Spanish\",\n",
        "  temperature=0.5\n",
        ")\n",
        "\n",
        "spanish_tweet_text = spanish_tweet[\"choices\"][0][\"text\"].strip()\n",
        "print(\"Spanish Tweet:\")\n",
        "print(spanish_tweet_text)\n"
      ],
      "metadata": {
        "colab": {
          "base_uri": "https://localhost:8080/"
        },
        "id": "qgal6oe3apZj",
        "outputId": "a38ff699-f104-4d14-b7b3-e109e097008b"
      },
      "execution_count": 3,
      "outputs": [
        {
          "output_type": "stream",
          "name": "stdout",
          "text": [
            "English Tweet:\n",
            "The #first #programming #language to be invented was #Plankalkül\n",
            "Spanish Tweet:\n",
            "El #primer #lenguaje de #programación en ser inventado fue el #Plankalkül\n"
          ]
        }
      ]
    },
    {
      "cell_type": "markdown",
      "source": [
        "### 회사이름 “Apple” vs 과일이름 \"Apple\" (문맥 스터핑)"
      ],
      "metadata": {
        "id": "4Nd1et2QeUcd"
      }
    },
    {
      "cell_type": "markdown",
      "source": [
        "#### 단어 'light'의 품사를 결정하기"
      ],
      "metadata": {
        "id": "Yo0CaQbnoHyV"
      }
    },
    {
      "cell_type": "code",
      "source": [
        "prompt = \"Determine the part of speech of the word 'light'.\\n\\n\"\n",
        "\n",
        "result = openai.Completion.create(\n",
        "    model=\"text-davinci-002\",\n",
        "    prompt=prompt,\n",
        "    max_tokens=20,\n",
        "    temperature=1\n",
        ")\n",
        "\n",
        "print(result.choices[0][\"text\"].strip())\n"
      ],
      "metadata": {
        "colab": {
          "base_uri": "https://localhost:8080/"
        },
        "id": "MDlvr5Vzb9uj",
        "outputId": "e4e9f73e-b196-478d-98e3-e7c1bf84f916"
      },
      "execution_count": 4,
      "outputs": [
        {
          "output_type": "stream",
          "name": "stdout",
          "text": [
            "The word 'light' is a noun.\n"
          ]
        }
      ]
    },
    {
      "cell_type": "markdown",
      "source": [
        "#### 힌트(문장)을 주고, light 품사 물어보기"
      ],
      "metadata": {
        "id": "kI6Io0JKeOoU"
      }
    },
    {
      "cell_type": "code",
      "source": [
        "prompt_a = \"The light is red. Determine the part of speech of the word 'light'.\\n\\n\"\n",
        "prompt_b = \"This desk is very light. Determine the part of speech of the word 'light'.\\n\\n\"\n",
        "prompt_c = \"You light up my life. Determine the part of speech of the word 'light'.\\\\n\\n\"\n",
        "\n",
        "for prompt in [prompt_a, prompt_b, prompt_c]:\n",
        "  result = openai.Completion.create(\n",
        "      model=\"text-davinci-002\",\n",
        "      prompt=prompt,\n",
        "      max_tokens=20,\n",
        "      temperature=0\n",
        "  )\n",
        "\n",
        "  print(result.choices[0][\"text\"].strip())\n"
      ],
      "metadata": {
        "colab": {
          "base_uri": "https://localhost:8080/"
        },
        "id": "qyr7GnX0f2fs",
        "outputId": "4fd1da27-b236-48bf-c3d4-d8336438b663"
      },
      "execution_count": 5,
      "outputs": [
        {
          "output_type": "stream",
          "name": "stdout",
          "text": [
            "The word 'light' is a noun.\n",
            "adjective\n",
            "verb\n"
          ]
        }
      ]
    },
    {
      "cell_type": "markdown",
      "source": [
        "#### 하나의 의미는 회사, 하나의 의미는 과일"
      ],
      "metadata": {
        "id": "dmg4rwMef6lA"
      }
    },
    {
      "cell_type": "code",
      "source": [
        "prompt1 = \"Huawei:\\ncompany\\n\\nGoogle:\\ncompany\\n\\nMicrosoft:\\ncompany\\n\\nApple:\\n\"\n",
        "prompt2 = \"Huawei:\\ncompany\\n\\nGoogle:\\ncompany\\n\\nMicrosoft:\\ncompany\\n\\nApricot:\\nFruit\\n\\nApple:\\n\"\n",
        "\n",
        "result = openai.Completion.create(\n",
        "    model=\"text-davinci-002\",\n",
        "    prompt=prompt1,\n",
        "    max_tokens=20,\n",
        "    temperature=0,\n",
        "    stop=[\"\\n\", \" \"]\n",
        ")\n",
        "\n",
        "print(result.choices[0][\"text\"].strip())\n"
      ],
      "metadata": {
        "colab": {
          "base_uri": "https://localhost:8080/"
        },
        "id": "xDGnOz2BguaE",
        "outputId": "637d79c6-b950-4410-a2b4-6bd0dd5a9e7c"
      },
      "execution_count": 6,
      "outputs": [
        {
          "output_type": "stream",
          "name": "stdout",
          "text": [
            "company\n"
          ]
        }
      ]
    },
    {
      "cell_type": "code",
      "source": [
        "prompt1 = \"Huawei:\\ncompany\\n\\nGoogle:\\ncompany\\n\\nMicrosoft:\\ncompany\\n\\nApple:\\n\"\n",
        "prompt2 = \"Huawei:\\ncompany\\n\\nGoogle:\\ncompany\\n\\nMicrosoft:\\ncompany\\n\\nApricot:\\nFruit\\n\\nApple:\\n\"\n",
        "\n",
        "result = openai.Completion.create(\n",
        "    model=\"text-davinci-002\",\n",
        "    prompt=prompt2,\n",
        "    max_tokens=20,\n",
        "    temperature=0,\n",
        "    stop=[\"\\n\", \" \"]\n",
        ")\n",
        "\n",
        "print(result.choices[0][\"text\"].strip())\n"
      ],
      "metadata": {
        "colab": {
          "base_uri": "https://localhost:8080/"
        },
        "id": "t3z-5IOrguxD",
        "outputId": "c301df0c-f947-4d8f-c69f-b529c084e8ee"
      },
      "execution_count": 7,
      "outputs": [
        {
          "output_type": "stream",
          "name": "stdout",
          "text": [
            "Fruit\n"
          ]
        }
      ]
    },
    {
      "cell_type": "markdown",
      "source": [
        "### 사용자 정의 구조를 기반으로 암호 화폐 정보 가져오기(문맥 스터핑)"
      ],
      "metadata": {
        "id": "yx3UKI6BhZQw"
      }
    },
    {
      "cell_type": "code",
      "source": [
        "import os\n",
        "import openai\n",
        "\n",
        "def init_api():\n",
        "    with open(\"chatgpt.env\") as env:\n",
        "        for line in env:\n",
        "            key, value = line.strip().split(\"=\")\n",
        "            os.environ[key] = value\n",
        "\n",
        "    openai.api_key = os.environ.get(\"API_KEY\")\n",
        "    openai.organization = os.environ.get(\"ORG_ID\")\n",
        "\n",
        "init_api()\n",
        "\n",
        "prompt = \"\"\"Input: Bitcoin\n",
        "Output:\n",
        "BTC was created in 2008, you can learn more about it here: https://bitcoin.org/en/ a\\\n",
        "nd get the latest price here: https://www.coingecko.com/en/coins/bitcoin.\n",
        "It's all-time high is $64,895.00 and it's all-time low is $67.81.\n",
        "\n",
        "Input: Ethereum\n",
        "Output:\n",
        "ETH was created in 2015, you can learn more about it here: https://ethereum.org/en/ \\\n",
        "and get the latest price here: https://www.coingecko.com/en/coins/ethereum\n",
        "It's all-time high is $4,379.00 and it's all-time low is $0.43.\n",
        "\n",
        "Input: Dogecoin\n",
        "Output:\n",
        "DOGE was created in 2013, you can learn more about it here: https://dogecoin.com/ an\\\n",
        "d get the latest price here: https://www.coingecko.com/en/coins/dogecoin\n",
        "It's all-time high is $0.73 and it's all-time low is $0.000002.\n",
        "\n",
        "Input: Cardano\n",
        "Output:\\n\"\"\"\n",
        "\n",
        "result = openai.Completion.create(\n",
        "    model=\"text-davinci-002\",\n",
        "    prompt=prompt,\n",
        "    max_tokens=200,\n",
        "    temperature=0\n",
        ")\n",
        "\n",
        "print(result.choices[0][\"text\"].strip())\n"
      ],
      "metadata": {
        "colab": {
          "base_uri": "https://localhost:8080/"
        },
        "id": "CzbD0d9JiJhQ",
        "outputId": "98d256a6-2d9d-4a07-cf59-11e7a4e5f488"
      },
      "execution_count": 13,
      "outputs": [
        {
          "output_type": "stream",
          "name": "stdout",
          "text": [
            "ADA was created in 2017, you can learn more about it here: https://www.cardano.org/en/home/ and get the latest price here: https://www.coingecko.com/en/coins/cardano\n",
            "It's all-time high is $1.33 and it's all-time low is $0.000017.\n"
          ]
        }
      ]
    },
    {
      "cell_type": "markdown",
      "source": [
        "#### prompt에 출력 형식 변경해 보기 - HTML추가"
      ],
      "metadata": {
        "id": "MTM6QExwjI5D"
      }
    },
    {
      "cell_type": "code",
      "source": [
        "import os\n",
        "import openai\n",
        "\n",
        "def init_api():\n",
        "    with open(\"chatgpt.env\") as env:\n",
        "        for line in env:\n",
        "            key, value = line.strip().split(\"=\")\n",
        "            os.environ[key] = value\n",
        "\n",
        "    openai.api_key = os.environ.get(\"API_KEY\")\n",
        "    openai.organization = os.environ.get(\"ORG_ID\")\n",
        "\n",
        "init_api()\n",
        "\n",
        "prompt = \"\"\"Input: Bitcoin\n",
        "Output:\n",
        "BTC was created in 2008, you can learn more about it <ahref=\"https://bitcoin.org/en/\">here</a> and get the latest price <a href=\"https://www.coingecko.com/en/coins/bitcoin\">here</a>.\n",
        "It's all-time high is $64,895.00 and it's all-time low is $67.81.\n",
        "\n",
        "Input: Cardano\n",
        "Output:\\n\"\"\"\n",
        "\n",
        "result = openai.Completion.create(\n",
        "    model=\"text-davinci-002\",\n",
        "    prompt=prompt,\n",
        "    max_tokens=200,\n",
        "    temperature=0\n",
        ")\n",
        "\n",
        "print(result.choices[0][\"text\"].strip())\n"
      ],
      "metadata": {
        "colab": {
          "base_uri": "https://localhost:8080/"
        },
        "id": "8TtcWYcMkBIq",
        "outputId": "23331cc2-a743-4e9d-f8e5-d85fade7e99a"
      },
      "execution_count": 14,
      "outputs": [
        {
          "output_type": "stream",
          "name": "stdout",
          "text": [
            "Cardano was created in 2015, you can learn more about it <a href=\"https://www.cardano.org/en/home/\">here</a> and get the latest price <a href=\"https://www.coingecko.com/en/coins/cardano\">here</a>.\n",
            "It's all-time high is $1.33 and it's all-time low is $0.00004602.\n"
          ]
        }
      ]
    },
    {
      "cell_type": "markdown",
      "source": [
        "### 리눅스 명령어 도움말을 위한 챗봇 어시스턴트 만들기"
      ],
      "metadata": {
        "id": "L_dfBkrxkJaW"
      }
    },
    {
      "cell_type": "code",
      "source": [
        "import os\n",
        "import openai\n",
        "\n",
        "def init_api():\n",
        "    with open(\"chatgpt.env\") as env:\n",
        "        for line in env:\n",
        "            key, value = line.strip().split(\"=\")\n",
        "            os.environ[key] = value\n",
        "\n",
        "    openai.api_key = os.environ.get(\"API_KEY\")\n",
        "    openai.organization = os.environ.get(\"ORG_ID\")\n",
        "\n",
        "init_api()\n",
        "\n",
        "prompt = \"\"\"\n",
        "Input: List all the files in the current directory\n",
        "Output: ls -l\n",
        "\n",
        "Input: List all the files in the current directory, including hidden files\n",
        "Output: ls -la\n",
        "\n",
        "Input: Delete all the files in the current directory\n",
        "Output: rm *\n",
        "\n",
        "Input: Count the number of occurrences of the word \"sun\" in the file \"test.txt\"\n",
        "Output: grep -o \"sun\" test.txt | wc -l\n",
        "\n",
        "Input:{}\n",
        "Output:\n",
        "\"\"\"\n",
        "\n",
        "result = openai.Completion.create(\n",
        "    model=\"text-davinci-002\",\n",
        "    prompt=prompt.format(\"Count the number of files in the current directory\"),\n",
        "    max_tokens=200,\n",
        "    temperature=0\n",
        ")\n",
        "\n",
        "print(result.choices[0][\"text\"].strip())\n"
      ],
      "metadata": {
        "colab": {
          "base_uri": "https://localhost:8080/"
        },
        "id": "a-UjNlJykW1d",
        "outputId": "2f68836b-a75b-42f2-c182-3cf2c2101c0a"
      },
      "execution_count": 15,
      "outputs": [
        {
          "output_type": "stream",
          "name": "stdout",
          "text": [
            "ls -l | wc -l\n"
          ]
        }
      ]
    },
    {
      "cell_type": "markdown",
      "source": [
        "#### click 패키지 설치"
      ],
      "metadata": {
        "id": "bohtuRfvk4a_"
      }
    },
    {
      "cell_type": "code",
      "source": [
        "!pip install click==8.1.3"
      ],
      "metadata": {
        "colab": {
          "base_uri": "https://localhost:8080/"
        },
        "id": "NykNED_QlyE5",
        "outputId": "c2fb8d36-e9ba-46dd-efb8-d8cb75b3cab4"
      },
      "execution_count": 2,
      "outputs": [
        {
          "output_type": "stream",
          "name": "stdout",
          "text": [
            "Collecting click==8.1.3\n",
            "  Downloading click-8.1.3-py3-none-any.whl (96 kB)\n",
            "\u001b[?25l     \u001b[90m━━━━━━━━━━━━━━━━━━━━━━━━━━━━━━━━━━━━━━━━\u001b[0m \u001b[32m0.0/96.6 kB\u001b[0m \u001b[31m?\u001b[0m eta \u001b[36m-:--:--\u001b[0m\r\u001b[2K     \u001b[91m━━━━━━━━━━━━━━━━━━━━━━━━━━━━━\u001b[0m\u001b[91m╸\u001b[0m\u001b[90m━━━━━━━━━━\u001b[0m \u001b[32m71.7/96.6 kB\u001b[0m \u001b[31m2.0 MB/s\u001b[0m eta \u001b[36m0:00:01\u001b[0m\r\u001b[2K     \u001b[90m━━━━━━━━━━━━━━━━━━━━━━━━━━━━━━━━━━━━━━━━\u001b[0m \u001b[32m96.6/96.6 kB\u001b[0m \u001b[31m1.9 MB/s\u001b[0m eta \u001b[36m0:00:00\u001b[0m\n",
            "\u001b[?25hInstalling collected packages: click\n",
            "  Attempting uninstall: click\n",
            "    Found existing installation: click 8.1.7\n",
            "    Uninstalling click-8.1.7:\n",
            "      Successfully uninstalled click-8.1.7\n",
            "Successfully installed click-8.1.3\n"
          ]
        }
      ]
    },
    {
      "cell_type": "code",
      "source": [
        "import os\n",
        "import openai\n",
        "import click\n",
        "\n",
        "def init_api():\n",
        "    with open(\"chatgpt.env\") as env:\n",
        "        for line in env:\n",
        "            key, value = line.strip().split(\"=\")\n",
        "            os.environ[key] = value\n",
        "\n",
        "    openai.api_key = os.environ.get(\"API_KEY\")\n",
        "    openai.organization = os.environ.get(\"ORG_ID\")\n",
        "\n",
        "init_api()\n",
        "\n",
        "_prompt = \"\"\"\n",
        "Input: List all the files in the current directory\n",
        "Output: ls -l\n",
        "\n",
        "Input: List all the files in the current directory, including hidden files\n",
        "Output: ls -la\n",
        "\n",
        "Input: Delete all the files in the current directory\n",
        "Output: rm *\n",
        "\n",
        "Input: Count the number of occurrences of the word \"sun\" in the file \"test.txt\"\n",
        "Output: grep -o \"sun\" test.txt | wc -l\n",
        "\n",
        "Input: {}\n",
        "Output:\"\"\"\n",
        "\n",
        "while True:\n",
        "    request = input(click.style(\"Input:\", fg=\"green\"))\n",
        "    prompt = _prompt.format(request)\n",
        "    result = openai.Completion.create(\n",
        "        model=\"text-davinci-002\",\n",
        "        prompt=prompt,\n",
        "        temperature=0.0,\n",
        "        max_tokens=100,\n",
        "        stop=[\"\\n\"]\n",
        "    )\n",
        "\n",
        "    command = result.choices[0].text.strip()\n",
        "    click.echo(click.style(\"Output: \", fg=\"yellow\") + command)\n",
        "    click.echo()\n"
      ],
      "metadata": {
        "colab": {
          "base_uri": "https://localhost:8080/",
          "height": 686
        },
        "id": "rHaYcE_4lzH6",
        "outputId": "16720fef-31dd-47c8-939d-8e13f31684d4"
      },
      "execution_count": 16,
      "outputs": [
        {
          "output_type": "stream",
          "name": "stdout",
          "text": [
            "\u001b[32mInput:\u001b[0mlist all\n",
            "\u001b[33mOutput: \u001b[0mls\n",
            "\n",
            "\u001b[32mInput:\u001b[0mdelete all\n",
            "\u001b[33mOutput: \u001b[0mrm -r *\n",
            "\n",
            "\u001b[32mInput:\u001b[0mcount all files\n",
            "\u001b[33mOutput: \u001b[0mls -l | wc -l\n",
            "\n",
            "\u001b[32mInput:\u001b[0mcount all directories\n",
            "\u001b[33mOutput: \u001b[0mfind . -type d | wc -l\n",
            "\n",
            "\u001b[32mInput:\u001b[0mcount all files that are not directories\n",
            "\u001b[33mOutput: \u001b[0mfind . ! -type d | wc -l\n",
            "\n"
          ]
        },
        {
          "output_type": "error",
          "ename": "KeyboardInterrupt",
          "evalue": "ignored",
          "traceback": [
            "\u001b[0;31m---------------------------------------------------------------------------\u001b[0m",
            "\u001b[0;31mKeyboardInterrupt\u001b[0m                         Traceback (most recent call last)",
            "\u001b[0;32m<ipython-input-16-e21199be2d6a>\u001b[0m in \u001b[0;36m<cell line: 32>\u001b[0;34m()\u001b[0m\n\u001b[1;32m     31\u001b[0m \u001b[0;34m\u001b[0m\u001b[0m\n\u001b[1;32m     32\u001b[0m \u001b[0;32mwhile\u001b[0m \u001b[0;32mTrue\u001b[0m\u001b[0;34m:\u001b[0m\u001b[0;34m\u001b[0m\u001b[0;34m\u001b[0m\u001b[0m\n\u001b[0;32m---> 33\u001b[0;31m     \u001b[0mrequest\u001b[0m \u001b[0;34m=\u001b[0m \u001b[0minput\u001b[0m\u001b[0;34m(\u001b[0m\u001b[0mclick\u001b[0m\u001b[0;34m.\u001b[0m\u001b[0mstyle\u001b[0m\u001b[0;34m(\u001b[0m\u001b[0;34m\"Input:\"\u001b[0m\u001b[0;34m,\u001b[0m \u001b[0mfg\u001b[0m\u001b[0;34m=\u001b[0m\u001b[0;34m\"green\"\u001b[0m\u001b[0;34m)\u001b[0m\u001b[0;34m)\u001b[0m\u001b[0;34m\u001b[0m\u001b[0;34m\u001b[0m\u001b[0m\n\u001b[0m\u001b[1;32m     34\u001b[0m     \u001b[0mprompt\u001b[0m \u001b[0;34m=\u001b[0m \u001b[0m_prompt\u001b[0m\u001b[0;34m.\u001b[0m\u001b[0mformat\u001b[0m\u001b[0;34m(\u001b[0m\u001b[0mrequest\u001b[0m\u001b[0;34m)\u001b[0m\u001b[0;34m\u001b[0m\u001b[0;34m\u001b[0m\u001b[0m\n\u001b[1;32m     35\u001b[0m     result = openai.Completion.create(\n",
            "\u001b[0;32m/usr/local/lib/python3.10/dist-packages/ipykernel/kernelbase.py\u001b[0m in \u001b[0;36mraw_input\u001b[0;34m(self, prompt)\u001b[0m\n\u001b[1;32m    849\u001b[0m                 \u001b[0;34m\"raw_input was called, but this frontend does not support input requests.\"\u001b[0m\u001b[0;34m\u001b[0m\u001b[0;34m\u001b[0m\u001b[0m\n\u001b[1;32m    850\u001b[0m             )\n\u001b[0;32m--> 851\u001b[0;31m         return self._input_request(str(prompt),\n\u001b[0m\u001b[1;32m    852\u001b[0m             \u001b[0mself\u001b[0m\u001b[0;34m.\u001b[0m\u001b[0m_parent_ident\u001b[0m\u001b[0;34m,\u001b[0m\u001b[0;34m\u001b[0m\u001b[0;34m\u001b[0m\u001b[0m\n\u001b[1;32m    853\u001b[0m             \u001b[0mself\u001b[0m\u001b[0;34m.\u001b[0m\u001b[0m_parent_header\u001b[0m\u001b[0;34m,\u001b[0m\u001b[0;34m\u001b[0m\u001b[0;34m\u001b[0m\u001b[0m\n",
            "\u001b[0;32m/usr/local/lib/python3.10/dist-packages/ipykernel/kernelbase.py\u001b[0m in \u001b[0;36m_input_request\u001b[0;34m(self, prompt, ident, parent, password)\u001b[0m\n\u001b[1;32m    893\u001b[0m             \u001b[0;32mexcept\u001b[0m \u001b[0mKeyboardInterrupt\u001b[0m\u001b[0;34m:\u001b[0m\u001b[0;34m\u001b[0m\u001b[0;34m\u001b[0m\u001b[0m\n\u001b[1;32m    894\u001b[0m                 \u001b[0;31m# re-raise KeyboardInterrupt, to truncate traceback\u001b[0m\u001b[0;34m\u001b[0m\u001b[0;34m\u001b[0m\u001b[0m\n\u001b[0;32m--> 895\u001b[0;31m                 \u001b[0;32mraise\u001b[0m \u001b[0mKeyboardInterrupt\u001b[0m\u001b[0;34m(\u001b[0m\u001b[0;34m\"Interrupted by user\"\u001b[0m\u001b[0;34m)\u001b[0m \u001b[0;32mfrom\u001b[0m \u001b[0;32mNone\u001b[0m\u001b[0;34m\u001b[0m\u001b[0;34m\u001b[0m\u001b[0m\n\u001b[0m\u001b[1;32m    896\u001b[0m             \u001b[0;32mexcept\u001b[0m \u001b[0mException\u001b[0m \u001b[0;32mas\u001b[0m \u001b[0me\u001b[0m\u001b[0;34m:\u001b[0m\u001b[0;34m\u001b[0m\u001b[0;34m\u001b[0m\u001b[0m\n\u001b[1;32m    897\u001b[0m                 \u001b[0mself\u001b[0m\u001b[0;34m.\u001b[0m\u001b[0mlog\u001b[0m\u001b[0;34m.\u001b[0m\u001b[0mwarning\u001b[0m\u001b[0;34m(\u001b[0m\u001b[0;34m\"Invalid Message:\"\u001b[0m\u001b[0;34m,\u001b[0m \u001b[0mexc_info\u001b[0m\u001b[0;34m=\u001b[0m\u001b[0;32mTrue\u001b[0m\u001b[0;34m)\u001b[0m\u001b[0;34m\u001b[0m\u001b[0;34m\u001b[0m\u001b[0m\n",
            "\u001b[0;31mKeyboardInterrupt\u001b[0m: Interrupted by user"
          ]
        }
      ]
    },
    {
      "cell_type": "markdown",
      "source": [
        "#### 무한루프로 인해 종료 명령을 추가해 보기"
      ],
      "metadata": {
        "id": "5k2FdDowtGVH"
      }
    },
    {
      "cell_type": "code",
      "source": [
        "import os\n",
        "import openai\n",
        "import click\n",
        "\n",
        "def init_api():\n",
        "    with open(\"chatgpt.env\") as env:\n",
        "        for line in env:\n",
        "            key, value = line.strip().split(\"=\")\n",
        "            os.environ[key] = value\n",
        "        openai.api_key = os.environ.get(\"API_KEY\")\n",
        "        openai.organization = os.environ.get(\"ORG_ID\")\n",
        "\n",
        "init_api()\n",
        "\n",
        "_prompt = \"\"\"\n",
        "Input: List all the files in the current directory\n",
        "Output: ls -l\n",
        "Input: List all the files in the current directory, including hidden files\n",
        "Output: ls -la\n",
        "Input: Delete all the files in the current directory\n",
        "Output: rm *\n",
        "Input: Count the number of occurrences of the word \"sun\" in the file \"test.txt\"\n",
        "Output: grep -o \"sun\" test.txt | wc -l\n",
        "Input: Create a new file. \"test.txt\"\n",
        "Output: touch file1.txt\n",
        "Input: {}\n",
        "Output:\"\"\"\n",
        "\n",
        "while True:\n",
        "    request = input(click.style(\"Input (type 'exit' to quit): \", fg=\"green\"))\n",
        "    prompt = _prompt.format(request)\n",
        "    if request == \"exit\":\n",
        "        break\n",
        "    result = openai.Completion.create(\n",
        "        model=\"text-davinci-002\",\n",
        "        prompt=prompt,\n",
        "        temperature=0.0,\n",
        "        max_tokens=100,\n",
        "        stop=[\"\\n\"]\n",
        "    )\n",
        "    command = result.choices[0].text.strip()\n",
        "    click.echo(click.style(\"Output: \", fg=\"yellow\") + command)\n",
        "    click.echo()\n"
      ],
      "metadata": {
        "colab": {
          "base_uri": "https://localhost:8080/"
        },
        "id": "dQapCOzsl6Eo",
        "outputId": "61531979-39ce-4e31-a080-1e05817292dd"
      },
      "execution_count": 17,
      "outputs": [
        {
          "name": "stdout",
          "output_type": "stream",
          "text": [
            "\u001b[32mInput (type 'exit' to quit): \u001b[0mcreate file\n",
            "\u001b[33mOutput: \u001b[0mtouch file1.txt\n",
            "\n",
            "\u001b[32mInput (type 'exit' to quit): \u001b[0mlist all\n",
            "\u001b[33mOutput: \u001b[0mls -l\n",
            "\n",
            "\u001b[32mInput (type 'exit' to quit): \u001b[0mdelete all\n",
            "\u001b[33mOutput: \u001b[0mrm -rf *\n",
            "\n",
            "\u001b[32mInput (type 'exit' to quit): \u001b[0mcount all directories\n",
            "\u001b[33mOutput: \u001b[0mfind . -type d | wc -l\n",
            "\n",
            "\u001b[32mInput (type 'exit' to quit): \u001b[0mexit\n"
          ]
        }
      ]
    },
    {
      "cell_type": "markdown",
      "source": [
        "#### ChatGPT가 생성해준 리눅스 명령을 실행하는 프로그램 만들어보기"
      ],
      "metadata": {
        "id": "v1y2eCs5onSA"
      }
    },
    {
      "cell_type": "code",
      "source": [
        "import os\n",
        "import openai\n",
        "import click\n",
        "\n",
        "def init_api():\n",
        "    with open(\"chatgpt.env\") as env:\n",
        "        for line in env:\n",
        "            key, value = line.strip().split(\"=\")\n",
        "            os.environ[key] = value\n",
        "        openai.api_key = os.environ.get(\"API_KEY\")\n",
        "        openai.organization = os.environ.get(\"ORG_ID\")\n",
        "\n",
        "init_api()\n",
        "\n",
        "_prompt = \"\"\"\n",
        "Input: List all the files in the current directory\n",
        "Output: ls -l\n",
        "Input: List all the files in the current directory, including hidden files\n",
        "Output: ls -la\n",
        "Input: Delete all the files in the current directory\n",
        "Output: rm *\n",
        "Input: Count the number of occurrences of the word \"sun\" in the file \"test.txt\"\n",
        "Output: grep -o \"sun\" test.txt | wc -l\n",
        "Input: Create a new file. \"test.txt\"\n",
        "Output: touch file1.txt\n",
        "Input: {} Output:\"\"\"\n",
        "\n",
        "while True:\n",
        "    request = input(click.style(\"Input (type 'exit' to quit): \", fg=\"green\"))\n",
        "    if request == \"exit\":\n",
        "        break\n",
        "    prompt = _prompt.format(request)\n",
        "    result = openai.Completion.create(\n",
        "        model=\"text-davinci-002\",\n",
        "        prompt=prompt,\n",
        "        temperature=0.0,\n",
        "        max_tokens=100,\n",
        "        stop=[\"\\n\"]\n",
        "    )\n",
        "    command = result.choices[0].text.strip()\n",
        "    click.echo(click.style(\"Output: \", fg=\"yellow\") + command)\n",
        "    click.echo(click.style(\"Execute? (y/n): \", fg=\"yellow\"), nl=False)\n",
        "    choice = input()\n",
        "    if choice == \"y\":\n",
        "        os.system(command)\n",
        "    elif choice == \"n\":\n",
        "        continue\n",
        "    else:\n",
        "        click.echo(click.style(\"Invalid choice. Please enter 'y' or 'n'.\", fg=\"red\"))\n",
        "    click.echo()\n"
      ],
      "metadata": {
        "colab": {
          "base_uri": "https://localhost:8080/"
        },
        "id": "7OZLAYC0pjdM",
        "outputId": "b2d21c74-06af-4a5a-e7b1-26d4fc4a93b2"
      },
      "execution_count": null,
      "outputs": [
        {
          "name": "stdout",
          "output_type": "stream",
          "text": [
            "\u001b[32mInput (type 'exit' to quit): \u001b[0mcreate file\n",
            "\u001b[33mOutput: \u001b[0mtouch file1.txt\n",
            "\u001b[33mExecute? (y/n): \u001b[0my\n",
            "\n",
            "\u001b[32mInput (type 'exit' to quit): \u001b[0mlist all files in /tmp\n",
            "\u001b[33mOutput: \u001b[0mls /tmp\n",
            "\u001b[33mExecute? (y/n): \u001b[0my\n",
            "\n",
            "\u001b[32mInput (type 'exit' to quit): \u001b[0mexit\n"
          ]
        }
      ]
    },
    {
      "cell_type": "markdown",
      "source": [
        "#### try..except 추가하기"
      ],
      "metadata": {
        "id": "Io8cUYyCppmG"
      }
    },
    {
      "cell_type": "code",
      "source": [
        "import os\n",
        "import openai\n",
        "import click\n",
        "\n",
        "def init_api():\n",
        "    with open(\"chatgpt.env\") as env:\n",
        "        for line in env:\n",
        "            key, value = line.strip().split(\"=\")\n",
        "            os.environ[key] = value\n",
        "        openai.api_key = os.environ.get(\"API_KEY\")\n",
        "        openai.organization = os.environ.get(\"ORG_ID\")\n",
        "\n",
        "init_api()\n",
        "\n",
        "_prompt = \"\"\"\n",
        "Input: List all the files in the current directory\n",
        "Output: ls -l\n",
        "Input: List all the files in the current directory, including hidden files\n",
        "Output: ls -la\n",
        "Input: Delete all the files in the current directory\n",
        "Output: rm *\n",
        "Input: Create a new file. \"test.txt\"\n",
        "Output: touch file1.txt\n",
        "Input: {} Output:\"\"\"\n",
        "\n",
        "while True:\n",
        "    request = input(click.style(\"Input (type 'exit' to quit): \", fg=\"green\"))\n",
        "    if request == \"exit\":\n",
        "        break\n",
        "    prompt = _prompt.format(request)\n",
        "    try:\n",
        "        result = openai.Completion.create(\n",
        "            model=\"text-davinci-002\",\n",
        "            prompt=prompt,\n",
        "            temperature=0.0,\n",
        "            max_tokens=100,\n",
        "            stop=[\"\\n\"]\n",
        "        )\n",
        "        command = result.choices[0].text.strip()\n",
        "        click.echo(click.style(\"Output: \", fg=\"yellow\") + command)\n",
        "        click.echo(click.style(\"Execute? (y/n): \", fg=\"yellow\"), nl=False)\n",
        "        choice = input()\n",
        "        if choice == \"y\":\n",
        "            os.system(command)\n",
        "        elif choice == \"n\":\n",
        "            continue\n",
        "        else:\n",
        "            click.echo(click.style(\"Invalid choice. Please enter 'y' or 'n'.\", fg=\"red\"))\n",
        "    except Exception as e:\n",
        "        click.echo(click.style(\"The command could not be executed. {} \".format(e), fg=\"red\"))\n",
        "        pass\n",
        "    click.echo()\n"
      ],
      "metadata": {
        "colab": {
          "base_uri": "https://localhost:8080/"
        },
        "id": "_GEJEUS8qH57",
        "outputId": "8fe499d7-8fee-4cf8-a56b-a2ae67cfe672"
      },
      "execution_count": null,
      "outputs": [
        {
          "name": "stdout",
          "output_type": "stream",
          "text": [
            "\u001b[32mInput (type 'exit' to quit): \u001b[0mcreate a new file\n",
            "\u001b[33mOutput: \u001b[0mtouch file1.txt\n",
            "\u001b[33mExecute? (y/n): \u001b[0my\n",
            "\n",
            "\u001b[32mInput (type 'exit' to quit): \u001b[0mexit\n"
          ]
        }
      ]
    },
    {
      "cell_type": "code",
      "source": [],
      "metadata": {
        "id": "ObohQlRnqMrY"
      },
      "execution_count": null,
      "outputs": []
    }
  ]
}