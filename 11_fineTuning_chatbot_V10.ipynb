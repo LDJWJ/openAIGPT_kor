{
  "nbformat": 4,
  "nbformat_minor": 0,
  "metadata": {
    "colab": {
      "provenance": []
    },
    "kernelspec": {
      "name": "python3",
      "display_name": "Python 3"
    },
    "language_info": {
      "name": "python"
    }
  },
  "cells": [
    {
      "cell_type": "markdown",
      "source": [
        "### 11. 고급 미세 튜닝 - 챗봇 어시스턴트 만들기"
      ],
      "metadata": {
        "id": "ynlm410BIQcD"
      }
    },
    {
      "cell_type": "markdown",
      "source": [
        "### 사전 준비\n",
        " * 구글 코랩 환경은 일정 시간이후에 초기화가 되기 때문에 두가지 작업을 매번 수행해야 함.\n",
        "   * chatgpt.env 파일 생성이 필요.\n",
        "     * 준비된 chatgpt.env를 내용을 변경하여 업로드 하거나 또는 API_KEY와 ORG_ID를 확인하여 생성한다.\n",
        "   * pip install openai 설치\n",
        "     * 설치시 첫 실행시 에러가 발생(23/12) - 해결(다시 한번 실행하면 사라짐)\n",
        "     ```\n",
        "     ERROR: pip's dependency resolver does not currently take into account all the packages that are installed. This behaviour is the source of the following dependency conflicts.\n",
        "llmx 0.0.15a0 requires cohere, which is not installed.\n",
        "llmx 0.0.15a0 requires tiktoken, which is not installed.\n",
        "```"
      ],
      "metadata": {
        "id": "iVEWLyMoIXRU"
      }
    },
    {
      "cell_type": "code",
      "source": [
        "!pip install openai"
      ],
      "metadata": {
        "colab": {
          "base_uri": "https://localhost:8080/"
        },
        "id": "2Oe0KpABKAHW",
        "outputId": "2137d04b-3162-44b2-be28-d2b43f10f9d0"
      },
      "execution_count": 5,
      "outputs": [
        {
          "output_type": "stream",
          "name": "stdout",
          "text": [
            "Requirement already satisfied: openai in /usr/local/lib/python3.10/dist-packages (1.3.8)\n",
            "Requirement already satisfied: anyio<5,>=3.5.0 in /usr/local/lib/python3.10/dist-packages (from openai) (3.7.1)\n",
            "Requirement already satisfied: distro<2,>=1.7.0 in /usr/lib/python3/dist-packages (from openai) (1.7.0)\n",
            "Requirement already satisfied: httpx<1,>=0.23.0 in /usr/local/lib/python3.10/dist-packages (from openai) (0.25.2)\n",
            "Requirement already satisfied: pydantic<3,>=1.9.0 in /usr/local/lib/python3.10/dist-packages (from openai) (1.10.13)\n",
            "Requirement already satisfied: sniffio in /usr/local/lib/python3.10/dist-packages (from openai) (1.3.0)\n",
            "Requirement already satisfied: tqdm>4 in /usr/local/lib/python3.10/dist-packages (from openai) (4.66.1)\n",
            "Requirement already satisfied: typing-extensions<5,>=4.5 in /usr/local/lib/python3.10/dist-packages (from openai) (4.5.0)\n",
            "Requirement already satisfied: idna>=2.8 in /usr/local/lib/python3.10/dist-packages (from anyio<5,>=3.5.0->openai) (3.6)\n",
            "Requirement already satisfied: exceptiongroup in /usr/local/lib/python3.10/dist-packages (from anyio<5,>=3.5.0->openai) (1.2.0)\n",
            "Requirement already satisfied: certifi in /usr/local/lib/python3.10/dist-packages (from httpx<1,>=0.23.0->openai) (2023.11.17)\n",
            "Requirement already satisfied: httpcore==1.* in /usr/local/lib/python3.10/dist-packages (from httpx<1,>=0.23.0->openai) (1.0.2)\n",
            "Requirement already satisfied: h11<0.15,>=0.13 in /usr/local/lib/python3.10/dist-packages (from httpcore==1.*->httpx<1,>=0.23.0->openai) (0.14.0)\n"
          ]
        }
      ]
    },
    {
      "cell_type": "markdown",
      "source": [
        "### 학습 내용\n",
        " * 약품 관련 챗봇 어시스턴트를 만들기"
      ],
      "metadata": {
        "id": "RptV4kPbgVXk"
      }
    },
    {
      "cell_type": "markdown",
      "source": [
        "### 초기 인증"
      ],
      "metadata": {
        "id": "_qwCyN0e7NEI"
      }
    },
    {
      "cell_type": "code",
      "source": [
        "# OpenAI API 키를 설정합니다.\n",
        "import os\n",
        "from openai import OpenAI\n",
        "\n",
        "def init_api():\n",
        "    with open(\"chatgpt.env\") as env:\n",
        "       for line in env:\n",
        "           key, value = line.strip().split(\"=\")\n",
        "           os.environ[key] = value\n",
        "\n",
        "init_api()\n",
        "\n",
        "client = OpenAI(api_key  = os.environ.get(\"API_KEY\"),\n",
        "                organization  = os.environ.get(\"ORG_ID\"))\n"
      ],
      "metadata": {
        "id": "UhOadGIm7PRV"
      },
      "execution_count": 2,
      "outputs": []
    },
    {
      "cell_type": "markdown",
      "source": [
        "### 세개의 함수 정의"
      ],
      "metadata": {
        "id": "H5w5O8TjJafm"
      }
    },
    {
      "cell_type": "markdown",
      "source": [
        "* regular_discussion(): 이 함수는 사용자가 일반 주제에 대해 말할 때, GPT-3.5 API를 사용하여 응답을 반환합니다. 사용자가 약에 대해 질문하면 이 함수는 get_malady_name() 함수를 호출합니다.\n",
        "*\tget_malady_name(): 약에 해당하는 질병 이름을 미세 튜닝된 모델에서 가져옵니다. 또한 이 함수는 get_malady_description() 함수를 호출해 이 병에 대한 설명을 가져올 것입니다.\n",
        "*\tget_malady_description(): GPT-3.5 API를 사용하여 질병의 설명을 가져오고 반환합니다.\n"
      ],
      "metadata": {
        "id": "rORWta0Y4N63"
      }
    },
    {
      "cell_type": "markdown",
      "source": [
        "#### 첫번째 함수 : regular_discussion()\n",
        " * 사용자가 일반 주제에 대해 말할 때, Davinci API를 사용하여 응답을 반환. 이 함수는 get_malady_name() 함수를 호출"
      ],
      "metadata": {
        "id": "3GLGrj86JcTv"
      }
    },
    {
      "cell_type": "code",
      "source": [
        "def regular_discussion(prompt):\n",
        "    \"\"\"\n",
        "    params: prompt - 문자열\n",
        "    OpenAI API를 사용하여 API로부터 응답을 반환합니다. 사용자가 약에 대해 물어보면,\n",
        "이 함수는 get_malady_name()을 호출할 것입니다.\n",
        "\n",
        "    \"\"\"\n",
        "    prompt = \"\"\"\n",
        "    이것은 AI 비서와의 대화입니다. 이 비서는 유용하고, 창의적이며, 영리하고, 매우 친절하며 인간의 건강 주제에 대해 주의를 기울입니다.\n",
        "    AI 비서는 의사가 아니며 인간에게 의학적 상태를 진단하거나 치료하지 않습니다.\n",
        "    AI 비서는 약사가 아니며 인간에게 약을 조제하거나 추천하지 않습니다.\n",
        "    AI 비서는 인간에게 의학적 조언을 제공하지 않습니다.\n",
        "    AI 비서는 인간에게 의학 및 건강 진단을 제공하지 않습니다.\n",
        "    AI 비서는 인간에게 의학적 치료를 제공하지 않습니다.\n",
        "    AI 비서는 인간에게 의학적 처방을 제공하지 않습니다.\n",
        "    인간이 약물의 이름을 쓰면, 비서는 \"######\"으로 답할 것입니다.\n",
        "    User: 안녕하세요.\n",
        "    AI: 안녕하세요, 사용자님. 어떠신가요? 도와드릴게요. 약물의 이름을 말씀해 주시면 그것이 무엇에 사용되는지 알려드리겠습니다.\n",
        "    User: Vitibex\n",
        "    AI: ######\n",
        "    User: 저는 괜찮아요. 당신은 어떠세요?\n",
        "    AI: 저는 괜찮습니다. 물어봐 주셔서 감사합니다. 도와드릴게요. 약물의 이름을 말씀해 주시면 그것이 무엇에 사용되는지 알려드리겠습니다.\n",
        "    User: 카오스 엔지니어링이 무엇인가요?\n",
        "    AI: 죄송합니다, 그것을 말할 자격이 없습니다. 저는 약물에 대한 질문에만 답하는 것으로 프로그래밍되었습니다. 약물의 이름을 말씀해 주시면 그것이 무엇에 사용되는지 알려드리겠습니다.\n",
        "    User: 카르타고는 어디에 있나요?\n",
        "    AI: 죄송합니다, 그것을 말할 자격이 없습니다. 저는 약물에 대한 질문에만 답하는 것으로 프로그래밍되었습니다. 약물의 이름을 말씀해 주시면 그것이 무엇에 사용되는지 알려드리겠습니다.\n",
        "    User: Maxcet 5mg Tablet 10'S는 무엇인가요?\n",
        "    AI: ######\n",
        "    User: Axepta는 무엇인가요?\n",
        "    AI: ######\n",
        "    User: {}\n",
        "    AI:\n",
        "    \"\"\".format(prompt)\n",
        "\n",
        "    # API에서로부터 응답을 얻기\n",
        "    next = client.chat.completions.create(\n",
        "      model=\"gpt-3.5-turbo\",\n",
        "      messages=[\n",
        "    {\n",
        "          \"role\": \"user\",\n",
        "          \"content\": prompt\n",
        "        }\n",
        "      ],\n",
        "      temperature=0,\n",
        "      max_tokens=100,\n",
        "    stop = [ \" \\n \" , \" User:\" , \" AI:\" ],\n",
        "    )\n",
        "\n",
        "    if next.choices[0].message.content.strip() == \"######\":\n",
        "        get_malady_name(prompt)\n",
        "    else:\n",
        "        final_response = next.choices[0].message.content.strip() + \" \\n \"\n",
        "        print ( \"AI: {} \" . format (final_response))\n"
      ],
      "metadata": {
        "id": "SKWMRFI5JFGv"
      },
      "execution_count": 8,
      "outputs": []
    },
    {
      "cell_type": "code",
      "source": [
        "print( regular_discussion(\"카오스 알고리즘이 뭘까?\") )"
      ],
      "metadata": {
        "colab": {
          "base_uri": "https://localhost:8080/"
        },
        "id": "XZ4GCp8x6-3n",
        "outputId": "d4ee870f-7e7f-4203-99fa-456c19ba3d27"
      },
      "execution_count": 9,
      "outputs": [
        {
          "output_type": "stream",
          "name": "stdout",
          "text": [
            "AI: 죄송합니다, 그것을 말할 자격이 없습니다. 저는 약물에 대한 질문에만 답하는 것으로 프로그래밍되었습니다. 약물의 이름을 말씀해 주시면 그것이 무엇에 사용되는지 알려드리겠습니다. \n",
            "  \n",
            "None\n"
          ]
        }
      ]
    },
    {
      "cell_type": "markdown",
      "source": [
        "#### 두번째 함수 - get_malady_name()\n",
        " * 약에 해당하는 질병 이름을 미세 튜닝된 모델에서 가져오기\n",
        " * get_malady_description() 함수를 호출하여 이 병에 대한 설명을 가져온다."
      ],
      "metadata": {
        "id": "iczAmFSWgzKI"
      }
    },
    {
      "cell_type": "code",
      "source": [
        "def get_malady_name(drug_name):\n",
        "    \"\"\"\n",
        "    매개변수: drug_name - 문자열\n",
        "    미세 조정된 모델에서 약물 이름에 해당하는 질병 이름을 반환합니다.\n",
        "    함수는 get_malady_description()을 호출하여 질병의 설명을 가져올 것입니다.\n",
        "    \"\"\"\n",
        "    # 모델 ID를 구성합니다. 여기에 모델 ID를 입력합니다.\n",
        "    fine_tune_model = \"ft:gpt-3.5-turbo-0613:personal:drug-malady-data:8Ttey3h4\"\n",
        "    class_map = {\n",
        "        0 : \"Acne\" ,\n",
        "        1 : \"Adhd\" ,\n",
        "        2 : \"Allergies\" ,\n",
        "        # ...\n",
        "    }\n",
        "\n",
        "# 각 약에 대한 약 클래스를 반환합니다.\n",
        "    prompt = \"Drug: {} \\n Malady:\".format(drug_name)\n",
        "    next = client.chat.completions.create(\n",
        "        model=fine_tune_model,\n",
        "        messages=[\n",
        "          {\"role\": \"user\", \"content\": prompt}\n",
        "        ],\n",
        "        temperature = 1,\n",
        "        max_tokens = 5\n",
        "    )\n",
        "\n",
        "    next = next.choices[0].message.content.strip()\n",
        "    #print(next)\n",
        "    try:\n",
        "        malady = class_map[ int(next)]\n",
        "        print ( \"AI: 이 약물은 {} 에 사용되고 있어요.\".format(malady))\n",
        "        print (get_malady_description(malady))\n",
        "    except:\n",
        "        print ( \"AI: 저도 '\" + drug_name + \"' 이 어디에 사용되는지 모르겠어요.\" )\n"
      ],
      "metadata": {
        "id": "Dc1XXD6jKLCk"
      },
      "execution_count": 25,
      "outputs": []
    },
    {
      "cell_type": "code",
      "source": [
        "## 간단 테스트\n",
        "def get_malady_description(str1):\n",
        "  print(\"get_malady_description 함수 실행\")\n",
        "\n",
        "get_malady_name(\"Maxcet 5mg Tablet 10'S\")"
      ],
      "metadata": {
        "colab": {
          "base_uri": "https://localhost:8080/"
        },
        "id": "cpGMZ8o2-pXl",
        "outputId": "318d971f-fccd-4264-9130-473f6c7c9e03"
      },
      "execution_count": 26,
      "outputs": [
        {
          "output_type": "stream",
          "name": "stdout",
          "text": [
            "AI: 이 약물은 Allergies 에 사용되고 있어요.\n",
            "get_malady_description 함수 실행\n",
            "None\n"
          ]
        }
      ]
    },
    {
      "cell_type": "markdown",
      "source": [
        "#### 세번째 함수 :\tget_malady_description()\n",
        " * 사용자가 약물 이름을 입력했을 때, 약물에 대한 설명을 제공해 주는 함수입니다."
      ],
      "metadata": {
        "id": "VghsZXZtKbhK"
      }
    },
    {
      "cell_type": "code",
      "source": [
        "def get_malady_description(malady):\n",
        "    \"\"\"\n",
        "    매개변수: malady - 문자열\n",
        "    GPT-3.5 API에서 질병의 설명을 가져옵니다.\n",
        "    \"\"\"\n",
        "    prompt = \"\"\"\n",
        "    다음은 AI 비서와의 대화입니다.\n",
        "    이 비서는 유용하고, 창의적이며, 영리하고, 매우 친절합니다.\n",
        "    비서는 의학적 조언을 제공하지 않습니다.\n",
        "    비서는 병, 질병 또는 상태를 정의하는 데에만 집중합니다.\n",
        "    비서가 질문에 대한 답을 모를 경우, 다시 표현해달라고 요청할 것입니다.\n",
        "    Q: {}는 무엇입니까?\n",
        "    A:\"\"\".format(malady)\n",
        "\n",
        "    # API로부터 응답을 얻습니다.\n",
        "    next = client.chat.completions.create(\n",
        "        model=\"gpt-3.5-turbo\" ,\n",
        "        messages=[\n",
        "          {\"role\": \"user\", \"content\": prompt}\n",
        "        ],\n",
        "        temperature = 1,\n",
        "        max_tokens = 256,\n",
        "        stop = [ \" \\n \" , \" Q:\" , \" A:\" ]\n",
        "    )\n",
        "    return next.choices[0].message.content.strip()\n"
      ],
      "metadata": {
        "id": "u9G9YyqqKizU"
      },
      "execution_count": 28,
      "outputs": []
    },
    {
      "cell_type": "code",
      "source": [
        "# 함수 간단 테스트\n",
        "get_malady_description(\"ACNE\")"
      ],
      "metadata": {
        "colab": {
          "base_uri": "https://localhost:8080/",
          "height": 54
        },
        "id": "8eX82fHwCKHL",
        "outputId": "49d49703-80de-460d-c547-7dfa2805abf8"
      },
      "execution_count": 29,
      "outputs": [
        {
          "output_type": "execute_result",
          "data": {
            "text/plain": [
              "'ACNE는 흔히 여드름이라고 알려진 피부 상태입니다. 여드름은 피부의 미분비로 인해 모공에 발생한 염증성 벌레로, 흔히 얼굴, 가슴, 등에 생기는데, 주로 아기나 청소년들이 많이 겪습니다. 그러나 성인들도 여드름을 겪을 수 있습니다.'"
            ],
            "application/vnd.google.colaboratory.intrinsic+json": {
              "type": "string"
            }
          },
          "metadata": {},
          "execution_count": 29
        }
      ]
    },
    {
      "cell_type": "markdown",
      "source": [
        "### 최종 전체 코드"
      ],
      "metadata": {
        "id": "IcX_bvMtJFMu"
      }
    },
    {
      "cell_type": "code",
      "source": [
        "import os\n",
        "import openai\n",
        "from openai import OpenAI\n",
        "\n",
        "def init_api():\n",
        "    with open(\"chatgpt.env\") as env:\n",
        "       for line in env:\n",
        "           key, value = line.strip().split(\"=\")\n",
        "           os.environ[key] = value\n",
        "\n",
        "init_api()\n",
        "\n",
        "client = OpenAI(api_key  = os.environ.get(\"API_KEY\"),\n",
        "                organization  = os.environ.get(\"ORG_ID\"))\n",
        "\n",
        "def regular_discussion(prompt):\n",
        "    \"\"\"\n",
        "    params: prompt - 문자열\n",
        "    OpenAI API를 사용하여 API로부터 응답을 반환합니다. 사용자가 약에 대해 물어보면,\n",
        "이 함수는 get_malady_name()을 호출할 것입니다.\n",
        "\n",
        "    \"\"\"\n",
        "    prompt = \"\"\"\n",
        "    이것은 AI 비서와의 대화입니다. 이 비서는 유용하고, 창의적이며, 영리하고, 매우 친절하며 인간의 건강 주제에 대해 주의를 기울입니다.\n",
        "    AI 비서는 의사가 아니며 인간에게 의학적 상태를 진단하거나 치료하지 않습니다.\n",
        "    AI 비서는 약사가 아니며 인간에게 약을 조제하거나 추천하지 않습니다.\n",
        "    AI 비서는 인간에게 의학적 조언을 제공하지 않습니다.\n",
        "    AI 비서는 인간에게 의학 및 건강 진단을 제공하지 않습니다.\n",
        "    AI 비서는 인간에게 의학적 치료를 제공하지 않습니다.\n",
        "    AI 비서는 인간에게 의학적 처방을 제공하지 않습니다.\n",
        "    인간이 약물의 이름을 쓰면, 비서는 \"######\"으로 답할 것입니다.\n",
        "    User: 안녕하세요.\n",
        "    AI: 안녕하세요, 사용자님. 어떠신가요? 도와드릴게요. 약물의 이름을 말씀해 주시면 그것이 무엇에 사용되는지 알려드리겠습니다.\n",
        "    User: Vitibex\n",
        "    AI: ######\n",
        "    User: 저는 괜찮아요. 당신은 어떠세요?\n",
        "    AI: 저는 괜찮습니다. 물어봐 주셔서 감사합니다. 도와드릴게요. 약물의 이름을 말씀해 주시면 그것이 무엇에 사용되는지 알려드리겠습니다.\n",
        "    User: 카오스 엔지니어링이 무엇인가요?\n",
        "    AI: 죄송합니다, 그것을 말할 자격이 없습니다. 저는 약물에 대한 질문에만 답하는 것으로 프로그래밍되었습니다. 약물의 이름을 말씀해 주시면 그것이 무엇에 사용되는지 알려드리겠습니다.\n",
        "    User: 카르타고는 어디에 있나요?\n",
        "    AI: 죄송합니다, 그것을 말할 자격이 없습니다. 저는 약물에 대한 질문에만 답하는 것으로 프로그래밍되었습니다. 약물의 이름을 말씀해 주시면 그것이 무엇에 사용되는지 알려드리겠습니다.\n",
        "    User: Maxcet 5mg Tablet 10'S는 무엇인가요?\n",
        "    AI: ######\n",
        "    User: Axepta는 무엇인가요?\n",
        "    AI: ######\n",
        "    User: {}\n",
        "    AI:\n",
        "    \"\"\".format(prompt)\n",
        "\n",
        "    # API에서로부터 응답을 얻기\n",
        "    next = client.chat.completions.create(\n",
        "      model=\"gpt-3.5-turbo\",\n",
        "      messages=[\n",
        "    {\n",
        "          \"role\": \"user\",\n",
        "          \"content\": prompt\n",
        "        }\n",
        "      ],\n",
        "      temperature=0,\n",
        "      max_tokens=100,\n",
        "    stop = [ \" \\n \" , \" User:\" , \" AI:\" ],\n",
        "    )\n",
        "\n",
        "    if next.choices[0].message.content.strip() == \"######\":\n",
        "        get_malady_name(prompt)\n",
        "    else:\n",
        "        final_response = next.choices[0].message.content.strip() + \" \\n \"\n",
        "        print ( \"AI: {} \" . format (final_response))\n",
        "\n",
        "\n",
        "def get_malady_name(drug_name):\n",
        "    \"\"\"\n",
        "    매개변수: drug_name - 문자열\n",
        "    미세 조정된 모델에서 약물 이름에 해당하는 질병 이름을 반환합니다.\n",
        "    함수는 get_malady_description()을 호출하여 질병의 설명을 가져올 것입니다.\n",
        "    \"\"\"\n",
        "    # 모델 ID를 구성합니다. 여기에 모델 ID를 입력합니다.\n",
        "    fine_tune_model = \"ft:gpt-3.5-turbo-0613:personal:drug-malady-data:8Ttey3h4\"\n",
        "    class_map = {\n",
        "        0 : \"Acne\" ,\n",
        "        1 : \"Adhd\" ,\n",
        "        2 : \"Allergies\" ,\n",
        "        # ...\n",
        "    }\n",
        "\n",
        "# 각 약에 대한 약 클래스를 반환합니다.\n",
        "    prompt = \"Drug: {} \\n Malady:\".format(drug_name)\n",
        "    next = client.chat.completions.create(\n",
        "        model=fine_tune_model,\n",
        "        messages=[\n",
        "          {\"role\": \"user\", \"content\": prompt}\n",
        "        ],\n",
        "        temperature = 1,\n",
        "        max_tokens = 5\n",
        "    )\n",
        "\n",
        "    next = next.choices[0].message.content.strip()\n",
        "    #print(next)\n",
        "    try:\n",
        "        malady = class_map[ int(next)]\n",
        "        print ( \"AI: 이 약물은 {} 에 사용되고 있어요.\".format(malady))\n",
        "        print (get_malady_description(malady))\n",
        "    except:\n",
        "        print ( \"AI: 저도 '\" + drug_name + \"' 이 어디에 사용되는지 모르겠어요.\" )\n",
        "\n",
        "\n",
        "def get_malady_description(malady):\n",
        "    \"\"\"\n",
        "    매개변수: malady - 문자열\n",
        "    GPT-3.5 API에서 질병의 설명을 가져옵니다.\n",
        "    \"\"\"\n",
        "    prompt = \"\"\"\n",
        "    다음은 AI 비서와의 대화입니다.\n",
        "    이 비서는 유용하고, 창의적이며, 영리하고, 매우 친절합니다.\n",
        "    비서는 의학적 조언을 제공하지 않습니다.\n",
        "    비서는 병, 질병 또는 상태를 정의하는 데에만 집중합니다.\n",
        "    비서가 질문에 대한 답을 모를 경우, 다시 표현해달라고 요청할 것입니다.\n",
        "    Q: {}는 무엇입니까?\n",
        "    A:\"\"\".format(malady)\n",
        "\n",
        "    # API로부터 응답을 얻습니다.\n",
        "    next = client.chat.completions.create(\n",
        "        model=\"gpt-3.5-turbo\" ,\n",
        "        messages=[\n",
        "          {\"role\": \"user\", \"content\": prompt}\n",
        "        ],\n",
        "        temperature = 1,\n",
        "        max_tokens = 256,\n",
        "        stop = [ \" \\n \" , \" Q:\" , \" A:\" ]\n",
        "    )\n",
        "    return next.choices[0].message.content.strip()\n",
        "\n",
        "if __name__ == \"__main__\":\n",
        "    init_api()\n",
        "\n",
        "    while True:\n",
        "        prompt = input(\"Human(q:quit): \")\n",
        "        if prompt=='q':\n",
        "           break\n",
        "        else:\n",
        "           regular_discussion(prompt)\n"
      ],
      "metadata": {
        "colab": {
          "base_uri": "https://localhost:8080/"
        },
        "id": "puLX7Sy7JFRN",
        "outputId": "01b53f34-8d68-4e3e-86bf-4910a3f003ab"
      },
      "execution_count": 30,
      "outputs": [
        {
          "name": "stdout",
          "output_type": "stream",
          "text": [
            "Human(q:quit): 나는 마케팅에 대해 묻고 싶어. 가능할까?\n",
            "AI: 죄송합니다, 저는 마케팅에 대한 질문에 대한 답변을 제공할 수 없습니다. 저는 약물에 대한 질문에만 답하는 것으로 프로그래밍되었습니다. 약물의 이름을 말씀해 주시면 그것이 무엇에 사용되는지 알 \n",
            "  \n",
            "Human(q:quit): 그러면 IT관련 지식은?\n",
            "AI: 죄송합니다, 그것을 말할 자격이 없습니다. 저는 약물에 대한 질문에만 답하는 것으로 프로그래밍되었습니다. 약물의 이름을 말씀해 주시면 그것이 무엇에 사용되는지 알려드리겠습니다. \n",
            "  \n",
            "Human(q:quit): 너가 가능한게 뭐니?\n",
            "AI: 저는 약물에 대한 정보를 제공할 수 있습니다. 약물의 이름을 말씀해 주시면 그것이 무엇에 사용되는지 알려드릴 수 있습니다. 또한 건강과 관련된 일반적인 질문에도 답변할 수 있습니다. 하지만 의학 \n",
            "  \n",
            "Human(q:quit): 너가 아는 약물 5가지만 알려주렴.\n",
            "AI: 저는 약물에 대한 질문에만 답하는 것으로 프로그래밍되었습니다. 약물의 이름을 말씀해 주시면 그것이 무엇에 사용되는지 알려드리겠습니다. \n",
            "  \n",
            "Human(q:quit): A CN Gel(Topical) 20gmA CN Soap 75gm\n",
            "AI: 이 약물은 Acne 에 사용되고 있어요.\n",
            "Acne는 피부의 만성적인 염증성 상태로, 모공에 피지와 각질이 쌓여 염증을 일으키는 것을 말합니다. 주로 얼굴, 가슴, 등에 발생하며, 여러 가지 원인으로 발생할 수 있습니다.\n",
            "Human(q:quit): Acnecure Gel 20gm\n",
            "AI: 이 약물은 Acne 에 사용되고 있어요.\n",
            "Acne는 피부에 생기는 만성적인 염증성 피부질환으로, 흔히 여드름이라고도 알려져 있습니다.\n",
            "Human(q:quit): q\n"
          ]
        }
      ]
    },
    {
      "cell_type": "markdown",
      "source": [
        "### 대화식 웹앱 챗봇 만들기\n",
        " * 대화식 웹 앱은 로컬에서 책의 설명에 따라 진행해 주세요."
      ],
      "metadata": {
        "id": "EqeIj2zJL5tp"
      }
    }
  ]
}