{
  "nbformat": 4,
  "nbformat_minor": 0,
  "metadata": {
    "colab": {
      "provenance": [],
      "gpuType": "T4"
    },
    "kernelspec": {
      "name": "python3",
      "display_name": "Python 3"
    },
    "language_info": {
      "name": "python"
    },
    "accelerator": "GPU"
  },
  "cells": [
    {
      "cell_type": "markdown",
      "source": [
        "### GPT 예제"
      ],
      "metadata": {
        "id": "8AkSZYB9bPqj"
      }
    },
    {
      "cell_type": "markdown",
      "source": [
        "### 학습 내용\n",
        " * 실습 : 키워드 추출하기\n",
        " * 실습 : 트윗 생성하기\n",
        " * 실습 : 랩 가사 생성하기\n",
        " * 실습 : Todo 리스트 만들기"
      ],
      "metadata": {
        "id": "Q-eUxM32aIkt"
      }
    },
    {
      "cell_type": "markdown",
      "source": [
        "### 사전 준비\n",
        " * 구글 코랩 환경은 일정 시간이후에 초기화가 되기 때문에 두가지 작업을 매번 수행해야 함.\n",
        "   * chatgpt.env 파일 생성이 필요.\n",
        "     * 준비된 chatgpt.env를 내용을 자신의 API KEY와 ORG_ID로 변경하여 업로드 하거나 또는 API_KEY와 ORG_ID를 확인하여 파일을 코랩 환경에 생성한다.\n",
        "   * pip install openai 설치\n",
        "     * 설치시 첫 실행시 에러가 발생(23/12) - 해결(다시 한번 실행하면 사라짐)\n",
        "     ```\n",
        "     ERROR: pip's dependency resolver does not currently take into account all the packages that are installed. This behaviour is the source of the following dependency conflicts.\n",
        "llmx 0.0.15a0 requires cohere, which is not installed.\n",
        "llmx 0.0.15a0 requires tiktoken, which is not installed.\n",
        "```"
      ],
      "metadata": {
        "id": "ierL4d3NbUMO"
      }
    },
    {
      "cell_type": "code",
      "source": [
        "!pip install openai"
      ],
      "metadata": {
        "colab": {
          "base_uri": "https://localhost:8080/"
        },
        "id": "EgWbK8Pbb6Oy",
        "outputId": "3cbaa562-6a53-4aab-a222-9605254d9e58"
      },
      "execution_count": 2,
      "outputs": [
        {
          "output_type": "stream",
          "name": "stdout",
          "text": [
            "Collecting openai\n",
            "  Downloading openai-1.16.1-py3-none-any.whl (266 kB)\n",
            "\u001b[?25l     \u001b[90m━━━━━━━━━━━━━━━━━━━━━━━━━━━━━━━━━━━━━━━━\u001b[0m \u001b[32m0.0/266.9 kB\u001b[0m \u001b[31m?\u001b[0m eta \u001b[36m-:--:--\u001b[0m\r\u001b[2K     \u001b[91m━━━━━━━━━━━━━━━━━━━━━━━━━━━━━━━━━━━━━━━\u001b[0m\u001b[91m╸\u001b[0m \u001b[32m266.2/266.9 kB\u001b[0m \u001b[31m8.3 MB/s\u001b[0m eta \u001b[36m0:00:01\u001b[0m\r\u001b[2K     \u001b[90m━━━━━━━━━━━━━━━━━━━━━━━━━━━━━━━━━━━━━━━━\u001b[0m \u001b[32m266.9/266.9 kB\u001b[0m \u001b[31m6.6 MB/s\u001b[0m eta \u001b[36m0:00:00\u001b[0m\n",
            "\u001b[?25hRequirement already satisfied: anyio<5,>=3.5.0 in /usr/local/lib/python3.10/dist-packages (from openai) (3.7.1)\n",
            "Requirement already satisfied: distro<2,>=1.7.0 in /usr/lib/python3/dist-packages (from openai) (1.7.0)\n",
            "Collecting httpx<1,>=0.23.0 (from openai)\n",
            "  Downloading httpx-0.27.0-py3-none-any.whl (75 kB)\n",
            "\u001b[2K     \u001b[90m━━━━━━━━━━━━━━━━━━━━━━━━━━━━━━━━━━━━━━━━\u001b[0m \u001b[32m75.6/75.6 kB\u001b[0m \u001b[31m8.8 MB/s\u001b[0m eta \u001b[36m0:00:00\u001b[0m\n",
            "\u001b[?25hRequirement already satisfied: pydantic<3,>=1.9.0 in /usr/local/lib/python3.10/dist-packages (from openai) (2.6.4)\n",
            "Requirement already satisfied: sniffio in /usr/local/lib/python3.10/dist-packages (from openai) (1.3.1)\n",
            "Requirement already satisfied: tqdm>4 in /usr/local/lib/python3.10/dist-packages (from openai) (4.66.2)\n",
            "Requirement already satisfied: typing-extensions<5,>=4.7 in /usr/local/lib/python3.10/dist-packages (from openai) (4.10.0)\n",
            "Requirement already satisfied: idna>=2.8 in /usr/local/lib/python3.10/dist-packages (from anyio<5,>=3.5.0->openai) (3.6)\n",
            "Requirement already satisfied: exceptiongroup in /usr/local/lib/python3.10/dist-packages (from anyio<5,>=3.5.0->openai) (1.2.0)\n",
            "Requirement already satisfied: certifi in /usr/local/lib/python3.10/dist-packages (from httpx<1,>=0.23.0->openai) (2024.2.2)\n",
            "Collecting httpcore==1.* (from httpx<1,>=0.23.0->openai)\n",
            "  Downloading httpcore-1.0.5-py3-none-any.whl (77 kB)\n",
            "\u001b[2K     \u001b[90m━━━━━━━━━━━━━━━━━━━━━━━━━━━━━━━━━━━━━━━━\u001b[0m \u001b[32m77.9/77.9 kB\u001b[0m \u001b[31m9.4 MB/s\u001b[0m eta \u001b[36m0:00:00\u001b[0m\n",
            "\u001b[?25hCollecting h11<0.15,>=0.13 (from httpcore==1.*->httpx<1,>=0.23.0->openai)\n",
            "  Downloading h11-0.14.0-py3-none-any.whl (58 kB)\n",
            "\u001b[2K     \u001b[90m━━━━━━━━━━━━━━━━━━━━━━━━━━━━━━━━━━━━━━━━\u001b[0m \u001b[32m58.3/58.3 kB\u001b[0m \u001b[31m8.2 MB/s\u001b[0m eta \u001b[36m0:00:00\u001b[0m\n",
            "\u001b[?25hRequirement already satisfied: annotated-types>=0.4.0 in /usr/local/lib/python3.10/dist-packages (from pydantic<3,>=1.9.0->openai) (0.6.0)\n",
            "Requirement already satisfied: pydantic-core==2.16.3 in /usr/local/lib/python3.10/dist-packages (from pydantic<3,>=1.9.0->openai) (2.16.3)\n",
            "Installing collected packages: h11, httpcore, httpx, openai\n",
            "Successfully installed h11-0.14.0 httpcore-1.0.5 httpx-0.27.0 openai-1.16.1\n"
          ]
        }
      ]
    },
    {
      "cell_type": "markdown",
      "source": [
        "### 기본적인 자동 완성\n",
        "  * Once upon a time의 입력에 대한 출력 내용을 확인합니다."
      ],
      "metadata": {
        "id": "2umh6vSGbX1s"
      }
    },
    {
      "cell_type": "code",
      "source": [
        "import openai\n",
        "\n",
        "print(openai.__version__)"
      ],
      "metadata": {
        "colab": {
          "base_uri": "https://localhost:8080/"
        },
        "id": "8QoSkZZxdBzt",
        "outputId": "3a4eec39-6717-48b2-8fc3-ba0a4f364b51"
      },
      "execution_count": 3,
      "outputs": [
        {
          "output_type": "stream",
          "name": "stdout",
          "text": [
            "1.16.1\n"
          ]
        }
      ]
    },
    {
      "cell_type": "code",
      "source": [
        "import os\n",
        "from openai import OpenAI\n",
        "\n",
        "def init_api():\n",
        "    with open(\"chatgpt.env\") as env:\n",
        "       for line in env:\n",
        "           key, value = line.strip().split(\"=\")\n",
        "           os.environ[key] = value\n",
        "\n",
        "init_api()\n",
        "\n",
        "client = OpenAI(api_key  = os.environ.get(\"API_KEY\"),\n",
        "                organization  = os.environ.get(\"ORG_ID\"))"
      ],
      "metadata": {
        "id": "NpG4Wepo8iyx"
      },
      "execution_count": 5,
      "outputs": []
    },
    {
      "cell_type": "markdown",
      "source": [
        "### 4-1. 기본적인 자동 완성"
      ],
      "metadata": {
        "id": "1Z7gHXA4Cr-C"
      }
    },
    {
      "cell_type": "code",
      "source": [
        "next = client.completions.create(\n",
        "    model=\"gpt-3.5-turbo-instruct\",\n",
        "    prompt=\"옛날 옛적에\",\n",
        "    max_tokens=20,\n",
        "    temperature=1\n",
        ")\n",
        "\n",
        "print(next)\n",
        "print(next.choices[0].text)  # AI의 대답"
      ],
      "metadata": {
        "colab": {
          "base_uri": "https://localhost:8080/"
        },
        "id": "NNV_vU66bxw7",
        "outputId": "f0e9c1e1-4041-4cd8-cff6-36e687098114"
      },
      "execution_count": 16,
      "outputs": [
        {
          "output_type": "stream",
          "name": "stdout",
          "text": [
            "Completion(id='cmpl-9A7Cg63wfIcyxSrMTBiWM03FCEukT', choices=[CompletionChoice(finish_reason='length', index=0, logprobs=None, text=' 세상의 모든 색깔은 모두 아름다운 하')], created=1712197998, model='gpt-3.5-turbo-instruct', object='text_completion', system_fingerprint=None, usage=CompletionUsage(completion_tokens=20, prompt_tokens=8, total_tokens=28))\n",
            " 세상의 모든 색깔은 모두 아름다운 하\n"
          ]
        }
      ]
    },
    {
      "cell_type": "code",
      "source": [
        "next"
      ],
      "metadata": {
        "colab": {
          "base_uri": "https://localhost:8080/"
        },
        "id": "KXht8zzBF7Nb",
        "outputId": "a385a906-6f15-435d-d83c-03a27af8eb54"
      },
      "execution_count": 7,
      "outputs": [
        {
          "output_type": "execute_result",
          "data": {
            "text/plain": [
              "Completion(id='cmpl-9A7B5v950uy9NHa3rdvlmFHVam0C8', choices=[CompletionChoice(finish_reason='length', index=0, logprobs=None, text=', there was a little girl named')], created=1712197899, model='gpt-3.5-turbo-instruct', object='text_completion', system_fingerprint=None, usage=CompletionUsage(completion_tokens=7, prompt_tokens=4, total_tokens=11))"
            ]
          },
          "metadata": {},
          "execution_count": 7
        }
      ]
    },
    {
      "cell_type": "markdown",
      "source": [
        "### 출력의 토큰 카운트 제어하기 - max_tokens"
      ],
      "metadata": {
        "id": "of6Azy48b0Zn"
      }
    },
    {
      "cell_type": "code",
      "source": [
        "next = client.completions.create(\n",
        "    model=\"gpt-3.5-turbo-instruct\",\n",
        "    prompt=\"ChatGPT너는 누군가?\",\n",
        "    max_tokens=30,\n",
        "    temperature=0\n",
        ")\n",
        "print(next)\n",
        "print(next.choices[0].text)  # AI의 대답\n"
      ],
      "metadata": {
        "colab": {
          "base_uri": "https://localhost:8080/"
        },
        "id": "uGS7UnyYcuEO",
        "outputId": "b4933317-ce4e-443a-d550-f7ad831f9c4a"
      },
      "execution_count": 17,
      "outputs": [
        {
          "output_type": "stream",
          "name": "stdout",
          "text": [
            "Completion(id='cmpl-9A7CpUxHOI0zXSDar2SuL5O2zm7SM', choices=[CompletionChoice(finish_reason='length', index=0, logprobs=None, text='\\n\\n저는 인공지능 챗봇인 ChatGPT입니다. 저는 대화를 통해 사용')], created=1712198007, model='gpt-3.5-turbo-instruct', object='text_completion', system_fingerprint=None, usage=CompletionUsage(completion_tokens=30, prompt_tokens=13, total_tokens=43))\n",
            "\n",
            "\n",
            "저는 인공지능 챗봇인 ChatGPT입니다. 저는 대화를 통해 사용\n"
          ]
        }
      ]
    },
    {
      "cell_type": "code",
      "source": [
        "next.choices[0].text"
      ],
      "metadata": {
        "colab": {
          "base_uri": "https://localhost:8080/",
          "height": 35
        },
        "id": "4qO7sdFCHxJ8",
        "outputId": "0fe795ef-157c-4ffe-c995-e88be7f68aea"
      },
      "execution_count": 18,
      "outputs": [
        {
          "output_type": "execute_result",
          "data": {
            "text/plain": [
              "'\\n\\n저는 인공지능 챗봇인 ChatGPT입니다. 저는 대화를 통해 사용'"
            ],
            "application/vnd.google.colaboratory.intrinsic+json": {
              "type": "string"
            }
          },
          "metadata": {},
          "execution_count": 18
        }
      ]
    },
    {
      "cell_type": "markdown",
      "source": [
        "### Logprobs"
      ],
      "metadata": {
        "id": "GYbxs04Qcwyi"
      }
    },
    {
      "cell_type": "code",
      "source": [
        "next = client.completions.create(\n",
        "    model=\"gpt-3.5-turbo-instruct\",\n",
        "    prompt=\"Once upon a time\",\n",
        "    max_tokens=15,\n",
        "    temperature=0,\n",
        "    logprobs=2,\n",
        ")\n",
        "\n",
        "print(next)\n",
        "print(next.choices[0].text)  # AI의 대답"
      ],
      "metadata": {
        "colab": {
          "base_uri": "https://localhost:8080/"
        },
        "id": "cDAJTzCBdMeY",
        "outputId": "8288a21f-38ee-4749-a131-7765cf683745"
      },
      "execution_count": 19,
      "outputs": [
        {
          "output_type": "stream",
          "name": "stdout",
          "text": [
            "Completion(id='cmpl-9A7D5b3QKLWbbvF84XjBkOL7QThus', choices=[CompletionChoice(finish_reason='length', index=0, logprobs=Logprobs(text_offset=[16, 17, 23, 27, 29, 36, 41, 47, 52, 54, 58, 59, 63, 69, 72], token_logprobs=[-0.66320074, -1.5737671, -0.32495743, -0.10143034, -2.5932019, -0.6747099, -0.72985786, -2.184388, -0.054143336, -0.0050829067, -0.4035957, -0.5208398, -0.5327251, -0.22389308, -0.050010797], tokens=[',', ' there', ' was', ' a', ' little', ' girl', ' named', ' Gold', 'il', 'ocks', '.', ' She', ' lived', ' in', ' a'], top_logprobs=[{',': -0.66320074, ' there': -2.0260644}, {' there': -1.5737671, ' in': -1.6191925}, {' was': -0.32495743, ' lived': -1.9624524}, {' a': -0.10143034, ' an': -2.8616881}, {' little': -2.5932019, ' beautiful': -2.6945221}, {' girl': -0.6747099, ' boy': -1.9262968}, {' named': -0.72985786, ' who': -1.4068694}, {' Gold': -2.184388, ' Alice': -3.1992977}, {'il': -0.054143336, 'ie': -3.3841128}, {'ocks': -0.0050829067, 'icious': -6.526825}, {'.': -0.4035957, ' who': -2.2532718}, {' She': -0.5208398, ' One': -0.99504864}, {' lived': -0.5327251, ' had': -1.4610889}, {' in': -0.22389308, ' with': -2.1915445}, {' a': -0.050010797, ' the': -3.0212917}]), text=', there was a little girl named Goldilocks. She lived in a')], created=1712198023, model='gpt-3.5-turbo-instruct', object='text_completion', system_fingerprint=None, usage=CompletionUsage(completion_tokens=15, prompt_tokens=4, total_tokens=19))\n",
            ", there was a little girl named Goldilocks. She lived in a\n"
          ]
        }
      ]
    },
    {
      "cell_type": "code",
      "source": [
        "next.choices[0].text"
      ],
      "metadata": {
        "colab": {
          "base_uri": "https://localhost:8080/",
          "height": 35
        },
        "id": "52Ap1NbcIoiv",
        "outputId": "773aa84a-7d05-4ae4-9e3d-adaff6855e6a"
      },
      "execution_count": 20,
      "outputs": [
        {
          "output_type": "execute_result",
          "data": {
            "text/plain": [
              "', there was a little girl named Goldilocks. She lived in a'"
            ],
            "application/vnd.google.colaboratory.intrinsic+json": {
              "type": "string"
            }
          },
          "metadata": {},
          "execution_count": 20
        }
      ]
    },
    {
      "cell_type": "markdown",
      "source": [
        "### 창의성 제어 : temperature를 활용한 샘플링"
      ],
      "metadata": {
        "id": "ugSOpGPcdOof"
      }
    },
    {
      "cell_type": "code",
      "source": [
        "next = client.completions.create(\n",
        "    model=\"gpt-3.5-turbo-instruct\",\n",
        "    prompt=\"오늘 하루는 어떨까?\",\n",
        "    max_tokens=30,\n",
        "    temperature=1.2\n",
        ")\n",
        "\n",
        "print(next)"
      ],
      "metadata": {
        "colab": {
          "base_uri": "https://localhost:8080/"
        },
        "id": "mD-QJYYN3KLH",
        "outputId": "c82ce741-9af2-46eb-eee3-f852f8e30fcb"
      },
      "execution_count": 21,
      "outputs": [
        {
          "output_type": "stream",
          "name": "stdout",
          "text": [
            "Completion(id='cmpl-9A7DdYzd8hqCLo9MmwkfNmq1DZTZ6', choices=[CompletionChoice(finish_reason='length', index=0, logprobs=None, text='\\n\\n어떤 계획도 없었지만, 새로운 경험을 해보고')], created=1712198057, model='gpt-3.5-turbo-instruct', object='text_completion', system_fingerprint=None, usage=CompletionUsage(completion_tokens=29, prompt_tokens=15, total_tokens=44))\n"
          ]
        }
      ]
    },
    {
      "cell_type": "code",
      "source": [
        "next.choices[0].text"
      ],
      "metadata": {
        "colab": {
          "base_uri": "https://localhost:8080/",
          "height": 35
        },
        "id": "UO3UC5dwL94-",
        "outputId": "3f7461b1-396f-40a2-edf6-1955401a8a9b"
      },
      "execution_count": 22,
      "outputs": [
        {
          "output_type": "execute_result",
          "data": {
            "text/plain": [
              "'\\n\\n어떤 계획도 없었지만, 새로운 경험을 해보고'"
            ],
            "application/vnd.google.colaboratory.intrinsic+json": {
              "type": "string"
            }
          },
          "metadata": {},
          "execution_count": 22
        }
      ]
    },
    {
      "cell_type": "markdown",
      "source": [
        "### 중복되는 내용의 반복성 제어\n",
        "  * frequency_penalty\n",
        "  * presence_penalty"
      ],
      "metadata": {
        "id": "xFDYAyEh6Nws"
      }
    },
    {
      "cell_type": "code",
      "source": [
        "next= client.completions.create(\n",
        "    model=\"gpt-3.5-turbo-instruct\",\n",
        "    prompt=\"Once upon a time\",\n",
        "    max_tokens=100,\n",
        "    frequency_penalty=2.0,\n",
        "    presence_penalty=2.0\n",
        ")\n",
        "\n",
        "print(\"=== Frequency and presence penalty 2.0 ===\")\n",
        "print(next.choices[0].text)\n",
        "\n",
        "next = client.completions.create(\n",
        "    model=\"gpt-3.5-turbo-instruct\",\n",
        "    prompt=\"Once upon a time\",\n",
        "    max_tokens=100,\n",
        "    frequency_penalty=-2.0,\n",
        "    presence_penalty=-2.0\n",
        ")\n",
        "\n",
        "print(\"=== Frequency and presence penalty -2.0 ===\")\n",
        "print(next.choices[0].text)\n"
      ],
      "metadata": {
        "colab": {
          "base_uri": "https://localhost:8080/"
        },
        "id": "CajJDqe_8UoJ",
        "outputId": "53164fb1-312e-47e1-eb65-b3b2ec843dd2"
      },
      "execution_count": 24,
      "outputs": [
        {
          "output_type": "stream",
          "name": "stdout",
          "text": [
            "=== Frequency and presence penalty 2.0 ===\n",
            ", the arachnid superhero known as Charlotte — a.k.a. Spider-Woman (Jessica Drew) -- shared friendly adventures with her own solo title.Today that titles comes kicking off again in \"Spider Woman\" #1.Soldier through an issue and navigate to someplace wedged between a 1970's '70s TV cop series Sultry Pictures definition of electronic commerce\n",
            "\n",
            "Browse WordPress Multisite Boilerplate Use Case \n",
            "7 mins read Multi-Sites are groupings upon which you can\n",
            "=== Frequency and presence penalty -2.0 ===\n",
            ", a long, long, long, long, long, long, long, long, long, long, long, long, long, long, long, long, long, long, long, long, long, long, long, long, long, long, long, long, long, long, long, long, long, long, long, long, long, long, long, long, long, long, long, long, long, long, long, long, long,\n"
          ]
        }
      ]
    },
    {
      "cell_type": "markdown",
      "source": [
        "### n을 활용한 출력 개수 제어하기"
      ],
      "metadata": {
        "id": "_XyI8N3_8YDw"
      }
    },
    {
      "cell_type": "code",
      "source": [
        "next = client.completions.create(\n",
        "    model=\"gpt-3.5-turbo-instruct\",\n",
        "    prompt=\"아침 인사는 보통 어떻게 할까?\",\n",
        "    max_tokens=50,\n",
        "    n=3\n",
        ")\n",
        "\n",
        "print(\"답변1 : \", next.choices[0].text)\n",
        "print(\"==============================\")\n",
        "print(\"답변2 : \", next.choices[1].text)\n",
        "print(\"==============================\")\n",
        "print(\"답변3 : \", next.choices[2].text)"
      ],
      "metadata": {
        "colab": {
          "base_uri": "https://localhost:8080/"
        },
        "id": "xQo77fID82hf",
        "outputId": "d7474e48-0a34-43bc-f689-fc2d3c4961f2"
      },
      "execution_count": 30,
      "outputs": [
        {
          "output_type": "stream",
          "name": "stdout",
          "text": [
            "답변1 :  \n",
            "보통 아침 인사는 \"좋은 아침이에요.\" \"안녕하세요.\" \"잘 잤나요?\" \"오늘 기분은 어때요?\"\n",
            "==============================\n",
            "답변2 :  \n",
            "\n",
            "어서 일어나서 새로운 하루를 맞이하자! 신이 내리신 아침을 감사하며 즐겁고 건강한 하\n",
            "==============================\n",
            "답변3 :  \n",
            "\n",
            "보통 아침 인사는 적극적이고 상냥하게 다른 사람들과 인사를 하며 시작한다. 일반적인 아침 인사는\n"
          ]
        }
      ]
    },
    {
      "cell_type": "markdown",
      "source": [
        "\n",
        "### best_of"
      ],
      "metadata": {
        "id": "KNX-Fysl85pw"
      }
    },
    {
      "cell_type": "code",
      "source": [
        "next = client.completions.create(\n",
        "    model=\"gpt-3.5-turbo-instruct\",\n",
        "    prompt=\"Once upon a time\",\n",
        "    max_tokens=5,\n",
        "    n=1,\n",
        "    best_of=2\n",
        ")\n",
        "\n",
        "print(next.choices[0].text)\n"
      ],
      "metadata": {
        "colab": {
          "base_uri": "https://localhost:8080/"
        },
        "id": "Wr0rdoS-_UgG",
        "outputId": "8160acd5-90fa-413e-cce9-34079ee848bd"
      },
      "execution_count": 32,
      "outputs": [
        {
          "output_type": "stream",
          "name": "stdout",
          "text": [
            ", in a distant country\n"
          ]
        }
      ]
    },
    {
      "cell_type": "markdown",
      "source": [
        "### best_of의 예\n",
        " * 10개의 후보를 생성하고, 이중에 3개를 선택해서 반환"
      ],
      "metadata": {
        "id": "t02WJU3bMtb7"
      }
    },
    {
      "cell_type": "code",
      "source": [
        "next = client.completions.create(\n",
        "    model=\"gpt-3.5-turbo-instruct\",\n",
        "    prompt=\"기분이 좋을 때 표현을 어떻게 할까?\",\n",
        "    max_tokens=30,\n",
        "    n=3,\n",
        "    best_of=10\n",
        ")\n",
        "\n",
        "print(next.choices[0].text)\n",
        "print(next.choices[1].text)\n",
        "print(next.choices[2].text)\n"
      ],
      "metadata": {
        "colab": {
          "base_uri": "https://localhost:8080/"
        },
        "id": "VLGwq7BYMtY5",
        "outputId": "56d85d7c-34c4-438d-cfa8-3c4bf9f08c67"
      },
      "execution_count": 35,
      "outputs": [
        {
          "output_type": "stream",
          "name": "stdout",
          "text": [
            "\n",
            "\n",
            "1. 기뻐서 미소가 끊이지 않아요.\n",
            "2. 마음이 따\n",
            "\n",
            "\n",
            "1. 너무 기분이 좋아! \n",
            "2. 정말 기분이 좋다. \n",
            "3.\n",
            "\n",
            "\n",
            "1. 기분이 참 좋아.\n",
            "2. 너무나도 기분이 좋아.\n",
            "3. 정\n"
          ]
        }
      ]
    },
    {
      "cell_type": "markdown",
      "source": [
        "### 실습 : 키워드 추출하기"
      ],
      "metadata": {
        "id": "4uKmwvBF4v0O"
      }
    },
    {
      "cell_type": "code",
      "source": [
        "prompt = \"\"\"\n",
        "The first programming language to be invented was Plankalkül,\n",
        "which was designed by Konrad Zuse in the 1940s, but not publicly known until 1972 (and not implemented until 1998).\n",
        "The first widely known and successful high-level programming language was Fortran,\n",
        "developed from 1954 to 1957 by a team of IBM researchers led by John Backus.\n",
        "The success of FORTRAN led to the formation of a committee of scientists to develop a universal computer language;\n",
        "the result of their effort was ALGOL 58.  Separately, John McCarthy of MIT developed Lisp,\n",
        "the first language with origins in academia to be successful. With the success of these initial efforts,\n",
        "programming languages became an active topic of research in the 1960s and beyond\\n\\nKeywords:\n",
        "\"\"\"\n",
        "\n",
        "tweet= client.completions.create(\n",
        "  model=\"gpt-3.5-turbo-instruct\",\n",
        "  prompt=prompt,\n",
        "  temperature=0.5,\n",
        "  max_tokens=300,\n",
        ")\n",
        "\n",
        "print(tweet)\n"
      ],
      "metadata": {
        "colab": {
          "base_uri": "https://localhost:8080/"
        },
        "id": "VeOF-BOhl66I",
        "outputId": "66c329af-47cd-49ce-b197-63327ee62880"
      },
      "execution_count": 37,
      "outputs": [
        {
          "output_type": "stream",
          "name": "stdout",
          "text": [
            "Completion(id='cmpl-9A7JfnQ9h7SGjLjGSCgGmLyPkkZXn', choices=[CompletionChoice(finish_reason='stop', index=0, logprobs=None, text='Plankalkül, Konrad Zuse, 1940s, 1972, 1998, Fortran, IBM, John Backus, ALGOL 58, John McCarthy, MIT, Lisp, academia, research, 1960s.')], created=1712198431, model='gpt-3.5-turbo-instruct', object='text_completion', system_fingerprint=None, usage=CompletionUsage(completion_tokens=54, prompt_tokens=171, total_tokens=225))\n"
          ]
        }
      ]
    },
    {
      "cell_type": "code",
      "source": [
        "tweet.choices[0].text"
      ],
      "metadata": {
        "colab": {
          "base_uri": "https://localhost:8080/",
          "height": 52
        },
        "id": "7KnvSLknl7nl",
        "outputId": "79568e6c-8a30-45a9-e973-997186235117"
      },
      "execution_count": 38,
      "outputs": [
        {
          "output_type": "execute_result",
          "data": {
            "text/plain": [
              "'Plankalkül, Konrad Zuse, 1940s, 1972, 1998, Fortran, IBM, John Backus, ALGOL 58, John McCarthy, MIT, Lisp, academia, research, 1960s.'"
            ],
            "application/vnd.google.colaboratory.intrinsic+json": {
              "type": "string"
            }
          },
          "metadata": {},
          "execution_count": 38
        }
      ]
    },
    {
      "cell_type": "markdown",
      "source": [
        "### 실습: 키워드 추출하기(2)\n",
        "  * prompt에 Keywords의 아래 행에 '-' 기호 추가"
      ],
      "metadata": {
        "id": "PlPCTq_Rm0QU"
      }
    },
    {
      "cell_type": "code",
      "source": [
        "prompt = \"\"\"\n",
        "The first programming language to be invented was Plankalkül,\n",
        "which was designed by Konrad Zuse in the 1940s, but not publicly known until 1972 (and not implemented until 1998).\n",
        "The first widely known and successful high-level programming language was Fortran,\n",
        "developed from 1954 to 1957 by a team of IBM researchers led by John Backus.\n",
        "The success of FORTRAN led to the formation of a committee of scientists to develop a universal computer language;\n",
        "the result of their effort was ALGOL 58.  Separately, John McCarthy of MIT developed Lisp,\n",
        "the first language with origins in academia to be successful. With the success of these initial efforts,\n",
        "programming languages became an active topic of research in the 1960s and beyond\\n\\nKeywords:\n",
        "\"\"\"\n",
        "\n",
        "tweet= client.completions.create(\n",
        "  model=\"gpt-3.5-turbo-instruct\",\n",
        "  prompt=prompt,\n",
        "  temperature=0.5,\n",
        "  max_tokens=300,\n",
        ")\n",
        "\n",
        "print(tweet.choices[0].text)\n"
      ],
      "metadata": {
        "colab": {
          "base_uri": "https://localhost:8080/"
        },
        "id": "xU2wXqNS44b6",
        "outputId": "749ccf80-ad4b-49c1-d878-39c58dcb65e6"
      },
      "execution_count": 39,
      "outputs": [
        {
          "output_type": "stream",
          "name": "stdout",
          "text": [
            "Plankalkül, Konrad Zuse, 1940s, 1972, 1998, Fortran, IBM, John Backus, ALGOL 58, John McCarthy, MIT, Lisp, academia, research, 1960s\n"
          ]
        }
      ]
    },
    {
      "cell_type": "markdown",
      "source": [
        "### Tweet 추가"
      ],
      "metadata": {
        "id": "4qp6snZ-mhO_"
      }
    },
    {
      "cell_type": "code",
      "source": [
        "prompt = \"\"\"\n",
        "The first programming language to be invented was Plankalkül,\n",
        "which was designed by Konrad Zuse in the 1940s, but not publicly known until 1972 (and not implemented until 1998).\n",
        "The first widely known and successful high-level programming language was Fortran,\n",
        "developed from 1954 to 1957 by a team of IBM researchers led by John Backus.\n",
        "The success of FORTRAN led to the formation of a committee of scientists to develop a universal computer language;\n",
        "the result of their effort was ALGOL 58.  Separately, John McCarthy of MIT developed Lisp,\n",
        "the first language with origins in academia to be successful. With the success of these initial efforts,\n",
        "programming languages became an active topic of research in the 1960s and beyond\\n\\nKeywords:\n",
        "\"\"\"\n",
        "\n",
        "tweet= client.completions.create(\n",
        "    model=\"gpt-3.5-turbo-instruct\",\n",
        "    prompt=prompt,\n",
        "    temperature=0.5,\n",
        "    max_tokens=300,\n",
        ")\n",
        "\n",
        "print(tweet.choices[0].text)\n"
      ],
      "metadata": {
        "colab": {
          "base_uri": "https://localhost:8080/"
        },
        "id": "FbHVrPKWT2cR",
        "outputId": "b6d6c168-72b0-45f2-d7a5-813f37ed610b"
      },
      "execution_count": 40,
      "outputs": [
        {
          "output_type": "stream",
          "name": "stdout",
          "text": [
            "- Plankalkül\n",
            "- Konrad Zuse\n",
            "- 1940s\n",
            "- Fortran\n",
            "- IBM\n",
            "- John Backus\n",
            "- ALGOL 58\n",
            "- John McCarthy\n",
            "- MIT\n",
            "- Lisp\n",
            "- academia\n",
            "- research\n",
            "- 1960s\n"
          ]
        }
      ]
    },
    {
      "cell_type": "markdown",
      "source": [
        "### 실습: 트윗 생성하기 - 트윗 해시 태그\n",
        "  * 이전 예제를 계속 사용하지만 Tweet with hashtags:을 추가."
      ],
      "metadata": {
        "id": "fkGqn7Gl7XC8"
      }
    },
    {
      "cell_type": "code",
      "source": [
        "prompt = \"\"\"\n",
        "The first programming language to be invented was Plankalkül,\n",
        "which was designed by Konrad Zuse in the 1940s, but not publicly known until 1972 (and not implemented until 1998).\n",
        "The first widely known and successful high-level programming language was Fortran,\n",
        "developed from 1954 to 1957 by a team of IBM researchers led by John Backus.\n",
        "The success of FORTRAN led to the formation of a committee of scientists to develop a universal computer language;\n",
        "the result of their effort was ALGOL 58.  Separately, John McCarthy of MIT developed Lisp,\n",
        "the first language with origins in academia to be successful. With the success of these initial efforts,\n",
        "programming languages became an active topic of research in the 1960s and beyond\\n\\nKeywords:\n",
        "\"\"\"\n",
        "\n",
        "tweet= client.completions.create(\n",
        "    model=\"gpt-3.5-turbo-instruct\",\n",
        "    prompt=prompt,\n",
        "    temperature=0.5,\n",
        "    max_tokens=300\n",
        ")\n",
        "\n",
        "print(tweet.choices[0].text)\n"
      ],
      "metadata": {
        "colab": {
          "base_uri": "https://localhost:8080/"
        },
        "id": "Ac2pdeEb7wJ8",
        "outputId": "844fe2c8-77cb-421e-9666-993ab4703caf"
      },
      "execution_count": 41,
      "outputs": [
        {
          "output_type": "stream",
          "name": "stdout",
          "text": [
            "Plankalkül, Konrad Zuse, 1940s, 1972, 1998, Fortran, IBM, John Backus, ALGOL 58, John McCarthy, MIT, Lisp, academia, research, 1960s.\n"
          ]
        }
      ]
    },
    {
      "cell_type": "markdown",
      "source": [
        "### 실습 : 랩 가사 생성하기"
      ],
      "metadata": {
        "id": "44exHT7a8ov-"
      }
    },
    {
      "cell_type": "code",
      "source": [
        "my_song = client.completions.create(\n",
        "    model=\"gpt-3.5-turbo-instruct\",\n",
        "    prompt=\"Write a rap song:\\n\\n\",\n",
        "    max_tokens=200,\n",
        "    temperature=0.5,\n",
        ")\n",
        "\n",
        "print(my_song.choices[0].text.strip())\n"
      ],
      "metadata": {
        "colab": {
          "base_uri": "https://localhost:8080/"
        },
        "id": "Y8ohPPKb8sFL",
        "outputId": "10a57cfb-3cd0-42f6-b416-5a36b2d33045"
      },
      "execution_count": 42,
      "outputs": [
        {
          "output_type": "stream",
          "name": "stdout",
          "text": [
            "Verse 1:\n",
            "Listen up y'all, I got a story to tell\n",
            "'Bout a young kid who's been through hell\n",
            "Born in the streets, no silver spoon\n",
            "But he had a dream, he'd be rappin' soon\n",
            "\n",
            "Started from the bottom, nothin' to lose\n",
            "But he had a talent, he had to use\n",
            "Put his pen to the paper, let his words flow\n",
            "Spittin' rhymes, he'd steal the show\n",
            "\n",
            "Chorus:\n",
            "He's a rap king, with a mic in his hand\n",
            "Rulin' the stage, makin' the crowd stand\n",
            "No one can stop him, he's on top of the game\n",
            "Livin' his dream, he'll never be tamed\n",
            "\n",
            "Verse 2:\n",
            "He faced the haters, they said he wouldn't make it\n",
            "But he kept grindin', he wouldn't fake it\n",
            "Took all the negativity, turned it to fuel\n",
            "Now he's killin'\n"
          ]
        }
      ]
    },
    {
      "cell_type": "markdown",
      "source": [
        "### 실습 : Todo 리스트 만들기"
      ],
      "metadata": {
        "id": "OIXKt_MD8yNB"
      }
    },
    {
      "cell_type": "code",
      "source": [
        "next = client.completions.create(\n",
        "    model=\"gpt-3.5-turbo-instruct\",\n",
        "    prompt=\"Todo list to create a company in US\\n\\n 1.\",\n",
        "    temperature=0.3,\n",
        "    max_tokens=512,\n",
        "    top_p=0.1,\n",
        "    frequency_penalty=0,\n",
        "    presence_penalty=0.5,\n",
        "    stop=[\"6.\"]\n",
        ")\n",
        "\n",
        "print(next.choices[0].text.strip())\n"
      ],
      "metadata": {
        "colab": {
          "base_uri": "https://localhost:8080/"
        },
        "id": "Jg5ptzpKRla4",
        "outputId": "c8f5f1ad-4665-483a-c133-c51b9dfcb05d"
      },
      "execution_count": 43,
      "outputs": [
        {
          "output_type": "stream",
          "name": "stdout",
          "text": [
            "Choose a business structure: The first step in creating a company in the US is to decide on the legal structure of your business. This could be a sole proprietorship, partnership, LLC, or corporation.\n",
            "\n",
            "2. Choose a business name: Your business name should be unique and not already in use by another company. You can check the availability of your desired business name through the US Patent and Trademark Office website.\n",
            "\n",
            "3. Register your business: Depending on the state you plan to operate in, you may need to register your business with the state government. This typically involves filling out a registration form and paying a fee.\n",
            "\n",
            "4. Obtain necessary permits and licenses: Depending on the type of business you are starting, you may need to obtain specific permits and licenses at the federal, state, and local levels. This could include a business license, tax ID number, and industry-specific permits.\n",
            "\n",
            "5. Create a business plan: A business plan is essential for outlining your company's goals, target market, financial projections, and marketing strategies. It will also be required if you plan to seek funding from investors or apply for loans.\n"
          ]
        }
      ]
    },
    {
      "cell_type": "code",
      "source": [
        "next = client.completions.create(\n",
        "    model=\"gpt-3.5-turbo-instruct\",\n",
        "    prompt=\"미국에서 회사 창업시의 Todo list는 무엇일까? \\n\\n 형식 01.\",\n",
        "    temperature=0.3,\n",
        "    max_tokens=512,\n",
        "    top_p=0.1,\n",
        "    frequency_penalty=0,\n",
        "    presence_penalty=0.5,\n",
        "    stop=[\"6.\"]\n",
        ")\n",
        "\n",
        "print(next.choices[0].text.strip())"
      ],
      "metadata": {
        "colab": {
          "base_uri": "https://localhost:8080/"
        },
        "id": "7Bel_GQn_AUS",
        "outputId": "628851a2-2f42-47c3-84d0-8a573d029d31"
      },
      "execution_count": 44,
      "outputs": [
        {
          "output_type": "stream",
          "name": "stdout",
          "text": [
            "1. 비즈니스 아이디어 개발 및 검증\n",
            "2. 시장 조사 및 경쟁 분석\n",
            "3. 비즈니스 모델 및 계획 수립\n",
            "4. 법적 측면 검토 (법인 등록, 라이센스 등)\n",
            "5. 자금 조달 방안 탐색 (자본 조달, 대출 등)\n"
          ]
        }
      ]
    },
    {
      "cell_type": "code",
      "source": [
        "next.choices[0].text.strip()"
      ],
      "metadata": {
        "colab": {
          "base_uri": "https://localhost:8080/",
          "height": 87
        },
        "id": "hb17Md44ntH3",
        "outputId": "b6d3616c-8c97-4375-85ef-ed5235b7f6dd"
      },
      "execution_count": null,
      "outputs": [
        {
          "output_type": "execute_result",
          "data": {
            "text/plain": [
              "'Choose a business structure: The first step in creating a company in the US is to decide on the legal structure of your business. This could be a sole proprietorship, partnership, LLC, or corporation.\\n\\n2. Choose a business name: Your business name should be unique and not already in use by another company. You can check the availability of your desired business name through the US Patent and Trademark Office website.\\n\\n3. Register your business: Depending on the state you plan to operate in, you may need to register your business with the state government. This typically involves filling out a registration form and paying a fee.\\n\\n4. Obtain necessary'"
            ],
            "application/vnd.google.colaboratory.intrinsic+json": {
              "type": "string"
            }
          },
          "metadata": {},
          "execution_count": 72
        }
      ]
    },
    {
      "cell_type": "markdown",
      "source": [
        "### 매개변수 변경"
      ],
      "metadata": {
        "id": "kkDihOGUojDq"
      }
    },
    {
      "cell_type": "code",
      "source": [
        "next = client.completions.create(\n",
        "  model=\"gpt-3.5-turbo-instruct\",\n",
        "  prompt=\"Todo list to create a company in US\\n\\n1.\",\n",
        "  temperature=0.3,\n",
        "  max_tokens=256,\n",
        "  top_p=0.1,\n",
        "  frequency_penalty=0,\n",
        "  presence_penalty=0.5,\n",
        "  stop=[\"6.\"]\n",
        ")\n",
        "\n",
        "print(next.choices[0].text.strip())\n"
      ],
      "metadata": {
        "id": "1aJPU3xZd_OF",
        "colab": {
          "base_uri": "https://localhost:8080/"
        },
        "outputId": "057bbbc8-54b6-4d01-f5b1-42bd26a73ed6"
      },
      "execution_count": 45,
      "outputs": [
        {
          "output_type": "stream",
          "name": "stdout",
          "text": [
            "Choose a business structure: The first step in creating a company in the US is to decide on the legal structure of your business. This can be a sole proprietorship, partnership, LLC, or corporation. Each structure has its own advantages and disadvantages, so it's important to research and choose the one that best fits your business needs.\n",
            "\n",
            "2. Choose a business name: Your business name should be unique and not already in use by another company. You can check the availability of your desired business name through your state's Secretary of State website.\n",
            "\n",
            "3. Register your business: Depending on the business structure you choose, you may need to register your business with the state or federal government. This typically involves filling out forms and paying a registration fee.\n",
            "\n",
            "4. Obtain necessary licenses and permits: Depending on your industry and location, you may need to obtain specific licenses and permits to legally operate your business. These can include a business license, zoning permit, health department permit, and more.\n",
            "\n",
            "5. Obtain an Employer Identification Number (EIN): An EIN is a unique number assigned to your business by the IRS for tax purposes. You will need this number to open a business bank account, hire employees, and file taxes.\n"
          ]
        }
      ]
    }
  ]
}