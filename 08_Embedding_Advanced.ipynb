{
  "nbformat": 4,
  "nbformat_minor": 0,
  "metadata": {
    "colab": {
      "provenance": []
    },
    "kernelspec": {
      "name": "python3",
      "display_name": "Python 3"
    },
    "language_info": {
      "name": "python"
    }
  },
  "cells": [
    {
      "cell_type": "markdown",
      "source": [
        "### 08. 임베딩 : 고급편"
      ],
      "metadata": {
        "id": "NxnSdxG1L1ma"
      }
    },
    {
      "cell_type": "markdown",
      "source": [
        "### 학습 내용\n",
        " * 선호하는 커피 예측하기\n",
        " * 퍼지 검색하기\n",
        " * 임베딩으로 뉴스 카테고리 예측하기\n",
        " * 제로샷(Zero-Shot) 분류기의 정확도 평가하기"
      ],
      "metadata": {
        "id": "m5n5or30Ly_H"
      }
    },
    {
      "cell_type": "markdown",
      "source": [
        "### 사전 준비\n",
        " * 구글 코랩 환경은 일정 시간이후에 초기화가 되기 때문에 두가지 작업을 매번 수행해야 함.\n",
        "   * chatgpt.env 파일 생성이 필요.\n",
        "     * 준비된 chatgpt.env를 내용을 변경하여 업로드 하거나 또는 API_KEY와 ORG_ID를 확인하여 생성한다.\n",
        "   * pip install openai 설치\n",
        "   * 캐글 데이터 셋 다운로드 후, 업로드\n",
        "     * https://www.kaggle.com/datasets/schmoyote/coffee-reviews-dataset?select=simplified_coffee.csv\n",
        "   * data폴더에 데이터 셋 업로드 - data/News_Category_Dataset_v3.json\n",
        "   * 자연어 처리 라이브러리 nltk 설치 및 다운로드\n",
        "     * pip install nltk\n",
        "     * nltk.download('stopwords')\n",
        "     * nltk.download('punkt')"
      ],
      "metadata": {
        "id": "ZbPVxO7rLhqw"
      }
    },
    {
      "cell_type": "code",
      "source": [
        "!pip install openai\n",
        "!pip install nltk"
      ],
      "metadata": {
        "colab": {
          "base_uri": "https://localhost:8080/"
        },
        "id": "NI71gjY8NWwe",
        "outputId": "6da586d0-c7e0-4a17-c516-d5fb73b7d203"
      },
      "execution_count": 1,
      "outputs": [
        {
          "output_type": "stream",
          "name": "stdout",
          "text": [
            "Collecting openai\n",
            "  Downloading openai-0.27.10-py3-none-any.whl (76 kB)\n",
            "\u001b[?25l     \u001b[90m━━━━━━━━━━━━━━━━━━━━━━━━━━━━━━━━━━━━━━━━\u001b[0m \u001b[32m0.0/76.5 kB\u001b[0m \u001b[31m?\u001b[0m eta \u001b[36m-:--:--\u001b[0m\r\u001b[2K     \u001b[91m━━━━━━━━━━━━━━━━━━━━━━━━━━━━━━━━━━━━━\u001b[0m\u001b[90m╺\u001b[0m\u001b[90m━━\u001b[0m \u001b[32m71.7/76.5 kB\u001b[0m \u001b[31m1.8 MB/s\u001b[0m eta \u001b[36m0:00:01\u001b[0m\r\u001b[2K     \u001b[90m━━━━━━━━━━━━━━━━━━━━━━━━━━━━━━━━━━━━━━━━\u001b[0m \u001b[32m76.5/76.5 kB\u001b[0m \u001b[31m1.6 MB/s\u001b[0m eta \u001b[36m0:00:00\u001b[0m\n",
            "\u001b[?25hRequirement already satisfied: requests>=2.20 in /usr/local/lib/python3.10/dist-packages (from openai) (2.31.0)\n",
            "Requirement already satisfied: tqdm in /usr/local/lib/python3.10/dist-packages (from openai) (4.66.1)\n",
            "Requirement already satisfied: aiohttp in /usr/local/lib/python3.10/dist-packages (from openai) (3.8.5)\n",
            "Requirement already satisfied: charset-normalizer<4,>=2 in /usr/local/lib/python3.10/dist-packages (from requests>=2.20->openai) (3.2.0)\n",
            "Requirement already satisfied: idna<4,>=2.5 in /usr/local/lib/python3.10/dist-packages (from requests>=2.20->openai) (3.4)\n",
            "Requirement already satisfied: urllib3<3,>=1.21.1 in /usr/local/lib/python3.10/dist-packages (from requests>=2.20->openai) (2.0.4)\n",
            "Requirement already satisfied: certifi>=2017.4.17 in /usr/local/lib/python3.10/dist-packages (from requests>=2.20->openai) (2023.7.22)\n",
            "Requirement already satisfied: attrs>=17.3.0 in /usr/local/lib/python3.10/dist-packages (from aiohttp->openai) (23.1.0)\n",
            "Requirement already satisfied: multidict<7.0,>=4.5 in /usr/local/lib/python3.10/dist-packages (from aiohttp->openai) (6.0.4)\n",
            "Requirement already satisfied: async-timeout<5.0,>=4.0.0a3 in /usr/local/lib/python3.10/dist-packages (from aiohttp->openai) (4.0.3)\n",
            "Requirement already satisfied: yarl<2.0,>=1.0 in /usr/local/lib/python3.10/dist-packages (from aiohttp->openai) (1.9.2)\n",
            "Requirement already satisfied: frozenlist>=1.1.1 in /usr/local/lib/python3.10/dist-packages (from aiohttp->openai) (1.4.0)\n",
            "Requirement already satisfied: aiosignal>=1.1.2 in /usr/local/lib/python3.10/dist-packages (from aiohttp->openai) (1.3.1)\n",
            "Installing collected packages: openai\n",
            "Successfully installed openai-0.27.10\n",
            "Requirement already satisfied: nltk in /usr/local/lib/python3.10/dist-packages (3.8.1)\n",
            "Requirement already satisfied: click in /usr/local/lib/python3.10/dist-packages (from nltk) (8.1.7)\n",
            "Requirement already satisfied: joblib in /usr/local/lib/python3.10/dist-packages (from nltk) (1.3.2)\n",
            "Requirement already satisfied: regex>=2021.8.3 in /usr/local/lib/python3.10/dist-packages (from nltk) (2023.6.3)\n",
            "Requirement already satisfied: tqdm in /usr/local/lib/python3.10/dist-packages (from nltk) (4.66.1)\n"
          ]
        }
      ]
    },
    {
      "cell_type": "code",
      "source": [
        "import nltk\n",
        "nltk.download('stopwords')\n",
        "nltk.download('punkt')"
      ],
      "metadata": {
        "colab": {
          "base_uri": "https://localhost:8080/"
        },
        "id": "_vVse4J0Nt98",
        "outputId": "20dab9a7-428f-414b-a157-6b8d72e96492"
      },
      "execution_count": 2,
      "outputs": [
        {
          "output_type": "stream",
          "name": "stderr",
          "text": [
            "[nltk_data] Downloading package stopwords to /root/nltk_data...\n",
            "[nltk_data]   Unzipping corpora/stopwords.zip.\n",
            "[nltk_data] Downloading package punkt to /root/nltk_data...\n",
            "[nltk_data]   Unzipping tokenizers/punkt.zip.\n"
          ]
        },
        {
          "output_type": "execute_result",
          "data": {
            "text/plain": [
              "True"
            ]
          },
          "metadata": {},
          "execution_count": 2
        }
      ]
    },
    {
      "cell_type": "markdown",
      "source": [
        "### 선호하는 커피 예측하기"
      ],
      "metadata": {
        "id": "GS_RbA3SLw3e"
      }
    },
    {
      "cell_type": "markdown",
      "source": [
        "#### 세개의 함수 만들기\n",
        " * init_api() : 인증 초기 설정\n",
        " * download_nltk_data() : 말뭉치 다운로드\n",
        " * preprocess_review() : 리뷰 텍스트 소문자, 토큰화, 불용어 제거, 어간 처리"
      ],
      "metadata": {
        "id": "q9tYZHbonqs6"
      }
    },
    {
      "cell_type": "code",
      "source": [
        "# 필수 라이브러리 불러오기\n",
        "import os\n",
        "import pandas as pd\n",
        "import numpy as np\n",
        "import nltk\n",
        "import sys\n",
        "import openai\n",
        "from openai.embeddings_utils import get_embedding\n",
        "from openai.embeddings_utils import cosine_similarity\n",
        "\n",
        "def init_api():\n",
        "    with open(\"chatgpt.env\") as env:\n",
        "        for line in env:\n",
        "            key, value = line.strip().split(\"=\")\n",
        "            os.environ[key] = value\n",
        "    openai.api_key = os.environ.get(\"API_KEY\")\n",
        "    openai.organization = os.environ.get(\"ORG_ID\")\n",
        "\n",
        "def download_nltk_data():\n",
        "    try:\n",
        "        nltk.data.find('tokenizers/punkt')\n",
        "    except LookupError:\n",
        "        nltk.download('punkt')\n",
        "    try:\n",
        "        nltk.data.find('corpora/stopwords')\n",
        "    except LookupError:\n",
        "        nltk.download('stopwords')\n",
        "\n",
        "def preprocess_review(review):\n",
        "    from nltk.corpus import stopwords\n",
        "    from nltk.stem import PorterStemmer\n",
        "\n",
        "    stopwords = set(stopwords.words('english'))\n",
        "    stemmer = PorterStemmer()\n",
        "\n",
        "    tokens = nltk.word_tokenize(review.lower())\n",
        "    tokens = [token for token in tokens if token not in stopwords]\n",
        "    tokens = [stemmer.stem(token) for token in tokens]\n",
        "\n",
        "    return ' '.join(tokens)"
      ],
      "metadata": {
        "id": "3bHNzFnMnCoI"
      },
      "execution_count": 3,
      "outputs": []
    },
    {
      "cell_type": "code",
      "source": [
        "init_api()\n",
        "download_nltk_data()"
      ],
      "metadata": {
        "id": "bJqbirUuoQqY"
      },
      "execution_count": 4,
      "outputs": []
    },
    {
      "cell_type": "code",
      "source": [
        "# 사용자로부터 커피 이름 입력 받기\n",
        "input_coffee_name = input(\"Enter a coffee name: \")\n",
        "\n",
        "# CSV 파일 불러오기(데모로 처리 속도 향상을 위해 단 50행만 불러온다.\n",
        "df = pd.read_csv('simplified_coffee.csv', nrows=50)\n",
        "\n",
        "# 리뷰 텍스트 전처리: 소문자로 변환, 토큰화, 불용어 제거, 어간 추출\n",
        "df['preprocessed_review'] = df['review'].apply(preprocess_review)\n",
        "\n",
        "# 각 리뷰에 대한 임베딩 가져오기\n",
        "review_embeddings = []\n",
        "for review in df['preprocessed_review']:\n",
        "    review_embeddings.append(get_embedding(review, engine='text-embedding-ada-002'))\n",
        "\n",
        "# 입력된 커피 이름의 인덱스 얻기\n",
        "try:\n",
        "    input_coffee_index = df[df['name'] == input_coffee_name].index[0]\n",
        "except:\n",
        "    print(\"죄송합니다. 입력한 커피를 찾을 수가 없습니다.\")\n",
        "    sys.exit()\n",
        "\n",
        "# 입력된 커피 리뷰와 모든 다른 리뷰들 사이의 코사인 유사도 계산\n",
        "similarities = []\n",
        "input_review_embedding = review_embeddings[input_coffee_index]\n",
        "for review_embedding in review_embeddings:\n",
        "    similarity = cosine_similarity(input_review_embedding, review_embedding)\n",
        "    similarities.append(similarity)\n",
        "\n",
        "# 가장 유사한 리뷰들의 인덱스 얻기 (입력 커피 리뷰 자체를 제외)\n",
        "most_similar_indices = np.argsort(similarities)[-6:-1]\n",
        "\n",
        "# 가장 유사한 커피들의 이름 얻기\n",
        "similar_coffee_names = df.iloc[most_similar_indices]['name'].tolist()\n",
        "\n",
        "# 결과 출력\n",
        "print(\"The most similar coffees to {} are:\".format(input_coffee_name))\n",
        "for coffee_name in similar_coffee_names:\n",
        "    print(coffee_name)\n"
      ],
      "metadata": {
        "colab": {
          "base_uri": "https://localhost:8080/"
        },
        "id": "GT44O5U7NNBx",
        "outputId": "6f883982-e758-4f97-c0c1-a03537214af9"
      },
      "execution_count": 7,
      "outputs": [
        {
          "output_type": "stream",
          "name": "stdout",
          "text": [
            "Enter a coffee name: Ethiopia Yirgacheffe\n",
            "The most similar coffees to Ethiopia Yirgacheffe are:\n",
            "Kenya Gicherori\n",
            "Estate Carbonic Maceration\n",
            "“Naturals”\n",
            "Finca Merced Guatemala\n",
            "Civet Yirgacheffe Sisota\n"
          ]
        }
      ]
    },
    {
      "cell_type": "markdown",
      "source": [
        "#### np.argsort(similarities)이해"
      ],
      "metadata": {
        "id": "Q_a0s_Ru4vr1"
      }
    },
    {
      "cell_type": "code",
      "source": [
        "similarities = [0.8, 0.5, 0.9, 0.6, 0.7, 0.4, 0.3, 0.2, 0.1, 0.0]\n",
        "np.argsort(similarities)"
      ],
      "metadata": {
        "colab": {
          "base_uri": "https://localhost:8080/"
        },
        "id": "5e8mRw4s4viF",
        "outputId": "6ff5d899-ed85-4d5c-9346-f3036f4ccb51"
      },
      "execution_count": 10,
      "outputs": [
        {
          "output_type": "execute_result",
          "data": {
            "text/plain": [
              "array([9, 8, 7, 6, 5, 1, 3, 4, 0, 2])"
            ]
          },
          "metadata": {},
          "execution_count": 10
        }
      ]
    },
    {
      "cell_type": "code",
      "source": [
        "print(similarities[0], similarities[1], similarities[2])"
      ],
      "metadata": {
        "colab": {
          "base_uri": "https://localhost:8080/"
        },
        "id": "7OdAYN4t4478",
        "outputId": "48593ae9-0c23-4535-877e-613861f3d8c7"
      },
      "execution_count": 11,
      "outputs": [
        {
          "output_type": "stream",
          "name": "stdout",
          "text": [
            "0.8 0.5 0.9\n"
          ]
        }
      ]
    },
    {
      "cell_type": "code",
      "source": [
        "np.argsort(similarities)[-6:-1]"
      ],
      "metadata": {
        "colab": {
          "base_uri": "https://localhost:8080/"
        },
        "id": "BRbnvo_Q5KMo",
        "outputId": "ed69cea3-b4dc-44c6-9c81-d5e48b03f6a8"
      },
      "execution_count": 12,
      "outputs": [
        {
          "output_type": "execute_result",
          "data": {
            "text/plain": [
              "array([5, 1, 3, 4, 0])"
            ]
          },
          "metadata": {},
          "execution_count": 12
        }
      ]
    },
    {
      "cell_type": "markdown",
      "source": [
        "#### 개선된 전체 코드"
      ],
      "metadata": {
        "id": "uGp5oAviukvF"
      }
    },
    {
      "cell_type": "code",
      "source": [
        "# 필수 라이브러리 불러오기\n",
        "import os\n",
        "import pandas as pd\n",
        "import numpy as np\n",
        "import nltk\n",
        "import sys\n",
        "import openai\n",
        "from openai.embeddings_utils import get_embedding\n",
        "from openai.embeddings_utils import cosine_similarity\n",
        "\n",
        "def init_api():\n",
        "    with open(\"chatgpt.env\") as env:\n",
        "        for line in env:\n",
        "            key, value = line.strip().split(\"=\")\n",
        "            os.environ[key] = value\n",
        "    openai.api_key = os.environ.get(\"API_KEY\")\n",
        "    openai.organization = os.environ.get(\"ORG_ID\")\n",
        "\n",
        "def download_nltk_data():\n",
        "    try:\n",
        "        nltk.data.find('tokenizers/punkt')\n",
        "    except LookupError:\n",
        "        nltk.download('punkt')\n",
        "    try:\n",
        "        nltk.data.find('corpora/stopwords')\n",
        "    except LookupError:\n",
        "        nltk.download('stopwords')\n",
        "\n",
        "def preprocess_review(review):\n",
        "    from nltk.corpus import stopwords\n",
        "    from nltk.stem import PorterStemmer\n",
        "\n",
        "    stopwords = set(stopwords.words('english'))\n",
        "    stemmer = PorterStemmer()\n",
        "\n",
        "    tokens = nltk.word_tokenize(review.lower())\n",
        "    tokens = [token for token in tokens if token not in stopwords]\n",
        "    tokens = [stemmer.stem(token) for token in tokens]\n",
        "\n",
        "    return ' '.join(tokens)\n",
        "\n",
        "init_api()\n",
        "download_nltk_data()\n",
        "\n",
        "# 사용자로부터 커피 이름 입력 받기\n",
        "input_coffee_name = input(\"Enter a coffee name: \")\n",
        "\n",
        "# CSV 파일 불러오기(데모로 처리 속도 향상을 위해 단 50행만 불러온다.)\n",
        "df = pd.read_csv('simplified_coffee.csv', nrows=50)\n",
        "\n",
        "# 리뷰 텍스트 전처리: 소문자로 변환, 토큰화, 불용어 제거, 어간 추출\n",
        "df['preprocessed_review'] = df['review'].apply(preprocess_review)\n",
        "\n",
        "# 각 리뷰에 대한 임베딩 가져오기\n",
        "review_embeddings = []\n",
        "for review in df['preprocessed_review']:\n",
        "    review_embeddings.append(get_embedding(review, engine='text-embedding-ada-002'))\n",
        "\n",
        "# 입력 커피 이름의 인덱스 얻기\n",
        "try:\n",
        "    input_coffee_index = df[df['name'] == input_coffee_name].index[0]\n",
        "except IndexError:\n",
        "    # 각 커피 이름에 대한 임베딩 얻기\n",
        "    print(\"Sorry, we don't have that coffee name in our database. We'll try to find the closest match.\")\n",
        "    name_embeddings = []\n",
        "    for name in df['name']:\n",
        "        name_embeddings.append(get_embedding(name, engine='text-embedding-ada-002'))\n",
        "\n",
        "    # 입력된 커피 이름과 모든 다른 커피 이름들 사이의 코사인 유사도 검색\n",
        "    input_coffee_embedding = get_embedding(input_coffee_name, engine='text-embedding-ada-002')\n",
        "    _similarities = []\n",
        "    for name_embedding in name_embeddings:\n",
        "        _similarities.append(cosine_similarity(input_coffee_embedding, name_embedding))\n",
        "\n",
        "    # 가장 유사한 커피 이름의 인덱스 얻기\n",
        "    input_coffee_index = _similarities.index(max(_similarities))\n",
        "except:\n",
        "    print(\"Sorry, we don't have that coffee name in our database. Please try again.\")\n",
        "    exit()\n",
        "\n",
        "# 입력된 커피 리뷰와 모든 다른 리뷰들 사이의 코사인 유사도 계산\n",
        "similarities = []\n",
        "input_review_embedding = review_embeddings[input_coffee_index]\n",
        "for review_embedding in review_embeddings:\n",
        "    similarity = cosine_similarity(input_review_embedding, review_embedding)\n",
        "    similarities.append(similarity)\n",
        "\n",
        "# 가장 유사한 리뷰들의 인덱스 얻기 (입력 커피 리뷰 자체를 제외)\n",
        "most_similar_indices = np.argsort(similarities)[-6:-1]\n",
        "\n",
        "# 가장 유사한 커피들의 이름 얻기\n",
        "similar_coffee_names = df.iloc[most_similar_indices]['name'].tolist()\n",
        "\n",
        "# 결과 출력\n",
        "print(\"The most similar coffees to {} are:\".format(input_coffee_name))\n",
        "for coffee_name in similar_coffee_names:\n",
        "    print(coffee_name)\n"
      ],
      "metadata": {
        "colab": {
          "base_uri": "https://localhost:8080/"
        },
        "id": "xtTlwnl3OJap",
        "outputId": "650454b3-51c0-4c80-9dad-aaf51fa4f5ce"
      },
      "execution_count": 14,
      "outputs": [
        {
          "output_type": "stream",
          "name": "stdout",
          "text": [
            "Enter a coffee name: Ethiopia Yirgacheffe\n",
            "The most similar coffees to Ethiopia Yirgacheffe are:\n",
            "Kenya Gicherori\n",
            "Estate Carbonic Maceration\n",
            "“Naturals”\n",
            "Finca Merced Guatemala\n",
            "Civet Yirgacheffe Sisota\n"
          ]
        }
      ]
    },
    {
      "cell_type": "markdown",
      "source": [
        "### 임베딩으로 뉴스 카테고리 예측하기\n"
      ],
      "metadata": {
        "id": "zAoGmuB4Uled"
      }
    },
    {
      "cell_type": "code",
      "source": [
        "import os\n",
        "import openai\n",
        "import pandas as pd\n",
        "from openai.embeddings_utils import get_embedding\n",
        "from openai.embeddings_utils import cosine_similarity\n",
        "\n",
        "def init_api():\n",
        "    with open(\"chatgpt.env\") as env:\n",
        "        for line in env:\n",
        "            key, value = line.strip().split(\"=\")\n",
        "            os.environ[key] = value\n",
        "\n",
        "    openai.api_key = os.environ.get(\"API_KEY\")\n",
        "    openai.organization = os.environ.get(\"ORG_ID\")\n",
        "\n",
        "init_api()\n"
      ],
      "metadata": {
        "id": "0Gq4oRPmR42x"
      },
      "execution_count": null,
      "outputs": []
    },
    {
      "cell_type": "code",
      "source": [
        "categories = [\n",
        "    'U.S. NEWS',\n",
        "    'COMEDY',\n",
        "    'PARENTING',\n",
        "    'WORLD NEWS',\n",
        "    'CULTURE & ARTS',\n",
        "    'TECH',\n",
        "    'SPORTS'\n",
        "    ]\n",
        "\n",
        "# 문장을 분류하는 함수를 정의합니다.\n",
        "def classify_sentence(sentence):\n",
        "    # 문장의 임베딩을 얻습니다.\n",
        "    sentence_embedding = get_embedding(sentence, engine=\"text-embedding-ada-002\")\n",
        "    # 문장과 각 카테고리 사이의 유사도 점수를 계산합니다.\n",
        "    similarity_scores = {}\n",
        "    for category in categories:\n",
        "        category_embeddings = get_embedding(category, engine=\"text-embedding-ada-002\")\n",
        "        similarity_scores[category] = cosine_similarity(sentence_embedding, category_embeddings)\n",
        "# 가장 높은 유사도 점수를 가진 카테고리를 반환합니다.\n",
        "    return max(similarity_scores, key=similarity_scores.get)\n"
      ],
      "metadata": {
        "id": "PX8jhGt5Uo8n"
      },
      "execution_count": 15,
      "outputs": []
    },
    {
      "cell_type": "markdown",
      "source": [
        "#### 문장 분류하기"
      ],
      "metadata": {
        "id": "tskQE9SXUrtp"
      }
    },
    {
      "cell_type": "code",
      "source": [
        "# 문장 분류하기\n",
        "sentences = [\n",
        "    \"1 dead and 3 injured in El Paso, Texas, mall shooting\",\n",
        "    \"Director Owen Kline Calls Funny Pages His ‘Self-Critical’ Debut\",\n",
        "    \"15 spring break ideas for families that want to get away\",\n",
        "    \"The US is preparing to send more troops to the Middle East\",\n",
        "    \"Bruce Willis' 'condition has progressed' to frontotemporal dementia, his family says\",\n",
        "    \"Get an inside look at Universal’s new Super Nintendo World\",\n",
        "    \"Barcelona 2-2 Manchester United: Marcus Rashford shines but Raphinha salvages draw for hosts\",\n",
        "    \"Chicago bulls win the NBA championship\",\n",
        "    \"The new iPhone 12 is now available\",\n",
        "    \"Scientists discover a new dinosaur species\",\n",
        "    \"The new coronavirus vaccine is now available\",\n",
        "    \"The new Star Wars movie is now available\",\n",
        "    \"Amazon stock hits a new record high\",\n",
        "]\n",
        "\n",
        "for sentence in sentences:\n",
        "    print(\"{:50} category is {}\".format(sentence, classify_sentence(sentence)))\n",
        "    print()\n"
      ],
      "metadata": {
        "colab": {
          "base_uri": "https://localhost:8080/"
        },
        "id": "3-7jizrzU5Ci",
        "outputId": "3a1aaeaf-e652-4832-d408-01d8ee97802a"
      },
      "execution_count": 16,
      "outputs": [
        {
          "output_type": "stream",
          "name": "stdout",
          "text": [
            "1 dead and 3 injured in El Paso, Texas, mall shooting category is WORLD NEWS\n",
            "\n",
            "Director Owen Kline Calls Funny Pages His ‘Self-Critical’ Debut category is COMEDY\n",
            "\n",
            "15 spring break ideas for families that want to get away category is PARENTING\n",
            "\n",
            "The US is preparing to send more troops to the Middle East category is WORLD NEWS\n",
            "\n",
            "Bruce Willis' 'condition has progressed' to frontotemporal dementia, his family says category is WORLD NEWS\n",
            "\n",
            "Get an inside look at Universal’s new Super Nintendo World category is WORLD NEWS\n",
            "\n",
            "Barcelona 2-2 Manchester United: Marcus Rashford shines but Raphinha salvages draw for hosts category is SPORTS\n",
            "\n",
            "Chicago bulls win the NBA championship             category is SPORTS\n",
            "\n",
            "The new iPhone 12 is now available                 category is TECH\n",
            "\n",
            "Scientists discover a new dinosaur species         category is WORLD NEWS\n",
            "\n",
            "The new coronavirus vaccine is now available       category is WORLD NEWS\n",
            "\n",
            "The new Star Wars movie is now available           category is WORLD NEWS\n",
            "\n",
            "Amazon stock hits a new record high                category is WORLD NEWS\n",
            "\n"
          ]
        }
      ]
    },
    {
      "cell_type": "markdown",
      "source": [
        "#### 카테고리 분류 최종 코드"
      ],
      "metadata": {
        "id": "1LRw-892U5Qa"
      }
    },
    {
      "cell_type": "code",
      "source": [
        "# 필수 라이브러리 불러오기\n",
        "import os\n",
        "import openai\n",
        "import pandas as pd\n",
        "from openai.embeddings_utils import get_embedding\n",
        "from openai.embeddings_utils import cosine_similarity\n",
        "\n",
        "def init_api():\n",
        "    with open(\"chatgpt.env\") as env:\n",
        "        for line in env:\n",
        "            key, value = line.strip().split(\"=\")\n",
        "            os.environ[key] = value\n",
        "    openai.api_key = os.environ.get(\"API_KEY\")\n",
        "    openai.organization = os.environ.get(\"ORG_ID\")\n",
        "\n",
        "init_api()\n",
        "\n",
        "categories = [\"POLITICS\", \"WELLNESS\", \"ENTERTAINMENT\", \"TRAVEL\", \"STYLE & BEAUTY\",\n",
        "              \"PARENTING\", \"HEALTHY LIVING\", \"QUEER VOICES\", \"FOOD & DRINK\", \"BUSINESS\",\n",
        "              \"COMEDY\", \"SPORTS\", \"BLACK VOICES\", \"HOME & LIVING\", \"PARENTS\"]\n",
        "\n",
        "# 문장을 분류하는 함수 정의\n",
        "def classify_sentence(sentence):\n",
        "    # 문장의 임베딩 얻기\n",
        "    sentence_embedding = get_embedding(sentence, engine=\"text-embedding-ada-002\")\n",
        "\n",
        "    # 문장과 각 카테고리 사이의 유사도 점수 계산\n",
        "    similarity_scores = {}\n",
        "    for category in categories:\n",
        "        category_embeddings = get_embedding(category, engine=\"text-embedding-ada-002\")\n",
        "        similarity_scores[category] = cosine_similarity(sentence_embedding, category_embeddings)\n",
        "\n",
        "    # 가장 높은 유사도 점수를 가진 카테고리 반환\n",
        "    return max(similarity_scores, key=similarity_scores.get)\n",
        "\n",
        "# 문장 분류\n",
        "sentences = [\n",
        "    \"1 dead and 3 injured in El Paso, Texas, mall shooting\",\n",
        "    \"Director Owen Kline Calls Funny Pages His 'Self-Critical' Debut\",\n",
        "    \"15 spring break ideas for families that want to get away\",\n",
        "    \"The US is preparing to send more troops to the Middle East\",\n",
        "    \"Bruce Willis' 'condition has progressed' to frontotemporal dementia, his family says\",\n",
        "    \"Get an inside look at Universal's new Super Nintendo World\",\n",
        "    \"Barcelona 2-2 Manchester United: Marcus Rashford shines but Raphinha salvages draw for hosts\",\n",
        "    \"Chicago bulls win the NBA championship\",\n",
        "    \"The new iPhone 12 is now available\",\n",
        "    \"Scientists discover a new dinosaur species\",\n",
        "    \"The new coronavirus vaccine is now available\",\n",
        "    \"The new Star Wars movie is now available\",\n",
        "    \"Amazon stock hits a new record high\",\n",
        "]\n",
        "\n",
        "for sentence in sentences:\n",
        "    print(\"{:50} category is {}\".format(sentence, classify_sentence(sentence)))\n",
        "\n",
        "print()\n"
      ],
      "metadata": {
        "colab": {
          "base_uri": "https://localhost:8080/"
        },
        "id": "LMRMcQU-VIPl",
        "outputId": "a3421050-3d82-4f06-8272-33742552c3d5"
      },
      "execution_count": 17,
      "outputs": [
        {
          "output_type": "stream",
          "name": "stdout",
          "text": [
            "1 dead and 3 injured in El Paso, Texas, mall shooting category is ENTERTAINMENT\n",
            "Director Owen Kline Calls Funny Pages His 'Self-Critical' Debut category is COMEDY\n",
            "15 spring break ideas for families that want to get away category is TRAVEL\n",
            "The US is preparing to send more troops to the Middle East category is TRAVEL\n",
            "Bruce Willis' 'condition has progressed' to frontotemporal dementia, his family says category is WELLNESS\n",
            "Get an inside look at Universal's new Super Nintendo World category is ENTERTAINMENT\n",
            "Barcelona 2-2 Manchester United: Marcus Rashford shines but Raphinha salvages draw for hosts category is SPORTS\n",
            "Chicago bulls win the NBA championship             category is SPORTS\n",
            "The new iPhone 12 is now available                 category is BUSINESS\n",
            "Scientists discover a new dinosaur species         category is TRAVEL\n",
            "The new coronavirus vaccine is now available       category is WELLNESS\n",
            "The new Star Wars movie is now available           category is ENTERTAINMENT\n",
            "Amazon stock hits a new record high                category is BUSINESS\n",
            "\n"
          ]
        }
      ]
    },
    {
      "cell_type": "markdown",
      "source": [
        "### 제로샷(Zero-Shot)분류기의 정확도 평가하기"
      ],
      "metadata": {
        "id": "vSpLFfDiwaor"
      }
    },
    {
      "cell_type": "markdown",
      "source": [
        "#### 캐글 데이터 셋 - 제로샷(Zero-Shot)"
      ],
      "metadata": {
        "id": "BJDpHxbmVL_4"
      }
    },
    {
      "cell_type": "markdown",
      "source": [
        "#### 데이터 읽기"
      ],
      "metadata": {
        "id": "iBB3Kc66ygDj"
      }
    },
    {
      "cell_type": "code",
      "source": [
        "df = pd.read_json(\"data/News_Category_Dataset_v3.json\", lines = True ).head(20)\n",
        "df"
      ],
      "metadata": {
        "colab": {
          "base_uri": "https://localhost:8080/",
          "height": 1000
        },
        "id": "h03BJp1CaJoR",
        "outputId": "b0cdbfa3-4b97-4654-f4d6-c67e1062a858"
      },
      "execution_count": 19,
      "outputs": [
        {
          "output_type": "execute_result",
          "data": {
            "text/plain": [
              "                                                 link  \\\n",
              "0   https://www.huffpost.com/entry/covid-boosters-...   \n",
              "1   https://www.huffpost.com/entry/american-airlin...   \n",
              "2   https://www.huffpost.com/entry/funniest-tweets...   \n",
              "3   https://www.huffpost.com/entry/funniest-parent...   \n",
              "4   https://www.huffpost.com/entry/amy-cooper-lose...   \n",
              "5   https://www.huffpost.com/entry/belk-worker-fou...   \n",
              "6   https://www.huffpost.com/entry/reporter-gets-a...   \n",
              "7   https://www.huffpost.com/entry/puerto-rico-wat...   \n",
              "8   https://www.huffpost.com/entry/mija-documentar...   \n",
              "9   https://www.huffpost.com/entry/biden-un-russia...   \n",
              "10  https://www.huffpost.com/entry/bc-soc-wcup-cap...   \n",
              "11  https://www.huffpost.com/entry/man-sets-fire-p...   \n",
              "12  https://www.huffpost.com/entry/fiona-threatens...   \n",
              "13  https://www.huffpost.com/entry/twitch-streamer...   \n",
              "14  https://www.huffpost.com/entry/virginia-thomas...   \n",
              "15  https://www.huffpost.com/entry/valery-polyakov...   \n",
              "16  https://www.huffpost.com/entry/hulu-reboot-sho...   \n",
              "17  https://www.huffpost.com/entry/dodgers-basebal...   \n",
              "18  https://www.huffpost.com/entry/russian-control...   \n",
              "19  https://www.huffpost.com/entry/hurricane-fiona...   \n",
              "\n",
              "                                             headline        category  \\\n",
              "0   Over 4 Million Americans Roll Up Sleeves For O...       U.S. NEWS   \n",
              "1   American Airlines Flyer Charged, Banned For Li...       U.S. NEWS   \n",
              "2   23 Of The Funniest Tweets About Cats And Dogs ...          COMEDY   \n",
              "3   The Funniest Tweets From Parents This Week (Se...       PARENTING   \n",
              "4   Woman Who Called Cops On Black Bird-Watcher Lo...       U.S. NEWS   \n",
              "5   Cleaner Was Dead In Belk Bathroom For 4 Days B...       U.S. NEWS   \n",
              "6   Reporter Gets Adorable Surprise From Her Boyfr...       U.S. NEWS   \n",
              "7   Puerto Ricans Desperate For Water After Hurric...      WORLD NEWS   \n",
              "8   How A New Documentary Captures The Complexity ...  CULTURE & ARTS   \n",
              "9   Biden At UN To Call Russian War An Affront To ...      WORLD NEWS   \n",
              "10  World Cup Captains Want To Wear Rainbow Armban...      WORLD NEWS   \n",
              "11  Man Sets Himself On Fire In Apparent Protest O...      WORLD NEWS   \n",
              "12  Fiona Threatens To Become Category 4 Storm Hea...      WORLD NEWS   \n",
              "13  Twitch Bans Gambling Sites After Streamer Scam...            TECH   \n",
              "14  Virginia Thomas Agrees To Interview With Jan. ...       U.S. NEWS   \n",
              "15  Russian Cosmonaut Valery Polyakov Who Broke Re...      WORLD NEWS   \n",
              "16  'Reboot' Is A Clever And Not Too Navel-Gazey L...  CULTURE & ARTS   \n",
              "17  Maury Wills, Base-Stealing Shortstop For Dodge...          SPORTS   \n",
              "18  4 Russian-Controlled Ukrainian Regions Schedul...      WORLD NEWS   \n",
              "19  Fiona Barrels Toward Turks And Caicos Islands ...      WORLD NEWS   \n",
              "\n",
              "                                    short_description  \\\n",
              "0   Health experts said it is too early to predict...   \n",
              "1   He was subdued by passengers and crew when he ...   \n",
              "2   \"Until you have a dog you don't understand wha...   \n",
              "3   \"Accidentally put grown-up toothpaste on my to...   \n",
              "4   Amy Cooper accused investment firm Franklin Te...   \n",
              "5   The 63-year-old woman was seen working at the ...   \n",
              "6   \"Who's that behind you?\" an anchor for New Yor...   \n",
              "7   More than half a million people remained witho...   \n",
              "8   In \"Mija,\" director Isabel Castro combined mus...   \n",
              "9   White House officials say the crux of the pres...   \n",
              "10  FIFA has come under pressure from several Euro...   \n",
              "11  The incident underscores a growing wave of pro...   \n",
              "12  Hurricane Fiona lashed the Turks and Caicos Is...   \n",
              "13  One man's claims that he scammed people on the...   \n",
              "14  Conservative activist Virginia Thomas, the wif...   \n",
              "15  Polyakov's record-breaking trip to outer space...   \n",
              "16  Starring Keegan-Michael Key, Judy Greer and Jo...   \n",
              "17  Maury Wills, who helped the Los Angeles Dodger...   \n",
              "18  The concerted and quickening Kremlin-backed ef...   \n",
              "19  The Turks and Caicos Islands government impose...   \n",
              "\n",
              "                                    authors       date  \n",
              "0                      Carla K. Johnson, AP 2022-09-23  \n",
              "1                            Mary Papenfuss 2022-09-23  \n",
              "2                             Elyse Wanshel 2022-09-23  \n",
              "3                          Caroline Bologna 2022-09-23  \n",
              "4                            Nina Golgowski 2022-09-22  \n",
              "5                                           2022-09-22  \n",
              "6                             Elyse Wanshel 2022-09-22  \n",
              "7                           DÁNICA COTO, AP 2022-09-22  \n",
              "8                               Marina Fang 2022-09-22  \n",
              "9                         Aamer Madhani, AP 2022-09-21  \n",
              "10                        GRAHAM DUNBAR, AP 2022-09-21  \n",
              "11                       Mari Yamaguchi, AP 2022-09-21  \n",
              "12                          Dánica Coto, AP 2022-09-21  \n",
              "13                             Ben Blanchet 2022-09-21  \n",
              "14  Eric Tucker and Mary Clare Jalonick, AP 2022-09-21  \n",
              "15                        Marco Margaritoff 2022-09-20  \n",
              "16        Marina Fang and Candice Frederick 2022-09-20  \n",
              "17                          Beth Harris, AP 2022-09-20  \n",
              "18                         Jon Gambrell, AP 2022-09-20  \n",
              "19                          Dánica Coto, AP 2022-09-20  "
            ],
            "text/html": [
              "\n",
              "  <div id=\"df-6b8f0a02-e0d7-49be-bf2f-3de6cf862d5c\" class=\"colab-df-container\">\n",
              "    <div>\n",
              "<style scoped>\n",
              "    .dataframe tbody tr th:only-of-type {\n",
              "        vertical-align: middle;\n",
              "    }\n",
              "\n",
              "    .dataframe tbody tr th {\n",
              "        vertical-align: top;\n",
              "    }\n",
              "\n",
              "    .dataframe thead th {\n",
              "        text-align: right;\n",
              "    }\n",
              "</style>\n",
              "<table border=\"1\" class=\"dataframe\">\n",
              "  <thead>\n",
              "    <tr style=\"text-align: right;\">\n",
              "      <th></th>\n",
              "      <th>link</th>\n",
              "      <th>headline</th>\n",
              "      <th>category</th>\n",
              "      <th>short_description</th>\n",
              "      <th>authors</th>\n",
              "      <th>date</th>\n",
              "    </tr>\n",
              "  </thead>\n",
              "  <tbody>\n",
              "    <tr>\n",
              "      <th>0</th>\n",
              "      <td>https://www.huffpost.com/entry/covid-boosters-...</td>\n",
              "      <td>Over 4 Million Americans Roll Up Sleeves For O...</td>\n",
              "      <td>U.S. NEWS</td>\n",
              "      <td>Health experts said it is too early to predict...</td>\n",
              "      <td>Carla K. Johnson, AP</td>\n",
              "      <td>2022-09-23</td>\n",
              "    </tr>\n",
              "    <tr>\n",
              "      <th>1</th>\n",
              "      <td>https://www.huffpost.com/entry/american-airlin...</td>\n",
              "      <td>American Airlines Flyer Charged, Banned For Li...</td>\n",
              "      <td>U.S. NEWS</td>\n",
              "      <td>He was subdued by passengers and crew when he ...</td>\n",
              "      <td>Mary Papenfuss</td>\n",
              "      <td>2022-09-23</td>\n",
              "    </tr>\n",
              "    <tr>\n",
              "      <th>2</th>\n",
              "      <td>https://www.huffpost.com/entry/funniest-tweets...</td>\n",
              "      <td>23 Of The Funniest Tweets About Cats And Dogs ...</td>\n",
              "      <td>COMEDY</td>\n",
              "      <td>\"Until you have a dog you don't understand wha...</td>\n",
              "      <td>Elyse Wanshel</td>\n",
              "      <td>2022-09-23</td>\n",
              "    </tr>\n",
              "    <tr>\n",
              "      <th>3</th>\n",
              "      <td>https://www.huffpost.com/entry/funniest-parent...</td>\n",
              "      <td>The Funniest Tweets From Parents This Week (Se...</td>\n",
              "      <td>PARENTING</td>\n",
              "      <td>\"Accidentally put grown-up toothpaste on my to...</td>\n",
              "      <td>Caroline Bologna</td>\n",
              "      <td>2022-09-23</td>\n",
              "    </tr>\n",
              "    <tr>\n",
              "      <th>4</th>\n",
              "      <td>https://www.huffpost.com/entry/amy-cooper-lose...</td>\n",
              "      <td>Woman Who Called Cops On Black Bird-Watcher Lo...</td>\n",
              "      <td>U.S. NEWS</td>\n",
              "      <td>Amy Cooper accused investment firm Franklin Te...</td>\n",
              "      <td>Nina Golgowski</td>\n",
              "      <td>2022-09-22</td>\n",
              "    </tr>\n",
              "    <tr>\n",
              "      <th>5</th>\n",
              "      <td>https://www.huffpost.com/entry/belk-worker-fou...</td>\n",
              "      <td>Cleaner Was Dead In Belk Bathroom For 4 Days B...</td>\n",
              "      <td>U.S. NEWS</td>\n",
              "      <td>The 63-year-old woman was seen working at the ...</td>\n",
              "      <td></td>\n",
              "      <td>2022-09-22</td>\n",
              "    </tr>\n",
              "    <tr>\n",
              "      <th>6</th>\n",
              "      <td>https://www.huffpost.com/entry/reporter-gets-a...</td>\n",
              "      <td>Reporter Gets Adorable Surprise From Her Boyfr...</td>\n",
              "      <td>U.S. NEWS</td>\n",
              "      <td>\"Who's that behind you?\" an anchor for New Yor...</td>\n",
              "      <td>Elyse Wanshel</td>\n",
              "      <td>2022-09-22</td>\n",
              "    </tr>\n",
              "    <tr>\n",
              "      <th>7</th>\n",
              "      <td>https://www.huffpost.com/entry/puerto-rico-wat...</td>\n",
              "      <td>Puerto Ricans Desperate For Water After Hurric...</td>\n",
              "      <td>WORLD NEWS</td>\n",
              "      <td>More than half a million people remained witho...</td>\n",
              "      <td>DÁNICA COTO, AP</td>\n",
              "      <td>2022-09-22</td>\n",
              "    </tr>\n",
              "    <tr>\n",
              "      <th>8</th>\n",
              "      <td>https://www.huffpost.com/entry/mija-documentar...</td>\n",
              "      <td>How A New Documentary Captures The Complexity ...</td>\n",
              "      <td>CULTURE &amp; ARTS</td>\n",
              "      <td>In \"Mija,\" director Isabel Castro combined mus...</td>\n",
              "      <td>Marina Fang</td>\n",
              "      <td>2022-09-22</td>\n",
              "    </tr>\n",
              "    <tr>\n",
              "      <th>9</th>\n",
              "      <td>https://www.huffpost.com/entry/biden-un-russia...</td>\n",
              "      <td>Biden At UN To Call Russian War An Affront To ...</td>\n",
              "      <td>WORLD NEWS</td>\n",
              "      <td>White House officials say the crux of the pres...</td>\n",
              "      <td>Aamer Madhani, AP</td>\n",
              "      <td>2022-09-21</td>\n",
              "    </tr>\n",
              "    <tr>\n",
              "      <th>10</th>\n",
              "      <td>https://www.huffpost.com/entry/bc-soc-wcup-cap...</td>\n",
              "      <td>World Cup Captains Want To Wear Rainbow Armban...</td>\n",
              "      <td>WORLD NEWS</td>\n",
              "      <td>FIFA has come under pressure from several Euro...</td>\n",
              "      <td>GRAHAM DUNBAR, AP</td>\n",
              "      <td>2022-09-21</td>\n",
              "    </tr>\n",
              "    <tr>\n",
              "      <th>11</th>\n",
              "      <td>https://www.huffpost.com/entry/man-sets-fire-p...</td>\n",
              "      <td>Man Sets Himself On Fire In Apparent Protest O...</td>\n",
              "      <td>WORLD NEWS</td>\n",
              "      <td>The incident underscores a growing wave of pro...</td>\n",
              "      <td>Mari Yamaguchi, AP</td>\n",
              "      <td>2022-09-21</td>\n",
              "    </tr>\n",
              "    <tr>\n",
              "      <th>12</th>\n",
              "      <td>https://www.huffpost.com/entry/fiona-threatens...</td>\n",
              "      <td>Fiona Threatens To Become Category 4 Storm Hea...</td>\n",
              "      <td>WORLD NEWS</td>\n",
              "      <td>Hurricane Fiona lashed the Turks and Caicos Is...</td>\n",
              "      <td>Dánica Coto, AP</td>\n",
              "      <td>2022-09-21</td>\n",
              "    </tr>\n",
              "    <tr>\n",
              "      <th>13</th>\n",
              "      <td>https://www.huffpost.com/entry/twitch-streamer...</td>\n",
              "      <td>Twitch Bans Gambling Sites After Streamer Scam...</td>\n",
              "      <td>TECH</td>\n",
              "      <td>One man's claims that he scammed people on the...</td>\n",
              "      <td>Ben Blanchet</td>\n",
              "      <td>2022-09-21</td>\n",
              "    </tr>\n",
              "    <tr>\n",
              "      <th>14</th>\n",
              "      <td>https://www.huffpost.com/entry/virginia-thomas...</td>\n",
              "      <td>Virginia Thomas Agrees To Interview With Jan. ...</td>\n",
              "      <td>U.S. NEWS</td>\n",
              "      <td>Conservative activist Virginia Thomas, the wif...</td>\n",
              "      <td>Eric Tucker and Mary Clare Jalonick, AP</td>\n",
              "      <td>2022-09-21</td>\n",
              "    </tr>\n",
              "    <tr>\n",
              "      <th>15</th>\n",
              "      <td>https://www.huffpost.com/entry/valery-polyakov...</td>\n",
              "      <td>Russian Cosmonaut Valery Polyakov Who Broke Re...</td>\n",
              "      <td>WORLD NEWS</td>\n",
              "      <td>Polyakov's record-breaking trip to outer space...</td>\n",
              "      <td>Marco Margaritoff</td>\n",
              "      <td>2022-09-20</td>\n",
              "    </tr>\n",
              "    <tr>\n",
              "      <th>16</th>\n",
              "      <td>https://www.huffpost.com/entry/hulu-reboot-sho...</td>\n",
              "      <td>'Reboot' Is A Clever And Not Too Navel-Gazey L...</td>\n",
              "      <td>CULTURE &amp; ARTS</td>\n",
              "      <td>Starring Keegan-Michael Key, Judy Greer and Jo...</td>\n",
              "      <td>Marina Fang and Candice Frederick</td>\n",
              "      <td>2022-09-20</td>\n",
              "    </tr>\n",
              "    <tr>\n",
              "      <th>17</th>\n",
              "      <td>https://www.huffpost.com/entry/dodgers-basebal...</td>\n",
              "      <td>Maury Wills, Base-Stealing Shortstop For Dodge...</td>\n",
              "      <td>SPORTS</td>\n",
              "      <td>Maury Wills, who helped the Los Angeles Dodger...</td>\n",
              "      <td>Beth Harris, AP</td>\n",
              "      <td>2022-09-20</td>\n",
              "    </tr>\n",
              "    <tr>\n",
              "      <th>18</th>\n",
              "      <td>https://www.huffpost.com/entry/russian-control...</td>\n",
              "      <td>4 Russian-Controlled Ukrainian Regions Schedul...</td>\n",
              "      <td>WORLD NEWS</td>\n",
              "      <td>The concerted and quickening Kremlin-backed ef...</td>\n",
              "      <td>Jon Gambrell, AP</td>\n",
              "      <td>2022-09-20</td>\n",
              "    </tr>\n",
              "    <tr>\n",
              "      <th>19</th>\n",
              "      <td>https://www.huffpost.com/entry/hurricane-fiona...</td>\n",
              "      <td>Fiona Barrels Toward Turks And Caicos Islands ...</td>\n",
              "      <td>WORLD NEWS</td>\n",
              "      <td>The Turks and Caicos Islands government impose...</td>\n",
              "      <td>Dánica Coto, AP</td>\n",
              "      <td>2022-09-20</td>\n",
              "    </tr>\n",
              "  </tbody>\n",
              "</table>\n",
              "</div>\n",
              "    <div class=\"colab-df-buttons\">\n",
              "\n",
              "  <div class=\"colab-df-container\">\n",
              "    <button class=\"colab-df-convert\" onclick=\"convertToInteractive('df-6b8f0a02-e0d7-49be-bf2f-3de6cf862d5c')\"\n",
              "            title=\"Convert this dataframe to an interactive table.\"\n",
              "            style=\"display:none;\">\n",
              "\n",
              "  <svg xmlns=\"http://www.w3.org/2000/svg\" height=\"24px\" viewBox=\"0 -960 960 960\">\n",
              "    <path d=\"M120-120v-720h720v720H120Zm60-500h600v-160H180v160Zm220 220h160v-160H400v160Zm0 220h160v-160H400v160ZM180-400h160v-160H180v160Zm440 0h160v-160H620v160ZM180-180h160v-160H180v160Zm440 0h160v-160H620v160Z\"/>\n",
              "  </svg>\n",
              "    </button>\n",
              "\n",
              "  <style>\n",
              "    .colab-df-container {\n",
              "      display:flex;\n",
              "      gap: 12px;\n",
              "    }\n",
              "\n",
              "    .colab-df-convert {\n",
              "      background-color: #E8F0FE;\n",
              "      border: none;\n",
              "      border-radius: 50%;\n",
              "      cursor: pointer;\n",
              "      display: none;\n",
              "      fill: #1967D2;\n",
              "      height: 32px;\n",
              "      padding: 0 0 0 0;\n",
              "      width: 32px;\n",
              "    }\n",
              "\n",
              "    .colab-df-convert:hover {\n",
              "      background-color: #E2EBFA;\n",
              "      box-shadow: 0px 1px 2px rgba(60, 64, 67, 0.3), 0px 1px 3px 1px rgba(60, 64, 67, 0.15);\n",
              "      fill: #174EA6;\n",
              "    }\n",
              "\n",
              "    .colab-df-buttons div {\n",
              "      margin-bottom: 4px;\n",
              "    }\n",
              "\n",
              "    [theme=dark] .colab-df-convert {\n",
              "      background-color: #3B4455;\n",
              "      fill: #D2E3FC;\n",
              "    }\n",
              "\n",
              "    [theme=dark] .colab-df-convert:hover {\n",
              "      background-color: #434B5C;\n",
              "      box-shadow: 0px 1px 3px 1px rgba(0, 0, 0, 0.15);\n",
              "      filter: drop-shadow(0px 1px 2px rgba(0, 0, 0, 0.3));\n",
              "      fill: #FFFFFF;\n",
              "    }\n",
              "  </style>\n",
              "\n",
              "    <script>\n",
              "      const buttonEl =\n",
              "        document.querySelector('#df-6b8f0a02-e0d7-49be-bf2f-3de6cf862d5c button.colab-df-convert');\n",
              "      buttonEl.style.display =\n",
              "        google.colab.kernel.accessAllowed ? 'block' : 'none';\n",
              "\n",
              "      async function convertToInteractive(key) {\n",
              "        const element = document.querySelector('#df-6b8f0a02-e0d7-49be-bf2f-3de6cf862d5c');\n",
              "        const dataTable =\n",
              "          await google.colab.kernel.invokeFunction('convertToInteractive',\n",
              "                                                    [key], {});\n",
              "        if (!dataTable) return;\n",
              "\n",
              "        const docLinkHtml = 'Like what you see? Visit the ' +\n",
              "          '<a target=\"_blank\" href=https://colab.research.google.com/notebooks/data_table.ipynb>data table notebook</a>'\n",
              "          + ' to learn more about interactive tables.';\n",
              "        element.innerHTML = '';\n",
              "        dataTable['output_type'] = 'display_data';\n",
              "        await google.colab.output.renderOutput(dataTable, element);\n",
              "        const docLink = document.createElement('div');\n",
              "        docLink.innerHTML = docLinkHtml;\n",
              "        element.appendChild(docLink);\n",
              "      }\n",
              "    </script>\n",
              "  </div>\n",
              "\n",
              "\n",
              "<div id=\"df-f0c55c13-ebe8-4da6-aa0c-65b36004b342\">\n",
              "  <button class=\"colab-df-quickchart\" onclick=\"quickchart('df-f0c55c13-ebe8-4da6-aa0c-65b36004b342')\"\n",
              "            title=\"Suggest charts.\"\n",
              "            style=\"display:none;\">\n",
              "\n",
              "<svg xmlns=\"http://www.w3.org/2000/svg\" height=\"24px\"viewBox=\"0 0 24 24\"\n",
              "     width=\"24px\">\n",
              "    <g>\n",
              "        <path d=\"M19 3H5c-1.1 0-2 .9-2 2v14c0 1.1.9 2 2 2h14c1.1 0 2-.9 2-2V5c0-1.1-.9-2-2-2zM9 17H7v-7h2v7zm4 0h-2V7h2v10zm4 0h-2v-4h2v4z\"/>\n",
              "    </g>\n",
              "</svg>\n",
              "  </button>\n",
              "\n",
              "<style>\n",
              "  .colab-df-quickchart {\n",
              "    background-color: #E8F0FE;\n",
              "    border: none;\n",
              "    border-radius: 50%;\n",
              "    cursor: pointer;\n",
              "    display: none;\n",
              "    fill: #1967D2;\n",
              "    height: 32px;\n",
              "    padding: 0 0 0 0;\n",
              "    width: 32px;\n",
              "  }\n",
              "\n",
              "  .colab-df-quickchart:hover {\n",
              "    background-color: #E2EBFA;\n",
              "    box-shadow: 0px 1px 2px rgba(60, 64, 67, 0.3), 0px 1px 3px 1px rgba(60, 64, 67, 0.15);\n",
              "    fill: #174EA6;\n",
              "  }\n",
              "\n",
              "  [theme=dark] .colab-df-quickchart {\n",
              "    background-color: #3B4455;\n",
              "    fill: #D2E3FC;\n",
              "  }\n",
              "\n",
              "  [theme=dark] .colab-df-quickchart:hover {\n",
              "    background-color: #434B5C;\n",
              "    box-shadow: 0px 1px 3px 1px rgba(0, 0, 0, 0.15);\n",
              "    filter: drop-shadow(0px 1px 2px rgba(0, 0, 0, 0.3));\n",
              "    fill: #FFFFFF;\n",
              "  }\n",
              "</style>\n",
              "\n",
              "  <script>\n",
              "    async function quickchart(key) {\n",
              "      const charts = await google.colab.kernel.invokeFunction(\n",
              "          'suggestCharts', [key], {});\n",
              "    }\n",
              "    (() => {\n",
              "      let quickchartButtonEl =\n",
              "        document.querySelector('#df-f0c55c13-ebe8-4da6-aa0c-65b36004b342 button');\n",
              "      quickchartButtonEl.style.display =\n",
              "        google.colab.kernel.accessAllowed ? 'block' : 'none';\n",
              "    })();\n",
              "  </script>\n",
              "</div>\n",
              "    </div>\n",
              "  </div>\n"
            ]
          },
          "metadata": {},
          "execution_count": 19
        }
      ]
    },
    {
      "cell_type": "code",
      "source": [
        "from sklearn.metrics import precision_score\n",
        "\n",
        "def evaluate_precision(categories):\n",
        "    # 데이터 셋을 불러옵니다.\n",
        "    df = pd.read_json( \"data/News_Category_Dataset_v3.json\" , lines = True ).head( 20 )\n",
        "    y_true = [ ]\n",
        "    y_pred = [ ]\n",
        "\n",
        "    # 각 문장을 분류합니다.\n",
        "    for _, row in df.iterrows():\n",
        "        true_category = row[ 'category' ]\n",
        "        predicted_category = classify_sentence(row[ 'headline' ])\n",
        "        y_true.append(true_category)\n",
        "        y_pred.append(predicted_category)\n",
        "\n",
        "        # 아래 주석을 해제하면 정확한 예측과 오류 예측을 출력합니다.\n",
        "        # if true_category != predicted_category:\n",
        "        #    print(\"False prediction: {:50} True: {:20} Pred:\n",
        "        #    {:20}\".format(row['headline'], true_category, predicted_category))\n",
        "        # else:\n",
        "        #    print(\"True prediction: {:50} True: {:20} Pred:\n",
        "        #    {:20}\".format(row['headline'], true_category, predicted_category))\n",
        "\n",
        "    # 정밀도 점수를 계산합니다.\n",
        "    return precision_score(y_true, y_pred, average = 'micro' , labels = categories)\n"
      ],
      "metadata": {
        "id": "9ALt93nJWQD0"
      },
      "execution_count": 20,
      "outputs": []
    },
    {
      "cell_type": "markdown",
      "source": [
        "#### 제로샷(Zero-Shot) 분류기 최종 코드"
      ],
      "metadata": {
        "id": "2QmB9cMq0c9G"
      }
    },
    {
      "cell_type": "code",
      "source": [
        "# 필수 라이브러리 불러오기\n",
        "import os\n",
        "import openai\n",
        "import pandas as pd\n",
        "from openai.embeddings_utils import get_embedding\n",
        "from openai.embeddings_utils import cosine_similarity\n",
        "from sklearn.metrics import precision_score\n",
        "\n",
        "def init_api():\n",
        "    with open ( \"chatgpt.env\" ) as env:\n",
        "        for line in env:\n",
        "            key, value = line.strip().split( \"=\" )\n",
        "            os.environ[key] = value\n",
        "    openai.api_key = os.environ.get( \"API_KEY\" )\n",
        "    openai.organization = os.environ.get( \"ORG_ID\" )\n",
        "\n",
        "init_api()\n",
        "\n",
        "categories = [ \"POLITICS\", \"WELLNESS\" , \"ENTERTAINMENT\" , \"TRAVEL\" , \"STYLE & BEAUTY\" ,\n",
        "              \"PARENTING\", \"HEALTHY LIVING\", \"QUEER VOICES\", \"FOOD & DRINK\", \"BUSINESS\",\n",
        "               \"COMEDY\", \"SPORTS\", \"BLACK VOICES\", \"HOME & LIVING\", \"PARENTS\", ]\n",
        "\n",
        "# 문장을 분류하는 함수를 정의하기\n",
        "def classify_sentence(sentence):\n",
        "    # 문장의 임베딩을 얻습니다.\n",
        "    sentence_embedding = get_embedding(sentence, engine = \"text-embedding-ada-002\" )\n",
        "\n",
        "    # 문장과 각 카테고리 사이의 유사도를 계산합니다.\n",
        "    similarity_scores = {}\n",
        "    for category in categories:\n",
        "        category_embeddings = get_embedding(category, engine = \"text-embedding-ada-002\" )\n",
        "        similarity_scores[category] = cosine_similarity(sentence_embedding, category_embeddings)\n",
        "\n",
        "    # 가장 높은 유사도 점수를 가진 카테고리를 반환합니다.\n",
        "    return max (similarity_scores, key = similarity_scores.get)\n",
        "\n",
        "def evaluate_precision(categories):\n",
        "    # 데이터 셋을 로드합니다.\n",
        "    df = pd.read_json(\"data/News_Category_Dataset_v3.json\", lines = True ).head(20)\n",
        "    y_true = []\n",
        "    y_pred = []\n",
        "\n",
        "    # 각 문장을 분류합니다.\n",
        "    for _, row in df.iterrows():\n",
        "        true_category = row[ 'category' ]\n",
        "        predicted_category = classify_sentence(row[ 'headline' ])\n",
        "        y_true.append(true_category)\n",
        "        y_pred.append(predicted_category)\n",
        "\n",
        "    # 정밀도 점수를 계산합니다.\n",
        "    return precision_score(y_true, y_pred, average = 'micro' , labels = categories)\n",
        "\n",
        "# 정밀도를 평가하고 결과를 출력합니다.\n",
        "precision_evaluated = evaluate_precision(categories)\n",
        "print ( \"Precision: {:.2f} \" . format (precision_evaluated))"
      ],
      "metadata": {
        "colab": {
          "base_uri": "https://localhost:8080/"
        },
        "id": "zTCfaXS1WQUJ",
        "outputId": "9004aac2-bd20-4295-bc15-5e3417ebb373"
      },
      "execution_count": 21,
      "outputs": [
        {
          "output_type": "stream",
          "name": "stdout",
          "text": [
            "Precision: 0.15 \n"
          ]
        }
      ]
    },
    {
      "cell_type": "code",
      "source": [],
      "metadata": {
        "id": "Plie6JVMWZqA"
      },
      "execution_count": null,
      "outputs": []
    }
  ]
}