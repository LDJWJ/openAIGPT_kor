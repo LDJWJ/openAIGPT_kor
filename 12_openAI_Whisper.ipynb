{
  "cells": [
    {
      "cell_type": "markdown",
      "metadata": {
        "id": "SVbJpqIqLR02"
      },
      "source": [
        "### 12. OpenAI Whisper를 사용한 지능형 음성 인식"
      ]
    },
    {
      "cell_type": "markdown",
      "metadata": {
        "id": "y6XRjPUJLVIN"
      },
      "source": [
        "### 사전 준비"
      ]
    },
    {
      "cell_type": "markdown",
      "metadata": {
        "id": "YuG0Ci_ZLXQ-"
      },
      "source": [
        "* Whisper 설치\n",
        "  * pip install -U openai-whisper\n",
        "\n",
        "* ffmpeg를 설치\n",
        "  * pip install ffmpeg\n",
        "\n",
        "* 말소리가 포함된 오디오 파일 다운로드 후, 코랩에 업로드하기\n",
        "* 또는 코랩 환경에서 바로 다운로드 가능. 명령.\n",
        "  * wget https://upload.wikimedia.org/wikipedia/commons/7/75/Winston_Churchill_-_Be_Ye_Men_of_Valour.ogg\n",
        "* 런타임 유형을 GPU로 변경\n",
        "  * 메뉴(런타임) - 런타임 유형 변경 - T4 GPU 변경"
      ]
    },
    {
      "cell_type": "code",
      "execution_count": null,
      "metadata": {
        "colab": {
          "base_uri": "https://localhost:8080/"
        },
        "id": "qN5x77uYLa4I",
        "outputId": "567e1252-94a0-4d17-f160-53ed22927353"
      },
      "outputs": [
        {
          "name": "stdout",
          "output_type": "stream",
          "text": [
            "Collecting openai-whisper\n",
            "  Downloading openai-whisper-20230314.tar.gz (792 kB)\n",
            "\u001b[2K     \u001b[90m━━━━━━━━━━━━━━━━━━━━━━━━━━━━━━━━━━━━━━\u001b[0m \u001b[32m792.9/792.9 kB\u001b[0m \u001b[31m11.1 MB/s\u001b[0m eta \u001b[36m0:00:00\u001b[0m\n",
            "\u001b[?25h  Installing build dependencies ... \u001b[?25l\u001b[?25hdone\n",
            "  Getting requirements to build wheel ... \u001b[?25l\u001b[?25hdone\n",
            "  Preparing metadata (pyproject.toml) ... \u001b[?25l\u001b[?25hdone\n",
            "Requirement already satisfied: triton==2.0.0 in /usr/local/lib/python3.10/dist-packages (from openai-whisper) (2.0.0)\n",
            "Requirement already satisfied: numba in /usr/local/lib/python3.10/dist-packages (from openai-whisper) (0.56.4)\n",
            "Requirement already satisfied: numpy in /usr/local/lib/python3.10/dist-packages (from openai-whisper) (1.23.5)\n",
            "Requirement already satisfied: torch in /usr/local/lib/python3.10/dist-packages (from openai-whisper) (2.0.1+cu118)\n",
            "Requirement already satisfied: tqdm in /usr/local/lib/python3.10/dist-packages (from openai-whisper) (4.66.0)\n",
            "Requirement already satisfied: more-itertools in /usr/local/lib/python3.10/dist-packages (from openai-whisper) (10.1.0)\n",
            "Collecting tiktoken==0.3.1 (from openai-whisper)\n",
            "  Downloading tiktoken-0.3.1-cp310-cp310-manylinux_2_17_x86_64.manylinux2014_x86_64.whl (1.7 MB)\n",
            "\u001b[2K     \u001b[90m━━━━━━━━━━━━━━━━━━━━━━━━━━━━━━━━━━━━━━━━\u001b[0m \u001b[32m1.7/1.7 MB\u001b[0m \u001b[31m76.3 MB/s\u001b[0m eta \u001b[36m0:00:00\u001b[0m\n",
            "\u001b[?25hCollecting ffmpeg-python==0.2.0 (from openai-whisper)\n",
            "  Downloading ffmpeg_python-0.2.0-py3-none-any.whl (25 kB)\n",
            "Requirement already satisfied: future in /usr/local/lib/python3.10/dist-packages (from ffmpeg-python==0.2.0->openai-whisper) (0.18.3)\n",
            "Requirement already satisfied: regex>=2022.1.18 in /usr/local/lib/python3.10/dist-packages (from tiktoken==0.3.1->openai-whisper) (2023.6.3)\n",
            "Requirement already satisfied: requests>=2.26.0 in /usr/local/lib/python3.10/dist-packages (from tiktoken==0.3.1->openai-whisper) (2.31.0)\n",
            "Requirement already satisfied: cmake in /usr/local/lib/python3.10/dist-packages (from triton==2.0.0->openai-whisper) (3.27.1)\n",
            "Requirement already satisfied: filelock in /usr/local/lib/python3.10/dist-packages (from triton==2.0.0->openai-whisper) (3.12.2)\n",
            "Requirement already satisfied: lit in /usr/local/lib/python3.10/dist-packages (from triton==2.0.0->openai-whisper) (16.0.6)\n",
            "Requirement already satisfied: llvmlite<0.40,>=0.39.0dev0 in /usr/local/lib/python3.10/dist-packages (from numba->openai-whisper) (0.39.1)\n",
            "Requirement already satisfied: setuptools in /usr/local/lib/python3.10/dist-packages (from numba->openai-whisper) (67.7.2)\n",
            "Requirement already satisfied: typing-extensions in /usr/local/lib/python3.10/dist-packages (from torch->openai-whisper) (4.7.1)\n",
            "Requirement already satisfied: sympy in /usr/local/lib/python3.10/dist-packages (from torch->openai-whisper) (1.12)\n",
            "Requirement already satisfied: networkx in /usr/local/lib/python3.10/dist-packages (from torch->openai-whisper) (3.1)\n",
            "Requirement already satisfied: jinja2 in /usr/local/lib/python3.10/dist-packages (from torch->openai-whisper) (3.1.2)\n",
            "Requirement already satisfied: charset-normalizer<4,>=2 in /usr/local/lib/python3.10/dist-packages (from requests>=2.26.0->tiktoken==0.3.1->openai-whisper) (3.2.0)\n",
            "Requirement already satisfied: idna<4,>=2.5 in /usr/local/lib/python3.10/dist-packages (from requests>=2.26.0->tiktoken==0.3.1->openai-whisper) (3.4)\n",
            "Requirement already satisfied: urllib3<3,>=1.21.1 in /usr/local/lib/python3.10/dist-packages (from requests>=2.26.0->tiktoken==0.3.1->openai-whisper) (2.0.4)\n",
            "Requirement already satisfied: certifi>=2017.4.17 in /usr/local/lib/python3.10/dist-packages (from requests>=2.26.0->tiktoken==0.3.1->openai-whisper) (2023.7.22)\n",
            "Requirement already satisfied: MarkupSafe>=2.0 in /usr/local/lib/python3.10/dist-packages (from jinja2->torch->openai-whisper) (2.1.3)\n",
            "Requirement already satisfied: mpmath>=0.19 in /usr/local/lib/python3.10/dist-packages (from sympy->torch->openai-whisper) (1.3.0)\n",
            "Building wheels for collected packages: openai-whisper\n",
            "  Building wheel for openai-whisper (pyproject.toml) ... \u001b[?25l\u001b[?25hdone\n",
            "  Created wheel for openai-whisper: filename=openai_whisper-20230314-py3-none-any.whl size=796908 sha256=c41c6c2e1e9002c959ecfb9d9f5ea1069cc0e6dc51ae6d5fe6f5563febb81d3e\n",
            "  Stored in directory: /root/.cache/pip/wheels/b2/13/5f/fe8245f6dc59df505879da4b2129932e342f02a80e6b87f27d\n",
            "Successfully built openai-whisper\n",
            "Installing collected packages: ffmpeg-python, tiktoken, openai-whisper\n",
            "Successfully installed ffmpeg-python-0.2.0 openai-whisper-20230314 tiktoken-0.3.1\n"
          ]
        }
      ],
      "source": [
        "!pip install -U openai-whisper"
      ]
    },
    {
      "cell_type": "code",
      "execution_count": null,
      "metadata": {
        "colab": {
          "base_uri": "https://localhost:8080/"
        },
        "id": "SJVrf-JWLcdS",
        "outputId": "01a49b4f-af7e-45d8-abbb-0eb258a44521"
      },
      "outputs": [
        {
          "name": "stdout",
          "output_type": "stream",
          "text": [
            "Reading package lists... Done\n",
            "Building dependency tree... Done\n",
            "Reading state information... Done\n",
            "ffmpeg is already the newest version (7:4.4.2-0ubuntu0.22.04.1).\n",
            "0 upgraded, 0 newly installed, 0 to remove and 16 not upgraded.\n"
          ]
        }
      ],
      "source": [
        "!apt install ffmpeg"
      ]
    },
    {
      "cell_type": "code",
      "execution_count": null,
      "metadata": {
        "colab": {
          "base_uri": "https://localhost:8080/"
        },
        "id": "goxXaNAfLkAR",
        "outputId": "1982de7c-4420-4078-84e3-39031e41544a"
      },
      "outputs": [
        {
          "name": "stdout",
          "output_type": "stream",
          "text": [
            "--2023-08-14 08:40:31--  https://upload.wikimedia.org/wikipedia/commons/7/75/Winston_Churchill_-_Be_Ye_Men_of_Valour.ogg\n",
            "Resolving upload.wikimedia.org (upload.wikimedia.org)... 103.102.166.240, 2001:df2:e500:ed1a::2:b\n",
            "Connecting to upload.wikimedia.org (upload.wikimedia.org)|103.102.166.240|:443... connected.\n",
            "HTTP request sent, awaiting response... 200 OK\n",
            "Length: 2465799 (2.4M) [application/ogg]\n",
            "Saving to: ‘Winston_Churchill_-_Be_Ye_Men_of_Valour.ogg’\n",
            "\n",
            "\r          Winston_C   0%[                    ]       0  --.-KB/s               \rWinston_Churchill_- 100%[===================>]   2.35M  --.-KB/s    in 0.08s   \n",
            "\n",
            "2023-08-14 08:40:31 (29.3 MB/s) - ‘Winston_Churchill_-_Be_Ye_Men_of_Valour.ogg’ saved [2465799/2465799]\n",
            "\n"
          ]
        }
      ],
      "source": [
        "!wget https://upload.wikimedia.org/wikipedia/commons/7/75/Winston_Churchill_-_Be_Ye_Men_of_Valour.ogg"
      ]
    },
    {
      "cell_type": "markdown",
      "source": [
        "### 학습 내용\n",
        " * 시작하기에 앞서 설치하기\n",
        " * 데이터 준비"
      ],
      "metadata": {
        "id": "h5SdfI_GNoZr"
      }
    },
    {
      "cell_type": "markdown",
      "source": [
        "### 시작하기에 앞서 설치하기"
      ],
      "metadata": {
        "id": "Yr_WPzswPGiW"
      }
    },
    {
      "cell_type": "markdown",
      "source": [
        "* Whisper 설치\n",
        "```\n",
        "pip install -U openai-whisper\n",
        "```\n",
        "\n",
        "* ffmpeg 설치 - Ubuntu\n",
        "```\n",
        "sudo apt update && sudo apt install ffmpeg\n",
        "```\n",
        "\n",
        "* 구글 코랩 노트북\n",
        "```\n",
        "!apt install ffmpeg\n",
        "```\n",
        "\n",
        "* 구글 코랩 사용의 경우, 하드웨어를 GPU로 변경한다.\n",
        "  * 런타임 -> 런타임 유형 변경 -> T4 GPU or TPU 선택"
      ],
      "metadata": {
        "id": "NVewAumkPJzC"
      }
    },
    {
      "cell_type": "markdown",
      "source": [
        "### 데이터 준비"
      ],
      "metadata": {
        "id": "zrgLjqNnPJ2S"
      }
    },
    {
      "cell_type": "markdown",
      "source": [
        "* [원스턴 처칠의 연설]\n",
        "```\n",
        "wget https://upload.wikimedia.org/wikipedia/commons/7/75/Winston_Churchill_-_Be_Ye_Men_of_Valour.ogg\n",
        "```\n",
        "\n",
        "* [러시아 음성 준비]\n",
        "```\n",
        "wget https://upload.wikimedia.org/wikipedia/commons/1/1a/Lenin_-_What_Is_Soviet_Power.ogg\n",
        "```\n",
        "\n",
        "* 구글 코랩의 경우, 아래 명령에 '!'을 붙인다."
      ],
      "metadata": {
        "id": "L2n-cJoZPJ5K"
      }
    },
    {
      "cell_type": "markdown",
      "source": [
        "### Whisper 실행해 보기"
      ],
      "metadata": {
        "id": "vZ79KlwZQKgX"
      }
    },
    {
      "cell_type": "markdown",
      "metadata": {
        "id": "q4vDblHHLpI1"
      },
      "source": [
        "#### 기본 모델을 사용하여 Whisper 명령 실행하여 음성에 대한 텍스트 확인"
      ]
    },
    {
      "cell_type": "code",
      "execution_count": null,
      "metadata": {
        "colab": {
          "background_save": true,
          "base_uri": "https://localhost:8080/"
        },
        "id": "Ikm6ya9SL6uG",
        "outputId": "e7873dc9-9657-491b-e356-ca096576651e"
      },
      "outputs": [
        {
          "name": "stdout",
          "output_type": "stream",
          "text": [
            "100%|███████████████████████████████████████| 139M/139M [00:11<00:00, 12.5MiB/s]\n",
            "Detecting language using up to the first 30 seconds. Use `--language` to specify the language\n",
            "Detected language: English\n",
            "[00:00.000 --> 00:07.680]  I speak to you for the first time as Prime Minister in a solemn hour for the life of our country,\n",
            "[00:08.320 --> 00:14.880]  of our empire, of our allies, and above all of the cause of freedom.\n",
            "[00:16.640 --> 00:20.240]  A tremendous battle is raging in France and flanders.\n",
            "[00:21.920 --> 00:27.920]  The Germans by a remarkable combination of air bombing and heavily armored tanks\n",
            "[00:28.720 --> 00:35.520]  have broken through the French defenses north of the Maginot line and strong columns of\n",
            "[00:35.520 --> 00:42.080]  their armored vehicles are ravaging the open country which for the first day or two was without\n",
            "[00:42.080 --> 00:48.640]  defenders. They have penetrated deeply and spread alarm and confusion in their track.\n",
            "[00:50.000 --> 00:56.480]  Behind them there are now appearing infantry in lorries and behind them again the large masses\n",
            "[00:56.480 --> 01:04.400]  are moving forward. The regroupment of the French armies to make head again and also to strike\n",
            "[01:04.400 --> 01:13.360]  at this intruding wedge has been proceeding for several days largely assisted by the magnificent\n",
            "[01:13.360 --> 01:21.840]  efforts of the Royal Air Force. We must not allow ourselves to be intimidated by the presence of the\n",
            "[01:21.840 --> 01:29.280]  armored vehicles in unexpected places behind our lines. If they are behind our front the French\n",
            "[01:29.280 --> 01:38.240]  are also at many points fighting actively behind their. Both sides are therefore in an extremely\n",
            "[01:38.240 --> 01:45.680]  dangerous position and if the French army and our own army are well handled and I believe they\n",
            "[01:45.680 --> 01:52.160]  will be if the French retain that genius for recovery and counter attack which they have\n",
            "[01:52.880 --> 02:01.120]  so long been famous and if the British army shows the doggyed endurance and solid fighting power\n",
            "[02:01.120 --> 02:07.840]  of which there have been so many examples in the past then a sudden transformation of the\n",
            "[02:07.840 --> 02:16.800]  scene might spring into being. It would be foolish however to disguise the gravity of the hour.\n",
            "[02:18.560 --> 02:24.160]  It would be still more foolish to loot heart and courage or to suppose that well trained well\n",
            "[02:24.160 --> 02:31.360]  equipped armies numbering three or four millions of men can be overcome in the space of a few weeks\n",
            "[02:31.440 --> 02:37.600]  or even months by a scoop or raid of mechanized vehicles however formidable.\n",
            "[02:38.800 --> 02:44.480]  We may look with confidence to the stabilization of the front in front and to the general\n",
            "[02:44.480 --> 02:50.560]  engagement of the masses which will enable the qualities of the French and British soldiers to be\n",
            "[02:50.560 --> 02:59.440]  matched squarely against those of their adversaries. For myself I have invincible confidence in the\n",
            "[02:59.440 --> 03:07.440]  French army and its leaders. Only a very small part of that splendid army has yet been heavily engaged\n",
            "[03:08.720 --> 03:15.440]  and only a very small part of France has yet been invaded. There is good evidence to show that\n",
            "[03:15.440 --> 03:21.280]  practically the whole of the specialized and mechanized forces of the enemy have been already thrown\n",
            "[03:21.280 --> 03:26.560]  into the battle and we know that very heavy losses have been inflicted upon them.\n",
            "[03:26.960 --> 03:34.400]  No officer or man, no brigade or division which grapples at close quarters with the enemy\n",
            "[03:34.400 --> 03:39.600]  wherever encountered can fail to make a worthy contribution to the general result.\n",
            "[03:41.040 --> 03:47.760]  The armies must cast away the idea of resisting attack behind concrete lines or natural obstacles\n",
            "[03:48.400 --> 03:54.960]  and must realize that mastery can only be regained by furious and unrelenting assault.\n",
            "[03:55.920 --> 04:01.440]  And this spirit must not only animate the high command but must inspire every fighting man.\n",
            "[04:03.360 --> 04:10.800]  In the air, often at serious odds, often at odds, to the two who thought overwhelming,\n",
            "[04:11.760 --> 04:15.760]  we have been clawing down three or four to one of our enemies.\n",
            "[04:16.960 --> 04:22.080]  And the relative balance of the British and German air forces is now considerably more favorable\n",
            "[04:22.960 --> 04:29.520]  than at the beginning of the battle. In cutting down the German bombers, we are fighting our own\n",
            "[04:29.520 --> 04:36.000]  battle as well as that of France. My confidence in our ability to fight it out to the finish\n",
            "[04:36.000 --> 04:41.520]  with the German air force has been strengthened by the fierce encounters which have taken place\n",
            "[04:41.520 --> 04:48.080]  and are taking place. At the same time, our heavy bombers are striking nightly at the\n",
            "[04:48.080 --> 04:54.960]  caproot of German mechanized power and have already inflicted serious damage upon the oil\n",
            "[04:54.960 --> 05:03.440]  refineries on which the Nazi effort to dominate the world directly depends. We must expect\n",
            "[05:04.400 --> 05:10.560]  that as soon as stability is reached on the western front, the bulk of that hideous apparatus\n",
            "[05:10.560 --> 05:16.640]  of aggression which dashed Holland into ruin and slavery in a few days will return to penance.\n",
            "[05:18.640 --> 05:27.040]  I am sure I speak for all when I say we are ready to face it, to endure it and to retaliate against it,\n",
            "[05:27.760 --> 05:35.760]  to any extent that the unwritten laws of war permit. There will be many men and many women\n",
            "[05:35.760 --> 05:43.440]  in this island who, when the ordeal comes upon them and come it will, will feel comfort and even\n",
            "[05:43.520 --> 05:49.840]  pride that they are sharing the perils of our leds at the front. Soldiers, sailors, and airmen\n",
            "[05:49.840 --> 05:56.080]  got blessings and are drawing away for them a part at least of the onslaught they have to bear.\n",
            "[05:57.520 --> 06:03.680]  He is not this the appointed time for all to make the utmost exertions in their power.\n",
            "[06:04.960 --> 06:10.720]  If the battle is to be won, we must provide our men with ever increasing quantities of the weapons\n",
            "[06:10.800 --> 06:18.080]  and ammunition they need. We must have and have quickly more aeroplanes, more tanks, more shells,\n",
            "[06:18.080 --> 06:25.360]  more guns. There is imperious need for the vital munitions. They increase our strength against\n",
            "[06:25.360 --> 06:31.440]  the powerfully armed enemy. They replace the wastage of the obstinate struggle and the knowledge\n",
            "[06:31.440 --> 06:39.040]  that wastage will speedily be replaced enables us to draw more readily upon our reserves and throw\n",
            "[06:39.120 --> 06:46.000]  them in now that everything counts no matter. Our task is not only to win the battle but to win the war.\n",
            "[06:47.440 --> 06:53.280]  After this battle in France abates its force, they will come the battle for our islands.\n",
            "[06:54.720 --> 07:00.480]  For all that Britain is and all that Britain means, that will be the struggle.\n",
            "[07:02.000 --> 07:07.840]  In that supreme emergency, we shall not hesitate to take every step, even the most drastic\n",
            "[07:08.320 --> 07:15.120]  to call forth from our people the last ounce and the last inch of effort I wish they are capable.\n",
            "[07:15.920 --> 07:21.360]  The interests of property, the hours of labour are nothing compared to the struggle for life\n",
            "[07:21.360 --> 07:27.920]  and honour, for right and freedom, to which we have vowed our self. I have received from the\n",
            "[07:28.720 --> 07:36.240]  chiefs of the French Republic and in particular from its indomitable Prime Minister,\n",
            "[07:36.240 --> 07:44.480]  Minister Reino, the most sacred pledges that whatever happens, they will fight to the end, be it bitter\n",
            "[07:44.480 --> 07:50.800]  nor be it glorious. Nay, if we fight to the end, it can only be glorious.\n",
            "[07:52.720 --> 07:57.920]  Having received its majesty's commission, I have formed an administration of men and women\n",
            "[07:57.920 --> 08:04.720]  of every party and have almost every point of view. We have deferred and quarreled in the past\n",
            "[08:05.680 --> 08:14.080]  that now one bond unites at all. The wage war until victory is won and never to surrender\n",
            "[08:14.080 --> 08:23.360]  ourselves to servitude and shame, whatever the cost and the agony may be. This is one of the most\n",
            "[08:23.360 --> 08:31.440]  or striking periods in the long history of France and Britain. It is also beyond out the most sublime,\n",
            "[08:32.400 --> 08:39.680]  side by side, unaided except by their kitten kin in the great dominions and by the wide empires\n",
            "[08:39.680 --> 08:46.720]  which rest beneath their shields. Side by side the British and French peoples have advanced\n",
            "[08:46.720 --> 08:55.200]  to rescue not only Europe but mankind from the foulest and most sole destroying tyranny which\n",
            "[08:55.200 --> 09:05.200]  had ever darkened and stained the pages of history. Behind them, behind us, behind the armies and\n",
            "[09:05.200 --> 09:13.840]  fleets of Britain and France gather a group of shattered states and bludgeoned races, the checks,\n",
            "[09:13.840 --> 09:21.840]  the poles, the Norwegians, the Danes, the Dutch, the Belgian, upon all of whom the long night of\n",
            "[09:21.920 --> 09:30.560]  barbarism will descend unbroken even by a star of hope unless we conquer as conquer we must\n",
            "[09:31.440 --> 09:42.000]  as conquer we shall. Today is Trinity Sunday. Century to go words were written to be a call and\n",
            "[09:42.080 --> 09:53.040]  a spur to the faithful servants of truth and justice. Arm yourselves and be men of valor and be\n",
            "[09:53.040 --> 09:59.760]  in readiness for the conflict for it is better for us to perish in battle than to look upon the outrage\n",
            "[09:59.760 --> 10:07.920]  of our nation and our altars as the will of God is in heaven even so letting do.\n"
          ]
        }
      ],
      "source": [
        "!whisper Winston_Churchill_-_Be_Ye_Men_of_Valour.ogg  --model base"
      ]
    },
    {
      "cell_type": "markdown",
      "source": [
        "#### whisper의 다중언어 모델을 - medium 을 이용"
      ],
      "metadata": {
        "id": "JWH5SY-xNzuQ"
      }
    },
    {
      "cell_type": "code",
      "execution_count": null,
      "metadata": {
        "id": "zYR0kwGxL9iN",
        "colab": {
          "base_uri": "https://localhost:8080/"
        },
        "outputId": "844d898f-d3d7-44c2-ea33-e42d81b07108"
      },
      "outputs": [
        {
          "output_type": "stream",
          "name": "stdout",
          "text": [
            "100%|█████████████████████████████████████| 1.42G/1.42G [00:23<00:00, 66.0MiB/s]\n",
            "Detecting language using up to the first 30 seconds. Use `--language` to specify the language\n",
            "Detected language: English\n",
            "[00:00.000 --> 00:08.400]  I speak to you for the first time as Prime Minister in a solemn hour for the life of our country,\n",
            "[00:08.400 --> 00:16.640]  of our empire, of our allies, and above all, of the cause of freedom.\n",
            "[00:16.640 --> 00:21.920]  A tremendous battle is raging in France and Flanders.\n",
            "[00:21.920 --> 00:28.720]  The Germans, by a remarkable combination of air bombing and heavily armoured tanks,\n",
            "[00:28.720 --> 00:35.840]  have broken through the French defences north of the Maginot Line, and strong columns of their\n",
            "[00:35.840 --> 00:42.080]  armoured vehicles are ravaging the open country, which for the first day or two was without\n",
            "[00:42.080 --> 00:48.640]  defenders. They have penetrated deeply and spread alarm and confusion in their tracks.\n",
            "[00:50.000 --> 00:56.480]  Behind them there are now appearing infantry in lorries, and behind them again the large masses\n",
            "[00:56.480 --> 01:04.960]  are moving forward. The regroupment of the French armies to make head against and also to strike at\n",
            "[01:04.960 --> 01:13.360]  this intruding wedge has been proceeding for several days, largely assisted by the magnificent\n",
            "[01:13.360 --> 01:21.600]  efforts of the Royal Air Force. We must not allow ourselves to be intimidated by the presence of\n",
            "[01:21.600 --> 01:27.920]  these armoured vehicles in unexpected places behind our lines. If they are behind our front,\n",
            "[01:28.560 --> 01:36.960]  the French are also at many points fighting actively behind theirs. Both sides are therefore\n",
            "[01:36.960 --> 01:44.240]  in an extremely dangerous position, and if the French army and our own army are well handled,\n",
            "[01:44.800 --> 01:51.280]  as I believe they will be, if the French retain that genius for recovery and counter-attack\n",
            "[01:51.280 --> 01:58.480]  for which they have so long been famous, and if the British army shows the dogged endurance\n",
            "[01:59.040 --> 02:05.040]  and solid fighting power of which there have been so many examples in the past, then\n",
            "[02:06.000 --> 02:14.560]  a sudden transformation of the scene might spring into being. It would be foolish, however,\n",
            "[02:14.560 --> 02:21.360]  to disguise the gravity of the hour. It would be still more foolish to lose heart and courage,\n",
            "[02:21.920 --> 02:27.520]  or to suppose that well-trained, well-equipped armies numbering three or four millions of men\n",
            "[02:28.240 --> 02:35.920]  can be overcome in the space of a few weeks or even months by a scoop or raid of mechanised\n",
            "[02:35.920 --> 02:42.000]  vehicles, however, formidable. We may look with confidence to the stabilisation of the front in\n",
            "[02:42.000 --> 02:48.000]  France, and to the general engagement of the masses, which will enable the qualities of the\n",
            "[02:48.000 --> 02:54.400]  French and British soldiers to be matched squarely against those of their adversaries.\n",
            "[02:55.840 --> 03:03.360]  For myself, I have invincible confidence in the French army and its leaders. Only a very small\n",
            "[03:03.360 --> 03:11.040]  part of that splendid army has yet been heavily engaged, and only a very small part of France\n",
            "[03:11.040 --> 03:17.600]  has yet been invaded. There is good evidence to show that practically the whole of the specialised\n",
            "[03:17.600 --> 03:23.600]  and mechanised forces of the enemy have been already thrown into the battle, and we know that\n",
            "[03:23.600 --> 03:31.120]  very heavy losses have been inflicted upon them. No officer or man, no brigade or division,\n",
            "[03:31.680 --> 03:37.600]  which grapples at close quarters with the enemy wherever encountered, can fail to make a worthy\n",
            "[03:37.600 --> 03:44.800]  contribution to the general result. The armies must cast away the idea of resisting attack\n",
            "[03:44.800 --> 03:52.080]  behind concrete lines or natural obstacles, and must realise that mastery can only be regained\n",
            "[03:52.080 --> 03:59.360]  by furious and unrelenting assault, and this spirit must not only animate the high command,\n",
            "[03:59.440 --> 04:09.040]  but must inspire every fighting man. In the air, often at serious odds, often at odds,\n",
            "[04:09.040 --> 04:15.760]  to the two who thought overwhelming, we have been clawing down three or four to one of our enemy,\n",
            "[04:17.040 --> 04:21.680]  and the relative balance of the British and German air forces is now considerably more\n",
            "[04:21.680 --> 04:28.480]  favourable to us than at the beginning of the battle. In cutting down the German bombers,\n",
            "[04:28.480 --> 04:34.320]  we are fighting our own battle, as well as that of France. My confidence in our ability\n",
            "[04:34.320 --> 04:39.520]  to fight it out to the finish with the German air force has been strengthened by the fierce\n",
            "[04:39.520 --> 04:46.800]  encounters which have taken place and are taking place. At the same time, our heavy bombers are\n",
            "[04:46.800 --> 04:52.960]  striking nightly at the taproot of German mechanised power, and have already inflicted\n",
            "[04:52.960 --> 05:00.240]  serious damage upon the oil refineries on which the Nazi effort to dominate the world directly\n",
            "[05:00.240 --> 05:09.200]  depend. We must expect that as soon as stability is reached on the Western front, the bulk of that\n",
            "[05:09.200 --> 05:15.520]  hideous apparatus of aggression, which dashed Holland into ruin and slavery in a few days,\n",
            "[05:15.600 --> 05:22.880]  will be turned upon us. I am sure I speak for all when I say we are ready to face it,\n",
            "[05:23.840 --> 05:31.600]  to endure it, and to retaliate against it to any extent that the unwritten laws of war permit.\n",
            "[05:32.880 --> 05:39.680]  There will be many men and many women in this island who, when the ordeal comes upon them,\n",
            "[05:39.680 --> 05:46.480]  thence come it will, will feel comfort and even a pride that they are sharing the perils of our\n",
            "[05:46.480 --> 05:53.200]  lads at the front, soldiers, sailors and airmen, God bless them, and are drawing away for them a\n",
            "[05:53.200 --> 06:01.280]  part at least of the onslaught they have to bear. Is not this the appointed time for all to make\n",
            "[06:01.280 --> 06:08.640]  the utmost exertions in their power? If the battle is to be won, we must provide our men with ever\n",
            "[06:08.640 --> 06:15.040]  increasing quantities of the weapons and ammunition they need. We must have, and have quickly,\n",
            "[06:15.040 --> 06:22.480]  more aeroplanes, more tanks, more shells, more guns. There is imperious need for these vital munitions.\n",
            "[06:23.600 --> 06:28.640]  They increase our strength against the powerfully armed enemy, they replace the wastage of the\n",
            "[06:28.640 --> 06:36.480]  obstinate struggle, and the knowledge that wastage will speedily be replaced, enables us to draw\n",
            "[06:36.480 --> 06:41.360]  more readily upon our reserves and throw them in now that everything counts so much.\n",
            "[06:42.560 --> 06:49.760]  Our task is not only to win the battle, but to win the war. After this battle in France abates its\n",
            "[06:49.760 --> 06:58.640]  force, there will come the battle for our islands, for all that Britain is and all that Britain means.\n",
            "[06:59.360 --> 07:05.760]  That will be the struggle. In that supreme emergency, we shall not hesitate to take every\n",
            "[07:05.760 --> 07:13.520]  step, even the most drastic, to call forth from our people the last ounce and the last inch of\n",
            "[07:13.520 --> 07:19.600]  effort of which they are capable. The interests of property, the hours of labour, are nothing\n",
            "[07:19.600 --> 07:25.120]  compared to the struggle for life and honour, for right and freedom to which we have bowed ourselves.\n",
            "[07:26.560 --> 07:32.720]  I have received from the Chiefs of the French Republic, and in particular from its\n",
            "[07:33.680 --> 07:41.280]  indomitable Prime Minister, Monsieur Reynaud, the most sacred pledges that whatever happens,\n",
            "[07:41.280 --> 07:49.040]  they will fight to the end, be it bitter or be it glorious. Nay, if we fight to the end,\n",
            "[07:49.040 --> 07:56.320]  it can only be glorious. Having received His Majesty's commission, I have formed an\n",
            "[07:56.320 --> 08:01.040]  administration of men and women of every party and of almost every point of view.\n",
            "[08:02.000 --> 08:07.840]  We have differed and quarrelled in the past that now one bond unites at all,\n",
            "[08:08.800 --> 08:16.400]  to wage war until victory is won, and never to surrender ourselves to servitude and shame,\n",
            "[08:17.120 --> 08:24.640]  whatever the cost and the agony may be. This is one of the most awe-striking periods\n",
            "[08:25.280 --> 08:31.520]  in the long history of France and Britain. It is also, beyond doubt, the most sublime.\n",
            "[08:32.480 --> 08:38.160]  Side by side, unaided except by their kith and kin in the great dominions,\n",
            "[08:38.160 --> 08:44.640]  and by the wide empires which rest beneath their shield, side by side the British and\n",
            "[08:44.640 --> 08:51.840]  French peoples have advanced to rescue not only Europe, but mankind from the foulest\n",
            "[08:51.840 --> 08:58.720]  and most soul-destroying tyranny which has ever darkened and stained the pages of history.\n",
            "[08:59.920 --> 09:07.120]  Behind them, behind us, behind the armies and fleets of Britain and France,\n",
            "[09:07.920 --> 09:16.000]  gather a group of shattered states and bludgeoned races, the Czechs, the Poles, the Norwegians,\n",
            "[09:16.000 --> 09:23.200]  the Danes, the Dutch, the Belgians, upon all of whom the long night of barbarism will descend,\n",
            "[09:23.760 --> 09:32.800]  unbroken even by a star of hope, unless we conquer, as conquer we must, as conquer we shall.\n",
            "[09:34.960 --> 09:42.960]  Today is Trinity Sunday. Centuries ago words were written to be a call and a spur\n",
            "[09:42.960 --> 09:46.400]  to the faithful servants of truth and justice.\n",
            "[09:48.640 --> 09:54.560]  Arm yourselves and be ye men of valor, and be in readiness for the conflict,\n",
            "[09:55.280 --> 10:00.800]  for it is better for us to perish in battle than to look upon the outrage of our nation\n",
            "[10:00.800 --> 10:09.920]  and our altars, as the will of God is in heaven. Even so, let him do.\n"
          ]
        }
      ],
      "source": [
        "!whisper Winston_Churchill_-_Be_Ye_Men_of_Valour.ogg  --model medium"
      ]
    },
    {
      "cell_type": "markdown",
      "source": [
        "### 러시아어 음성의 텍스트 변환과 번역"
      ],
      "metadata": {
        "id": "McCAJol_N4un"
      }
    },
    {
      "cell_type": "markdown",
      "source": [
        "#### 음성 다운로드하기"
      ],
      "metadata": {
        "id": "9ekVqTvzOj7V"
      }
    },
    {
      "cell_type": "code",
      "source": [
        "!wget https://upload.wikimedia.org/wikipedia/commons/1/1a/Lenin_-_What_Is_Soviet_Power.ogg"
      ],
      "metadata": {
        "colab": {
          "base_uri": "https://localhost:8080/"
        },
        "id": "fkV_XKiBOol7",
        "outputId": "c3955c0a-cd4d-440e-cd17-d7f2162e5fa6"
      },
      "execution_count": null,
      "outputs": [
        {
          "output_type": "stream",
          "name": "stdout",
          "text": [
            "--2023-08-14 08:47:40--  https://upload.wikimedia.org/wikipedia/commons/1/1a/Lenin_-_What_Is_Soviet_Power.ogg\n",
            "Resolving upload.wikimedia.org (upload.wikimedia.org)... 103.102.166.240, 2001:df2:e500:ed1a::2:b\n",
            "Connecting to upload.wikimedia.org (upload.wikimedia.org)|103.102.166.240|:443... connected.\n",
            "HTTP request sent, awaiting response... 200 OK\n",
            "Length: 972346 (950K) [application/ogg]\n",
            "Saving to: ‘Lenin_-_What_Is_Soviet_Power.ogg’\n",
            "\n",
            "\r          Lenin_-_W   0%[                    ]       0  --.-KB/s               \rLenin_-_What_Is_Sov 100%[===================>] 949.56K  --.-KB/s    in 0.03s   \n",
            "\n",
            "2023-08-14 08:47:40 (29.3 MB/s) - ‘Lenin_-_What_Is_Soviet_Power.ogg’ saved [972346/972346]\n",
            "\n"
          ]
        }
      ]
    },
    {
      "cell_type": "markdown",
      "source": [
        "#### whisper의 도구를 이용한 오디오 파일 처리"
      ],
      "metadata": {
        "id": "3hikc_kTROnq"
      }
    },
    {
      "cell_type": "markdown",
      "source": [
        "* whisper : OpenAI의 음성 및 텍스트 처리를 위한 도구\n",
        "* Lenin_-_What_Is_Soviet_Power.ogg : 처리하려는 오디오 파일 이름.\n",
        "* --language Russian : 오디오 파일의 언어 설정(러시아어 설정)\n",
        "* --task translate : 변환작업의 유형이 설정"
      ],
      "metadata": {
        "id": "ruCNyxanRW4V"
      }
    },
    {
      "cell_type": "code",
      "source": [
        "!whisper Lenin_-_What_Is_Soviet_Power.ogg --language Russian --task translate"
      ],
      "metadata": {
        "colab": {
          "base_uri": "https://localhost:8080/"
        },
        "id": "J35zmMyYOr50",
        "outputId": "c11c068b-879c-4c68-9def-f8631c63d47d"
      },
      "execution_count": null,
      "outputs": [
        {
          "output_type": "stream",
          "name": "stdout",
          "text": [
            "100%|███████████████████████████████████████| 461M/461M [00:05<00:00, 91.6MiB/s]\n",
            "[00:00.000 --> 00:02.000]  What is Soviet power?\n",
            "[00:02.000 --> 00:06.000]  What is the essence of this new power,\n",
            "[00:06.000 --> 00:11.000]  which cannot be understood in most countries?\n",
            "[00:11.000 --> 00:15.000]  The essence of it is attracting workers.\n",
            "[00:15.000 --> 00:19.000]  In each country, more and more people stand up\n",
            "[00:19.000 --> 00:22.000]  to the Prime Minister of the State,\n",
            "[00:22.000 --> 00:25.000]  such as other rich or capitalists,\n",
            "[00:25.000 --> 00:29.000]  and now for the first time control the state.\n",
            "[00:29.000 --> 00:32.000]  Moreover, in the mass movement,\n",
            "[00:32.000 --> 00:35.000]  just all the classes that capitalism has adopted.\n",
            "[00:35.000 --> 00:39.000]  Even in the most democratic, even in the most free republics,\n",
            "[00:39.000 --> 00:42.000]  while the state is still in favor of the capital,\n",
            "[00:42.000 --> 00:45.000]  while the country is still in its own property,\n",
            "[00:45.000 --> 00:49.000]  the state always controls a small sector,\n",
            "[00:49.000 --> 00:53.000]  whether it is the capitalists or the rich.\n",
            "[00:53.000 --> 00:57.000]  For the first time, the power of the state is built\n",
            "[00:57.000 --> 00:59.000]  in Russia.\n",
            "[00:59.000 --> 01:02.000]  In such a way that only the workers,\n",
            "[01:02.000 --> 01:04.000]  only the hard workers,\n",
            "[01:04.000 --> 01:06.000]  and only the exploiters,\n",
            "[01:06.000 --> 01:09.000]  force mass organizations,\n",
            "[01:09.000 --> 01:13.000]  and this advice is passed on to all the state authorities.\n",
            "[01:13.000 --> 01:17.000]  That is why, as they say in Russia,\n",
            "[01:17.000 --> 01:20.000]  representatives of the bourgeoisie of all countries,\n",
            "[01:20.000 --> 01:22.000]  and all the books and words of the Soviet Union\n",
            "[01:22.000 --> 01:25.000]  became not only clear, became popular,\n",
            "[01:25.000 --> 01:29.000]  became loved for the workers, for all the workers.\n",
            "[01:29.000 --> 01:31.000]  And that is why the Soviet government,\n",
            "[01:31.000 --> 01:33.000]  as you would not have followed,\n",
            "[01:33.000 --> 01:36.000]  representatives of communism in different countries,\n",
            "[01:36.000 --> 01:39.000]  the Soviet government is immeasurable,\n",
            "[01:39.000 --> 01:41.000]  indecent and in the distant future\n",
            "[01:41.000 --> 01:43.000]  will win in all the world.\n",
            "[01:43.000 --> 01:46.000]  We know very well that we have a lot of flaws\n",
            "[01:46.000 --> 01:49.000]  in the organization of the Soviet government.\n",
            "[01:49.000 --> 01:52.000]  The Soviet government is a wonderful policeman,\n",
            "[01:52.000 --> 01:56.000]  he does not know straight from the flaws of the past,\n",
            "[01:56.000 --> 01:59.000]  from the insurgency, from the unculturation,\n",
            "[01:59.000 --> 02:01.000]  from the humiliation of the Great War,\n",
            "[02:01.000 --> 02:04.000]  from the humiliation of the agro-global capitalism,\n",
            "[02:04.000 --> 02:08.000]  but it gives the opportunity to go beyond socialism,\n",
            "[02:08.000 --> 02:12.000]  it gives the opportunity to rise to those who were oppressed\n",
            "[02:12.000 --> 02:16.000]  and to take more and more of their hands,\n",
            "[02:16.000 --> 02:20.000]  all the control of the state, all the control of the household,\n",
            "[02:20.000 --> 02:22.000]  all the control of the production.\n",
            "[02:22.000 --> 02:25.000]  The Soviet government has a path to socialism\n",
            "[02:25.000 --> 02:28.000]  which is found not in the hands of the workers,\n",
            "[02:28.000 --> 02:31.000]  but in the hands of the faithful and the unbeatable.\n"
          ]
        }
      ]
    },
    {
      "cell_type": "markdown",
      "source": [
        "#### 일부 매개 변수 조정 후, 샘플링하기\n",
        " * best_of, temperature"
      ],
      "metadata": {
        "id": "K2LZ1DFzRmwx"
      }
    },
    {
      "cell_type": "code",
      "source": [
        "!whisper Lenin_-_What_Is_Soviet_Power.ogg --language Russian --task translate --best_of 20 --temperature 0.9"
      ],
      "metadata": {
        "colab": {
          "base_uri": "https://localhost:8080/"
        },
        "id": "tVaIT9GCUBoR",
        "outputId": "d93fa9a2-3d84-4d86-bc2c-f36d0945b4b9"
      },
      "execution_count": null,
      "outputs": [
        {
          "output_type": "stream",
          "name": "stdout",
          "text": [
            "[00:00.000 --> 00:02.320]  What is the Soviet government?\n",
            "[00:02.320 --> 00:06.540]  What is the merit of this new government,\n",
            "[00:06.540 --> 00:11.280]  which does not want or cannot to understand even in the majority of the country?\n",
            "[00:11.280 --> 00:15.520]  The merit of it is attracting workers,\n",
            "[00:15.520 --> 00:18.220]  which, the working country, the increasingly and mostly,\n",
            "[00:18.220 --> 00:22.340]  are under the rule of sovereign state,\n",
            "[00:22.340 --> 00:25.480]  they were ruled as wealthy or capitalist,\n",
            "[00:25.480 --> 00:29.100]  but for the first time, were ruled by the state.\n",
            "[00:29.500 --> 00:31.100]  Moreover, in the Mastov Constitution\n",
            "[00:31.100 --> 00:34.960]  it is exactly the same class as capitalism.\n",
            "[00:34.960 --> 00:39.400]  Even the most democratic, even the most free republic,\n",
            "[00:39.400 --> 00:42.060]  while the total capital is being interviewed,\n",
            "[00:42.060 --> 00:45.500]  while the country is left to private property,\n",
            "[00:45.500 --> 00:49.040]  the state always manages a small country,\n",
            "[00:49.040 --> 00:52.940]  where such a number of patrons were owned by the capitalists and caravans.\n",
            "[00:52.940 --> 00:58.780]  First time, power of the state is built in Russia,\n",
            "[00:58.880 --> 01:04.160]  so only the working-class, only the labor-class officials\n",
            "[01:04.160 --> 01:08.760]  and only exporters are required by the Mastov organizing committees\n",
            "[01:08.760 --> 01:12.720]  and these committees are passed to all the state authorities.\n",
            "[01:12.720 --> 01:16.680]  That is why, as they bench in Russia,\n",
            "[01:16.680 --> 01:19.600]  representatives of bourgeoisies in all countries,\n",
            "[01:19.600 --> 01:23.740]  and the Germans and Slobosovet became not only knowledgeable,\n",
            "[01:23.740 --> 01:26.640]  became popular, became beloved,\n",
            "[01:26.880 --> 01:28.920]  for workers, for workers' workers.\n",
            "[01:28.920 --> 01:33.540]  And that is why the Soviet government, as you had not been persecuted,\n",
            "[01:33.540 --> 01:36.580]  representatives of communism in all countries,\n",
            "[01:36.580 --> 01:39.140]  the Soviet government is impermeable,\n",
            "[01:39.140 --> 01:43.120]  indispensable and far-off would be the winner of the entire world.\n",
            "[01:43.120 --> 01:48.820]  We well know that we have a lot of flaws in organizing the Soviet government.\n",
            "[01:48.820 --> 01:51.600]  The Soviet government is a vicerate policeman,\n",
            "[01:51.800 --> 01:56.020]  not from the democracy, from the lack of the past,\n",
            "[01:56.020 --> 01:58.680]  from the immaterial, from the unculturation,\n",
            "[01:58.680 --> 02:01.080]  from the nostalgia of the Great War,\n",
            "[02:01.080 --> 02:03.780]  from the nostalgia of rural capitalism\n",
            "[02:03.780 --> 02:08.280]  but, for they will give the opportunity to overcome socialism,\n",
            "[02:08.280 --> 02:12.540]  to get rid of those who were persecuted\n",
            "[02:12.540 --> 02:15.800]  and, family, brothers of all the majority of your hands\n",
            "[02:15.800 --> 02:19.940]  all the control of the state, the master control,\n",
            "[02:19.940 --> 02:21.840]  all the control of the factory.\n",
            "[02:21.840 --> 02:25.020]  Soviet power has a path with socialism\n",
            "[02:25.020 --> 02:27.600]  found in the poverty of the workers\n",
            "[02:27.600 --> 02:30.460]  and therefore reliable and therefore unbeatable.\n"
          ]
        }
      ]
    },
    {
      "cell_type": "markdown",
      "source": [
        "### whisper의 옵션 확인"
      ],
      "metadata": {
        "id": "tgjwMQR5UCE_"
      }
    },
    {
      "cell_type": "code",
      "source": [
        "!whisper -h"
      ],
      "metadata": {
        "colab": {
          "base_uri": "https://localhost:8080/"
        },
        "id": "2w4NVMpGUx41",
        "outputId": "772b9825-3a15-4787-9866-1387396a1e4a"
      },
      "execution_count": null,
      "outputs": [
        {
          "output_type": "stream",
          "name": "stdout",
          "text": [
            "usage: whisper\n",
            "       [-h]\n",
            "       [--model {tiny.en,tiny,base.en,base,small.en,small,medium.en,medium,large-v1,large-v2,large}]\n",
            "       [--model_dir MODEL_DIR]\n",
            "       [--device DEVICE]\n",
            "       [--output_dir OUTPUT_DIR]\n",
            "       [--output_format {txt,vtt,srt,tsv,json,all}]\n",
            "       [--verbose VERBOSE]\n",
            "       [--task {transcribe,translate}]\n",
            "       [--language {af,am,ar,as,az,ba,be,bg,bn,bo,br,bs,ca,cs,cy,da,de,el,en,es,et,eu,fa,fi,fo,fr,gl,gu,ha,haw,he,hi,hr,ht,hu,hy,id,is,it,ja,jw,ka,kk,km,kn,ko,la,lb,ln,lo,lt,lv,mg,mi,mk,ml,mn,mr,ms,mt,my,ne,nl,nn,no,oc,pa,pl,ps,pt,ro,ru,sa,sd,si,sk,sl,sn,so,sq,sr,su,sv,sw,ta,te,tg,th,tk,tl,tr,tt,uk,ur,uz,vi,yi,yo,zh,Afrikaans,Albanian,Amharic,Arabic,Armenian,Assamese,Azerbaijani,Bashkir,Basque,Belarusian,Bengali,Bosnian,Breton,Bulgarian,Burmese,Castilian,Catalan,Chinese,Croatian,Czech,Danish,Dutch,English,Estonian,Faroese,Finnish,Flemish,French,Galician,Georgian,German,Greek,Gujarati,Haitian,Haitian Creole,Hausa,Hawaiian,Hebrew,Hindi,Hungarian,Icelandic,Indonesian,Italian,Japanese,Javanese,Kannada,Kazakh,Khmer,Korean,Lao,Latin,Latvian,Letzeburgesch,Lingala,Lithuanian,Luxembourgish,Macedonian,Malagasy,Malay,Malayalam,Maltese,Maori,Marathi,Moldavian,Moldovan,Mongolian,Myanmar,Nepali,Norwegian,Nynorsk,Occitan,Panjabi,Pashto,Persian,Polish,Portuguese,Punjabi,Pushto,Romanian,Russian,Sanskrit,Serbian,Shona,Sindhi,Sinhala,Sinhalese,Slovak,Slovenian,Somali,Spanish,Sundanese,Swahili,Swedish,Tagalog,Tajik,Tamil,Tatar,Telugu,Thai,Tibetan,Turkish,Turkmen,Ukrainian,Urdu,Uzbek,Valencian,Vietnamese,Welsh,Yiddish,Yoruba}]\n",
            "       [--temperature TEMPERATURE]\n",
            "       [--best_of BEST_OF]\n",
            "       [--beam_size BEAM_SIZE]\n",
            "       [--patience PATIENCE]\n",
            "       [--length_penalty LENGTH_PENALTY]\n",
            "       [--suppress_tokens SUPPRESS_TOKENS]\n",
            "       [--initial_prompt INITIAL_PROMPT]\n",
            "       [--condition_on_previous_text CONDITION_ON_PREVIOUS_TEXT]\n",
            "       [--fp16 FP16]\n",
            "       [--temperature_increment_on_fallback TEMPERATURE_INCREMENT_ON_FALLBACK]\n",
            "       [--compression_ratio_threshold COMPRESSION_RATIO_THRESHOLD]\n",
            "       [--logprob_threshold LOGPROB_THRESHOLD]\n",
            "       [--no_speech_threshold NO_SPEECH_THRESHOLD]\n",
            "       [--word_timestamps WORD_TIMESTAMPS]\n",
            "       [--prepend_punctuations PREPEND_PUNCTUATIONS]\n",
            "       [--append_punctuations APPEND_PUNCTUATIONS]\n",
            "       [--threads THREADS]\n",
            "       audio\n",
            "       [audio ...]\n",
            "\n",
            "positional arguments:\n",
            "  audio\n",
            "    audio\n",
            "    file(s) to\n",
            "    transcribe\n",
            "\n",
            "options:\n",
            "  -h, --help\n",
            "    show this\n",
            "    help\n",
            "    message and\n",
            "    exit\n",
            "  --model {tiny.en,tiny,base.en,base,small.en,small,medium.en,medium,large-v1,large-v2,large}\n",
            "    name of the\n",
            "    Whisper\n",
            "    model to\n",
            "    use\n",
            "    (default:\n",
            "    small)\n",
            "  --model_dir MODEL_DIR\n",
            "    the path to\n",
            "    save model\n",
            "    files; uses\n",
            "    ~/.cache/wh\n",
            "    isper by\n",
            "    default\n",
            "    (default:\n",
            "    None)\n",
            "  --device DEVICE\n",
            "    device to\n",
            "    use for\n",
            "    PyTorch\n",
            "    inference\n",
            "    (default:\n",
            "    cuda)\n",
            "  --output_dir OUTPUT_DIR, -o OUTPUT_DIR\n",
            "    directory\n",
            "    to save the\n",
            "    outputs\n",
            "    (default:\n",
            "    .)\n",
            "  --output_format {txt,vtt,srt,tsv,json,all}, -f {txt,vtt,srt,tsv,json,all}\n",
            "    format of\n",
            "    the output\n",
            "    file; if\n",
            "    not\n",
            "    specified,\n",
            "    all\n",
            "    available\n",
            "    formats\n",
            "    will be\n",
            "    produced\n",
            "    (default:\n",
            "    all)\n",
            "  --verbose VERBOSE\n",
            "    whether to\n",
            "    print out\n",
            "    the\n",
            "    progress\n",
            "    and debug\n",
            "    messages\n",
            "    (default:\n",
            "    True)\n",
            "  --task {transcribe,translate}\n",
            "    whether to\n",
            "    perform\n",
            "    X->X speech\n",
            "    recognition\n",
            "    ('transcrib\n",
            "    e') or\n",
            "    X->English\n",
            "    translation\n",
            "    ('translate\n",
            "    ')\n",
            "    (default:\n",
            "    transcribe)\n",
            "  --language {af,am,ar,as,az,ba,be,bg,bn,bo,br,bs,ca,cs,cy,da,de,el,en,es,et,eu,fa,fi,fo,fr,gl,gu,ha,haw,he,hi,hr,ht,hu,hy,id,is,it,ja,jw,ka,kk,km,kn,ko,la,lb,ln,lo,lt,lv,mg,mi,mk,ml,mn,mr,ms,mt,my,ne,nl,nn,no,oc,pa,pl,ps,pt,ro,ru,sa,sd,si,sk,sl,sn,so,sq,sr,su,sv,sw,ta,te,tg,th,tk,tl,tr,tt,uk,ur,uz,vi,yi,yo,zh,Afrikaans,Albanian,Amharic,Arabic,Armenian,Assamese,Azerbaijani,Bashkir,Basque,Belarusian,Bengali,Bosnian,Breton,Bulgarian,Burmese,Castilian,Catalan,Chinese,Croatian,Czech,Danish,Dutch,English,Estonian,Faroese,Finnish,Flemish,French,Galician,Georgian,German,Greek,Gujarati,Haitian,Haitian Creole,Hausa,Hawaiian,Hebrew,Hindi,Hungarian,Icelandic,Indonesian,Italian,Japanese,Javanese,Kannada,Kazakh,Khmer,Korean,Lao,Latin,Latvian,Letzeburgesch,Lingala,Lithuanian,Luxembourgish,Macedonian,Malagasy,Malay,Malayalam,Maltese,Maori,Marathi,Moldavian,Moldovan,Mongolian,Myanmar,Nepali,Norwegian,Nynorsk,Occitan,Panjabi,Pashto,Persian,Polish,Portuguese,Punjabi,Pushto,Romanian,Russian,Sanskrit,Serbian,Shona,Sindhi,Sinhala,Sinhalese,Slovak,Slovenian,Somali,Spanish,Sundanese,Swahili,Swedish,Tagalog,Tajik,Tamil,Tatar,Telugu,Thai,Tibetan,Turkish,Turkmen,Ukrainian,Urdu,Uzbek,Valencian,Vietnamese,Welsh,Yiddish,Yoruba}\n",
            "    language\n",
            "    spoken in\n",
            "    the audio,\n",
            "    specify\n",
            "    None to\n",
            "    perform\n",
            "    language\n",
            "    detection\n",
            "    (default:\n",
            "    None)\n",
            "  --temperature TEMPERATURE\n",
            "    temperature\n",
            "    to use for\n",
            "    sampling\n",
            "    (default:\n",
            "    0)\n",
            "  --best_of BEST_OF\n",
            "    number of\n",
            "    candidates\n",
            "    when\n",
            "    sampling\n",
            "    with non-\n",
            "    zero\n",
            "    temperature\n",
            "    (default:\n",
            "    5)\n",
            "  --beam_size BEAM_SIZE\n",
            "    number of\n",
            "    beams in\n",
            "    beam\n",
            "    search,\n",
            "    only\n",
            "    applicable\n",
            "    when\n",
            "    temperature\n",
            "    is zero\n",
            "    (default:\n",
            "    5)\n",
            "  --patience PATIENCE\n",
            "    optional\n",
            "    patience\n",
            "    value to\n",
            "    use in beam\n",
            "    decoding,\n",
            "    as in https\n",
            "    ://arxiv.or\n",
            "    g/abs/2204.\n",
            "    05424, the\n",
            "    default\n",
            "    (1.0) is\n",
            "    equivalent\n",
            "    to conventi\n",
            "    onal beam\n",
            "    search\n",
            "    (default:\n",
            "    None)\n",
            "  --length_penalty LENGTH_PENALTY\n",
            "    optional\n",
            "    token\n",
            "    length\n",
            "    penalty\n",
            "    coefficient\n",
            "    (alpha) as\n",
            "    in https://\n",
            "    arxiv.org/a\n",
            "    bs/1609.081\n",
            "    44, uses\n",
            "    simple\n",
            "    length norm\n",
            "    alization\n",
            "    by default\n",
            "    (default:\n",
            "    None)\n",
            "  --suppress_tokens SUPPRESS_TOKENS\n",
            "    comma-\n",
            "    separated\n",
            "    list of\n",
            "    token ids\n",
            "    to suppress\n",
            "    during\n",
            "    sampling;\n",
            "    '-1' will\n",
            "    suppress\n",
            "    most\n",
            "    special\n",
            "    characters\n",
            "    except\n",
            "    common punc\n",
            "    tuations\n",
            "    (default:\n",
            "    -1)\n",
            "  --initial_prompt INITIAL_PROMPT\n",
            "    optional\n",
            "    text to\n",
            "    provide as\n",
            "    a prompt\n",
            "    for the\n",
            "    first\n",
            "    window.\n",
            "    (default:\n",
            "    None)\n",
            "  --condition_on_previous_text CONDITION_ON_PREVIOUS_TEXT\n",
            "    if True,\n",
            "    provide the\n",
            "    previous\n",
            "    output of\n",
            "    the model\n",
            "    as a prompt\n",
            "    for the\n",
            "    next\n",
            "    window;\n",
            "    disabling\n",
            "    may make\n",
            "    the text in\n",
            "    consistent\n",
            "    across\n",
            "    windows,\n",
            "    but the\n",
            "    model\n",
            "    becomes\n",
            "    less prone\n",
            "    to getting\n",
            "    stuck in a\n",
            "    failure\n",
            "    loop\n",
            "    (default:\n",
            "    True)\n",
            "  --fp16 FP16\n",
            "    whether to\n",
            "    perform\n",
            "    inference\n",
            "    in fp16;\n",
            "    True by\n",
            "    default\n",
            "    (default:\n",
            "    True)\n",
            "  --temperature_increment_on_fallback TEMPERATURE_INCREMENT_ON_FALLBACK\n",
            "    temperature\n",
            "    to increase\n",
            "    when\n",
            "    falling\n",
            "    back when\n",
            "    the\n",
            "    decoding\n",
            "    fails to\n",
            "    meet either\n",
            "    of the\n",
            "    thresholds\n",
            "    below\n",
            "    (default:\n",
            "    0.2)\n",
            "  --compression_ratio_threshold COMPRESSION_RATIO_THRESHOLD\n",
            "    if the gzip\n",
            "    compression\n",
            "    ratio is\n",
            "    higher than\n",
            "    this value,\n",
            "    treat the\n",
            "    decoding as\n",
            "    failed\n",
            "    (default:\n",
            "    2.4)\n",
            "  --logprob_threshold LOGPROB_THRESHOLD\n",
            "    if the\n",
            "    average log\n",
            "    probability\n",
            "    is lower\n",
            "    than this\n",
            "    value,\n",
            "    treat the\n",
            "    decoding as\n",
            "    failed\n",
            "    (default:\n",
            "    -1.0)\n",
            "  --no_speech_threshold NO_SPEECH_THRESHOLD\n",
            "    if the\n",
            "    probability\n",
            "    of the <|no\n",
            "    speech|>\n",
            "    token is\n",
            "    higher than\n",
            "    this value\n",
            "    AND the\n",
            "    decoding\n",
            "    has failed\n",
            "    due to `log\n",
            "    prob_thresh\n",
            "    old`,\n",
            "    consider\n",
            "    the segment\n",
            "    as silence\n",
            "    (default:\n",
            "    0.6)\n",
            "  --word_timestamps WORD_TIMESTAMPS\n",
            "    (experiment\n",
            "    al) extract\n",
            "    word-level\n",
            "    timestamps\n",
            "    and refine\n",
            "    the results\n",
            "    based on\n",
            "    them\n",
            "    (default:\n",
            "    False)\n",
            "  --prepend_punctuations PREPEND_PUNCTUATIONS\n",
            "    if word_tim\n",
            "    estamps is\n",
            "    True, merge\n",
            "    these\n",
            "    punctuation\n",
            "    symbols\n",
            "    with the\n",
            "    next word\n",
            "    (default:\n",
            "    \"'“¿([{-)\n",
            "  --append_punctuations APPEND_PUNCTUATIONS\n",
            "    if word_tim\n",
            "    estamps is\n",
            "    True, merge\n",
            "    these\n",
            "    punctuation\n",
            "    symbols\n",
            "    with the\n",
            "    previous\n",
            "    word\n",
            "    (default: \"\n",
            "    '.。,，!！?？:：\n",
            "    ”)]}、)\n",
            "  --threads THREADS\n",
            "    number of\n",
            "    threads\n",
            "    used by\n",
            "    torch for\n",
            "    CPU\n",
            "    inference;\n",
            "    supercedes \n",
            "    MKL_NUM_THR\n",
            "    EADS/OMP_NU\n",
            "    M_THREADS\n",
            "    (default:\n",
            "    0)\n"
          ]
        }
      ]
    },
    {
      "cell_type": "code",
      "source": [],
      "metadata": {
        "id": "idszI0hfUzkh"
      },
      "execution_count": null,
      "outputs": []
    }
  ],
  "metadata": {
    "accelerator": "GPU",
    "colab": {
      "provenance": [],
      "toc_visible": true
    },
    "kernelspec": {
      "display_name": "Python 3",
      "name": "python3"
    },
    "language_info": {
      "name": "python"
    }
  },
  "nbformat": 4,
  "nbformat_minor": 0
}