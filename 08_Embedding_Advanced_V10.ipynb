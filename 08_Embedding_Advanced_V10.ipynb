{
  "nbformat": 4,
  "nbformat_minor": 0,
  "metadata": {
    "colab": {
      "provenance": []
    },
    "kernelspec": {
      "name": "python3",
      "display_name": "Python 3"
    },
    "language_info": {
      "name": "python"
    }
  },
  "cells": [
    {
      "cell_type": "markdown",
      "source": [
        "### 08. 임베딩 : 고급편"
      ],
      "metadata": {
        "id": "NxnSdxG1L1ma"
      }
    },
    {
      "cell_type": "markdown",
      "source": [
        "### 학습 내용\n",
        " * 선호하는 커피 예측하기\n",
        " * 퍼지 검색하기\n",
        " * 임베딩으로 뉴스 카테고리 예측하기\n",
        " * 제로샷(Zero-Shot) 분류기의 정확도 평가하기"
      ],
      "metadata": {
        "id": "m5n5or30Ly_H"
      }
    },
    {
      "cell_type": "markdown",
      "source": [
        "### 사전 준비\n",
        " * 구글 코랩 환경은 일정 시간이후에 초기화가 되기 때문에 두가지 작업을 매번 수행해야 함.\n",
        "   * chatgpt.env 파일 생성이 필요.\n",
        "     * 준비된 chatgpt.env를 내용을 변경하여 업로드 하거나 또는 API_KEY와 ORG_ID를 확인하여 생성한다.\n",
        "   * pip install openai 설치\n",
        "   * 캐글 데이터 셋 다운로드 후, 업로드\n",
        "     * https://www.kaggle.com/datasets/schmoyote/coffee-reviews-dataset?select=simplified_coffee.csv\n",
        "   * data폴더에 데이터 셋 업로드 - data/News_Category_Dataset_v3.json\n",
        "   * 자연어 처리 라이브러리 nltk 설치 및 다운로드\n",
        "     * pip install nltk\n",
        "     * nltk.download('stopwords')\n",
        "     * nltk.download('punkt')"
      ],
      "metadata": {
        "id": "ZbPVxO7rLhqw"
      }
    },
    {
      "cell_type": "code",
      "source": [
        "!pip install openai"
      ],
      "metadata": {
        "colab": {
          "base_uri": "https://localhost:8080/"
        },
        "id": "NI71gjY8NWwe",
        "outputId": "0033b339-edd3-41bc-d368-d340646ca01c"
      },
      "execution_count": null,
      "outputs": [
        {
          "output_type": "stream",
          "name": "stdout",
          "text": [
            "Requirement already satisfied: openai in /usr/local/lib/python3.10/dist-packages (1.3.7)\n",
            "Requirement already satisfied: anyio<4,>=3.5.0 in /usr/local/lib/python3.10/dist-packages (from openai) (3.7.1)\n",
            "Requirement already satisfied: distro<2,>=1.7.0 in /usr/lib/python3/dist-packages (from openai) (1.7.0)\n",
            "Requirement already satisfied: httpx<1,>=0.23.0 in /usr/local/lib/python3.10/dist-packages (from openai) (0.25.2)\n",
            "Requirement already satisfied: pydantic<3,>=1.9.0 in /usr/local/lib/python3.10/dist-packages (from openai) (1.10.13)\n",
            "Requirement already satisfied: sniffio in /usr/local/lib/python3.10/dist-packages (from openai) (1.3.0)\n",
            "Requirement already satisfied: tqdm>4 in /usr/local/lib/python3.10/dist-packages (from openai) (4.66.1)\n",
            "Requirement already satisfied: typing-extensions<5,>=4.5 in /usr/local/lib/python3.10/dist-packages (from openai) (4.5.0)\n",
            "Requirement already satisfied: idna>=2.8 in /usr/local/lib/python3.10/dist-packages (from anyio<4,>=3.5.0->openai) (3.6)\n",
            "Requirement already satisfied: exceptiongroup in /usr/local/lib/python3.10/dist-packages (from anyio<4,>=3.5.0->openai) (1.2.0)\n",
            "Requirement already satisfied: certifi in /usr/local/lib/python3.10/dist-packages (from httpx<1,>=0.23.0->openai) (2023.11.17)\n",
            "Requirement already satisfied: httpcore==1.* in /usr/local/lib/python3.10/dist-packages (from httpx<1,>=0.23.0->openai) (1.0.2)\n",
            "Requirement already satisfied: h11<0.15,>=0.13 in /usr/local/lib/python3.10/dist-packages (from httpcore==1.*->httpx<1,>=0.23.0->openai) (0.14.0)\n"
          ]
        }
      ]
    },
    {
      "cell_type": "code",
      "source": [
        "!pip install nltk"
      ],
      "metadata": {
        "colab": {
          "base_uri": "https://localhost:8080/"
        },
        "id": "UupiZAYIGpHb",
        "outputId": "dbe3de2c-3ee0-4de7-c989-5bed7f11f7d2"
      },
      "execution_count": null,
      "outputs": [
        {
          "output_type": "stream",
          "name": "stdout",
          "text": [
            "Requirement already satisfied: nltk in /usr/local/lib/python3.10/dist-packages (3.8.1)\n",
            "Requirement already satisfied: click in /usr/local/lib/python3.10/dist-packages (from nltk) (8.1.7)\n",
            "Requirement already satisfied: joblib in /usr/local/lib/python3.10/dist-packages (from nltk) (1.3.2)\n",
            "Requirement already satisfied: regex>=2021.8.3 in /usr/local/lib/python3.10/dist-packages (from nltk) (2023.6.3)\n",
            "Requirement already satisfied: tqdm in /usr/local/lib/python3.10/dist-packages (from nltk) (4.66.1)\n"
          ]
        }
      ]
    },
    {
      "cell_type": "code",
      "source": [
        "import nltk\n",
        "nltk.download('stopwords')\n",
        "nltk.download('punkt')"
      ],
      "metadata": {
        "colab": {
          "base_uri": "https://localhost:8080/"
        },
        "id": "_vVse4J0Nt98",
        "outputId": "91b09eb3-4dda-4360-dddd-835f638dc550"
      },
      "execution_count": null,
      "outputs": [
        {
          "output_type": "stream",
          "name": "stderr",
          "text": [
            "[nltk_data] Downloading package stopwords to /root/nltk_data...\n",
            "[nltk_data]   Unzipping corpora/stopwords.zip.\n",
            "[nltk_data] Downloading package punkt to /root/nltk_data...\n",
            "[nltk_data]   Unzipping tokenizers/punkt.zip.\n"
          ]
        },
        {
          "output_type": "execute_result",
          "data": {
            "text/plain": [
              "True"
            ]
          },
          "metadata": {},
          "execution_count": 5
        }
      ]
    },
    {
      "cell_type": "markdown",
      "source": [
        "## 선호하는 커피 예측하기"
      ],
      "metadata": {
        "id": "GS_RbA3SLw3e"
      }
    },
    {
      "cell_type": "markdown",
      "source": [
        "#### 세개의 함수 만들기\n",
        " * init_api() : 인증 초기 설정\n",
        " * download_nltk_data() : 말뭉치 다운로드\n",
        " * preprocess_review() : 리뷰 텍스트 소문자, 토큰화, 불용어 제거, 어간 처리"
      ],
      "metadata": {
        "id": "q9tYZHbonqs6"
      }
    },
    {
      "cell_type": "code",
      "source": [
        "# 필수 라이브러리 불러오기\n",
        "import os\n",
        "import pandas as pd\n",
        "import numpy as np\n",
        "import nltk\n",
        "import sys\n",
        "from openai import OpenAI\n",
        "from sklearn.metrics.pairwise import cosine_similarity\n",
        "\n",
        "def init_api():\n",
        "    with open(\"chatgpt.env\") as env:\n",
        "        for line in env:\n",
        "            key, value = line.strip().split(\"=\")\n",
        "            os.environ[key] = value\n",
        "\n",
        "\n",
        "def download_nltk_data():\n",
        "    try:\n",
        "        nltk.data.find('tokenizers/punkt')\n",
        "    except LookupError:\n",
        "        nltk.download('punkt')\n",
        "    try:\n",
        "        nltk.data.find('corpora/stopwords')\n",
        "    except LookupError:\n",
        "        nltk.download('stopwords')\n",
        "\n",
        "def preprocess_review(review):\n",
        "    from nltk.corpus import stopwords\n",
        "    from nltk.stem import PorterStemmer\n",
        "\n",
        "    stopwords = set(stopwords.words('english'))\n",
        "    stemmer = PorterStemmer()\n",
        "\n",
        "    tokens = nltk.word_tokenize(review.lower())\n",
        "    tokens = [token for token in tokens if token not in stopwords]\n",
        "    tokens = [stemmer.stem(token) for token in tokens]\n",
        "\n",
        "    return ' '.join(tokens)"
      ],
      "metadata": {
        "id": "3bHNzFnMnCoI"
      },
      "execution_count": null,
      "outputs": []
    },
    {
      "cell_type": "code",
      "source": [
        "init_api()\n",
        "download_nltk_data()\n",
        "\n",
        "client = OpenAI(api_key  = os.environ.get(\"API_KEY\"),\n",
        "                organization  = os.environ.get(\"ORG_ID\"))"
      ],
      "metadata": {
        "id": "bJqbirUuoQqY"
      },
      "execution_count": null,
      "outputs": []
    },
    {
      "cell_type": "code",
      "source": [
        "# 사용자로부터 커피 이름 입력 받기\n",
        "# (예) Ethiopia Shakiso Mormora, Yule Blend 2018, Civet Yirgacheffe Sisota 등\n",
        "input_coffee_name = input(\"Enter a coffee name: \")\n",
        "\n",
        "# CSV 파일 불러오기(데모로 처리 속도 향상을 위해 단 50행만 불러온다.\n",
        "df = pd.read_csv('simplified_coffee.csv', nrows=50)\n",
        "\n",
        "# 리뷰 텍스트 전처리: 소문자로 변환, 토큰화, 불용어 제거, 어간 추출\n",
        "df['preprocessed_review'] = df['review'].apply(preprocess_review)\n",
        "\n",
        "# 각 리뷰에 대한 임베딩 가져오기\n",
        "review_embeddings = []\n",
        "for review in df['preprocessed_review']:\n",
        "    response = client.embeddings.create(model=\"text-embedding-ada-002\", input=review)\n",
        "    review_em = response.data[0].embedding\n",
        "    review_embeddings.append(review_em)\n",
        "\n",
        "# 입력된 커피 이름의 인덱스 얻기\n",
        "try:\n",
        "    input_coffee_index = df[df['name'] == input_coffee_name].index[0]\n",
        "except:\n",
        "    print(\"죄송합니다. 입력한 커피를 찾을 수가 없습니다.\")\n",
        "    sys.exit()\n"
      ],
      "metadata": {
        "colab": {
          "base_uri": "https://localhost:8080/"
        },
        "id": "GT44O5U7NNBx",
        "outputId": "cd058282-ea44-46c9-ba5f-e65707facb52"
      },
      "execution_count": null,
      "outputs": [
        {
          "name": "stdout",
          "output_type": "stream",
          "text": [
            "Enter a coffee name: Civet Yirgacheffe Sisota\n"
          ]
        }
      ]
    },
    {
      "cell_type": "code",
      "source": [
        "# 입력한 커피의 리뷰와 다른 모든 리뷰 간의 코사인 유사도 계산\n",
        "similarities = []\n",
        "input_review_embedding = review_embeddings[input_coffee_index]\n",
        "for review_embedding in review_embeddings:\n",
        "     similarity = cosine_similarity( [input_review_embedding] , [review_embedding] )[0][0]\n",
        "     similarities.append(similarity)\n",
        "\n",
        "similarities"
      ],
      "metadata": {
        "colab": {
          "base_uri": "https://localhost:8080/"
        },
        "id": "bDBfWUk_I0Ts",
        "outputId": "356924f3-984e-4b19-cdfd-afed7c668ce8"
      },
      "execution_count": null,
      "outputs": [
        {
          "output_type": "execute_result",
          "data": {
            "text/plain": [
              "[0.9154167596150523,\n",
              " 0.8965460694556404,\n",
              " 0.8973101161704053,\n",
              " 0.9019703311826404,\n",
              " 0.8724767465959246,\n",
              " 0.9295059756759375,\n",
              " 0.9009037638671173,\n",
              " 0.9008785615837434,\n",
              " 0.8697845884851201,\n",
              " 0.8935307083019636,\n",
              " 0.9109937156863,\n",
              " 0.8944209834051786,\n",
              " 0.8680593223758442,\n",
              " 0.9123465923409944,\n",
              " 0.9174774559734582,\n",
              " 0.9056172902407595,\n",
              " 0.9059694786664483,\n",
              " 0.8834195157060267,\n",
              " 0.9177246482367258,\n",
              " 0.8970375878625018,\n",
              " 0.8726070089342395,\n",
              " 0.917822333162748,\n",
              " 0.9263389089133781,\n",
              " 0.9115948802272826,\n",
              " 0.8948774653970577,\n",
              " 0.8969871760253394,\n",
              " 0.9052388657324123,\n",
              " 0.8865236226919151,\n",
              " 0.9137493365391376,\n",
              " 0.8829681165334407,\n",
              " 0.883153477603507,\n",
              " 0.9049910309055031,\n",
              " 0.9062874357600628,\n",
              " 0.8793240903253479,\n",
              " 0.9170766612660184,\n",
              " 0.9080971385501014,\n",
              " 0.9260570176990053,\n",
              " 0.9186245261137985,\n",
              " 0.917473255103608,\n",
              " 0.921046319442366,\n",
              " 0.9473196849600656,\n",
              " 0.9524672716163731,\n",
              " 0.8955460544913871,\n",
              " 1.0000000000000009,\n",
              " 0.8929805563046562,\n",
              " 0.9320770945143177,\n",
              " 0.8834990034626253,\n",
              " 0.875466003453896,\n",
              " 0.8730852223629146,\n",
              " 0.8942248822891179]"
            ]
          },
          "metadata": {},
          "execution_count": 18
        }
      ]
    },
    {
      "cell_type": "code",
      "source": [
        "# 가장 유사한 리뷰들의 인덱스 얻기 (입력 커피 리뷰 자체를 제외)\n",
        "most_similar_indices = np.argsort(similarities)[-6:-1]\n",
        "most_similar_indices"
      ],
      "metadata": {
        "colab": {
          "base_uri": "https://localhost:8080/"
        },
        "id": "KIBDsI7jJXoT",
        "outputId": "9d18268e-78c8-4e99-c3bc-75b1b06f4a00"
      },
      "execution_count": null,
      "outputs": [
        {
          "output_type": "execute_result",
          "data": {
            "text/plain": [
              "array([22,  5, 45, 40, 41])"
            ]
          },
          "metadata": {},
          "execution_count": 19
        }
      ]
    },
    {
      "cell_type": "code",
      "source": [
        "# 가장 유사한 리뷰들의 인덱스 얻기 (입력 커피 리뷰 자체를 제외)\n",
        "most_similar_indices = np.argsort(similarities)[-6:-1]\n",
        "\n",
        "# 가장 유사한 커피들의 이름 얻기\n",
        "similar_coffee_names = df.iloc[most_similar_indices]['name'].tolist()\n",
        "\n",
        "# 결과 출력\n",
        "print(\"The most similar coffees to {} are:\".format(input_coffee_name))\n",
        "for coffee_name in similar_coffee_names:\n",
        "    print(coffee_name)"
      ],
      "metadata": {
        "colab": {
          "base_uri": "https://localhost:8080/"
        },
        "id": "TyG7r0PwIpgm",
        "outputId": "09463e1f-ce99-4272-eb0d-1a9d54ad7dd2"
      },
      "execution_count": null,
      "outputs": [
        {
          "output_type": "stream",
          "name": "stdout",
          "text": [
            "The most similar coffees to Civet Yirgacheffe Sisota are:\n",
            "Static Colombia Decaf Midnight\n",
            "Ethiopia Hambela Alaka\n",
            "Estate Carbonic Maceration\n",
            "Kenya Gicherori\n",
            "Ethiopia Yirgacheffe\n"
          ]
        }
      ]
    },
    {
      "cell_type": "markdown",
      "source": [
        "### 선호하는 커피 예측하기 - 정리된 전체 코드"
      ],
      "metadata": {
        "id": "8gtq6JLkIpmZ"
      }
    },
    {
      "cell_type": "code",
      "source": [
        "# 필수 라이브러리 불러오기\n",
        "import os\n",
        "import pandas as pd\n",
        "import numpy as np\n",
        "import nltk\n",
        "import sys\n",
        "from openai import OpenAI\n",
        "from sklearn.metrics.pairwise import cosine_similarity\n",
        "\n",
        "def init_api():\n",
        "    with open(\"chatgpt.env\") as env:\n",
        "        for line in env:\n",
        "            key, value = line.strip().split(\"=\")\n",
        "            os.environ[key] = value\n",
        "\n",
        "def download_nltk_data():\n",
        "    try:\n",
        "        nltk.data.find('tokenizers/punkt')\n",
        "    except LookupError:\n",
        "        nltk.download('punkt')\n",
        "    try:\n",
        "        nltk.data.find('corpora/stopwords')\n",
        "    except LookupError:\n",
        "        nltk.download('stopwords')\n",
        "\n",
        "def preprocess_review(review):\n",
        "    from nltk.corpus import stopwords\n",
        "    from nltk.stem import PorterStemmer\n",
        "\n",
        "    stopwords = set(stopwords.words('english'))\n",
        "    stemmer = PorterStemmer()\n",
        "\n",
        "    tokens = nltk.word_tokenize(review.lower())\n",
        "    tokens = [token for token in tokens if token not in stopwords]\n",
        "    tokens = [stemmer.stem(token) for token in tokens]\n",
        "\n",
        "    return ' '.join(tokens)\n",
        "\n",
        "init_api()\n",
        "download_nltk_data()\n",
        "\n",
        "client = OpenAI(api_key  = os.environ.get(\"API_KEY\"),\n",
        "                organization  = os.environ.get(\"ORG_ID\"))"
      ],
      "metadata": {
        "id": "rppOCnw7Qllm"
      },
      "execution_count": 27,
      "outputs": []
    },
    {
      "cell_type": "code",
      "source": [
        "# 사용자로부터 커피 이름 입력 받기\n",
        "# (예) Ethiopia Shakiso Mormora, Yule Blend 2018, Civet Yirgacheffe Sisota 등\n",
        "# 데이터 셋 참조\n",
        "input_coffee_name = input(\"Enter a coffee name: \")\n",
        "\n",
        "# CSV 파일 불러오기(처리 속도 향상을 위해 데모로 단 50행만 불러옴)\n",
        "df = pd.read_csv('simplified_coffee.csv', nrows=50)\n",
        "\n",
        "# 리뷰 텍스트 전처리: 소문자로 변환, 토큰화, 불용어 제거, 어간 추출\n",
        "df['preprocessed_review'] = df['review'].apply(preprocess_review)\n",
        "\n",
        "# 각 리뷰에 대한 임베딩 가져오기\n",
        "review_embeddings = []\n",
        "for review in df['preprocessed_review']:\n",
        "    response = client.embeddings.create(model=\"text-embedding-ada-002\", input=review)\n",
        "    review_em = response.data[0].embedding\n",
        "    review_embeddings.append(review_em)\n",
        "\n",
        "# 입력된 커피 이름의 인덱스 얻기\n",
        "try:\n",
        "    input_coffee_index = df[df['name'] == input_coffee_name].index[0]\n",
        "except:\n",
        "    print(\"죄송합니다. 입력한 커피를 찾을 수가 없습니다. 다시 시도해 주세요.\")\n",
        "    sys.exit()\n",
        "\n",
        "# 입력된 커피 리뷰와 모든 다른 리뷰들 사이의 코사인 유사도 계산\n",
        "similarities = []\n",
        "input_review_embedding = review_embeddings[input_coffee_index]\n",
        "for review_embedding in review_embeddings:\n",
        "     similarity = cosine_similarity( [input_review_embedding] , [review_embedding] )[0][0]\n",
        "     similarities.append(similarity)\n",
        "\n",
        "# 유사도가 높은 리뷰들의 인덱스 얻기 (입력 커피 리뷰 자체를 제외)\n",
        "most_similar_indices = np.argsort(similarities)[-6:-1]\n",
        "\n",
        "# 유사도가 높은 커피들의 이름 얻기\n",
        "similar_coffee_names = df.iloc[most_similar_indices]['name'].tolist()\n",
        "\n",
        "# 결과 출력\n",
        "print(\"The most similar coffees to {} are:\".format(input_coffee_name))\n",
        "for coffee_name in similar_coffee_names:\n",
        "    print(coffee_name)\n"
      ],
      "metadata": {
        "colab": {
          "base_uri": "https://localhost:8080/"
        },
        "id": "LmxcShuxKGQY",
        "outputId": "25e428ba-0ce9-4ef0-edd3-7538ac1c2c4e"
      },
      "execution_count": null,
      "outputs": [
        {
          "output_type": "stream",
          "name": "stdout",
          "text": [
            "Enter a coffee name: Ethiopia Suke Quto\n",
            "The most similar coffees to Ethiopia Suke Quto are:\n",
            "Static Kenya Kavutiri\n",
            "Colombia David Gomez 100% Caturra\n",
            "Ethiopia Yirgacheffe Washed G1\n",
            "Ethiopia Yirgacheffe Natural G1\n",
            "Ethiopia Shakiso Mormora\n"
          ]
        }
      ]
    },
    {
      "cell_type": "markdown",
      "source": [
        "#### np.argsort(similarities)이해"
      ],
      "metadata": {
        "id": "Q_a0s_Ru4vr1"
      }
    },
    {
      "cell_type": "code",
      "source": [
        "similarities = [0.8, 0.5, 0.9, 0.6, 0.7, 0.4, 0.3, 0.2, 0.1, 0.0]\n",
        "np.argsort(similarities)"
      ],
      "metadata": {
        "colab": {
          "base_uri": "https://localhost:8080/"
        },
        "id": "5e8mRw4s4viF",
        "outputId": "5c363d05-ccbc-4c34-f781-950e355d40a0"
      },
      "execution_count": null,
      "outputs": [
        {
          "output_type": "execute_result",
          "data": {
            "text/plain": [
              "array([9, 8, 7, 6, 5, 1, 3, 4, 0, 2])"
            ]
          },
          "metadata": {},
          "execution_count": 23
        }
      ]
    },
    {
      "cell_type": "code",
      "source": [
        "print(similarities[0], similarities[1], similarities[2])"
      ],
      "metadata": {
        "colab": {
          "base_uri": "https://localhost:8080/"
        },
        "id": "7OdAYN4t4478",
        "outputId": "3cb61d63-a08c-4728-a99a-4a6ffdedd17b"
      },
      "execution_count": null,
      "outputs": [
        {
          "output_type": "stream",
          "name": "stdout",
          "text": [
            "0.8 0.5 0.9\n"
          ]
        }
      ]
    },
    {
      "cell_type": "code",
      "source": [
        "np.argsort(similarities)[-6:-1]"
      ],
      "metadata": {
        "colab": {
          "base_uri": "https://localhost:8080/"
        },
        "id": "BRbnvo_Q5KMo",
        "outputId": "05b8be3c-7219-444d-f1a3-a0b69f1e948d"
      },
      "execution_count": null,
      "outputs": [
        {
          "output_type": "execute_result",
          "data": {
            "text/plain": [
              "array([5, 1, 3, 4, 0])"
            ]
          },
          "metadata": {},
          "execution_count": 25
        }
      ]
    },
    {
      "cell_type": "markdown",
      "source": [
        "### 8.2 퍼지 검색하기 - 개선된 전체 코드"
      ],
      "metadata": {
        "id": "uGp5oAviukvF"
      }
    },
    {
      "cell_type": "code",
      "source": [
        "# 사용자로부터 커피 이름 입력 받기\n",
        "# (예) Ethiopia Shakiso Mormora, Yule Blend 2018, Civet Yirgacheffe Sisota 등\n",
        "# 데이터 셋 참조\n",
        "input_coffee_name = input(\"Enter a coffee name: \")\n",
        "\n",
        "# CSV 파일 불러오기(처리 속도 향상을 위해 데모로 단 50행만 불러옴)\n",
        "df = pd.read_csv('simplified_coffee.csv', nrows=50)\n",
        "\n",
        "# 리뷰 텍스트 전처리: 소문자로 변환, 토큰화, 불용어 제거, 어간 추출\n",
        "df['preprocessed_review'] = df['review'].apply(preprocess_review)\n",
        "\n",
        "# 각 리뷰에 대한 임베딩 가져오기\n",
        "review_embeddings = []\n",
        "for review in df['preprocessed_review']:\n",
        "    response = client.embeddings.create(model=\"text-embedding-ada-002\", input=review)\n",
        "    review_em = response.data[0].embedding\n",
        "    review_embeddings.append(review_em)\n",
        "\n",
        "# 입력 커피 이름의 인덱스 얻기\n",
        "try:\n",
        "    input_coffee_index = df[df['name'] == input_coffee_name].index[0]\n",
        "except IndexError:\n",
        "    # 각 커피 이름에 대한 임베딩 얻기\n",
        "    print(\"죄송합니다. 입력한 커피를 찾을 수가 없습니다. 유사한 이름을 찾고 있습니다.\")\n",
        "    name_embeddings = []\n",
        "    for name in df['name']:\n",
        "        response = client.embeddings.create(model=\"text-embedding-ada-002\", input=name)\n",
        "        name_em = response.data[0].embedding\n",
        "        name_embeddings.append(name_em)\n",
        "\n",
        "    # 입력된 커피 이름과 모든 다른 커피 이름들 사이의 코사인 유사도 검색\n",
        "    response = client.embeddings.create(model=\"text-embedding-ada-002\", input=name)\n",
        "    input_coffee_embedding = response.data[0].embedding\n",
        "\n",
        "    _similarities = []\n",
        "    for name_embedding in name_embeddings:\n",
        "        similarity = cosine_similarity( [input_coffee_embedding], [name_embedding] )[0][0]\n",
        "        _similarities.append( similarity )\n",
        "\n",
        "    # 유사도가 가장 높은 커피 이름의 인덱스 얻기\n",
        "    input_coffee_index = _similarities.index(max(_similarities))\n",
        "    most_similar_coffee_name = df.iloc[input_coffee_index]['name']\n",
        "    print(\"가장 유사한 커피는 {} 입니다. \".format(most_similar_coffee_name))\n",
        "\n",
        "except:\n",
        "    print(\"죄송합니다. 입력한 커피를 찾을 수가 없습니다. 다시 시도해 주세요.\")\n",
        "    sys.exit()"
      ],
      "metadata": {
        "colab": {
          "base_uri": "https://localhost:8080/"
        },
        "id": "xtTlwnl3OJap",
        "outputId": "223c801f-650d-42f8-bce8-e604d4d3de83"
      },
      "execution_count": 31,
      "outputs": [
        {
          "output_type": "stream",
          "name": "stdout",
          "text": [
            "Enter a coffee name: Indonesia\n",
            "죄송합니다. 입력한 커피를 찾을 수가 없습니다. 유사한 이름을 찾고 있습니다.\n",
            "가장 유사한 커피는 Indonesia Emerald Mandheling 입니다. \n"
          ]
        }
      ]
    },
    {
      "cell_type": "markdown",
      "source": [
        "### 8.3 임베딩으로 뉴스 카테고리 예측하기\n"
      ],
      "metadata": {
        "id": "zAoGmuB4Uled"
      }
    },
    {
      "cell_type": "code",
      "source": [
        "import os\n",
        "import openai\n",
        "from openai import OpenAI\n",
        "import pandas as pd\n",
        "from sklearn.metrics.pairwise import cosine_similarity\n",
        "\n",
        "def init_api():\n",
        "    with open(\"chatgpt.env\") as env:\n",
        "       for line in env:\n",
        "           key, value = line.strip().split(\"=\")\n",
        "           os.environ[key] = value\n",
        "\n",
        "init_api()\n",
        "\n",
        "client = OpenAI(api_key  = os.environ.get(\"API_KEY\"),\n",
        "                organization  = os.environ.get(\"ORG_ID\"))\n"
      ],
      "metadata": {
        "id": "0Gq4oRPmR42x"
      },
      "execution_count": 32,
      "outputs": []
    },
    {
      "cell_type": "code",
      "source": [
        "categories = [\n",
        "    'U.S. NEWS',\n",
        "    'COMEDY',\n",
        "    'PARENTING',\n",
        "    'WORLD NEWS',\n",
        "    'CULTURE & ARTS',\n",
        "    'TECH',\n",
        "    'SPORTS'\n",
        "    ]\n",
        "\n",
        "# 문장을 분류하는 함수 정의하기\n",
        "def classify_sentence(sentence):\n",
        "    # 문장의 임베딩 얻기\n",
        "    response = client.embeddings.create(model=\"text-embedding-ada-002\", input=sentence)\n",
        "    sentence_embedding = response.data[0].embedding\n",
        "    # 문장과 각 카테고리 사이의 유사도 점수 계산하기\n",
        "    similarity_scores = {}\n",
        "    for category in categories:\n",
        "       response = client.embeddings.create(model=\"text-embedding-ada-002\", input=category)\n",
        "       category_embedding = response.data[0].embedding\n",
        "       similarity_scores[category] = cosine_similarity([sentence_embedding],[ category_embedding])[0][0]\n",
        "    # 유사도 점수가 가장 높은 카테고리 반환\n",
        "    return max(similarity_scores, key=similarity_scores.get)\n",
        "\n"
      ],
      "metadata": {
        "id": "PX8jhGt5Uo8n"
      },
      "execution_count": 33,
      "outputs": []
    },
    {
      "cell_type": "markdown",
      "source": [
        "#### 문장 분류하기"
      ],
      "metadata": {
        "id": "tskQE9SXUrtp"
      }
    },
    {
      "cell_type": "code",
      "source": [
        "# 문장 분류하기\n",
        "sentences = [\n",
        "    \"1 dead and 3 injured in El Paso, Texas, mall shooting\",\n",
        "    \"Director Owen Kline Calls Funny Pages His ‘Self-Critical’ Debut\",\n",
        "    \"15 spring break ideas for families that want to get away\",\n",
        "    \"The US is preparing to send more troops to the Middle East\",\n",
        "    \"Bruce Willis' 'condition has progressed' to frontotemporal dementia, his family says\",\n",
        "    \"Get an inside look at Universal’s new Super Nintendo World\",\n",
        "    \"Barcelona 2-2 Manchester United: Marcus Rashford shines but Raphinha salvages draw for hosts\",\n",
        "    \"Chicago bulls win the NBA championship\",\n",
        "    \"The new iPhone 12 is now available\",\n",
        "    \"Scientists discover a new dinosaur species\",\n",
        "    \"The new coronavirus vaccine is now available\",\n",
        "    \"The new Star Wars movie is now available\",\n",
        "    \"Amazon stock hits a new record high\",\n",
        "]\n",
        "\n",
        "for sentence in sentences:\n",
        "    print(\"{:50} category is {}\".format(sentence, classify_sentence(sentence)))\n",
        "    print()\n"
      ],
      "metadata": {
        "colab": {
          "base_uri": "https://localhost:8080/"
        },
        "id": "3-7jizrzU5Ci",
        "outputId": "e0f842e1-23a1-4b34-b40d-79e44c4ae57f"
      },
      "execution_count": 34,
      "outputs": [
        {
          "output_type": "stream",
          "name": "stdout",
          "text": [
            "1 dead and 3 injured in El Paso, Texas, mall shooting category is WORLD NEWS\n",
            "\n",
            "Director Owen Kline Calls Funny Pages His ‘Self-Critical’ Debut category is COMEDY\n",
            "\n",
            "15 spring break ideas for families that want to get away category is PARENTING\n",
            "\n",
            "The US is preparing to send more troops to the Middle East category is WORLD NEWS\n",
            "\n",
            "Bruce Willis' 'condition has progressed' to frontotemporal dementia, his family says category is WORLD NEWS\n",
            "\n",
            "Get an inside look at Universal’s new Super Nintendo World category is WORLD NEWS\n",
            "\n",
            "Barcelona 2-2 Manchester United: Marcus Rashford shines but Raphinha salvages draw for hosts category is SPORTS\n",
            "\n",
            "Chicago bulls win the NBA championship             category is SPORTS\n",
            "\n",
            "The new iPhone 12 is now available                 category is TECH\n",
            "\n",
            "Scientists discover a new dinosaur species         category is WORLD NEWS\n",
            "\n",
            "The new coronavirus vaccine is now available       category is WORLD NEWS\n",
            "\n",
            "The new Star Wars movie is now available           category is WORLD NEWS\n",
            "\n",
            "Amazon stock hits a new record high                category is WORLD NEWS\n",
            "\n"
          ]
        }
      ]
    },
    {
      "cell_type": "markdown",
      "source": [
        "#### 카테고리 분류 최종 코드(전체)"
      ],
      "metadata": {
        "id": "1LRw-892U5Qa"
      }
    },
    {
      "cell_type": "code",
      "source": [
        "# 필수 라이브러리 불러오기\n",
        "import os\n",
        "import openai\n",
        "from openai import OpenAI\n",
        "import pandas as pd\n",
        "from sklearn.metrics.pairwise import cosine_similarity\n",
        "\n",
        "def init_api():\n",
        "    with open(\"chatgpt.env\") as env:\n",
        "       for line in env:\n",
        "           key, value = line.strip().split(\"=\")\n",
        "           os.environ[key] = value\n",
        "\n",
        "init_api()\n",
        "\n",
        "client = OpenAI(api_key  = os.environ.get(\"API_KEY\"),\n",
        "                organization  = os.environ.get(\"ORG_ID\"))\n",
        "\n",
        "categories = [\"POLITICS\", \"WELLNESS\", \"ENTERTAINMENT\", \"TRAVEL\", \"STYLE & BEAUTY\", \"PARENTING\", \"HEALTHY LIVING\", \"QUEER VOICES\", \"FOOD & DRINK\", \"BUSINESS\", \"COMEDY\", \"SPORTS\", \"BLACK VOICES\", \"HOME & LIVING\", \"PARENTS\"]\n",
        "\n",
        "# 문장을 분류하는 함수 정의하기\n",
        "def classify_sentence(sentence):\n",
        "    # 문장의 임베딩 얻기\n",
        "    response = client.embeddings.create(model=\"text-embedding-ada-002\", input=sentence)\n",
        "    sentence_embedding = response.data[0].embedding\n",
        "    # 문장과 각 카테고리 사이의 유사도 점수 계산하기\n",
        "    similarity_scores = {}\n",
        "    for category in categories:\n",
        "       response = client.embeddings.create(model=\"text-embedding-ada-002\", input=category)\n",
        "       category_embedding = response.data[0].embedding\n",
        "       similarity_scores[category] = cosine_similarity([sentence_embedding],[ category_embedding])[0][0]\n",
        "    # 유사도 점수가 가장 높은 카테고리 반환\n",
        "    return max(similarity_scores, key=similarity_scores.get)\n",
        "\n",
        "# 문장 분류\n",
        "sentences = [\n",
        "    \"1 dead and 3 injured in El Paso, Texas, mall shooting\",\n",
        "    \"Director Owen Kline Calls Funny Pages His 'Self-Critical' Debut\",\n",
        "    \"15 spring break ideas for families that want to get away\",\n",
        "    \"The US is preparing to send more troops to the Middle East\",\n",
        "    \"Bruce Willis' 'condition has progressed' to frontotemporal dementia, his family says\",\n",
        "    \"Get an inside look at Universal's new Super Nintendo World\",\n",
        "    \"Barcelona 2-2 Manchester United: Marcus Rashford shines but Raphinha salvages draw for hosts\",\n",
        "    \"Chicago bulls win the NBA championship\",\n",
        "    \"The new iPhone 12 is now available\",\n",
        "    \"Scientists discover a new dinosaur species\",\n",
        "    \"The new coronavirus vaccine is now available\",\n",
        "    \"The new Star Wars movie is now available\",\n",
        "    \"Amazon stock hits a new record high\",\n",
        "]\n",
        "\n",
        "for sentence in sentences:\n",
        "    print(\"{:50} category is {}\".format(sentence, classify_sentence(sentence)))\n",
        "    print()\n"
      ],
      "metadata": {
        "colab": {
          "base_uri": "https://localhost:8080/"
        },
        "id": "LMRMcQU-VIPl",
        "outputId": "3103af5b-274e-48e6-d15a-a35d6bc808dd"
      },
      "execution_count": 35,
      "outputs": [
        {
          "output_type": "stream",
          "name": "stdout",
          "text": [
            "1 dead and 3 injured in El Paso, Texas, mall shooting category is ENTERTAINMENT\n",
            "\n",
            "Director Owen Kline Calls Funny Pages His 'Self-Critical' Debut category is COMEDY\n",
            "\n",
            "15 spring break ideas for families that want to get away category is TRAVEL\n",
            "\n",
            "The US is preparing to send more troops to the Middle East category is TRAVEL\n",
            "\n",
            "Bruce Willis' 'condition has progressed' to frontotemporal dementia, his family says category is WELLNESS\n",
            "\n",
            "Get an inside look at Universal's new Super Nintendo World category is ENTERTAINMENT\n",
            "\n",
            "Barcelona 2-2 Manchester United: Marcus Rashford shines but Raphinha salvages draw for hosts category is SPORTS\n",
            "\n",
            "Chicago bulls win the NBA championship             category is SPORTS\n",
            "\n",
            "The new iPhone 12 is now available                 category is BUSINESS\n",
            "\n",
            "Scientists discover a new dinosaur species         category is TRAVEL\n",
            "\n",
            "The new coronavirus vaccine is now available       category is WELLNESS\n",
            "\n",
            "The new Star Wars movie is now available           category is ENTERTAINMENT\n",
            "\n",
            "Amazon stock hits a new record high                category is BUSINESS\n",
            "\n"
          ]
        }
      ]
    },
    {
      "cell_type": "markdown",
      "source": [
        "### 8.4 제로샷(Zero-Shot)분류기의 정확도 평가하기"
      ],
      "metadata": {
        "id": "vSpLFfDiwaor"
      }
    },
    {
      "cell_type": "markdown",
      "source": [
        "#### 캐글 데이터 셋 - 제로샷(Zero-Shot)"
      ],
      "metadata": {
        "id": "BJDpHxbmVL_4"
      }
    },
    {
      "cell_type": "markdown",
      "source": [
        "#### 데이터 읽기"
      ],
      "metadata": {
        "id": "iBB3Kc66ygDj"
      }
    },
    {
      "cell_type": "code",
      "source": [
        "df = pd.read_json(\"data/News_Category_Dataset_v3.json\", lines = True ).head(20)\n",
        "df"
      ],
      "metadata": {
        "colab": {
          "base_uri": "https://localhost:8080/",
          "height": 1000
        },
        "id": "h03BJp1CaJoR",
        "outputId": "06d79eee-f8ef-470b-c8bb-80e9ff884132"
      },
      "execution_count": null,
      "outputs": [
        {
          "output_type": "execute_result",
          "data": {
            "text/plain": [
              "                                                 link  \\\n",
              "0   https://www.huffpost.com/entry/covid-boosters-...   \n",
              "1   https://www.huffpost.com/entry/american-airlin...   \n",
              "2   https://www.huffpost.com/entry/funniest-tweets...   \n",
              "3   https://www.huffpost.com/entry/funniest-parent...   \n",
              "4   https://www.huffpost.com/entry/amy-cooper-lose...   \n",
              "5   https://www.huffpost.com/entry/belk-worker-fou...   \n",
              "6   https://www.huffpost.com/entry/reporter-gets-a...   \n",
              "7   https://www.huffpost.com/entry/puerto-rico-wat...   \n",
              "8   https://www.huffpost.com/entry/mija-documentar...   \n",
              "9   https://www.huffpost.com/entry/biden-un-russia...   \n",
              "10  https://www.huffpost.com/entry/bc-soc-wcup-cap...   \n",
              "11  https://www.huffpost.com/entry/man-sets-fire-p...   \n",
              "12  https://www.huffpost.com/entry/fiona-threatens...   \n",
              "13  https://www.huffpost.com/entry/twitch-streamer...   \n",
              "14  https://www.huffpost.com/entry/virginia-thomas...   \n",
              "15  https://www.huffpost.com/entry/valery-polyakov...   \n",
              "16  https://www.huffpost.com/entry/hulu-reboot-sho...   \n",
              "17  https://www.huffpost.com/entry/dodgers-basebal...   \n",
              "18  https://www.huffpost.com/entry/russian-control...   \n",
              "19  https://www.huffpost.com/entry/hurricane-fiona...   \n",
              "\n",
              "                                             headline        category  \\\n",
              "0   Over 4 Million Americans Roll Up Sleeves For O...       U.S. NEWS   \n",
              "1   American Airlines Flyer Charged, Banned For Li...       U.S. NEWS   \n",
              "2   23 Of The Funniest Tweets About Cats And Dogs ...          COMEDY   \n",
              "3   The Funniest Tweets From Parents This Week (Se...       PARENTING   \n",
              "4   Woman Who Called Cops On Black Bird-Watcher Lo...       U.S. NEWS   \n",
              "5   Cleaner Was Dead In Belk Bathroom For 4 Days B...       U.S. NEWS   \n",
              "6   Reporter Gets Adorable Surprise From Her Boyfr...       U.S. NEWS   \n",
              "7   Puerto Ricans Desperate For Water After Hurric...      WORLD NEWS   \n",
              "8   How A New Documentary Captures The Complexity ...  CULTURE & ARTS   \n",
              "9   Biden At UN To Call Russian War An Affront To ...      WORLD NEWS   \n",
              "10  World Cup Captains Want To Wear Rainbow Armban...      WORLD NEWS   \n",
              "11  Man Sets Himself On Fire In Apparent Protest O...      WORLD NEWS   \n",
              "12  Fiona Threatens To Become Category 4 Storm Hea...      WORLD NEWS   \n",
              "13  Twitch Bans Gambling Sites After Streamer Scam...            TECH   \n",
              "14  Virginia Thomas Agrees To Interview With Jan. ...       U.S. NEWS   \n",
              "15  Russian Cosmonaut Valery Polyakov Who Broke Re...      WORLD NEWS   \n",
              "16  'Reboot' Is A Clever And Not Too Navel-Gazey L...  CULTURE & ARTS   \n",
              "17  Maury Wills, Base-Stealing Shortstop For Dodge...          SPORTS   \n",
              "18  4 Russian-Controlled Ukrainian Regions Schedul...      WORLD NEWS   \n",
              "19  Fiona Barrels Toward Turks And Caicos Islands ...      WORLD NEWS   \n",
              "\n",
              "                                    short_description  \\\n",
              "0   Health experts said it is too early to predict...   \n",
              "1   He was subdued by passengers and crew when he ...   \n",
              "2   \"Until you have a dog you don't understand wha...   \n",
              "3   \"Accidentally put grown-up toothpaste on my to...   \n",
              "4   Amy Cooper accused investment firm Franklin Te...   \n",
              "5   The 63-year-old woman was seen working at the ...   \n",
              "6   \"Who's that behind you?\" an anchor for New Yor...   \n",
              "7   More than half a million people remained witho...   \n",
              "8   In \"Mija,\" director Isabel Castro combined mus...   \n",
              "9   White House officials say the crux of the pres...   \n",
              "10  FIFA has come under pressure from several Euro...   \n",
              "11  The incident underscores a growing wave of pro...   \n",
              "12  Hurricane Fiona lashed the Turks and Caicos Is...   \n",
              "13  One man's claims that he scammed people on the...   \n",
              "14  Conservative activist Virginia Thomas, the wif...   \n",
              "15  Polyakov's record-breaking trip to outer space...   \n",
              "16  Starring Keegan-Michael Key, Judy Greer and Jo...   \n",
              "17  Maury Wills, who helped the Los Angeles Dodger...   \n",
              "18  The concerted and quickening Kremlin-backed ef...   \n",
              "19  The Turks and Caicos Islands government impose...   \n",
              "\n",
              "                                    authors       date  \n",
              "0                      Carla K. Johnson, AP 2022-09-23  \n",
              "1                            Mary Papenfuss 2022-09-23  \n",
              "2                             Elyse Wanshel 2022-09-23  \n",
              "3                          Caroline Bologna 2022-09-23  \n",
              "4                            Nina Golgowski 2022-09-22  \n",
              "5                                           2022-09-22  \n",
              "6                             Elyse Wanshel 2022-09-22  \n",
              "7                           DÁNICA COTO, AP 2022-09-22  \n",
              "8                               Marina Fang 2022-09-22  \n",
              "9                         Aamer Madhani, AP 2022-09-21  \n",
              "10                        GRAHAM DUNBAR, AP 2022-09-21  \n",
              "11                       Mari Yamaguchi, AP 2022-09-21  \n",
              "12                          Dánica Coto, AP 2022-09-21  \n",
              "13                             Ben Blanchet 2022-09-21  \n",
              "14  Eric Tucker and Mary Clare Jalonick, AP 2022-09-21  \n",
              "15                        Marco Margaritoff 2022-09-20  \n",
              "16        Marina Fang and Candice Frederick 2022-09-20  \n",
              "17                          Beth Harris, AP 2022-09-20  \n",
              "18                         Jon Gambrell, AP 2022-09-20  \n",
              "19                          Dánica Coto, AP 2022-09-20  "
            ],
            "text/html": [
              "\n",
              "  <div id=\"df-1d6c203d-9435-4dcd-8715-e1be3354d075\" class=\"colab-df-container\">\n",
              "    <div>\n",
              "<style scoped>\n",
              "    .dataframe tbody tr th:only-of-type {\n",
              "        vertical-align: middle;\n",
              "    }\n",
              "\n",
              "    .dataframe tbody tr th {\n",
              "        vertical-align: top;\n",
              "    }\n",
              "\n",
              "    .dataframe thead th {\n",
              "        text-align: right;\n",
              "    }\n",
              "</style>\n",
              "<table border=\"1\" class=\"dataframe\">\n",
              "  <thead>\n",
              "    <tr style=\"text-align: right;\">\n",
              "      <th></th>\n",
              "      <th>link</th>\n",
              "      <th>headline</th>\n",
              "      <th>category</th>\n",
              "      <th>short_description</th>\n",
              "      <th>authors</th>\n",
              "      <th>date</th>\n",
              "    </tr>\n",
              "  </thead>\n",
              "  <tbody>\n",
              "    <tr>\n",
              "      <th>0</th>\n",
              "      <td>https://www.huffpost.com/entry/covid-boosters-...</td>\n",
              "      <td>Over 4 Million Americans Roll Up Sleeves For O...</td>\n",
              "      <td>U.S. NEWS</td>\n",
              "      <td>Health experts said it is too early to predict...</td>\n",
              "      <td>Carla K. Johnson, AP</td>\n",
              "      <td>2022-09-23</td>\n",
              "    </tr>\n",
              "    <tr>\n",
              "      <th>1</th>\n",
              "      <td>https://www.huffpost.com/entry/american-airlin...</td>\n",
              "      <td>American Airlines Flyer Charged, Banned For Li...</td>\n",
              "      <td>U.S. NEWS</td>\n",
              "      <td>He was subdued by passengers and crew when he ...</td>\n",
              "      <td>Mary Papenfuss</td>\n",
              "      <td>2022-09-23</td>\n",
              "    </tr>\n",
              "    <tr>\n",
              "      <th>2</th>\n",
              "      <td>https://www.huffpost.com/entry/funniest-tweets...</td>\n",
              "      <td>23 Of The Funniest Tweets About Cats And Dogs ...</td>\n",
              "      <td>COMEDY</td>\n",
              "      <td>\"Until you have a dog you don't understand wha...</td>\n",
              "      <td>Elyse Wanshel</td>\n",
              "      <td>2022-09-23</td>\n",
              "    </tr>\n",
              "    <tr>\n",
              "      <th>3</th>\n",
              "      <td>https://www.huffpost.com/entry/funniest-parent...</td>\n",
              "      <td>The Funniest Tweets From Parents This Week (Se...</td>\n",
              "      <td>PARENTING</td>\n",
              "      <td>\"Accidentally put grown-up toothpaste on my to...</td>\n",
              "      <td>Caroline Bologna</td>\n",
              "      <td>2022-09-23</td>\n",
              "    </tr>\n",
              "    <tr>\n",
              "      <th>4</th>\n",
              "      <td>https://www.huffpost.com/entry/amy-cooper-lose...</td>\n",
              "      <td>Woman Who Called Cops On Black Bird-Watcher Lo...</td>\n",
              "      <td>U.S. NEWS</td>\n",
              "      <td>Amy Cooper accused investment firm Franklin Te...</td>\n",
              "      <td>Nina Golgowski</td>\n",
              "      <td>2022-09-22</td>\n",
              "    </tr>\n",
              "    <tr>\n",
              "      <th>5</th>\n",
              "      <td>https://www.huffpost.com/entry/belk-worker-fou...</td>\n",
              "      <td>Cleaner Was Dead In Belk Bathroom For 4 Days B...</td>\n",
              "      <td>U.S. NEWS</td>\n",
              "      <td>The 63-year-old woman was seen working at the ...</td>\n",
              "      <td></td>\n",
              "      <td>2022-09-22</td>\n",
              "    </tr>\n",
              "    <tr>\n",
              "      <th>6</th>\n",
              "      <td>https://www.huffpost.com/entry/reporter-gets-a...</td>\n",
              "      <td>Reporter Gets Adorable Surprise From Her Boyfr...</td>\n",
              "      <td>U.S. NEWS</td>\n",
              "      <td>\"Who's that behind you?\" an anchor for New Yor...</td>\n",
              "      <td>Elyse Wanshel</td>\n",
              "      <td>2022-09-22</td>\n",
              "    </tr>\n",
              "    <tr>\n",
              "      <th>7</th>\n",
              "      <td>https://www.huffpost.com/entry/puerto-rico-wat...</td>\n",
              "      <td>Puerto Ricans Desperate For Water After Hurric...</td>\n",
              "      <td>WORLD NEWS</td>\n",
              "      <td>More than half a million people remained witho...</td>\n",
              "      <td>DÁNICA COTO, AP</td>\n",
              "      <td>2022-09-22</td>\n",
              "    </tr>\n",
              "    <tr>\n",
              "      <th>8</th>\n",
              "      <td>https://www.huffpost.com/entry/mija-documentar...</td>\n",
              "      <td>How A New Documentary Captures The Complexity ...</td>\n",
              "      <td>CULTURE &amp; ARTS</td>\n",
              "      <td>In \"Mija,\" director Isabel Castro combined mus...</td>\n",
              "      <td>Marina Fang</td>\n",
              "      <td>2022-09-22</td>\n",
              "    </tr>\n",
              "    <tr>\n",
              "      <th>9</th>\n",
              "      <td>https://www.huffpost.com/entry/biden-un-russia...</td>\n",
              "      <td>Biden At UN To Call Russian War An Affront To ...</td>\n",
              "      <td>WORLD NEWS</td>\n",
              "      <td>White House officials say the crux of the pres...</td>\n",
              "      <td>Aamer Madhani, AP</td>\n",
              "      <td>2022-09-21</td>\n",
              "    </tr>\n",
              "    <tr>\n",
              "      <th>10</th>\n",
              "      <td>https://www.huffpost.com/entry/bc-soc-wcup-cap...</td>\n",
              "      <td>World Cup Captains Want To Wear Rainbow Armban...</td>\n",
              "      <td>WORLD NEWS</td>\n",
              "      <td>FIFA has come under pressure from several Euro...</td>\n",
              "      <td>GRAHAM DUNBAR, AP</td>\n",
              "      <td>2022-09-21</td>\n",
              "    </tr>\n",
              "    <tr>\n",
              "      <th>11</th>\n",
              "      <td>https://www.huffpost.com/entry/man-sets-fire-p...</td>\n",
              "      <td>Man Sets Himself On Fire In Apparent Protest O...</td>\n",
              "      <td>WORLD NEWS</td>\n",
              "      <td>The incident underscores a growing wave of pro...</td>\n",
              "      <td>Mari Yamaguchi, AP</td>\n",
              "      <td>2022-09-21</td>\n",
              "    </tr>\n",
              "    <tr>\n",
              "      <th>12</th>\n",
              "      <td>https://www.huffpost.com/entry/fiona-threatens...</td>\n",
              "      <td>Fiona Threatens To Become Category 4 Storm Hea...</td>\n",
              "      <td>WORLD NEWS</td>\n",
              "      <td>Hurricane Fiona lashed the Turks and Caicos Is...</td>\n",
              "      <td>Dánica Coto, AP</td>\n",
              "      <td>2022-09-21</td>\n",
              "    </tr>\n",
              "    <tr>\n",
              "      <th>13</th>\n",
              "      <td>https://www.huffpost.com/entry/twitch-streamer...</td>\n",
              "      <td>Twitch Bans Gambling Sites After Streamer Scam...</td>\n",
              "      <td>TECH</td>\n",
              "      <td>One man's claims that he scammed people on the...</td>\n",
              "      <td>Ben Blanchet</td>\n",
              "      <td>2022-09-21</td>\n",
              "    </tr>\n",
              "    <tr>\n",
              "      <th>14</th>\n",
              "      <td>https://www.huffpost.com/entry/virginia-thomas...</td>\n",
              "      <td>Virginia Thomas Agrees To Interview With Jan. ...</td>\n",
              "      <td>U.S. NEWS</td>\n",
              "      <td>Conservative activist Virginia Thomas, the wif...</td>\n",
              "      <td>Eric Tucker and Mary Clare Jalonick, AP</td>\n",
              "      <td>2022-09-21</td>\n",
              "    </tr>\n",
              "    <tr>\n",
              "      <th>15</th>\n",
              "      <td>https://www.huffpost.com/entry/valery-polyakov...</td>\n",
              "      <td>Russian Cosmonaut Valery Polyakov Who Broke Re...</td>\n",
              "      <td>WORLD NEWS</td>\n",
              "      <td>Polyakov's record-breaking trip to outer space...</td>\n",
              "      <td>Marco Margaritoff</td>\n",
              "      <td>2022-09-20</td>\n",
              "    </tr>\n",
              "    <tr>\n",
              "      <th>16</th>\n",
              "      <td>https://www.huffpost.com/entry/hulu-reboot-sho...</td>\n",
              "      <td>'Reboot' Is A Clever And Not Too Navel-Gazey L...</td>\n",
              "      <td>CULTURE &amp; ARTS</td>\n",
              "      <td>Starring Keegan-Michael Key, Judy Greer and Jo...</td>\n",
              "      <td>Marina Fang and Candice Frederick</td>\n",
              "      <td>2022-09-20</td>\n",
              "    </tr>\n",
              "    <tr>\n",
              "      <th>17</th>\n",
              "      <td>https://www.huffpost.com/entry/dodgers-basebal...</td>\n",
              "      <td>Maury Wills, Base-Stealing Shortstop For Dodge...</td>\n",
              "      <td>SPORTS</td>\n",
              "      <td>Maury Wills, who helped the Los Angeles Dodger...</td>\n",
              "      <td>Beth Harris, AP</td>\n",
              "      <td>2022-09-20</td>\n",
              "    </tr>\n",
              "    <tr>\n",
              "      <th>18</th>\n",
              "      <td>https://www.huffpost.com/entry/russian-control...</td>\n",
              "      <td>4 Russian-Controlled Ukrainian Regions Schedul...</td>\n",
              "      <td>WORLD NEWS</td>\n",
              "      <td>The concerted and quickening Kremlin-backed ef...</td>\n",
              "      <td>Jon Gambrell, AP</td>\n",
              "      <td>2022-09-20</td>\n",
              "    </tr>\n",
              "    <tr>\n",
              "      <th>19</th>\n",
              "      <td>https://www.huffpost.com/entry/hurricane-fiona...</td>\n",
              "      <td>Fiona Barrels Toward Turks And Caicos Islands ...</td>\n",
              "      <td>WORLD NEWS</td>\n",
              "      <td>The Turks and Caicos Islands government impose...</td>\n",
              "      <td>Dánica Coto, AP</td>\n",
              "      <td>2022-09-20</td>\n",
              "    </tr>\n",
              "  </tbody>\n",
              "</table>\n",
              "</div>\n",
              "    <div class=\"colab-df-buttons\">\n",
              "\n",
              "  <div class=\"colab-df-container\">\n",
              "    <button class=\"colab-df-convert\" onclick=\"convertToInteractive('df-1d6c203d-9435-4dcd-8715-e1be3354d075')\"\n",
              "            title=\"Convert this dataframe to an interactive table.\"\n",
              "            style=\"display:none;\">\n",
              "\n",
              "  <svg xmlns=\"http://www.w3.org/2000/svg\" height=\"24px\" viewBox=\"0 -960 960 960\">\n",
              "    <path d=\"M120-120v-720h720v720H120Zm60-500h600v-160H180v160Zm220 220h160v-160H400v160Zm0 220h160v-160H400v160ZM180-400h160v-160H180v160Zm440 0h160v-160H620v160ZM180-180h160v-160H180v160Zm440 0h160v-160H620v160Z\"/>\n",
              "  </svg>\n",
              "    </button>\n",
              "\n",
              "  <style>\n",
              "    .colab-df-container {\n",
              "      display:flex;\n",
              "      gap: 12px;\n",
              "    }\n",
              "\n",
              "    .colab-df-convert {\n",
              "      background-color: #E8F0FE;\n",
              "      border: none;\n",
              "      border-radius: 50%;\n",
              "      cursor: pointer;\n",
              "      display: none;\n",
              "      fill: #1967D2;\n",
              "      height: 32px;\n",
              "      padding: 0 0 0 0;\n",
              "      width: 32px;\n",
              "    }\n",
              "\n",
              "    .colab-df-convert:hover {\n",
              "      background-color: #E2EBFA;\n",
              "      box-shadow: 0px 1px 2px rgba(60, 64, 67, 0.3), 0px 1px 3px 1px rgba(60, 64, 67, 0.15);\n",
              "      fill: #174EA6;\n",
              "    }\n",
              "\n",
              "    .colab-df-buttons div {\n",
              "      margin-bottom: 4px;\n",
              "    }\n",
              "\n",
              "    [theme=dark] .colab-df-convert {\n",
              "      background-color: #3B4455;\n",
              "      fill: #D2E3FC;\n",
              "    }\n",
              "\n",
              "    [theme=dark] .colab-df-convert:hover {\n",
              "      background-color: #434B5C;\n",
              "      box-shadow: 0px 1px 3px 1px rgba(0, 0, 0, 0.15);\n",
              "      filter: drop-shadow(0px 1px 2px rgba(0, 0, 0, 0.3));\n",
              "      fill: #FFFFFF;\n",
              "    }\n",
              "  </style>\n",
              "\n",
              "    <script>\n",
              "      const buttonEl =\n",
              "        document.querySelector('#df-1d6c203d-9435-4dcd-8715-e1be3354d075 button.colab-df-convert');\n",
              "      buttonEl.style.display =\n",
              "        google.colab.kernel.accessAllowed ? 'block' : 'none';\n",
              "\n",
              "      async function convertToInteractive(key) {\n",
              "        const element = document.querySelector('#df-1d6c203d-9435-4dcd-8715-e1be3354d075');\n",
              "        const dataTable =\n",
              "          await google.colab.kernel.invokeFunction('convertToInteractive',\n",
              "                                                    [key], {});\n",
              "        if (!dataTable) return;\n",
              "\n",
              "        const docLinkHtml = 'Like what you see? Visit the ' +\n",
              "          '<a target=\"_blank\" href=https://colab.research.google.com/notebooks/data_table.ipynb>data table notebook</a>'\n",
              "          + ' to learn more about interactive tables.';\n",
              "        element.innerHTML = '';\n",
              "        dataTable['output_type'] = 'display_data';\n",
              "        await google.colab.output.renderOutput(dataTable, element);\n",
              "        const docLink = document.createElement('div');\n",
              "        docLink.innerHTML = docLinkHtml;\n",
              "        element.appendChild(docLink);\n",
              "      }\n",
              "    </script>\n",
              "  </div>\n",
              "\n",
              "\n",
              "<div id=\"df-40b442ed-bdc7-4c4d-bb97-f5fe8e1e62e0\">\n",
              "  <button class=\"colab-df-quickchart\" onclick=\"quickchart('df-40b442ed-bdc7-4c4d-bb97-f5fe8e1e62e0')\"\n",
              "            title=\"Suggest charts\"\n",
              "            style=\"display:none;\">\n",
              "\n",
              "<svg xmlns=\"http://www.w3.org/2000/svg\" height=\"24px\"viewBox=\"0 0 24 24\"\n",
              "     width=\"24px\">\n",
              "    <g>\n",
              "        <path d=\"M19 3H5c-1.1 0-2 .9-2 2v14c0 1.1.9 2 2 2h14c1.1 0 2-.9 2-2V5c0-1.1-.9-2-2-2zM9 17H7v-7h2v7zm4 0h-2V7h2v10zm4 0h-2v-4h2v4z\"/>\n",
              "    </g>\n",
              "</svg>\n",
              "  </button>\n",
              "\n",
              "<style>\n",
              "  .colab-df-quickchart {\n",
              "      --bg-color: #E8F0FE;\n",
              "      --fill-color: #1967D2;\n",
              "      --hover-bg-color: #E2EBFA;\n",
              "      --hover-fill-color: #174EA6;\n",
              "      --disabled-fill-color: #AAA;\n",
              "      --disabled-bg-color: #DDD;\n",
              "  }\n",
              "\n",
              "  [theme=dark] .colab-df-quickchart {\n",
              "      --bg-color: #3B4455;\n",
              "      --fill-color: #D2E3FC;\n",
              "      --hover-bg-color: #434B5C;\n",
              "      --hover-fill-color: #FFFFFF;\n",
              "      --disabled-bg-color: #3B4455;\n",
              "      --disabled-fill-color: #666;\n",
              "  }\n",
              "\n",
              "  .colab-df-quickchart {\n",
              "    background-color: var(--bg-color);\n",
              "    border: none;\n",
              "    border-radius: 50%;\n",
              "    cursor: pointer;\n",
              "    display: none;\n",
              "    fill: var(--fill-color);\n",
              "    height: 32px;\n",
              "    padding: 0;\n",
              "    width: 32px;\n",
              "  }\n",
              "\n",
              "  .colab-df-quickchart:hover {\n",
              "    background-color: var(--hover-bg-color);\n",
              "    box-shadow: 0 1px 2px rgba(60, 64, 67, 0.3), 0 1px 3px 1px rgba(60, 64, 67, 0.15);\n",
              "    fill: var(--button-hover-fill-color);\n",
              "  }\n",
              "\n",
              "  .colab-df-quickchart-complete:disabled,\n",
              "  .colab-df-quickchart-complete:disabled:hover {\n",
              "    background-color: var(--disabled-bg-color);\n",
              "    fill: var(--disabled-fill-color);\n",
              "    box-shadow: none;\n",
              "  }\n",
              "\n",
              "  .colab-df-spinner {\n",
              "    border: 2px solid var(--fill-color);\n",
              "    border-color: transparent;\n",
              "    border-bottom-color: var(--fill-color);\n",
              "    animation:\n",
              "      spin 1s steps(1) infinite;\n",
              "  }\n",
              "\n",
              "  @keyframes spin {\n",
              "    0% {\n",
              "      border-color: transparent;\n",
              "      border-bottom-color: var(--fill-color);\n",
              "      border-left-color: var(--fill-color);\n",
              "    }\n",
              "    20% {\n",
              "      border-color: transparent;\n",
              "      border-left-color: var(--fill-color);\n",
              "      border-top-color: var(--fill-color);\n",
              "    }\n",
              "    30% {\n",
              "      border-color: transparent;\n",
              "      border-left-color: var(--fill-color);\n",
              "      border-top-color: var(--fill-color);\n",
              "      border-right-color: var(--fill-color);\n",
              "    }\n",
              "    40% {\n",
              "      border-color: transparent;\n",
              "      border-right-color: var(--fill-color);\n",
              "      border-top-color: var(--fill-color);\n",
              "    }\n",
              "    60% {\n",
              "      border-color: transparent;\n",
              "      border-right-color: var(--fill-color);\n",
              "    }\n",
              "    80% {\n",
              "      border-color: transparent;\n",
              "      border-right-color: var(--fill-color);\n",
              "      border-bottom-color: var(--fill-color);\n",
              "    }\n",
              "    90% {\n",
              "      border-color: transparent;\n",
              "      border-bottom-color: var(--fill-color);\n",
              "    }\n",
              "  }\n",
              "</style>\n",
              "\n",
              "  <script>\n",
              "    async function quickchart(key) {\n",
              "      const quickchartButtonEl =\n",
              "        document.querySelector('#' + key + ' button');\n",
              "      quickchartButtonEl.disabled = true;  // To prevent multiple clicks.\n",
              "      quickchartButtonEl.classList.add('colab-df-spinner');\n",
              "      try {\n",
              "        const charts = await google.colab.kernel.invokeFunction(\n",
              "            'suggestCharts', [key], {});\n",
              "      } catch (error) {\n",
              "        console.error('Error during call to suggestCharts:', error);\n",
              "      }\n",
              "      quickchartButtonEl.classList.remove('colab-df-spinner');\n",
              "      quickchartButtonEl.classList.add('colab-df-quickchart-complete');\n",
              "    }\n",
              "    (() => {\n",
              "      let quickchartButtonEl =\n",
              "        document.querySelector('#df-40b442ed-bdc7-4c4d-bb97-f5fe8e1e62e0 button');\n",
              "      quickchartButtonEl.style.display =\n",
              "        google.colab.kernel.accessAllowed ? 'block' : 'none';\n",
              "    })();\n",
              "  </script>\n",
              "</div>\n",
              "    </div>\n",
              "  </div>\n"
            ]
          },
          "metadata": {},
          "execution_count": 19
        }
      ]
    },
    {
      "cell_type": "code",
      "source": [
        "from sklearn.metrics import precision_score\n",
        "\n",
        "def evaluate_precision(categories):\n",
        "# 데이터셋 로드\n",
        "    df = pd.read_json( \"data/News_Category_Dataset_v3.json\" , lines = True ).head(20)\n",
        "    y_true = [ ]\n",
        "    y_pred = [ ]\n",
        "\n",
        "    # 각 문장 분류하기\n",
        "    for _, row in df.iterrows():\n",
        "        true_category = row[ 'category' ]\n",
        "        predicted_category = classify_sentence(row[ 'headline' ])\n",
        "        y_true.append(true_category)\n",
        "        y_pred.append(predicted_category)\n",
        "\n",
        "        # 다음 주석을 해제하면 정확한 예측과 오류 예측을 출력합니다.\n",
        "        # if true_category != predicted_category:\n",
        "        #    print(\"False prediction: {:50} True: {:20} Pred:\n",
        "        #    {:20}\".format(row['headline'], true_category, predicted_category))\n",
        "        # else:\n",
        "        #    print(\"True prediction: {:50} True: {:20} Pred:\n",
        "        #    {:20}\".format(row['headline'], true_category, predicted_category))\n",
        "\n",
        "# 정밀도 점수 계산\n",
        "    return precision_score(y_true, y_pred, average = 'micro' , labels = categories)\n"
      ],
      "metadata": {
        "id": "9ALt93nJWQD0"
      },
      "execution_count": 36,
      "outputs": []
    },
    {
      "cell_type": "markdown",
      "source": [
        "#### 제로샷(Zero-Shot) 분류기 최종 코드"
      ],
      "metadata": {
        "id": "2QmB9cMq0c9G"
      }
    },
    {
      "cell_type": "code",
      "source": [
        "# 필수 라이브러리 불러오기\n",
        "import os\n",
        "import openai\n",
        "from openai import OpenAI\n",
        "import pandas as pd\n",
        "from sklearn.metrics.pairwise import cosine_similarity\n",
        "from sklearn.metrics import precision_score\n",
        "\n",
        "def init_api():\n",
        "    with open(\"chatgpt.env\") as env:\n",
        "       for line in env:\n",
        "           key, value = line.strip().split(\"=\")\n",
        "           os.environ[key] = value\n",
        "\n",
        "init_api()\n",
        "\n",
        "client = OpenAI(api_key  = os.environ.get(\"API_KEY\"),\n",
        "                organization  = os.environ.get(\"ORG_ID\"))\n",
        "\n",
        "categories = [ \"POLITICS\", \"WELLNESS\" , \"ENTERTAINMENT\" , \"TRAVEL\" , \"STYLE & BEAUTY\" ,\n",
        "              \"PARENTING\", \"HEALTHY LIVING\", \"QUEER VOICES\", \"FOOD & DRINK\", \"BUSINESS\",\n",
        "               \"COMEDY\", \"SPORTS\", \"BLACK VOICES\", \"HOME & LIVING\", \"PARENTS\", ]\n",
        "\n",
        "# 문장을 분류하는 함수 정의\n",
        "def classify_sentence(sentence):\n",
        "    # 문장의 임베딩 얻기\n",
        "    response = client.embeddings.create(model=\"text-embedding-ada-002\", input=sentence)\n",
        "    sentence_embedding = response.data[0].embedding\n",
        "    # 문장과 각 카테고리 사이의 유사도 점수 계산하기\n",
        "    similarity_scores = {}\n",
        "    for category in categories:\n",
        "       response = client.embeddings.create(model=\"text-embedding-ada-002\", input=category)\n",
        "       category_embedding = response.data[0].embedding\n",
        "       similarity_scores[category] = cosine_similarity([sentence_embedding],[ category_embedding])[0][0]\n",
        "    # 유사도 점수가 가장 높은 카테고리 반환\n",
        "    return max(similarity_scores, key=similarity_scores.get)\n",
        "\n",
        "def evaluate_precision(categories):\n",
        "    # 데이터셋 로드\n",
        "    df = pd.read_json(\"data/News_Category_Dataset_v3.json\", lines = True ).head(20)\n",
        "    y_true = []\n",
        "    y_pred = []\n",
        "\n",
        "    # 각 문장 분류하기\n",
        "    for _, row in df.iterrows():\n",
        "        true_category = row[ 'category' ]\n",
        "        predicted_category = classify_sentence(row[ 'headline' ])\n",
        "        y_true.append(true_category)\n",
        "        y_pred.append(predicted_category)\n",
        "\n",
        "    # 정밀도 점수 계산\n",
        "    return precision_score(y_true, y_pred, average = 'micro' , labels = categories)\n",
        "\n",
        "# 정밀도를 평가하고 결과 출력하기\n",
        "precision_evaluated = evaluate_precision(categories)\n",
        "print ( \"Precision: {:.2f} \" . format (precision_evaluated))\n"
      ],
      "metadata": {
        "id": "zTCfaXS1WQUJ",
        "colab": {
          "base_uri": "https://localhost:8080/"
        },
        "outputId": "65a228fe-589b-4b0f-ab42-2bc70257e251"
      },
      "execution_count": 38,
      "outputs": [
        {
          "output_type": "stream",
          "name": "stdout",
          "text": [
            "Precision: 0.15 \n"
          ]
        }
      ]
    },
    {
      "cell_type": "code",
      "source": [],
      "metadata": {
        "id": "Plie6JVMWZqA"
      },
      "execution_count": null,
      "outputs": []
    }
  ]
}