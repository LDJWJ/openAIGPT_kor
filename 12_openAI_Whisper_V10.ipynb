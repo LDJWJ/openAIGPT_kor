{
  "nbformat": 4,
  "nbformat_minor": 0,
  "metadata": {
    "colab": {
      "provenance": [],
      "gpuType": "T4"
    },
    "kernelspec": {
      "name": "python3",
      "display_name": "Python 3"
    },
    "language_info": {
      "name": "python"
    },
    "accelerator": "GPU"
  },
  "cells": [
    {
      "cell_type": "markdown",
      "source": [
        "### 12. OpenAI Whisper를 사용한 지능형 음성 인식"
      ],
      "metadata": {
        "id": "H7LbWpVxQvgC"
      }
    },
    {
      "cell_type": "markdown",
      "source": [
        "### 사전 준비"
      ],
      "metadata": {
        "id": "umJg9hEiQ5cN"
      }
    },
    {
      "cell_type": "markdown",
      "source": [
        "* Whisper 설치\n",
        "  * pip install -U openai-whisper\n",
        "\n",
        "* ffmpeg를 설치\n",
        "  * pip install ffmpeg\n",
        "\n",
        "* 말소리가 포함된 오디오 파일 다운로드 후, 코랩에 업로드하기\n",
        "* 또는 코랩 환경에서 바로 다운로드 가능. 명령.\n",
        "  * wget https://upload.wikimedia.org/wikipedia/commons/7/75/Winston_Churchill_-_Be_Ye_Men_of_Valour.ogg"
      ],
      "metadata": {
        "id": "paEnVAV8Q9j1"
      }
    },
    {
      "cell_type": "code",
      "source": [
        "!pip install -U openai-whisper"
      ],
      "metadata": {
        "colab": {
          "base_uri": "https://localhost:8080/"
        },
        "id": "kZFdAjZPRMQu",
        "outputId": "384b8da9-efc9-4110-d6da-3a23664735e9"
      },
      "execution_count": 1,
      "outputs": [
        {
          "output_type": "stream",
          "name": "stdout",
          "text": [
            "Collecting openai-whisper\n",
            "  Downloading openai-whisper-20231117.tar.gz (798 kB)\n",
            "\u001b[2K     \u001b[90m━━━━━━━━━━━━━━━━━━━━━━━━━━━━━━━━━━━━━━━━\u001b[0m \u001b[32m798.6/798.6 kB\u001b[0m \u001b[31m4.6 MB/s\u001b[0m eta \u001b[36m0:00:00\u001b[0m\n",
            "\u001b[?25h  Installing build dependencies ... \u001b[?25l\u001b[?25hdone\n",
            "  Getting requirements to build wheel ... \u001b[?25l\u001b[?25hdone\n",
            "  Preparing metadata (pyproject.toml) ... \u001b[?25l\u001b[?25hdone\n",
            "Requirement already satisfied: triton<3,>=2.0.0 in /usr/local/lib/python3.10/dist-packages (from openai-whisper) (2.1.0)\n",
            "Requirement already satisfied: numba in /usr/local/lib/python3.10/dist-packages (from openai-whisper) (0.58.1)\n",
            "Requirement already satisfied: numpy in /usr/local/lib/python3.10/dist-packages (from openai-whisper) (1.23.5)\n",
            "Requirement already satisfied: torch in /usr/local/lib/python3.10/dist-packages (from openai-whisper) (2.1.0+cu118)\n",
            "Requirement already satisfied: tqdm in /usr/local/lib/python3.10/dist-packages (from openai-whisper) (4.66.1)\n",
            "Requirement already satisfied: more-itertools in /usr/local/lib/python3.10/dist-packages (from openai-whisper) (10.1.0)\n",
            "Collecting tiktoken (from openai-whisper)\n",
            "  Downloading tiktoken-0.5.2-cp310-cp310-manylinux_2_17_x86_64.manylinux2014_x86_64.whl (2.0 MB)\n",
            "\u001b[2K     \u001b[90m━━━━━━━━━━━━━━━━━━━━━━━━━━━━━━━━━━━━━━━━\u001b[0m \u001b[32m2.0/2.0 MB\u001b[0m \u001b[31m33.8 MB/s\u001b[0m eta \u001b[36m0:00:00\u001b[0m\n",
            "\u001b[?25hRequirement already satisfied: filelock in /usr/local/lib/python3.10/dist-packages (from triton<3,>=2.0.0->openai-whisper) (3.13.1)\n",
            "Requirement already satisfied: llvmlite<0.42,>=0.41.0dev0 in /usr/local/lib/python3.10/dist-packages (from numba->openai-whisper) (0.41.1)\n",
            "Requirement already satisfied: regex>=2022.1.18 in /usr/local/lib/python3.10/dist-packages (from tiktoken->openai-whisper) (2023.6.3)\n",
            "Requirement already satisfied: requests>=2.26.0 in /usr/local/lib/python3.10/dist-packages (from tiktoken->openai-whisper) (2.31.0)\n",
            "Requirement already satisfied: typing-extensions in /usr/local/lib/python3.10/dist-packages (from torch->openai-whisper) (4.5.0)\n",
            "Requirement already satisfied: sympy in /usr/local/lib/python3.10/dist-packages (from torch->openai-whisper) (1.12)\n",
            "Requirement already satisfied: networkx in /usr/local/lib/python3.10/dist-packages (from torch->openai-whisper) (3.2.1)\n",
            "Requirement already satisfied: jinja2 in /usr/local/lib/python3.10/dist-packages (from torch->openai-whisper) (3.1.2)\n",
            "Requirement already satisfied: fsspec in /usr/local/lib/python3.10/dist-packages (from torch->openai-whisper) (2023.6.0)\n",
            "Requirement already satisfied: charset-normalizer<4,>=2 in /usr/local/lib/python3.10/dist-packages (from requests>=2.26.0->tiktoken->openai-whisper) (3.3.2)\n",
            "Requirement already satisfied: idna<4,>=2.5 in /usr/local/lib/python3.10/dist-packages (from requests>=2.26.0->tiktoken->openai-whisper) (3.6)\n",
            "Requirement already satisfied: urllib3<3,>=1.21.1 in /usr/local/lib/python3.10/dist-packages (from requests>=2.26.0->tiktoken->openai-whisper) (2.0.7)\n",
            "Requirement already satisfied: certifi>=2017.4.17 in /usr/local/lib/python3.10/dist-packages (from requests>=2.26.0->tiktoken->openai-whisper) (2023.11.17)\n",
            "Requirement already satisfied: MarkupSafe>=2.0 in /usr/local/lib/python3.10/dist-packages (from jinja2->torch->openai-whisper) (2.1.3)\n",
            "Requirement already satisfied: mpmath>=0.19 in /usr/local/lib/python3.10/dist-packages (from sympy->torch->openai-whisper) (1.3.0)\n",
            "Building wheels for collected packages: openai-whisper\n",
            "  Building wheel for openai-whisper (pyproject.toml) ... \u001b[?25l\u001b[?25hdone\n",
            "  Created wheel for openai-whisper: filename=openai_whisper-20231117-py3-none-any.whl size=801356 sha256=c278ddc0ce21a8de675470b26f6d114cc122f7023a1617237c828976910d210a\n",
            "  Stored in directory: /root/.cache/pip/wheels/d0/85/e1/9361b4cbea7dd4b7f6702fa4c3afc94877952eeb2b62f45f56\n",
            "Successfully built openai-whisper\n",
            "Installing collected packages: tiktoken, openai-whisper\n",
            "\u001b[31mERROR: pip's dependency resolver does not currently take into account all the packages that are installed. This behaviour is the source of the following dependency conflicts.\n",
            "llmx 0.0.15a0 requires cohere, which is not installed.\n",
            "llmx 0.0.15a0 requires openai, which is not installed.\u001b[0m\u001b[31m\n",
            "\u001b[0mSuccessfully installed openai-whisper-20231117 tiktoken-0.5.2\n"
          ]
        }
      ]
    },
    {
      "cell_type": "code",
      "source": [
        "!apt install ffmpeg"
      ],
      "metadata": {
        "colab": {
          "base_uri": "https://localhost:8080/"
        },
        "id": "Q8t2n9JgS41t",
        "outputId": "2c7f127a-ee76-433a-c880-0af1d019d16d"
      },
      "execution_count": 2,
      "outputs": [
        {
          "output_type": "stream",
          "name": "stdout",
          "text": [
            "Reading package lists... Done\n",
            "Building dependency tree... Done\n",
            "Reading state information... Done\n",
            "ffmpeg is already the newest version (7:4.4.2-0ubuntu0.22.04.1).\n",
            "0 upgraded, 0 newly installed, 0 to remove and 16 not upgraded.\n"
          ]
        }
      ]
    },
    {
      "cell_type": "code",
      "source": [
        "!pip install setuptools-rust"
      ],
      "metadata": {
        "colab": {
          "base_uri": "https://localhost:8080/"
        },
        "id": "S2wzadryMXkJ",
        "outputId": "8c5ed41d-59d5-4f0e-8f1b-349a27fd89f0"
      },
      "execution_count": 3,
      "outputs": [
        {
          "output_type": "stream",
          "name": "stdout",
          "text": [
            "Collecting setuptools-rust\n",
            "  Downloading setuptools_rust-1.8.1-py3-none-any.whl (26 kB)\n",
            "Requirement already satisfied: setuptools>=62.4 in /usr/local/lib/python3.10/dist-packages (from setuptools-rust) (67.7.2)\n",
            "Collecting semantic-version<3,>=2.8.2 (from setuptools-rust)\n",
            "  Downloading semantic_version-2.10.0-py2.py3-none-any.whl (15 kB)\n",
            "Requirement already satisfied: tomli>=1.2.1 in /usr/local/lib/python3.10/dist-packages (from setuptools-rust) (2.0.1)\n",
            "Installing collected packages: semantic-version, setuptools-rust\n",
            "Successfully installed semantic-version-2.10.0 setuptools-rust-1.8.1\n"
          ]
        }
      ]
    },
    {
      "cell_type": "code",
      "source": [
        "!wget https://upload.wikimedia.org/wikipedia/commons/7/75/Winston_Churchill_-_Be_Ye_Men_of_Valour.ogg"
      ],
      "metadata": {
        "colab": {
          "base_uri": "https://localhost:8080/"
        },
        "id": "i-TOgK6iROLN",
        "outputId": "ab605afb-c9aa-4377-bb1e-09bcc16ca00a"
      },
      "execution_count": 4,
      "outputs": [
        {
          "output_type": "stream",
          "name": "stdout",
          "text": [
            "--2023-12-12 06:15:28--  https://upload.wikimedia.org/wikipedia/commons/7/75/Winston_Churchill_-_Be_Ye_Men_of_Valour.ogg\n",
            "Resolving upload.wikimedia.org (upload.wikimedia.org)... 208.80.154.240, 2620:0:861:ed1a::2:b\n",
            "Connecting to upload.wikimedia.org (upload.wikimedia.org)|208.80.154.240|:443... connected.\n",
            "HTTP request sent, awaiting response... 200 OK\n",
            "Length: 2465799 (2.4M) [application/ogg]\n",
            "Saving to: ‘Winston_Churchill_-_Be_Ye_Men_of_Valour.ogg’\n",
            "\n",
            "Winston_Churchill_- 100%[===================>]   2.35M  11.4MB/s    in 0.2s    \n",
            "\n",
            "2023-12-12 06:15:28 (11.4 MB/s) - ‘Winston_Churchill_-_Be_Ye_Men_of_Valour.ogg’ saved [2465799/2465799]\n",
            "\n"
          ]
        }
      ]
    },
    {
      "cell_type": "markdown",
      "source": [
        "### 기본 모델을 사용하여 Whisper 명령 실행"
      ],
      "metadata": {
        "id": "o2DWVvDqRy_e"
      }
    },
    {
      "cell_type": "code",
      "source": [
        "#!pip install ffmpeg-python"
      ],
      "metadata": {
        "id": "WAdcUEinT-pb"
      },
      "execution_count": 5,
      "outputs": []
    },
    {
      "cell_type": "code",
      "source": [
        "!whisper Winston_Churchill_-_Be_Ye_Men_of_Valour.ogg  --model base"
      ],
      "metadata": {
        "colab": {
          "base_uri": "https://localhost:8080/"
        },
        "id": "1n_6ZTFDR5sp",
        "outputId": "84adbc28-59b5-4b41-e936-6d06f7b6496d"
      },
      "execution_count": 6,
      "outputs": [
        {
          "output_type": "stream",
          "name": "stdout",
          "text": [
            "100%|████████████████████████████████████████| 139M/139M [00:00<00:00, 187MiB/s]\n",
            "Detecting language using up to the first 30 seconds. Use `--language` to specify the language\n",
            "Detected language: English\n",
            "[00:00.000 --> 00:07.680]  I speak to you for the first time as Prime Minister in a solemn hour for the life of our country,\n",
            "[00:08.320 --> 00:14.880]  of our empire, of our allies, and above all of the cause of freedom.\n",
            "[00:16.640 --> 00:20.240]  A tremendous battle is raging in France and flanders.\n",
            "[00:21.920 --> 00:27.920]  The Germans by a remarkable combination of air bombing and heavily armored tanks\n",
            "[00:28.720 --> 00:35.520]  have broken through the French defenses north of the Maginot line and strong columns of\n",
            "[00:35.520 --> 00:42.080]  their armored vehicles are ravaging the open country which for the first day or two was without\n",
            "[00:42.080 --> 00:48.640]  defenders. They have penetrated deeply and spread alarm and confusion in their track.\n",
            "[00:50.000 --> 00:56.480]  Behind them there are now appearing infantry in lorries and behind them again the large masses\n",
            "[00:56.480 --> 01:04.400]  are moving forward. The regroupment of the French armies to make head again and also to strike\n",
            "[01:04.400 --> 01:13.360]  at this intruding wedge has been proceeding for several days largely assisted by the magnificent\n",
            "[01:13.360 --> 01:21.840]  efforts of the Royal Air Force. We must not allow ourselves to be intimidated by the presence of the\n",
            "[01:21.840 --> 01:29.280]  armored vehicles in unexpected places behind our lines. If they are behind our front the French\n",
            "[01:29.280 --> 01:38.240]  are also at many points fighting actively behind their. Both sides are therefore in an extremely\n",
            "[01:38.240 --> 01:45.680]  dangerous position and if the French army and our own army are well handled and I believe they\n",
            "[01:45.680 --> 01:52.160]  will be if the French retain that genius for recovery and counterattack which they have\n",
            "[01:52.880 --> 02:01.120]  so long been famous and if the British army shows the doggyed endurance and solid fighting power\n",
            "[02:01.120 --> 02:07.840]  of which there have been so many examples in the past then a sudden transformation of the\n",
            "[02:07.840 --> 02:16.800]  scene might spring into being. It would be foolish however to disguise the gravity of the hour.\n",
            "[02:18.560 --> 02:24.160]  It would be still more foolish to loot heart and courage or to suppose that well trained well\n",
            "[02:24.160 --> 02:31.360]  equipped armies numbering three or four millions of men can be overcome in the space of a few weeks\n",
            "[02:31.440 --> 02:37.600]  or even months by a scoop or raid of mechanized vehicles however formidable.\n",
            "[02:38.800 --> 02:44.480]  We may look with confidence to the stabilization of the front in front and to the general\n",
            "[02:44.480 --> 02:50.560]  engagement of the masses which will enable the qualities of the French and British soldiers to be\n",
            "[02:50.560 --> 02:59.440]  matched squarely against those of their adversaries. For myself I have invincible confidence in the\n",
            "[02:59.440 --> 03:07.440]  French army and its leaders. Only a very small part of that splendid army has yet been heavily engaged\n",
            "[03:08.720 --> 03:15.440]  and only a very small part of France has yet been invaded. There is good evidence to show that\n",
            "[03:15.440 --> 03:21.280]  practically the whole of the specialized and mechanized forces of the enemy have been already thrown\n",
            "[03:21.280 --> 03:26.560]  into the battle and we know that very heavy losses have been inflicted upon them.\n",
            "[03:26.960 --> 03:34.400]  No officer or man, no brigade or division which grapples at close quarters with the enemy\n",
            "[03:34.400 --> 03:39.600]  wherever encountered can fail to make a worthy contribution to the general result.\n",
            "[03:41.040 --> 03:47.760]  The armies must cast away the idea of resisting attack behind concrete lines or natural obstacles\n",
            "[03:48.400 --> 03:54.960]  and must realize that mastery can only be regained by furious and unrelenting assault.\n",
            "[03:55.920 --> 04:01.440]  And this spirit must not only animate the high command but must inspire every fighting man.\n",
            "[04:03.360 --> 04:10.800]  In the air, often at serious odds, often at odds, to the two who thought overwhelming,\n",
            "[04:11.760 --> 04:15.760]  we have been clawing down three or four to one of our enemies.\n",
            "[04:16.960 --> 04:22.080]  And the relative balance of the British and German air forces is now considerably more favorable\n",
            "[04:22.960 --> 04:29.520]  than at the beginning of the battle. In cutting down the German bombers, we are fighting our own\n",
            "[04:29.520 --> 04:36.000]  battle as well as that of France. My confidence in our ability to fight it out to the finish\n",
            "[04:36.000 --> 04:41.520]  with the German air force has been strengthened by the fierce encounters which have taken place\n",
            "[04:41.520 --> 04:48.080]  and are taking place. At the same time, our heavy bombers are striking nightly at the\n",
            "[04:48.080 --> 04:54.960]  caproot of German mechanized power and have already inflicted serious damage upon the oil\n",
            "[04:54.960 --> 05:03.440]  refineries on which the Nazi effort to dominate the world directly depends. We must expect\n",
            "[05:04.400 --> 05:10.560]  that as soon as stability is reached on the western front, the bulk of that hideous apparatus\n",
            "[05:10.560 --> 05:16.640]  of aggression which dashed Holland into ruin and slavery in a few days will return to penance.\n",
            "[05:18.640 --> 05:27.040]  I am sure I speak for all when I say we are ready to face it, to endure it and to retaliate against it,\n",
            "[05:27.760 --> 05:35.760]  to any extent that the unwritten laws of war permit. There will be many men and many women\n",
            "[05:35.760 --> 05:43.440]  in this island who, when the ordeal comes upon them and come it will, will feel comfort and even\n",
            "[05:43.520 --> 05:49.840]  pride that they are sharing the perils of our leds at the front. Soldiers, sailors, and airmen\n",
            "[05:49.840 --> 05:56.080]  got blessings and are drawing away for them a part at least of the onslaught they have to bear.\n",
            "[05:57.520 --> 06:03.680]  He is not this the appointed time for all to make the utmost exertions in their power.\n",
            "[06:04.960 --> 06:10.720]  If the battle is to be won, we must provide our men with ever increasing quantities of the weapons\n",
            "[06:10.800 --> 06:18.080]  and ammunition they need. We must have and have quickly more aeroplanes, more tanks, more shells,\n",
            "[06:18.080 --> 06:25.360]  more guns. There is imperious need for the vital munitions. They increase our strength against\n",
            "[06:25.360 --> 06:31.440]  the powerfully armed enemy. They replace the wastage of the obstinate struggle and the knowledge\n",
            "[06:31.440 --> 06:39.040]  that wastage will speedily be replaced enables us to draw more readily upon our reserves and throw\n",
            "[06:39.120 --> 06:46.000]  them in now that everything counts no matter. Our task is not only to win the battle but to win the war.\n",
            "[06:47.440 --> 06:53.280]  After this battle in France abates its force, they will come the battle for our islands.\n",
            "[06:54.720 --> 07:00.480]  For all that Britain is and all that Britain means, that will be the struggle.\n",
            "[07:02.000 --> 07:07.840]  In that supreme emergency, we shall not hesitate to take every step, even the most drastic\n",
            "[07:08.320 --> 07:15.120]  to call forth from our people the last ounce and the last inch of effort I wish they are capable.\n",
            "[07:15.920 --> 07:21.360]  The interests of property, the hours of labour are nothing compared to the struggle for life\n",
            "[07:21.360 --> 07:27.920]  and honour, for right and freedom, to which we have vowed our self. I have received from the\n",
            "[07:28.720 --> 07:36.240]  chiefs of the French Republic and in particular from its indomitable Prime Minister,\n",
            "[07:36.240 --> 07:44.480]  Minister Reino, the most sacred pledges that whatever happens, they will fight to the end, be it bitter\n",
            "[07:44.480 --> 07:50.800]  nor be it glorious. Nay, if we fight to the end, it can only be glorious.\n",
            "[07:52.720 --> 07:57.920]  Having received its majesty's commission, I have formed an administration of men and women\n",
            "[07:57.920 --> 08:04.720]  of every party and have almost every point of view. We have deferred and quarreled in the past\n",
            "[08:05.680 --> 08:14.080]  that now one bond unites at all. The wage war until victory is won and never to surrender\n",
            "[08:14.080 --> 08:23.360]  ourselves to servitude and shame, whatever the cost and the agony may be. This is one of the most\n",
            "[08:23.360 --> 08:31.440]  or striking periods in the long history of France and Britain. It is also beyond out the most sublime,\n",
            "[08:32.400 --> 08:39.680]  side by side, unaided except by their kitten kin in the great dominions and by the wide empires\n",
            "[08:39.680 --> 08:46.720]  which rest beneath their shields. Side by side the British and French peoples have advanced\n",
            "[08:46.720 --> 08:55.200]  to rescue not only Europe but mankind from the foulest and most sole destroying tyranny which\n",
            "[08:55.200 --> 09:05.200]  had ever darkened and stained the pages of history. Behind them, behind us, behind the armies and\n",
            "[09:05.200 --> 09:13.840]  fleets of Britain and France gather a group of shattered states and bludgeoned races that checks\n",
            "[09:13.840 --> 09:21.840]  the poles, the Norwegians, the Danes, the Dutch, the Belgians upon all of whom the long night of\n",
            "[09:21.920 --> 09:30.560]  barbarism will descend unbroken even by a star of hope unless we conquer as conquer we must\n",
            "[09:31.440 --> 09:42.000]  as conquer we shall. Today is Trinity Sunday. Century to go words were written to be a call and\n",
            "[09:42.080 --> 09:53.040]  a spur to the faithful servants of truth and justice. Arm yourselves and be men of valor and be\n",
            "[09:53.040 --> 09:59.200]  in readiness for the conflict for it is better for us to perish in battle than to look upon the\n",
            "[09:59.200 --> 10:07.920]  outrage of our nation and our altars as the will of God is in heaven even so letting do.\n"
          ]
        }
      ]
    },
    {
      "cell_type": "code",
      "source": [
        "!whisper Winston_Churchill_-_Be_Ye_Men_of_Valour.ogg  --model medium"
      ],
      "metadata": {
        "colab": {
          "base_uri": "https://localhost:8080/"
        },
        "id": "z6MJYHYER8mm",
        "outputId": "70e7612c-c2fd-4f7d-c9b6-e00ef2bb5780"
      },
      "execution_count": null,
      "outputs": [
        {
          "output_type": "stream",
          "name": "stdout",
          "text": [
            "100%|█████████████████████████████████████| 1.42G/1.42G [01:00<00:00, 25.1MiB/s]\n",
            "Detecting language using up to the first 30 seconds. Use `--language` to specify the language\n",
            "Detected language: English\n",
            "[00:00.000 --> 00:08.400]  I speak to you for the first time as Prime Minister in a solemn hour for the life of our country,\n",
            "[00:08.400 --> 00:16.640]  of our empire, of our allies, and above all, of the cause of freedom.\n",
            "[00:16.640 --> 00:21.920]  A tremendous battle is raging in France and Flanders.\n",
            "[00:21.920 --> 00:28.720]  The Germans, by a remarkable combination of air bombing and heavily armoured tanks,\n",
            "[00:28.720 --> 00:35.840]  have broken through the French defences north of the Maginot Line, and strong columns of their\n",
            "[00:35.840 --> 00:42.080]  armoured vehicles are ravaging the open country, which for the first day or two was without\n",
            "[00:42.080 --> 00:48.640]  defenders. They have penetrated deeply and spread alarm and confusion in their tracks.\n",
            "[00:50.000 --> 00:56.480]  Behind them there are now appearing infantry in lorries, and behind them again the large masses\n",
            "[00:56.480 --> 01:04.960]  are moving forward. The regroupment of the French armies to make head against and also to strike at\n",
            "[01:04.960 --> 01:13.360]  this intruding wedge has been proceeding for several days, largely assisted by the magnificent\n",
            "[01:13.360 --> 01:21.600]  efforts of the Royal Air Force. We must not allow ourselves to be intimidated by the presence of\n",
            "[01:21.600 --> 01:27.920]  these armoured vehicles in unexpected places behind our lines. If they are behind our front,\n",
            "[01:28.560 --> 01:36.960]  the French are also at many points fighting actively behind theirs. Both sides are therefore\n",
            "[01:36.960 --> 01:44.240]  in an extremely dangerous position, and if the French army and our own army are well handled,\n",
            "[01:44.800 --> 01:51.280]  as I believe they will be, if the French retain that genius for recovery and counter-attack\n",
            "[01:51.280 --> 01:58.480]  for which they have so long been famous, and if the British army shows the dogged endurance\n",
            "[01:59.040 --> 02:05.040]  and solid fighting power of which there have been so many examples in the past, then\n",
            "[02:06.000 --> 02:14.560]  a sudden transformation of the scene might spring into being. It would be foolish, however,\n",
            "[02:14.560 --> 02:21.360]  to disguise the gravity of the hour. It would be still more foolish to lose heart and courage,\n",
            "[02:21.920 --> 02:27.520]  or to suppose that well-trained, well-equipped armies numbering three or four millions of men\n",
            "[02:28.240 --> 02:35.920]  can be overcome in the space of a few weeks or even months by a scoop or raid of mechanised\n",
            "[02:35.920 --> 02:42.000]  vehicles, however, formidable. We may look with confidence to the stabilisation of the front in\n",
            "[02:42.000 --> 02:48.000]  France, and to the general engagement of the masses, which will enable the qualities of the\n",
            "[02:48.000 --> 02:54.400]  French and British soldiers to be matched squarely against those of their adversaries.\n",
            "[02:55.840 --> 03:03.360]  For myself, I have invincible confidence in the French army and its leaders. Only a very small\n",
            "[03:03.360 --> 03:11.040]  part of that splendid army has yet been heavily engaged, and only a very small part of France\n",
            "[03:11.040 --> 03:17.600]  has yet been invaded. There is good evidence to show that practically the whole of the specialised\n",
            "[03:17.600 --> 03:23.600]  and mechanised forces of the enemy have been already thrown into the battle, and we know that\n",
            "[03:23.600 --> 03:31.120]  very heavy losses have been inflicted upon them. No officer or man, no brigade or division,\n",
            "[03:31.680 --> 03:37.600]  which grapples at close quarters with the enemy wherever encountered, can fail to make a worthy\n",
            "[03:37.600 --> 03:44.800]  contribution to the general result. The armies must cast away the idea of resisting attack\n",
            "[03:44.800 --> 03:52.080]  behind concrete lines or natural obstacles, and must realise that mastery can only be regained\n",
            "[03:52.080 --> 03:59.360]  by furious and unrelenting assault, and this spirit must not only animate the high command,\n",
            "[03:59.440 --> 04:09.040]  but must inspire every fighting man. In the air, often at serious odds, often at odds,\n",
            "[04:09.040 --> 04:15.760]  to the two who thought overwhelming, we have been clawing down three or four to one of our enemy,\n",
            "[04:17.040 --> 04:21.680]  and the relative balance of the British and German air forces is now considerably more\n",
            "[04:21.680 --> 04:28.480]  favourable to us than at the beginning of the battle. In cutting down the German bombers,\n",
            "[04:28.480 --> 04:34.320]  we are fighting our own battle, as well as that of France. My confidence in our ability\n",
            "[04:34.320 --> 04:39.520]  to fight it out to the finish with the German air force has been strengthened by the fierce\n",
            "[04:39.520 --> 04:46.800]  encounters which have taken place and are taking place. At the same time, our heavy bombers are\n",
            "[04:46.800 --> 04:52.960]  striking nightly at the taproot of German mechanised power, and have already inflicted\n",
            "[04:52.960 --> 05:00.240]  serious damage upon the oil refineries on which the Nazi effort to dominate the world directly\n",
            "[05:00.240 --> 05:09.200]  depend. We must expect that as soon as stability is reached on the Western front, the bulk of that\n",
            "[05:09.200 --> 05:15.520]  hideous apparatus of aggression, which dashed Holland into ruin and slavery in a few days,\n",
            "[05:15.600 --> 05:22.880]  will be turned upon us. I am sure I speak for all when I say we are ready to face it,\n",
            "[05:23.840 --> 05:31.600]  to endure it, and to retaliate against it to any extent that the unwritten laws of war permit.\n",
            "[05:32.880 --> 05:39.680]  There will be many men and many women in this island who, when the ordeal comes upon them,\n",
            "[05:39.680 --> 05:46.480]  thence come it will, will feel comfort and even a pride that they are sharing the perils of our\n",
            "[05:46.480 --> 05:53.200]  lads at the front, soldiers, sailors and airmen, God bless them, and are drawing away for them a\n",
            "[05:53.200 --> 06:01.280]  part at least of the onslaught they have to bear. Is not this the appointed time for all to make\n",
            "[06:01.280 --> 06:08.640]  the utmost exertions in their power? If the battle is to be won, we must provide our men with ever\n",
            "[06:08.640 --> 06:15.040]  increasing quantities of the weapons and ammunition they need. We must have, and have quickly,\n",
            "[06:15.040 --> 06:22.480]  more aeroplanes, more tanks, more shells, more guns. There is imperious need for these vital munitions.\n",
            "[06:23.600 --> 06:28.640]  They increase our strength against the powerfully armed enemy, they replace the wastage of the\n",
            "[06:28.640 --> 06:36.480]  obstinate struggle, and the knowledge that wastage will speedily be replaced, enables us to draw\n",
            "[06:36.480 --> 06:41.360]  more readily upon our reserves and throw them in now that everything counts so much.\n",
            "[06:42.560 --> 06:49.760]  Our task is not only to win the battle, but to win the war. After this battle in France abates its\n",
            "[06:49.760 --> 06:58.640]  force, there will come the battle for our islands, for all that Britain is and all that Britain means.\n",
            "[06:59.360 --> 07:05.760]  That will be the struggle. In that supreme emergency, we shall not hesitate to take every\n",
            "[07:05.760 --> 07:13.520]  step, even the most drastic, to call forth from our people the last ounce and the last inch of\n",
            "[07:13.520 --> 07:19.600]  effort of which they are capable. The interests of property, the hours of labour, are nothing\n",
            "[07:19.600 --> 07:25.120]  compared to the struggle for life and honour, for right and freedom to which we have bowed ourselves.\n",
            "[07:26.560 --> 07:32.720]  I have received from the Chiefs of the French Republic, and in particular from its\n",
            "[07:33.680 --> 07:41.280]  indomitable Prime Minister, Monsieur Reynaud, the most sacred pledges that whatever happens,\n",
            "[07:41.280 --> 07:49.040]  they will fight to the end, be it bitter or be it glorious. Nay, if we fight to the end,\n",
            "[07:49.040 --> 07:56.320]  it can only be glorious. Having received His Majesty's commission, I have formed an\n",
            "[07:56.320 --> 08:01.040]  administration of men and women of every party and of almost every point of view.\n",
            "[08:02.000 --> 08:07.840]  We have differed and quarrelled in the past that now one bond unites at all,\n",
            "[08:08.800 --> 08:16.400]  to wage war until victory is won, and never to surrender ourselves to servitude and shame,\n",
            "[08:17.120 --> 08:24.640]  whatever the cost and the agony may be. This is one of the most awe-striking periods\n",
            "[08:25.280 --> 08:31.520]  in the long history of France and Britain. It is also, beyond doubt, the most sublime.\n",
            "[08:32.480 --> 08:38.160]  Side by side, unaided except by their kith and kin in the great dominions,\n",
            "[08:38.160 --> 08:44.640]  and by the wide empires which rest beneath their shield, side by side the British and\n",
            "[08:44.640 --> 08:51.840]  French peoples have advanced to rescue not only Europe, but mankind from the foulest\n",
            "[08:51.840 --> 08:58.720]  and most soul-destroying tyranny which has ever darkened and stained the pages of history.\n",
            "[08:59.920 --> 09:07.120]  Behind them, behind us, behind the armies and fleets of Britain and France,\n",
            "[09:07.920 --> 09:16.000]  gather a group of shattered states and bludgeoned races, the Czechs, the Poles, the Norwegians,\n",
            "[09:16.000 --> 09:23.200]  the Danes, the Dutch, the Belgians, upon all of whom the long night of barbarism will descend,\n",
            "[09:23.760 --> 09:32.800]  unbroken even by a star of hope, unless we conquer, as conquer we must, as conquer we shall.\n",
            "[09:34.960 --> 09:42.960]  Today is Trinity Sunday. Centuries ago words were written to be a call and a spur\n",
            "[09:42.960 --> 09:46.400]  to the faithful servants of truth and justice.\n",
            "[09:48.640 --> 09:54.560]  Arm yourselves and be ye men of valor, and be in readiness for the conflict,\n",
            "[09:55.280 --> 10:00.800]  for it is better for us to perish in battle than to look upon the outrage of our nation\n",
            "[10:00.800 --> 10:09.920]  and our altars, as the will of God is in heaven. Even so, let him do.\n"
          ]
        }
      ]
    },
    {
      "cell_type": "markdown",
      "source": [
        "### 텍스트 변환과 번역"
      ],
      "metadata": {
        "id": "Vlul9KIIVGIN"
      }
    },
    {
      "cell_type": "markdown",
      "source": [
        "### 러시아 음성 준비"
      ],
      "metadata": {
        "id": "PaBeRxT3aXRv"
      }
    },
    {
      "cell_type": "code",
      "source": [
        "!wget https://upload.wikimedia.org/wikipedia/commons/1/1a/Lenin_-_What_Is_Soviet_Power.ogg"
      ],
      "metadata": {
        "colab": {
          "base_uri": "https://localhost:8080/"
        },
        "id": "qpMumV-raaco",
        "outputId": "7da8986e-67e8-4640-a6f2-b7642cc470e1"
      },
      "execution_count": 7,
      "outputs": [
        {
          "output_type": "stream",
          "name": "stdout",
          "text": [
            "--2023-12-12 06:18:02--  https://upload.wikimedia.org/wikipedia/commons/1/1a/Lenin_-_What_Is_Soviet_Power.ogg\n",
            "Resolving upload.wikimedia.org (upload.wikimedia.org)... 208.80.154.240, 2620:0:861:ed1a::2:b\n",
            "Connecting to upload.wikimedia.org (upload.wikimedia.org)|208.80.154.240|:443... connected.\n",
            "HTTP request sent, awaiting response... 200 OK\n",
            "Length: 972346 (950K) [application/ogg]\n",
            "Saving to: ‘Lenin_-_What_Is_Soviet_Power.ogg’\n",
            "\n",
            "Lenin_-_What_Is_Sov 100%[===================>] 949.56K  5.80MB/s    in 0.2s    \n",
            "\n",
            "2023-12-12 06:18:02 (5.80 MB/s) - ‘Lenin_-_What_Is_Soviet_Power.ogg’ saved [972346/972346]\n",
            "\n"
          ]
        }
      ]
    },
    {
      "cell_type": "markdown",
      "source": [
        "### Whisper를 이용한 번역"
      ],
      "metadata": {
        "id": "Jd8qdDKbabeu"
      }
    },
    {
      "cell_type": "code",
      "source": [
        "!whisper Lenin_-_What_Is_Soviet_Power.ogg --language Russian --task translate"
      ],
      "metadata": {
        "colab": {
          "base_uri": "https://localhost:8080/"
        },
        "id": "0kejjcSday-r",
        "outputId": "ea3207c7-9e66-4ada-a113-f1aa9c17a839"
      },
      "execution_count": null,
      "outputs": [
        {
          "output_type": "stream",
          "name": "stdout",
          "text": [
            "100%|███████████████████████████████████████| 461M/461M [00:09<00:00, 49.5MiB/s]\n",
            "[00:00.000 --> 00:02.000]  What is Soviet power?\n",
            "[00:02.000 --> 00:06.000]  What is the essence of this new power,\n",
            "[00:06.000 --> 00:11.000]  which cannot be understood in most countries?\n",
            "[00:11.000 --> 00:15.000]  The essence of it is attracting workers.\n",
            "[00:15.000 --> 00:19.000]  In each country, more and more people stand up\n",
            "[00:19.000 --> 00:22.000]  to the Prime Minister of the State,\n",
            "[00:22.000 --> 00:25.000]  such as other rich or capitalists,\n",
            "[00:25.000 --> 00:29.000]  and now for the first time control the state.\n",
            "[00:29.000 --> 00:32.000]  Moreover, in the mass movement,\n",
            "[00:32.000 --> 00:35.000]  just all the classes that capitalism has adopted.\n",
            "[00:35.000 --> 00:39.000]  Even in the most democratic, even in the most free republics,\n",
            "[00:39.000 --> 00:42.000]  while the state is still in favor of the capital,\n",
            "[00:42.000 --> 00:45.000]  while the country is still in its own property,\n",
            "[00:45.000 --> 00:49.000]  the state always controls a small sector,\n",
            "[00:49.000 --> 00:53.000]  whether it is the capitalists or the rich.\n",
            "[00:53.000 --> 00:57.000]  For the first time, the power of the state is built\n",
            "[00:57.000 --> 00:59.000]  in Russia.\n",
            "[00:59.000 --> 01:02.000]  In such a way that only the workers,\n",
            "[01:02.000 --> 01:04.000]  only the hard workers,\n",
            "[01:04.000 --> 01:06.000]  and only the exploiters,\n",
            "[01:06.000 --> 01:09.000]  force mass organizations,\n",
            "[01:09.000 --> 01:13.000]  and this advice is passed on to all the state authorities.\n",
            "[01:13.000 --> 01:17.000]  That is why, as they say in Russia,\n",
            "[01:17.000 --> 01:20.000]  representatives of the bourgeoisie of all countries,\n",
            "[01:20.000 --> 01:22.000]  and all the books and words of the Soviet Union\n",
            "[01:22.000 --> 01:25.000]  became not only clear, became popular,\n",
            "[01:25.000 --> 01:29.000]  became loved for the workers, for all the workers.\n",
            "[01:29.000 --> 01:31.000]  And that is why the Soviet government,\n",
            "[01:31.000 --> 01:33.000]  as you would not have followed,\n",
            "[01:33.000 --> 01:36.000]  representatives of communism in different countries,\n",
            "[01:36.000 --> 01:39.000]  the Soviet government is immeasurable,\n",
            "[01:39.000 --> 01:41.000]  indecent and in the distant future\n",
            "[01:41.000 --> 01:43.000]  will win in all the world.\n",
            "[01:43.000 --> 01:46.000]  We know very well that we have a lot of flaws\n",
            "[01:46.000 --> 01:49.000]  in the organization of the Soviet government.\n",
            "[01:49.000 --> 01:52.000]  The Soviet government is a wonderful policeman,\n",
            "[01:52.000 --> 01:56.000]  he does not know straight from the flaws of the past,\n",
            "[01:56.000 --> 01:59.000]  from the insurgency, from the unculturation,\n",
            "[01:59.000 --> 02:01.000]  from the humiliation of the Great War,\n",
            "[02:01.000 --> 02:04.000]  from the humiliation of the agro-global capitalism,\n",
            "[02:04.000 --> 02:08.000]  but it gives the opportunity to go beyond socialism,\n",
            "[02:08.000 --> 02:12.000]  it gives the opportunity to rise to those who were oppressed\n",
            "[02:12.000 --> 02:16.000]  and to take more and more of their hands,\n",
            "[02:16.000 --> 02:20.000]  all the control of the state, all the control of the household,\n",
            "[02:20.000 --> 02:22.000]  all the control of the production.\n",
            "[02:22.000 --> 02:25.000]  The Soviet government has a path to socialism\n",
            "[02:25.000 --> 02:28.000]  which is found not in the hands of the workers,\n",
            "[02:28.000 --> 02:31.000]  but in the hands of the faithful and the unbeatable.\n"
          ]
        }
      ]
    },
    {
      "cell_type": "markdown",
      "source": [
        "### 러시아어를 한국어로 번역을 해보기"
      ],
      "metadata": {
        "id": "waaoyCpnsiUF"
      }
    },
    {
      "cell_type": "code",
      "source": [
        "!whisper Lenin_-_What_Is_Soviet_Power.ogg --language Russian --task translate --target_language Korean"
      ],
      "metadata": {
        "colab": {
          "base_uri": "https://localhost:8080/"
        },
        "id": "Jxr7-7M_shzw",
        "outputId": "a674d38a-f538-48db-bfeb-84c8832ad2c3"
      },
      "execution_count": 8,
      "outputs": [
        {
          "output_type": "stream",
          "name": "stdout",
          "text": [
            "usage: whisper [-h] [--model MODEL] [--model_dir MODEL_DIR] [--device DEVICE]\n",
            "               [--output_dir OUTPUT_DIR] [--output_format {txt,vtt,srt,tsv,json,all}]\n",
            "               [--verbose VERBOSE] [--task {transcribe,translate}]\n",
            "               [--language {af,am,ar,as,az,ba,be,bg,bn,bo,br,bs,ca,cs,cy,da,de,el,en,es,et,eu,fa,fi,fo,fr,gl,gu,ha,haw,he,hi,hr,ht,hu,hy,id,is,it,ja,jw,ka,kk,km,kn,ko,la,lb,ln,lo,lt,lv,mg,mi,mk,ml,mn,mr,ms,mt,my,ne,nl,nn,no,oc,pa,pl,ps,pt,ro,ru,sa,sd,si,sk,sl,sn,so,sq,sr,su,sv,sw,ta,te,tg,th,tk,tl,tr,tt,uk,ur,uz,vi,yi,yo,yue,zh,Afrikaans,Albanian,Amharic,Arabic,Armenian,Assamese,Azerbaijani,Bashkir,Basque,Belarusian,Bengali,Bosnian,Breton,Bulgarian,Burmese,Cantonese,Castilian,Catalan,Chinese,Croatian,Czech,Danish,Dutch,English,Estonian,Faroese,Finnish,Flemish,French,Galician,Georgian,German,Greek,Gujarati,Haitian,Haitian Creole,Hausa,Hawaiian,Hebrew,Hindi,Hungarian,Icelandic,Indonesian,Italian,Japanese,Javanese,Kannada,Kazakh,Khmer,Korean,Lao,Latin,Latvian,Letzeburgesch,Lingala,Lithuanian,Luxembourgish,Macedonian,Malagasy,Malay,Malayalam,Maltese,Mandarin,Maori,Marathi,Moldavian,Moldovan,Mongolian,Myanmar,Nepali,Norwegian,Nynorsk,Occitan,Panjabi,Pashto,Persian,Polish,Portuguese,Punjabi,Pushto,Romanian,Russian,Sanskrit,Serbian,Shona,Sindhi,Sinhala,Sinhalese,Slovak,Slovenian,Somali,Spanish,Sundanese,Swahili,Swedish,Tagalog,Tajik,Tamil,Tatar,Telugu,Thai,Tibetan,Turkish,Turkmen,Ukrainian,Urdu,Uzbek,Valencian,Vietnamese,Welsh,Yiddish,Yoruba}]\n",
            "               [--temperature TEMPERATURE] [--best_of BEST_OF] [--beam_size BEAM_SIZE]\n",
            "               [--patience PATIENCE] [--length_penalty LENGTH_PENALTY]\n",
            "               [--suppress_tokens SUPPRESS_TOKENS] [--initial_prompt INITIAL_PROMPT]\n",
            "               [--condition_on_previous_text CONDITION_ON_PREVIOUS_TEXT] [--fp16 FP16]\n",
            "               [--temperature_increment_on_fallback TEMPERATURE_INCREMENT_ON_FALLBACK]\n",
            "               [--compression_ratio_threshold COMPRESSION_RATIO_THRESHOLD]\n",
            "               [--logprob_threshold LOGPROB_THRESHOLD] [--no_speech_threshold NO_SPEECH_THRESHOLD]\n",
            "               [--word_timestamps WORD_TIMESTAMPS] [--prepend_punctuations PREPEND_PUNCTUATIONS]\n",
            "               [--append_punctuations APPEND_PUNCTUATIONS] [--highlight_words HIGHLIGHT_WORDS]\n",
            "               [--max_line_width MAX_LINE_WIDTH] [--max_line_count MAX_LINE_COUNT]\n",
            "               [--max_words_per_line MAX_WORDS_PER_LINE] [--threads THREADS]\n",
            "               audio [audio ...]\n",
            "whisper: error: unrecognized arguments: --target_language Korean\n"
          ]
        }
      ]
    },
    {
      "cell_type": "code",
      "source": [
        "!whisper Lenin_-_What_Is_Soviet_Power.ogg --language Russian --task translate --best_of 30"
      ],
      "metadata": {
        "colab": {
          "base_uri": "https://localhost:8080/"
        },
        "id": "JhktzgpXa8cr",
        "outputId": "2f9b03b0-f0e9-4348-e95c-cd5364fdf539"
      },
      "execution_count": 9,
      "outputs": [
        {
          "output_type": "stream",
          "name": "stdout",
          "text": [
            "100%|████████████████████████████████████████| 461M/461M [00:03<00:00, 140MiB/s]\n",
            "[00:00.000 --> 00:02.000]  What is Soviet power?\n",
            "[00:02.000 --> 00:06.000]  What is the essence of this new power,\n",
            "[00:06.000 --> 00:11.000]  which cannot be understood in most countries?\n",
            "[00:11.000 --> 00:15.000]  The essence of it is attracting workers.\n",
            "[00:15.000 --> 00:19.000]  In each country, more and more people stand up\n",
            "[00:19.000 --> 00:22.000]  to the Prime Minister of the State,\n",
            "[00:22.000 --> 00:25.000]  such as other rich or capitalists,\n",
            "[00:25.000 --> 00:29.000]  and now for the first time control the state.\n",
            "[00:29.000 --> 00:32.000]  Moreover, in the mass movement,\n",
            "[00:32.000 --> 00:35.000]  just all the classes that capitalism has adopted.\n",
            "[00:35.000 --> 00:39.000]  Even in the most democratic, even in the most free republics,\n",
            "[00:39.000 --> 00:42.000]  while the state is still in favor of the capital,\n",
            "[00:42.000 --> 00:45.000]  while the country is still in its own property,\n",
            "[00:45.000 --> 00:49.000]  the state always controls a small sector,\n",
            "[00:49.000 --> 00:53.000]  whether it is the capitalists or the rich.\n",
            "[00:53.000 --> 00:57.000]  For the first time, the power of the state is built\n",
            "[00:57.000 --> 01:01.000]  in Russia in such a way that only the workers,\n",
            "[01:01.000 --> 01:04.000]  only the hard workers,\n",
            "[01:04.000 --> 01:06.000]  except the exploiters,\n",
            "[01:06.000 --> 01:09.000]  force mass organizations,\n",
            "[01:09.000 --> 01:13.000]  and this advice is passed on to all the state authorities.\n",
            "[01:13.000 --> 01:16.000]  That is why, as they say in Russia,\n",
            "[01:16.000 --> 01:19.000]  representatives of the bourgeoisie of all countries,\n",
            "[01:19.000 --> 01:22.000]  and all the books and words of the Soviet Union,\n",
            "[01:22.000 --> 01:25.000]  became not only clear, became popular,\n",
            "[01:25.000 --> 01:29.000]  became loved for the workers, for all the workers.\n",
            "[01:29.000 --> 01:31.000]  And that is why the Soviet government,\n",
            "[01:31.000 --> 01:33.000]  as you would not have followed,\n",
            "[01:33.000 --> 01:36.000]  representatives of communism in different countries,\n",
            "[01:36.000 --> 01:39.000]  the Soviet government is immeasurable,\n",
            "[01:39.000 --> 01:43.000]  indecent and in the near future will win in all the world.\n",
            "[01:43.000 --> 01:46.000]  We know very well that we have a lot of flaws\n",
            "[01:46.000 --> 01:49.000]  in the organization of the Soviet government.\n",
            "[01:49.000 --> 01:52.000]  The Soviet government is a wonderful policeman,\n",
            "[01:52.000 --> 01:56.000]  he does not know straight away from the flaws of the past,\n",
            "[01:56.000 --> 01:59.000]  from the insurgency, from the unculturation,\n",
            "[01:59.000 --> 02:02.000]  from the humiliation of the Great War,\n",
            "[02:02.000 --> 02:05.000]  from the humiliation of the agro-global capitalism,\n",
            "[02:05.000 --> 02:08.000]  but it gives the opportunity to go beyond socialism,\n",
            "[02:08.000 --> 02:12.000]  it gives the opportunity to rise to those who were oppressed\n",
            "[02:12.000 --> 02:15.000]  and to take more and more of their hands,\n",
            "[02:15.000 --> 02:18.000]  all the control of the state,\n",
            "[02:18.000 --> 02:20.000]  all the control of the household,\n",
            "[02:20.000 --> 02:22.000]  all the control of the production.\n",
            "[02:22.000 --> 02:25.000]  The Soviet government has a path to socialism\n",
            "[02:25.000 --> 02:28.000]  that is found not in the hands of the workers,\n",
            "[02:28.000 --> 02:31.000]  and that is why it is true and why it is unbeatable.\n"
          ]
        }
      ]
    },
    {
      "cell_type": "code",
      "source": [
        "!whisper Lenin_-_What_Is_Soviet_Power.ogg --language Russian --task translate --best_of 20 --temperature 0.9"
      ],
      "metadata": {
        "colab": {
          "base_uri": "https://localhost:8080/"
        },
        "id": "Bq6OBKU0b96I",
        "outputId": "01ab452c-51a2-47e1-c5e6-8ba9064492ef"
      },
      "execution_count": 10,
      "outputs": [
        {
          "output_type": "stream",
          "name": "stdout",
          "text": [
            "[00:00.000 --> 00:02.260]  What is the Soviet government?\n",
            "[00:02.260 --> 00:06.180]  What brings out the integrity of this new government,\n",
            "[00:06.180 --> 00:09.560]  which does not want or cannot understand\n",
            "[00:09.560 --> 00:11.620]  everything in the society?\n",
            "[00:11.620 --> 00:12.980]  They are Leyla's integrity,\n",
            "[00:12.980 --> 00:15.500]  they are interested in workers,\n",
            "[00:15.500 --> 00:18.900]  they are greater and greater in each country than\n",
            "[00:18.900 --> 00:21.280]  the Prime Minister,\n",
            "[00:21.280 --> 00:23.220]  the government-controlled,\n",
            "[00:23.220 --> 00:25.420]  either rich or capitalists,\n",
            "[00:25.420 --> 00:27.380]  but the first time\n",
            "[00:27.380 --> 00:29.180]  They are managing the state,\n",
            "[00:29.180 --> 00:31.420]  and they arenisquisitng\n",
            "[00:31.420 --> 00:35.220]  the state-owned class that acquired capitalism.\n",
            "[00:35.220 --> 00:39.740]  Even the most democratic, even the most free public\n",
            "[00:39.740 --> 00:42.360]  is in the power of capitalism,\n",
            "[00:42.520 --> 00:45.400]  while the country is in the fight for its patron.\n",
            "[00:45.400 --> 00:49.180]  The state has always managed the small presence\n",
            "[00:49.180 --> 00:53.040]  of tens of billion capitalists and Streets.\n",
            "[00:53.300 --> 00:54.900]  In the first time in the past,\n",
            "[00:54.900 --> 00:56.980]  the State Government was built\n",
            "[00:56.980 --> 01:03.580]  We are in Russia only of working only of beggars,\n",
            "[01:03.580 --> 01:08.980]  and unless the exploiters force mass organizations and council\n",
            "[01:08.980 --> 01:12.620]  and this council provide support to government power.\n",
            "[01:12.620 --> 01:14.060]  That is why,\n",
            "[01:14.060 --> 01:16.280]  as one is known in Russia,\n",
            "[01:16.280 --> 01:19.340]  representatives of bourgeois countries have become so.\n",
            "[01:19.340 --> 01:24.860]  The word ''christos'' has became aware, popular,\n",
            "[01:24.860 --> 01:31.360]  ... become friendly to workers and companies, and this is why the Soviet government is...\n",
            "[01:31.360 --> 01:36.860]  ... like you were not a icon, a supporter of communism in different countries isved...\n",
            "[01:36.860 --> 01:42.860]  ... the Soviet government, not certain, and not in the distant future will win in everything in the world.\n",
            "[01:42.860 --> 01:48.860]  We know that we have a lot of flaws in the organization of the President of Sweden.\n",
            "[01:48.860 --> 01:52.860]  Soviet power is an extraordinary policeman,\n",
            "[01:52.860 --> 01:56.860]  she impact me immediately from above,\n",
            "[01:56.860 --> 01:59.860]  from unemployment, from incultesty,\n",
            "[01:59.860 --> 02:01.860]  from the verge of a long war,\n",
            "[02:01.860 --> 02:04.860]  from the verge of an agrarian capitalism.\n",
            "[02:04.860 --> 02:09.860]  But in any case she gives the opportunity to overcome socialism,\n",
            "[02:09.860 --> 02:13.860]  she gives the opportunity to rise to those who were exploited\n",
            "[02:13.860 --> 02:16.860]  and to take all of the wealth and property of our hands\n",
            "[02:16.860 --> 02:18.880]  economic system, everything is under control by the state,\n",
            "[02:18.880 --> 02:20.800]  it is the administration of the land,\n",
            "[02:20.800 --> 02:22.940]  the administration of the industry.\n",
            "[02:22.980 --> 02:25.940]  Soviet government has a way of socialism\n",
            "[02:25.940 --> 02:29.040]  found in the master of labor and so\n",
            "[02:29.040 --> 02:31.540]  reliable and so invincible.\n"
          ]
        }
      ]
    },
    {
      "cell_type": "markdown",
      "source": [
        "### CLI 다른 옵션 확인"
      ],
      "metadata": {
        "id": "6jtc_nSHtnml"
      }
    },
    {
      "cell_type": "code",
      "source": [
        "!whisper -h"
      ],
      "metadata": {
        "colab": {
          "base_uri": "https://localhost:8080/"
        },
        "id": "DE2Gx1X4dTu2",
        "outputId": "338de736-bf59-4f85-e4d9-e2eae9b6fcb4"
      },
      "execution_count": 11,
      "outputs": [
        {
          "output_type": "stream",
          "name": "stdout",
          "text": [
            "usage: whisper [-h] [--model MODEL] [--model_dir MODEL_DIR] [--device DEVICE]\n",
            "               [--output_dir OUTPUT_DIR] [--output_format {txt,vtt,srt,tsv,json,all}]\n",
            "               [--verbose VERBOSE] [--task {transcribe,translate}]\n",
            "               [--language {af,am,ar,as,az,ba,be,bg,bn,bo,br,bs,ca,cs,cy,da,de,el,en,es,et,eu,fa,fi,fo,fr,gl,gu,ha,haw,he,hi,hr,ht,hu,hy,id,is,it,ja,jw,ka,kk,km,kn,ko,la,lb,ln,lo,lt,lv,mg,mi,mk,ml,mn,mr,ms,mt,my,ne,nl,nn,no,oc,pa,pl,ps,pt,ro,ru,sa,sd,si,sk,sl,sn,so,sq,sr,su,sv,sw,ta,te,tg,th,tk,tl,tr,tt,uk,ur,uz,vi,yi,yo,yue,zh,Afrikaans,Albanian,Amharic,Arabic,Armenian,Assamese,Azerbaijani,Bashkir,Basque,Belarusian,Bengali,Bosnian,Breton,Bulgarian,Burmese,Cantonese,Castilian,Catalan,Chinese,Croatian,Czech,Danish,Dutch,English,Estonian,Faroese,Finnish,Flemish,French,Galician,Georgian,German,Greek,Gujarati,Haitian,Haitian Creole,Hausa,Hawaiian,Hebrew,Hindi,Hungarian,Icelandic,Indonesian,Italian,Japanese,Javanese,Kannada,Kazakh,Khmer,Korean,Lao,Latin,Latvian,Letzeburgesch,Lingala,Lithuanian,Luxembourgish,Macedonian,Malagasy,Malay,Malayalam,Maltese,Mandarin,Maori,Marathi,Moldavian,Moldovan,Mongolian,Myanmar,Nepali,Norwegian,Nynorsk,Occitan,Panjabi,Pashto,Persian,Polish,Portuguese,Punjabi,Pushto,Romanian,Russian,Sanskrit,Serbian,Shona,Sindhi,Sinhala,Sinhalese,Slovak,Slovenian,Somali,Spanish,Sundanese,Swahili,Swedish,Tagalog,Tajik,Tamil,Tatar,Telugu,Thai,Tibetan,Turkish,Turkmen,Ukrainian,Urdu,Uzbek,Valencian,Vietnamese,Welsh,Yiddish,Yoruba}]\n",
            "               [--temperature TEMPERATURE] [--best_of BEST_OF] [--beam_size BEAM_SIZE]\n",
            "               [--patience PATIENCE] [--length_penalty LENGTH_PENALTY]\n",
            "               [--suppress_tokens SUPPRESS_TOKENS] [--initial_prompt INITIAL_PROMPT]\n",
            "               [--condition_on_previous_text CONDITION_ON_PREVIOUS_TEXT] [--fp16 FP16]\n",
            "               [--temperature_increment_on_fallback TEMPERATURE_INCREMENT_ON_FALLBACK]\n",
            "               [--compression_ratio_threshold COMPRESSION_RATIO_THRESHOLD]\n",
            "               [--logprob_threshold LOGPROB_THRESHOLD] [--no_speech_threshold NO_SPEECH_THRESHOLD]\n",
            "               [--word_timestamps WORD_TIMESTAMPS] [--prepend_punctuations PREPEND_PUNCTUATIONS]\n",
            "               [--append_punctuations APPEND_PUNCTUATIONS] [--highlight_words HIGHLIGHT_WORDS]\n",
            "               [--max_line_width MAX_LINE_WIDTH] [--max_line_count MAX_LINE_COUNT]\n",
            "               [--max_words_per_line MAX_WORDS_PER_LINE] [--threads THREADS]\n",
            "               audio [audio ...]\n",
            "\n",
            "positional arguments:\n",
            "  audio                 audio file(s) to transcribe\n",
            "\n",
            "options:\n",
            "  -h, --help            show this help message and exit\n",
            "  --model MODEL         name of the Whisper model to use (default: small)\n",
            "  --model_dir MODEL_DIR\n",
            "                        the path to save model files; uses ~/.cache/whisper by default (default:\n",
            "                        None)\n",
            "  --device DEVICE       device to use for PyTorch inference (default: cuda)\n",
            "  --output_dir OUTPUT_DIR, -o OUTPUT_DIR\n",
            "                        directory to save the outputs (default: .)\n",
            "  --output_format {txt,vtt,srt,tsv,json,all}, -f {txt,vtt,srt,tsv,json,all}\n",
            "                        format of the output file; if not specified, all available formats will be\n",
            "                        produced (default: all)\n",
            "  --verbose VERBOSE     whether to print out the progress and debug messages (default: True)\n",
            "  --task {transcribe,translate}\n",
            "                        whether to perform X->X speech recognition ('transcribe') or X->English\n",
            "                        translation ('translate') (default: transcribe)\n",
            "  --language {af,am,ar,as,az,ba,be,bg,bn,bo,br,bs,ca,cs,cy,da,de,el,en,es,et,eu,fa,fi,fo,fr,gl,gu,ha,haw,he,hi,hr,ht,hu,hy,id,is,it,ja,jw,ka,kk,km,kn,ko,la,lb,ln,lo,lt,lv,mg,mi,mk,ml,mn,mr,ms,mt,my,ne,nl,nn,no,oc,pa,pl,ps,pt,ro,ru,sa,sd,si,sk,sl,sn,so,sq,sr,su,sv,sw,ta,te,tg,th,tk,tl,tr,tt,uk,ur,uz,vi,yi,yo,yue,zh,Afrikaans,Albanian,Amharic,Arabic,Armenian,Assamese,Azerbaijani,Bashkir,Basque,Belarusian,Bengali,Bosnian,Breton,Bulgarian,Burmese,Cantonese,Castilian,Catalan,Chinese,Croatian,Czech,Danish,Dutch,English,Estonian,Faroese,Finnish,Flemish,French,Galician,Georgian,German,Greek,Gujarati,Haitian,Haitian Creole,Hausa,Hawaiian,Hebrew,Hindi,Hungarian,Icelandic,Indonesian,Italian,Japanese,Javanese,Kannada,Kazakh,Khmer,Korean,Lao,Latin,Latvian,Letzeburgesch,Lingala,Lithuanian,Luxembourgish,Macedonian,Malagasy,Malay,Malayalam,Maltese,Mandarin,Maori,Marathi,Moldavian,Moldovan,Mongolian,Myanmar,Nepali,Norwegian,Nynorsk,Occitan,Panjabi,Pashto,Persian,Polish,Portuguese,Punjabi,Pushto,Romanian,Russian,Sanskrit,Serbian,Shona,Sindhi,Sinhala,Sinhalese,Slovak,Slovenian,Somali,Spanish,Sundanese,Swahili,Swedish,Tagalog,Tajik,Tamil,Tatar,Telugu,Thai,Tibetan,Turkish,Turkmen,Ukrainian,Urdu,Uzbek,Valencian,Vietnamese,Welsh,Yiddish,Yoruba}\n",
            "                        language spoken in the audio, specify None to perform language detection\n",
            "                        (default: None)\n",
            "  --temperature TEMPERATURE\n",
            "                        temperature to use for sampling (default: 0)\n",
            "  --best_of BEST_OF     number of candidates when sampling with non-zero temperature (default: 5)\n",
            "  --beam_size BEAM_SIZE\n",
            "                        number of beams in beam search, only applicable when temperature is zero\n",
            "                        (default: 5)\n",
            "  --patience PATIENCE   optional patience value to use in beam decoding, as in\n",
            "                        https://arxiv.org/abs/2204.05424, the default (1.0) is equivalent to\n",
            "                        conventional beam search (default: None)\n",
            "  --length_penalty LENGTH_PENALTY\n",
            "                        optional token length penalty coefficient (alpha) as in\n",
            "                        https://arxiv.org/abs/1609.08144, uses simple length normalization by\n",
            "                        default (default: None)\n",
            "  --suppress_tokens SUPPRESS_TOKENS\n",
            "                        comma-separated list of token ids to suppress during sampling; '-1' will\n",
            "                        suppress most special characters except common punctuations (default: -1)\n",
            "  --initial_prompt INITIAL_PROMPT\n",
            "                        optional text to provide as a prompt for the first window. (default: None)\n",
            "  --condition_on_previous_text CONDITION_ON_PREVIOUS_TEXT\n",
            "                        if True, provide the previous output of the model as a prompt for the next\n",
            "                        window; disabling may make the text inconsistent across windows, but the\n",
            "                        model becomes less prone to getting stuck in a failure loop (default:\n",
            "                        True)\n",
            "  --fp16 FP16           whether to perform inference in fp16; True by default (default: True)\n",
            "  --temperature_increment_on_fallback TEMPERATURE_INCREMENT_ON_FALLBACK\n",
            "                        temperature to increase when falling back when the decoding fails to meet\n",
            "                        either of the thresholds below (default: 0.2)\n",
            "  --compression_ratio_threshold COMPRESSION_RATIO_THRESHOLD\n",
            "                        if the gzip compression ratio is higher than this value, treat the\n",
            "                        decoding as failed (default: 2.4)\n",
            "  --logprob_threshold LOGPROB_THRESHOLD\n",
            "                        if the average log probability is lower than this value, treat the\n",
            "                        decoding as failed (default: -1.0)\n",
            "  --no_speech_threshold NO_SPEECH_THRESHOLD\n",
            "                        if the probability of the <|nospeech|> token is higher than this value AND\n",
            "                        the decoding has failed due to `logprob_threshold`, consider the segment\n",
            "                        as silence (default: 0.6)\n",
            "  --word_timestamps WORD_TIMESTAMPS\n",
            "                        (experimental) extract word-level timestamps and refine the results based\n",
            "                        on them (default: False)\n",
            "  --prepend_punctuations PREPEND_PUNCTUATIONS\n",
            "                        if word_timestamps is True, merge these punctuation symbols with the next\n",
            "                        word (default: \"'“¿([{-)\n",
            "  --append_punctuations APPEND_PUNCTUATIONS\n",
            "                        if word_timestamps is True, merge these punctuation symbols with the\n",
            "                        previous word (default: \"'.。,，!！?？:：”)]}、)\n",
            "  --highlight_words HIGHLIGHT_WORDS\n",
            "                        (requires --word_timestamps True) underline each word as it is spoken in\n",
            "                        srt and vtt (default: False)\n",
            "  --max_line_width MAX_LINE_WIDTH\n",
            "                        (requires --word_timestamps True) the maximum number of characters in a\n",
            "                        line before breaking the line (default: None)\n",
            "  --max_line_count MAX_LINE_COUNT\n",
            "                        (requires --word_timestamps True) the maximum number of lines in a segment\n",
            "                        (default: None)\n",
            "  --max_words_per_line MAX_WORDS_PER_LINE\n",
            "                        (requires --word_timestamps True, no effect with --max_line_width) the\n",
            "                        maximum number of words in a segment (default: None)\n",
            "  --threads THREADS     number of threads used by torch for CPU inference; supercedes\n",
            "                        MKL_NUM_THREADS/OMP_NUM_THREADS (default: 0)\n"
          ]
        }
      ]
    },
    {
      "cell_type": "code",
      "source": [],
      "metadata": {
        "id": "1MDlo9OteeFi"
      },
      "execution_count": null,
      "outputs": []
    }
  ]
}