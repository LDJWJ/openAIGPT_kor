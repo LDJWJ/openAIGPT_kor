{
  "nbformat": 4,
  "nbformat_minor": 0,
  "metadata": {
    "colab": {
      "provenance": [],
      "toc_visible": true
    },
    "kernelspec": {
      "name": "python3",
      "display_name": "Python 3"
    },
    "language_info": {
      "name": "python"
    }
  },
  "cells": [
    {
      "cell_type": "markdown",
      "source": [
        "## 05. GPT 모델로 텍스트 편집하기"
      ],
      "metadata": {
        "id": "dpdCBDmFHfqq"
      }
    },
    {
      "cell_type": "markdown",
      "source": [
        "### 학습 내용\n",
        "* 실습: 텍스트 번역하기\n",
        "* 'instruction'은 필수! 'input'은 선택!\n",
        "* Completions 엔드포인트를 사용한 수정\n",
        "* 출력 포맷 정하기\n",
        "* 창의성 vs. 잘 정의된 답\n",
        "* 여러 결과에 대한 편집 생성하기"
      ],
      "metadata": {
        "id": "JD9pte-EHswd"
      }
    },
    {
      "cell_type": "markdown",
      "source": [
        "### 사전 준비\n",
        " * 구글 코랩 환경은 일정 시간이후에 초기화가 되기 때문에 두가지 작업을 매번 수행해야 함.\n",
        "   * chatgpt.env 파일 생성이 필요.\n",
        "     * 준비된 chatgpt.env를 내용을 변경하여 업로드 하거나 또는 API_KEY와 ORG_ID를 확인하여 생성한다.\n",
        "   * pip install openai 설치"
      ],
      "metadata": {
        "id": "Mv-r5TdWJrVb"
      }
    },
    {
      "cell_type": "markdown",
      "source": [
        "### openai 설치"
      ],
      "metadata": {
        "id": "jQ5fkV_oJsjx"
      }
    },
    {
      "cell_type": "code",
      "source": [
        "!pip install openai"
      ],
      "metadata": {
        "colab": {
          "base_uri": "https://localhost:8080/"
        },
        "id": "64_8VBlDJuhT",
        "outputId": "b0b67acb-d2b5-4080-933e-4465cfe61a74"
      },
      "execution_count": 1,
      "outputs": [
        {
          "output_type": "stream",
          "name": "stdout",
          "text": [
            "Collecting openai\n",
            "  Downloading openai-0.27.8-py3-none-any.whl (73 kB)\n",
            "\u001b[2K     \u001b[90m━━━━━━━━━━━━━━━━━━━━━━━━━━━━━━━━━━━━━━━━\u001b[0m \u001b[32m73.6/73.6 kB\u001b[0m \u001b[31m1.4 MB/s\u001b[0m eta \u001b[36m0:00:00\u001b[0m\n",
            "\u001b[?25hRequirement already satisfied: requests>=2.20 in /usr/local/lib/python3.10/dist-packages (from openai) (2.31.0)\n",
            "Requirement already satisfied: tqdm in /usr/local/lib/python3.10/dist-packages (from openai) (4.65.0)\n",
            "Requirement already satisfied: aiohttp in /usr/local/lib/python3.10/dist-packages (from openai) (3.8.5)\n",
            "Requirement already satisfied: charset-normalizer<4,>=2 in /usr/local/lib/python3.10/dist-packages (from requests>=2.20->openai) (3.2.0)\n",
            "Requirement already satisfied: idna<4,>=2.5 in /usr/local/lib/python3.10/dist-packages (from requests>=2.20->openai) (3.4)\n",
            "Requirement already satisfied: urllib3<3,>=1.21.1 in /usr/local/lib/python3.10/dist-packages (from requests>=2.20->openai) (1.26.16)\n",
            "Requirement already satisfied: certifi>=2017.4.17 in /usr/local/lib/python3.10/dist-packages (from requests>=2.20->openai) (2023.7.22)\n",
            "Requirement already satisfied: attrs>=17.3.0 in /usr/local/lib/python3.10/dist-packages (from aiohttp->openai) (23.1.0)\n",
            "Requirement already satisfied: multidict<7.0,>=4.5 in /usr/local/lib/python3.10/dist-packages (from aiohttp->openai) (6.0.4)\n",
            "Requirement already satisfied: async-timeout<5.0,>=4.0.0a3 in /usr/local/lib/python3.10/dist-packages (from aiohttp->openai) (4.0.2)\n",
            "Requirement already satisfied: yarl<2.0,>=1.0 in /usr/local/lib/python3.10/dist-packages (from aiohttp->openai) (1.9.2)\n",
            "Requirement already satisfied: frozenlist>=1.1.1 in /usr/local/lib/python3.10/dist-packages (from aiohttp->openai) (1.4.0)\n",
            "Requirement already satisfied: aiosignal>=1.1.2 in /usr/local/lib/python3.10/dist-packages (from aiohttp->openai) (1.3.1)\n",
            "Installing collected packages: openai\n",
            "Successfully installed openai-0.27.8\n"
          ]
        }
      ]
    },
    {
      "cell_type": "markdown",
      "source": [
        "### 실습 : 텍스트 번역하기\n",
        " * 독일어를 영어로 번역"
      ],
      "metadata": {
        "id": "L83G3fjpH7-Z"
      }
    },
    {
      "cell_type": "code",
      "source": [
        "import os\n",
        "import openai\n",
        "\n",
        "def init_api():\n",
        "    with open(\"chatgpt.env\") as env:\n",
        "        for line in env:\n",
        "            key, value = line.strip().split(\"=\")\n",
        "            os.environ[key] = value\n",
        "\n",
        "    openai.api_key = os.environ.get(\"API_KEY\")\n",
        "    openai.organization = os.environ.get(\"ORG_ID\")\n",
        "\n",
        "init_api()\n",
        "\n",
        "response = openai.Edit.create(\n",
        "  model=\"text-davinci-edit-001\",\n",
        "  input=\"Hallo Welt\",\n",
        "  instruction=\"Translate to English\",\n",
        ")\n",
        "\n",
        "print(response)\n"
      ],
      "metadata": {
        "colab": {
          "base_uri": "https://localhost:8080/"
        },
        "id": "Qhd6bStKJjME",
        "outputId": "8e0fa008-3b3c-4ba6-ca60-631449437724"
      },
      "execution_count": 3,
      "outputs": [
        {
          "output_type": "stream",
          "name": "stdout",
          "text": [
            "{\n",
            "  \"object\": \"edit\",\n",
            "  \"created\": 1691670578,\n",
            "  \"choices\": [\n",
            "    {\n",
            "      \"text\": \"Hello world\\n\",\n",
            "      \"index\": 0\n",
            "    }\n",
            "  ],\n",
            "  \"usage\": {\n",
            "    \"prompt_tokens\": 20,\n",
            "    \"completion_tokens\": 17,\n",
            "    \"total_tokens\": 37\n",
            "  }\n",
            "}\n"
          ]
        }
      ]
    },
    {
      "cell_type": "markdown",
      "source": [
        "### 'instruction'은 필수! 'input'은 선택!"
      ],
      "metadata": {
        "id": "23F7uuwMJy03"
      }
    },
    {
      "cell_type": "markdown",
      "source": [
        "* 'instruction'은 필수입니다. 'input'은 선택입니다."
      ],
      "metadata": {
        "id": "NjDu2_-RLqzw"
      }
    },
    {
      "cell_type": "code",
      "source": [
        "import os\n",
        "import openai\n",
        "\n",
        "def init_api():\n",
        "    with open(\"chatgpt.env\") as env:\n",
        "        for line in env:\n",
        "            key, value = line.strip().split(\"=\")\n",
        "            os.environ[key] = value\n",
        "\n",
        "    openai.api_key = os.environ.get(\"API_KEY\")\n",
        "    openai.organization = os.environ.get(\"ORG_ID\")\n",
        "\n",
        "init_api()\n",
        "\n",
        "response = openai.Edit.create(\n",
        "  model=\"text-davinci-edit-001\",\n",
        "  instruction=\"Translate the following sentence to English: 'Hallo Welt'\",\n",
        ")\n",
        "\n",
        "print(response)\n"
      ],
      "metadata": {
        "colab": {
          "base_uri": "https://localhost:8080/"
        },
        "id": "ApgTnq6rLvP_",
        "outputId": "6b68f87b-6fb5-4d35-81e5-d73f6b9057e7"
      },
      "execution_count": 4,
      "outputs": [
        {
          "output_type": "stream",
          "name": "stdout",
          "text": [
            "{\n",
            "  \"object\": \"edit\",\n",
            "  \"created\": 1691671050,\n",
            "  \"choices\": [\n",
            "    {\n",
            "      \"text\": \"Hello World\\n\",\n",
            "      \"index\": 0\n",
            "    }\n",
            "  ],\n",
            "  \"usage\": {\n",
            "    \"prompt_tokens\": 25,\n",
            "    \"completion_tokens\": 11,\n",
            "    \"total_tokens\": 36\n",
            "  }\n",
            "}\n"
          ]
        }
      ]
    },
    {
      "cell_type": "markdown",
      "source": [
        "### 텍스트 완성(Completions)와 텍스트 편집(Edit)의 사용"
      ],
      "metadata": {
        "id": "cZO_7fTzL6aZ"
      }
    },
    {
      "cell_type": "code",
      "source": [
        "import os\n",
        "import openai\n",
        "\n",
        "def init_api():\n",
        "    with open(\"chatgpt.env\") as env:\n",
        "        for line in env:\n",
        "            key, value = line.strip().split(\"=\")\n",
        "            os.environ[key] = value\n",
        "\n",
        "    openai.api_key = os.environ.get(\"API_KEY\")\n",
        "    openai.organization = os.environ.get(\"ORG_ID\")\n",
        "\n",
        "init_api()\n",
        "\n",
        "response = openai.Edit.create(\n",
        "  model=\"text-davinci-edit-001\",\n",
        "  instruction=\"Translate from English to French, Arabic, and Spanish.\",\n",
        "  input=\"The cat sat on the mat.\"\n",
        ")\n",
        "\n",
        "print(response)\n"
      ],
      "metadata": {
        "colab": {
          "base_uri": "https://localhost:8080/"
        },
        "id": "iWafU_KLN4a4",
        "outputId": "debfb9bb-eedc-4852-d7d2-91927ce43805"
      },
      "execution_count": 5,
      "outputs": [
        {
          "output_type": "stream",
          "name": "stdout",
          "text": [
            "{\n",
            "  \"object\": \"edit\",\n",
            "  \"created\": 1691671121,\n",
            "  \"choices\": [\n",
            "    {\n",
            "      \"text\": \"The cat sat on the mat.\\nThe cat sat on the mat.\\nThe cat sat on the mat.\\nThe cat sat on the mat.\\nTranslate1: Le chat assis sur le tapis.\\nTranslate2: \\u0627\\u0644\\u0642\\u0637 \\u064a\\u062c\\u0644\\u0633 \\u0639\\u0644\\u0649 \\u0627\\u0644\\u0633\\u062c\\u0627\\u062f.\\nTranslate3: El gato se sent\\u00f3 en la estera.\\n\",\n",
            "      \"index\": 0\n",
            "    }\n",
            "  ],\n",
            "  \"usage\": {\n",
            "    \"prompt_tokens\": 31,\n",
            "    \"completion_tokens\": 154,\n",
            "    \"total_tokens\": 185\n",
            "  }\n",
            "}\n"
          ]
        }
      ]
    },
    {
      "cell_type": "markdown",
      "source": [
        "### Completion 엔드 포인트 사용하기"
      ],
      "metadata": {
        "id": "fWLWLFYaN4vn"
      }
    },
    {
      "cell_type": "code",
      "source": [
        "import os\n",
        "import openai\n",
        "\n",
        "def init_api():\n",
        "    with open(\"chatgpt.env\") as env:\n",
        "        for line in env:\n",
        "            key, value = line.strip().split(\"=\")\n",
        "            os.environ[key] = value\n",
        "\n",
        "    openai.api_key = os.environ.get(\"API_KEY\")\n",
        "    openai.organization = os.environ.get(\"ORG_ID\")\n",
        "\n",
        "init_api()\n",
        "\n",
        "next = openai.Completion.create(\n",
        "    model=\"text-davinci-003\",\n",
        "    prompt=\"\"\"\n",
        "    Translate the following sentence from English to French, Arabic, and Spanish.\n",
        "    English: The cat sat on the mat.\n",
        "    French:\n",
        "    Arabic:\n",
        "    Spanish:\n",
        "    \"\"\",\n",
        "    max_tokens=60,\n",
        "    temperature=0\n",
        ")\n",
        "\n",
        "print(next)\n"
      ],
      "metadata": {
        "colab": {
          "base_uri": "https://localhost:8080/"
        },
        "id": "cqf049-BOYrc",
        "outputId": "c012ed26-8166-4ee4-98e0-54e57f00fadb"
      },
      "execution_count": null,
      "outputs": [
        {
          "output_type": "stream",
          "name": "stdout",
          "text": [
            "{\n",
            "  \"warning\": \"This model version is deprecated. Migrate before January 4, 2024 to avoid disruption of service. Learn more https://platform.openai.com/docs/deprecations\",\n",
            "  \"id\": \"cmpl-7jiYP905Co1PGSFfBorNHWnXTCkfx\",\n",
            "  \"object\": \"text_completion\",\n",
            "  \"created\": 1691130381,\n",
            "  \"model\": \"text-davinci-003\",\n",
            "  \"choices\": [\n",
            "    {\n",
            "      \"text\": \"\\nFrench: Le chat s'est assis sur le tapis.\\nArabic: \\u0627\\u0644\\u0642\\u0637 \\u0646\\u0632\\u0644 \\u0639\\u0644\\u0649 \\u0627\\u0644\\u0633\\u062c\\u0627\\u062f\\u0629.\\nSpanish: El gato se sent\\u00f3 en la alfombra.\",\n",
            "      \"index\": 0,\n",
            "      \"logprobs\": null,\n",
            "      \"finish_reason\": \"stop\"\n",
            "    }\n",
            "  ],\n",
            "  \"usage\": {\n",
            "    \"prompt_tokens\": 43,\n",
            "    \"completion_tokens\": 58,\n",
            "    \"total_tokens\": 101\n",
            "  }\n",
            "}\n"
          ]
        }
      ]
    },
    {
      "cell_type": "markdown",
      "source": [
        "### 텍스트 완성을 위한 Edit 엔드 포인트 사용"
      ],
      "metadata": {
        "id": "n_1ch-umOb16"
      }
    },
    {
      "cell_type": "code",
      "source": [
        "import os\n",
        "import openai\n",
        "\n",
        "def init_api():\n",
        "    with open(\"chatgpt.env\") as env:\n",
        "        for line in env:\n",
        "            key, value = line.strip().split(\"=\")\n",
        "            os.environ[key] = value\n",
        "\n",
        "    openai.api_key = os.environ.get(\"API_KEY\")\n",
        "    openai.organization = os.environ.get(\"ORG_ID\")\n",
        "\n",
        "init_api()\n",
        "\n",
        "response = openai.Edit.create(\n",
        "  model=\"text-davinci-edit-001\",\n",
        "  instruction=\"Complete the story\",\n",
        "  input=\"Once upon a time\",\n",
        ")\n",
        "\n",
        "print(response['choices'][0]['text'])\n"
      ],
      "metadata": {
        "colab": {
          "base_uri": "https://localhost:8080/"
        },
        "id": "CSs-256_Onhb",
        "outputId": "d334d4c3-34cb-4c6f-e20d-b44c1018336a"
      },
      "execution_count": 6,
      "outputs": [
        {
          "output_type": "stream",
          "name": "stdout",
          "text": [
            "Once upon a time\n",
            "There was a guy named Ray Yee.\n",
            "\n"
          ]
        }
      ]
    },
    {
      "cell_type": "markdown",
      "source": [
        "### 출력 포맷 정하기\n",
        " * Edit 엔드포인트에서 Goloan 코드의 주석 추가"
      ],
      "metadata": {
        "id": "wEqhHlc0Oqq6"
      }
    },
    {
      "cell_type": "code",
      "source": [
        "import os\n",
        "import openai\n",
        "\n",
        "def init_api():\n",
        "    with open(\"chatgpt.env\") as env:\n",
        "        for line in env:\n",
        "            key, value = line.strip().split(\"=\")\n",
        "            os.environ[key] = value\n",
        "\n",
        "    openai.api_key = os.environ.get(\"API_KEY\")\n",
        "    openai.organization = os.environ.get(\"ORG_ID\")\n",
        "\n",
        "init_api()\n",
        "\n",
        "response = openai.Edit.create(\n",
        "  model=\"text-davinci-edit-001\",\n",
        "  instruction=\"Explain the following Golang code:\",\n",
        "  input=\"\"\"\n",
        "package main\n",
        "\n",
        "import (\n",
        "   \"io/ioutil\"\n",
        "   \"log\"\n",
        "   \"net/http\"\n",
        ")\n",
        "\n",
        "func main() {\n",
        "   resp, err := http.Get(\"https://website.com\")\n",
        "   if err != nil {\n",
        "      log.Fatalln(err)\n",
        "   }\n",
        "\n",
        "   body, err := ioutil.ReadAll(resp.Body)\n",
        "   if err != nil {\n",
        "      log.Fatalln(err)\n",
        "   }\n",
        "\n",
        "   sb := string(body)\n",
        "   log.Printf(sb)\n",
        "}\n",
        "  \"\"\"\n",
        "\n",
        ")\n",
        "\n",
        "print(response)   # 응답 결과\n",
        "print(\"##### Explain the following Golang code: #####\")\n",
        "print(response['choices'][0]['text']) # 응답 결과의 text 가져오기\n"
      ],
      "metadata": {
        "colab": {
          "base_uri": "https://localhost:8080/"
        },
        "id": "rj9vUyIyOvNI",
        "outputId": "343a302a-eecb-4b29-fc30-ea935eac335f"
      },
      "execution_count": 8,
      "outputs": [
        {
          "output_type": "stream",
          "name": "stdout",
          "text": [
            "{\n",
            "  \"object\": \"edit\",\n",
            "  \"created\": 1691671586,\n",
            "  \"choices\": [\n",
            "    {\n",
            "      \"text\": \"// The following code generates an html file with an internet URL added into a Golang code\\n// This code source highlights the use of three libraries:\\n// io/ioutil is a Golang package to read and write data to and from network or disk\\n// log package gets used for logging errors or messages\\n// net/http helps in sending requests and receiving responses\\npackage main\\n\\nimport (\\n   \\\"io/ioutil\\\"\\n   \\\"log\\\"\\n   \\\"net/http\\\"\\n)\\n\\nfunc main() {\\n   resp, err := http.Get(\\\"https://website.com\\\")\\n   if err != nil {\\n      log.Fatalln(err)\\n   }\\n\\n   body, err := ioutil.ReadAll(resp.Body)\\n   if err != nil {\\n      log.Fatalln(err)\\n   }\\n\\n   sb := string(body)\\n   log.Printf(sb)\\n}\\n  \\n\",\n",
            "      \"index\": 0\n",
            "    }\n",
            "  ],\n",
            "  \"usage\": {\n",
            "    \"prompt_tokens\": 156,\n",
            "    \"completion_tokens\": 91,\n",
            "    \"total_tokens\": 247\n",
            "  }\n",
            "}\n",
            "##### Explain the following Golang code: #####\n",
            "// The following code generates an html file with an internet URL added into a Golang code\n",
            "// This code source highlights the use of three libraries:\n",
            "// io/ioutil is a Golang package to read and write data to and from network or disk\n",
            "// log package gets used for logging errors or messages\n",
            "// net/http helps in sending requests and receiving responses\n",
            "package main\n",
            "\n",
            "import (\n",
            "   \"io/ioutil\"\n",
            "   \"log\"\n",
            "   \"net/http\"\n",
            ")\n",
            "\n",
            "func main() {\n",
            "   resp, err := http.Get(\"https://website.com\")\n",
            "   if err != nil {\n",
            "      log.Fatalln(err)\n",
            "   }\n",
            "\n",
            "   body, err := ioutil.ReadAll(resp.Body)\n",
            "   if err != nil {\n",
            "      log.Fatalln(err)\n",
            "   }\n",
            "\n",
            "   sb := string(body)\n",
            "   log.Printf(sb)\n",
            "}\n",
            "  \n",
            "\n"
          ]
        }
      ]
    },
    {
      "cell_type": "markdown",
      "source": [
        "### 창의성 vs. 잘 정의된 답\n",
        " * temperature를 활용한 예제"
      ],
      "metadata": {
        "id": "lhC3qCVxPFY4"
      }
    },
    {
      "cell_type": "code",
      "source": [
        "import os\n",
        "import openai\n",
        "\n",
        "def init_api():\n",
        "    with open(\"chatgpt.env\") as env:\n",
        "        for line in env:\n",
        "            key, value = line.strip().split(\"=\")\n",
        "            os.environ[key] = value\n",
        "\n",
        "    openai.api_key = os.environ.get(\"API_KEY\")\n",
        "    openai.organization = os.environ.get(\"ORG_ID\")\n",
        "\n",
        "init_api()\n",
        "\n",
        "response_1 = openai.Edit.create(\n",
        "  model=\"text-davinci-edit-001\",\n",
        "  instruction=\"correct the spelling mistakes:\",\n",
        "  input=\"The kuick brown fox jumps over the lazy dog and\",\n",
        "  temperature=0,\n",
        ")\n",
        "\n",
        "response_2 = openai.Edit.create(\n",
        "  model=\"text-davinci-edit-001\",\n",
        "  instruction=\"correct the spelling mistakes:\",\n",
        "  input=\"The kuick brown fox jumps over the lazy dog and\",\n",
        "  temperature=1.3,\n",
        ")\n",
        "\n",
        "print(\"Temperature 0:\")\n",
        "print(response_1['choices'][0]['text'])\n",
        "print(\"Temperature 1.3:\")\n",
        "print(response_2['choices'][0]['text'])\n"
      ],
      "metadata": {
        "colab": {
          "base_uri": "https://localhost:8080/"
        },
        "id": "M-XNHZ5zRc3u",
        "outputId": "dfb7a6a2-c7a0-458e-868a-99fa4824ea87"
      },
      "execution_count": 9,
      "outputs": [
        {
          "output_type": "stream",
          "name": "stdout",
          "text": [
            "Temperature 0:\n",
            "The quick brown fox jumps over the lazy dog and\n",
            "\n",
            "Temperature 1.3:\n",
            "Quick browns foxes ju<ps over grey tggyafhg sad<dl;kew<;qmxjarp = ;dsamgdlkaova we calll us dfmqar christym softlllie li;smrtjoet nsexxxx fox jumps so easiy odawsda can nice mate\\\n",
            "\n"
          ]
        }
      ]
    },
    {
      "cell_type": "markdown",
      "source": [
        "### 더 창의적으로 사용해 볼 기회"
      ],
      "metadata": {
        "id": "TQdWTKo1SKQA"
      }
    },
    {
      "cell_type": "code",
      "source": [
        "import os\n",
        "import openai\n",
        "\n",
        "def init_api():\n",
        "    with open(\"chatgpt.env\") as env:\n",
        "        for line in env:\n",
        "            key, value = line.strip().split(\"=\")\n",
        "            os.environ[key] = value\n",
        "\n",
        "    openai.api_key = os.environ.get(\"API_KEY\")\n",
        "    openai.organization = os.environ.get(\"ORG_ID\")\n",
        "\n",
        "init_api()\n",
        "\n",
        "response = openai.Edit.create(\n",
        "    model=\"text-davinci-edit-001\",\n",
        "    input=\"Exercise is good for your health.\",\n",
        "    instruction=\"Edit the text to make it longer.\",\n",
        "    temperature=0.9,\n",
        ")\n",
        "\n",
        "print(response[\"choices\"][0][\"text\"])\n"
      ],
      "metadata": {
        "colab": {
          "base_uri": "https://localhost:8080/"
        },
        "id": "m1JyJ4bvU9PX",
        "outputId": "c6f1e3d2-f9e2-4a95-af8e-559856c97bab"
      },
      "execution_count": null,
      "outputs": [
        {
          "output_type": "stream",
          "name": "stdout",
          "text": [
            "Exercise is good for your health. It is very important to exercise at least 30 minutes every day to stay healthy and fit. To maintain a healthy life style one should exercise every day.\n",
            "\n"
          ]
        }
      ]
    },
    {
      "cell_type": "markdown",
      "source": [
        "### tempeature=0을 설정 후, 출력 결과"
      ],
      "metadata": {
        "id": "tPVsYfgOU-0b"
      }
    },
    {
      "cell_type": "code",
      "source": [
        "import os\n",
        "import openai\n",
        "\n",
        "def init_api():\n",
        "    with open(\"chatgpt.env\") as env:\n",
        "        for line in env:\n",
        "            key, value = line.strip().split(\"=\")\n",
        "            os.environ[key] = value\n",
        "\n",
        "    openai.api_key = os.environ.get(\"API_KEY\")\n",
        "    openai.organization = os.environ.get(\"ORG_ID\")\n",
        "\n",
        "init_api()\n",
        "\n",
        "response = openai.Edit.create(\n",
        "    model=\"text-davinci-edit-001\",\n",
        "    input=\"Exercise is good for your health.\",\n",
        "    instruction=\"Edit the text to make it longer.\",\n",
        "    temperature=0,\n",
        ")\n",
        "\n",
        "print(response[\"choices\"][0][\"text\"])\n"
      ],
      "metadata": {
        "colab": {
          "base_uri": "https://localhost:8080/"
        },
        "id": "sMJQyxrKV5hq",
        "outputId": "0e188bed-7a22-4fde-ff7c-1771587f40d1"
      },
      "execution_count": null,
      "outputs": [
        {
          "output_type": "stream",
          "name": "stdout",
          "text": [
            "Exercise is good for your health. It is good for your heart.\n",
            "\n"
          ]
        }
      ]
    },
    {
      "cell_type": "markdown",
      "source": [
        "### 창의성 vs. 잘 정의된 답 - 창의성 높이기(top_n 매개변수 추가)"
      ],
      "metadata": {
        "id": "KfXDhRwBV6jh"
      }
    },
    {
      "cell_type": "code",
      "source": [
        "import os\n",
        "import openai\n",
        "\n",
        "def init_api():\n",
        "    with open(\"chatgpt.env\") as env:\n",
        "        for line in env:\n",
        "            key, value = line.strip().split(\"=\")\n",
        "            os.environ[key] = value\n",
        "\n",
        "    openai.api_key = os.environ.get(\"API_KEY\")\n",
        "    openai.organization = os.environ.get(\"ORG_ID\")\n",
        "\n",
        "init_api()\n",
        "\n",
        "response = openai.Edit.create(\n",
        "    model=\"text-davinci-edit-001\",\n",
        "    input=\"Exercise is good for your health.\",\n",
        "    instruction=\"Edit the text to make it longer.\",\n",
        "    top_p=0.1,\n",
        ")\n",
        "\n",
        "print(response[\"choices\"][0][\"text\"])\n"
      ],
      "metadata": {
        "colab": {
          "base_uri": "https://localhost:8080/"
        },
        "id": "IirX76vkWQjF",
        "outputId": "abc1a97d-34ae-4e2a-aad5-2f899e6ddead"
      },
      "execution_count": 10,
      "outputs": [
        {
          "output_type": "stream",
          "name": "stdout",
          "text": [
            "Exercise is good for your health. It is good for your heart.\n",
            "\n"
          ]
        }
      ]
    },
    {
      "cell_type": "markdown",
      "source": [
        "### 여러 결과에 대한 편집 생성하기"
      ],
      "metadata": {
        "id": "JxhMru6GWUu3"
      }
    },
    {
      "cell_type": "code",
      "source": [
        "import os\n",
        "import openai\n",
        "\n",
        "def init_api():\n",
        "    with open(\"chatgpt.env\") as env:\n",
        "        for line in env:\n",
        "            key, value = line.strip().split(\"=\")\n",
        "            os.environ[key] = value\n",
        "\n",
        "    openai.api_key = os.environ.get(\"API_KEY\")\n",
        "    openai.organization = os.environ.get(\"ORG_ID\")\n",
        "\n",
        "init_api()\n",
        "\n",
        "response = openai.Edit.create(\n",
        "    model=\"text-davinci-edit-001\",\n",
        "    input=\"Exercise is good for your health.\",\n",
        "    instruction=\"Edit the text to make it longer.\",\n",
        "    top_p=0.2,\n",
        "    n=2,\n",
        ")\n",
        "\n",
        "print(response[\"choices\"][0][\"text\"])\n",
        "print(response[\"choices\"][1][\"text\"])\n"
      ],
      "metadata": {
        "colab": {
          "base_uri": "https://localhost:8080/"
        },
        "id": "Q1MLWTstYwXa",
        "outputId": "62c8bc86-9ca3-4b21-e97f-6dd7099442d0"
      },
      "execution_count": 11,
      "outputs": [
        {
          "output_type": "stream",
          "name": "stdout",
          "text": [
            "Exercise is good for your health. It is good for your heart.\n",
            "\n",
            "Exercise is good for your health. Exercise is good for your health. Exercise is good for your health. Exercise is good for your health. Exercise is good for your health. Exercise is good for your health. Exercise is good for your health. Exercise is good for your health. Exercise is good for your health. Exercise is good for your health. Exercise is good for your health. Exercise is good for your health. Exercise is good for your health. Exercise is good for your health. Exercise is good for your health. Exercise is good for your health. Exercise is good for your health. Exercise is good for your health. Exercise is good for your health. Exercise is good for your health. Exercise is good for your health. Exercise is good for your health. Exercise is good for your health. Exercise is good for your health. Exercise is good for your health. Exercise is good for your health. Exercise is good for your health. Exercise is good for your health. Exercise is good for your health. Exercise is good for your health. Exercise is good for your health. Exercise is good for your health. Exercise is good for your health. Exercise is good for your health. Exercise is good for your health. Exercise is good for your health. Exercise is good for your health. Exercise is good for your health. Exercise is good for your health. Exercise is good for your health. Exercise is good for your health. Exercise is good for your health. Exercise is good for your health. Exercise is good for your health. Exercise is good for your health. Exercise is good for your health. Exercise is good for your health. Exercise is good for your health. Exercise is good for your health. Exercise is good for your health. Exercise is good for your health. Exercise is good for your health. Exercise is good for your health. Exercise is good for your health. Exercise is good for your health. Exercise is good for your health. Exercise is good for your health. Exercise is good for your health. Exercise is good for your health. Exercise is good for your health. Exercise is good for your health. Exercise is good for your health. Exercise is good for your health. Exercise is good for your health. Exercise is good for your health. Exercise is good for your health. Exercise is good for your health. Exercise is good for your health. Exercise is good for your health. Exercise is good for your health. Exercise is good for your health. Exercise is good for your health. Exercise is good for your health. Exercise is good for your health. Exercise is good for your health. Exercise is good for your health. Exercise is good for your health. Exercise is good for your health. Exercise is good for your health. Exercise is good for your health. Exercise is good for your health. Exercise is good for your health. Exercise is good for your health. Exercise is good for your health. Exercise is good for your health. Exercise is good for your health. Exercise is good for your health. Exercise is good for your health. Exercise is good for your health. Exercise is good for your health. Exercise is good for your health. Exercise is good for your health. Exercise is good for your health. Exercise is good for your health. Exercise is good for your health. Exercise is good for your health. Exercise is good for your health. Exercise is good for your health. Exercise is good for your health. Exercise is good for your health. Exercise is good for your health. Exercise is good for your health. Exercise is good for your health. Exercise is good for your health. Exercise is good for your health. Exercise is good for your health. Exercise is good for your health. Exercise is good for your health. Exercise is good for your health. Exercise is good for your health. Exercise is good for your health. Exercise is good for your health. Exercise is good for your health. Exercise is good for your health. Exercise is good for your health. Exercise is good for your health. Exercise is good for your health. Exercise is good for your health. Exercise is good for your health. Exercise is good for your health. Exercise is good for your health. Exercise is good for your health. Exercise is good for your health. Exercise is good for your health. Exercise is good for your health. Exercise is good for your health. Exercise is good for your health. Exercise is good for your health. Exercise is good for your health. Exercise is good for your health. Exercise is good for your health. Exercise is good for your health. Exercise is good for your health. Exercise is good for your health. Exercise is good for your health. Exercise is good for your health. Exercise is good for your health. Exercise is good for your health. Exercise is good for your health. Exercise is good for your health. Exercise is good for your health. Exercise is good for your health. Exercise is good for your health. Exercise is good for your health. Exercise is good for your health. Exercise is good for your health. Exercise is good for your health. Exercise is good for your health. Exercise is good for your health. Exercise is good for your health. Exercise is good for your health. Exercise is good for your health. Exercise is good for your health. Exercise is good for your health. Exercise is good for your health. Exercise is good for your health. Exercise is good for your health. Exercise is good for your health. Exercise is good for your health. Exercise is good for your health. Exercise is good for your health. Exercise is good for your health. Exercise is good for your health. Exercise is good for your health. Exercise is good for your health. Exercise is good for your health. Exercise is good for your health. Exercise is good for your health. Exercise is good for your health. Exercise is good for your health. Exercise is good for your health. Exercise is good for your health. Exercise is good for your health. Exercise is good for your health. Exercise is good for your health. Exercise is good for your health. Exercise is good for your health. Exercise is good for your health. Exercise is good for your health. Exercise is good for your health. Exercise is good for your health. Exercise is good for your health. Exercise is good for your health. Exercise is good for your health. Exercise is good for your health. Exercise is good for your health. Exercise is good for your health. Exercise is good for your health. Exercise is good for your health. Exercise is good for your health. Exercise is good for your health. Exercise is good for your health. Exercise is good for your health. Exercise is good for your health. Exercise is good for your health. Exercise is good for your health. Exercise is good for your health. Exercise is good for your health. Exercise is good for your health. Exercise is good for your health. Exercise is good for your health. Exercise is good for your health. Exercise is good for your health. Exercise is good for your health. Exercise is good for your health. Exercise is good for your health. Exercise is good for your health. Exercise is good for your health. Exercise is good for your health. Exercise is good for your health. Exercise is good for your health. Exercise is good for your health. Exercise is good for your health. Exercise is good for your health. Exercise is good for your health. Exercise is good for your health. Exercise is good for your health. Exercise is good for your health. Exercise is good for your health. Exercise is good for your health. Exercise is good for your health. Exercise is good for your health. Exercise is good for your health. Exercise is good for your health. Exercise is good for your health. Exercise is good for your health. Exercise is good for your health. Exercise is good for your health. Exercise is good for your health. Exercise is good for your health. Exercise is good for your health. Exercise is good for your health. Exercise is good for your health. Exercise is good for your health. Exercise is good for your health. Exercise is good for your health. Exercise is good for your health. Exercise is good for your health. Exercise is good for your health. Exercise is good for your health. Exercise is good for your health. Exercise is good for your health. Exercise is good for your health. Exercise is good for your health. Exercise is good for your health. Exercise is good for your health. Exercise is good for your health. Exercise is good for your health. Exercise is good for your health. Exercise is good for your health. Exercise is good for your health. Exercise is good for your health. Exercise is good for your health. Exercise is good for your health. Exercise is good for your health. Exercise is good for your health. Exercise is good for your health. Exercise is good for your health. Exercise is good for your health. Exercise is good for your health. Exercise is good for your health. Exercise is good for your health. Exercise is good for your health. Exercise is good for your health. Exercise is good for your health. Exercise is good for your health. Exercise is good for your health. Exercise is good for your health. Exercise is good for your health. Exercise is good for your health. Exercise is good for your health. Exercise is good for your health. Exercise is good for your health. Exercise is good for your health. Exercise is good for your health. Exercise is good for your health. Exercise is good for your health. Exercise is good for your health. Exercise is good for your health. Exercise is good for your health. Exercise is good for your health. Exercise is good for your health. Exercise is good for your health. Exercise is good for your health. Exercise is good for your health. Exercise is good for your health. Exercise is good for your health. Exercise is good for your health. Exercise is good for your health. Exercise is good for your health\n",
            "\n"
          ]
        }
      ]
    },
    {
      "cell_type": "code",
      "source": [],
      "metadata": {
        "id": "PFcmSVNCZrhB"
      },
      "execution_count": null,
      "outputs": []
    }
  ]
}