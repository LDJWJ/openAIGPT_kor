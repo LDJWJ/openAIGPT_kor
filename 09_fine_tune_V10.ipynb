{
  "cells": [
    {
      "cell_type": "markdown",
      "metadata": {
        "id": "MrEcyce72WrL"
      },
      "source": [
        "### 9장 미세 튜닝과 모범 사례"
      ]
    },
    {
      "cell_type": "code",
      "source": [
        "import sys\n",
        "print(sys.version)"
      ],
      "metadata": {
        "id": "03M__qgPwF5c",
        "outputId": "042a0b1b-1521-4d25-fd3c-74920b1731e8",
        "colab": {
          "base_uri": "https://localhost:8080/"
        }
      },
      "execution_count": 2,
      "outputs": [
        {
          "output_type": "stream",
          "name": "stdout",
          "text": [
            "3.10.12 (main, Nov 20 2023, 15:14:05) [GCC 11.4.0]\n"
          ]
        }
      ]
    },
    {
      "cell_type": "markdown",
      "metadata": {
        "id": "su9FQ2204Med"
      },
      "source": [
        "### 사전 준비\n",
        "  * 구글 코랩 환경은 일정 시간이후에 초기화가 되기 때문에 아래 작업을 매번 수행해야 함.\n",
        "   * my_data.json 파일을 준비한다. (로컬에서 파일 내용을 생성하여 업로드 하거나, 구글 코랩에서 생성한다.)\n",
        "   * chatgpt.env 파일 생성이 필요.\n",
        "     * 준비된 chatgpt.env를 내용을 변경하여 업로드 하거나 또는 API_KEY와 ORG_ID를 확인하여 생성한다.\n",
        "   * pip install openai 설치\n",
        "     * 설치시 첫 실행시 에러가 발생(23/12) - 해결(다시 한번 실행하면 사라짐)\n",
        "     ```\n",
        "     ERROR: pip's dependency resolver does not currently take into account all the packages that are installed. This behaviour is the source of the following dependency conflicts.\n",
        "llmx 0.0.15a0 requires cohere, which is not installed.\n",
        "llmx 0.0.15a0 requires tiktoken, which is not installed.\n",
        "```"
      ]
    },
    {
      "cell_type": "markdown",
      "source": [
        "### 학습 내용\n",
        " * 미세 튜닝 모델 만들기\n",
        " * 미세 튜닝 리스트 확인\n",
        " * 미세 튜닝 모델 분석 및 삭제하기"
      ],
      "metadata": {
        "id": "gykDoP-T3X_J"
      }
    },
    {
      "cell_type": "markdown",
      "metadata": {
        "id": "Fyx499WD4hdS"
      },
      "source": [
        "mydata.jsonl 파일 내용 - 기본적으로 10줄 이상을 데이터를 필요로 하여 최소 샘플 10줄 준비\n",
        "\n",
        "```\n",
        "{\"messages\": [{\"role\": \"system\", \"content\": \"Marv is a factual but humorous chatbot that provides precise and clear explanations in 1-2 sentences.\"}, {\"role\": \"user\", \"content\": \"What's the largest mammal on Earth?\"}, {\"role\": \"assistant\", \"content\": \"The largest mammal is the blue whale. It's so huge, it might just be the only thing you can't miss in the ocean!\"}]}\n",
        "{\"messages\": [{\"role\": \"system\", \"content\": \"Marv is a factual but humorous chatbot that provides precise and clear explanations in 1-2 sentences.\"}, {\"role\": \"user\", \"content\": \"Name one of Albert Einstein's famous equations.\"}, {\"role\": \"assistant\", \"content\": \"E=mc², Einstein's way of saying mass and energy are pretty chummy.\"}]}\n",
        "{\"messages\": [{\"role\": \"system\", \"content\": \"Marv is a factual but humorous chatbot that provides precise and clear explanations in 1-2 sentences.\"}, {\"role\": \"user\", \"content\": \"What's the boiling point of water in Fahrenheit?\"}, {\"role\": \"assistant\", \"content\": \"Water boils at 212°F, perfect for cooking pasta or a science quiz!\"}]}\n",
        "{\"messages\": [{\"role\": \"system\", \"content\": \"Marv is a factual but humorous chatbot that provides precise and clear explanations in 1-2 sentences.\"}, {\"role\": \"user\", \"content\": \"Who painted the Mona Lisa?\"}, {\"role\": \"assistant\", \"content\": \"Leonardo da Vinci, the Renaissance man with a flair for mysterious smiles.\"}]}\n",
        "{\"messages\": [{\"role\": \"system\", \"content\": \"Marv is a factual but humorous chatbot that provides precise and clear explanations in 1-2 sentences.\"}, {\"role\": \"user\", \"content\": \"What's the largest desert in the world?\"}, {\"role\": \"assistant\", \"content\": \"The Sahara Desert, famous for its sand, sun, and size!\"}]}\n",
        "{\"messages\": [{\"role\": \"system\", \"content\": \"Marv is a factual but humorous chatbot that provides precise and clear explanations in 1-2 sentences.\"}, {\"role\": \"user\", \"content\": \"Who wrote 'To Kill a Mockingbird'?\"}, {\"role\": \"assistant\", \"content\": \"Harper Lee, who gave us a novel that's almost as famous as its title.\"}]}\n",
        "{\"messages\": [{\"role\": \"system\", \"content\": \"Marv is a factual but humorous chatbot that provides precise and clear explanations in 1-2 sentences.\"}, {\"role\": \"user\", \"content\": \"What's the chemical symbol for gold?\"}, {\"role\": \"assistant\", \"content\": \"Au, which is also what pirates say when they find it!\"}]}\n",
        "{\"messages\": [{\"role\": \"system\", \"content\": \"Marv is a factual but humorous chatbot that provides precise and clear explanations in 1-2 sentences.\"}, {\"role\": \"user\", \"content\": \"Tell me about the Eiffel Tower.\"}, {\"role\": \"assistant\", \"content\": \"The Eiffel Tower, a small, hardly noticeable landmark in Paris, France.\"}]}\n",
        "{\"messages\": [{\"role\": \"system\", \"content\": \"Marv is a factual but humorous chatbot that provides precise and clear explanations in 1-2 sentences.\"}, {\"role\": \"user\", \"content\": \"Who is the first person to set foot on the Moon?\"}, {\"role\": \"assistant\", \"content\": \"Neil Armstrong, the first moonwalker and space's most famous tourist.\"}]}\n",
        "{\"messages\": [{\"role\": \"system\", \"content\": \"Marv is a factual but humorous chatbot that provides precise and clear explanations in 1-2 sentences.\"}, {\"role\": \"user\", \"content\": \"What's the highest mountain in the world?\"}, {\"role\": \"assistant\", \"content\": \"Mount Everest, the peak that's on everyone's 'highest' bucket list.\"}]\n",
        "```"
      ]
    },
    {
      "cell_type": "code",
      "execution_count": 4,
      "metadata": {
        "colab": {
          "base_uri": "https://localhost:8080/"
        },
        "id": "J9TPXW4U5R6L",
        "outputId": "0b692ef4-854b-469b-ed72-792aa4fcf222"
      },
      "outputs": [
        {
          "output_type": "stream",
          "name": "stdout",
          "text": [
            "Requirement already satisfied: openai in /usr/local/lib/python3.10/dist-packages (1.3.7)\n",
            "Requirement already satisfied: anyio<4,>=3.5.0 in /usr/local/lib/python3.10/dist-packages (from openai) (3.7.1)\n",
            "Requirement already satisfied: distro<2,>=1.7.0 in /usr/lib/python3/dist-packages (from openai) (1.7.0)\n",
            "Requirement already satisfied: httpx<1,>=0.23.0 in /usr/local/lib/python3.10/dist-packages (from openai) (0.25.2)\n",
            "Requirement already satisfied: pydantic<3,>=1.9.0 in /usr/local/lib/python3.10/dist-packages (from openai) (1.10.13)\n",
            "Requirement already satisfied: sniffio in /usr/local/lib/python3.10/dist-packages (from openai) (1.3.0)\n",
            "Requirement already satisfied: tqdm>4 in /usr/local/lib/python3.10/dist-packages (from openai) (4.66.1)\n",
            "Requirement already satisfied: typing-extensions<5,>=4.5 in /usr/local/lib/python3.10/dist-packages (from openai) (4.5.0)\n",
            "Requirement already satisfied: idna>=2.8 in /usr/local/lib/python3.10/dist-packages (from anyio<4,>=3.5.0->openai) (3.6)\n",
            "Requirement already satisfied: exceptiongroup in /usr/local/lib/python3.10/dist-packages (from anyio<4,>=3.5.0->openai) (1.2.0)\n",
            "Requirement already satisfied: certifi in /usr/local/lib/python3.10/dist-packages (from httpx<1,>=0.23.0->openai) (2023.11.17)\n",
            "Requirement already satisfied: httpcore==1.* in /usr/local/lib/python3.10/dist-packages (from httpx<1,>=0.23.0->openai) (1.0.2)\n",
            "Requirement already satisfied: h11<0.15,>=0.13 in /usr/local/lib/python3.10/dist-packages (from httpcore==1.*->httpx<1,>=0.23.0->openai) (0.14.0)\n"
          ]
        }
      ],
      "source": [
        "!pip install openai"
      ]
    },
    {
      "cell_type": "code",
      "execution_count": 7,
      "metadata": {
        "id": "mHRK_2U4BYJ6"
      },
      "outputs": [],
      "source": [
        "import os\n",
        "from openai import OpenAI\n",
        "\n",
        "def init_api():\n",
        "    with open(\"chatgpt.env\") as env:\n",
        "       for line in env:\n",
        "           key, value = line.strip().split(\"=\")\n",
        "           os.environ[key] = value\n",
        "\n",
        "init_api()\n",
        "\n",
        "client = OpenAI(api_key  = os.environ.get(\"API_KEY\"),\n",
        "                organization  = os.environ.get(\"ORG_ID\"))\n"
      ]
    },
    {
      "cell_type": "markdown",
      "source": [
        "### 시간 변경 함수"
      ],
      "metadata": {
        "id": "oP5Xx2BDOCpu"
      }
    },
    {
      "cell_type": "code",
      "source": [
        "from datetime import datetime\n",
        "import pytz\n",
        "\n",
        "def format_timestamp_to_kst(timestamp):\n",
        "    \"\"\"\n",
        "    타임스탬프가 주어지면 KST (한국 시간대) 시간 문자열로 변환하고, None이면 None을 반환합니다.\n",
        "    \"\"\"\n",
        "    if timestamp is not None:\n",
        "        utc_time = datetime.utcfromtimestamp(timestamp)\n",
        "        utc_time = utc_time.replace(tzinfo=pytz.UTC)\n",
        "        kst_time = utc_time.astimezone(pytz.timezone(\"Asia/Seoul\"))\n",
        "        return kst_time.strftime('%Y-%m-%d %H:%M:%S')\n",
        "    return None\n",
        "\n",
        "\n",
        "print(f\"created_at=1701832706 => created_at : {format_timestamp_to_kst(1701832706)}\")"
      ],
      "metadata": {
        "colab": {
          "base_uri": "https://localhost:8080/"
        },
        "id": "WFfhlwBsOEOH",
        "outputId": "0e492183-1af2-43a8-d1b1-0a4a4c29e2bd"
      },
      "execution_count": 8,
      "outputs": [
        {
          "output_type": "stream",
          "name": "stdout",
          "text": [
            "created_at=1701832706 => created_at : 2023-12-06 12:18:26\n"
          ]
        }
      ]
    },
    {
      "cell_type": "markdown",
      "source": [
        "### 01. 기존의 파일 업로드 리스트 확인"
      ],
      "metadata": {
        "id": "C0WPi6kRGvg5"
      }
    },
    {
      "cell_type": "code",
      "source": [
        "# 파일 목록을 가져옵니다.\n",
        "files = client.files.list()\n",
        "\n",
        "# 기존에 업로드된 파일 중 동일한 이름의 파일을 찾아 삭제합니다.\n",
        "for file in files.data:\n",
        "  change_time = format_timestamp_to_kst(file.created_at)\n",
        "  print(f\"id : {file.id}, created_at : {change_time}, filename : {file.filename}\")\n",
        "  print(file, end=\"\\n\\n\")"
      ],
      "metadata": {
        "colab": {
          "base_uri": "https://localhost:8080/"
        },
        "id": "r-X5TYBVHADa",
        "outputId": "37492856-8648-4555-caeb-6a92bb91d7a1"
      },
      "execution_count": 10,
      "outputs": [
        {
          "output_type": "stream",
          "name": "stdout",
          "text": [
            "id : file-FVzfAk066UovIhCo3aFyfi08, created_at : 2023-12-06 18:47:31, filename : step_metrics.csv\n",
            "FileObject(id='file-FVzfAk066UovIhCo3aFyfi08', bytes=28617, created_at=1701856051, filename='step_metrics.csv', object='file', purpose='fine-tune-results', status='processed', status_details=None)\n",
            "\n",
            "id : file-0KYZqcFqA9c6f6boNGLWh5lQ, created_at : 2023-12-06 18:37:37, filename : drug_malady_data_01_prepared_valid.jsonl\n",
            "FileObject(id='file-0KYZqcFqA9c6f6boNGLWh5lQ', bytes=32407, created_at=1701855457, filename='drug_malady_data_01_prepared_valid.jsonl', object='file', purpose='fine-tune', status='processed', status_details=None)\n",
            "\n",
            "id : file-IPOA67JLwoRVXBRNDOZwFPq1, created_at : 2023-12-06 18:37:36, filename : drug_malady_data_01_prepared_train.jsonl\n",
            "FileObject(id='file-IPOA67JLwoRVXBRNDOZwFPq1', bytes=129849, created_at=1701855456, filename='drug_malady_data_01_prepared_train.jsonl', object='file', purpose='fine-tune', status='processed', status_details=None)\n",
            "\n",
            "id : file-boVmKjibUaTDr1cqFAWD8ZMe, created_at : 2023-12-06 18:37:26, filename : drug_malady_data_01_prepared_valid.jsonl\n",
            "FileObject(id='file-boVmKjibUaTDr1cqFAWD8ZMe', bytes=32407, created_at=1701855446, filename='drug_malady_data_01_prepared_valid.jsonl', object='file', purpose='fine-tune', status='processed', status_details=None)\n",
            "\n",
            "id : file-DlAsULtJLe3ewgqVWjlKeG2x, created_at : 2023-12-06 18:37:26, filename : drug_malady_data_01_prepared_train.jsonl\n",
            "FileObject(id='file-DlAsULtJLe3ewgqVWjlKeG2x', bytes=129849, created_at=1701855446, filename='drug_malady_data_01_prepared_train.jsonl', object='file', purpose='fine-tune', status='processed', status_details=None)\n",
            "\n",
            "id : file-Zw0WAZjbce4rWBF1WbBPh0j2, created_at : 2023-12-06 18:35:05, filename : drug_malady_data_01_prepared_train.jsonl\n",
            "FileObject(id='file-Zw0WAZjbce4rWBF1WbBPh0j2', bytes=129849, created_at=1701855305, filename='drug_malady_data_01_prepared_train.jsonl', object='file', purpose='fine-tune', status='processed', status_details=None)\n",
            "\n",
            "id : file-YAFVX7UBg5FwbsYHc1NzzXUb, created_at : 2023-12-06 18:35:05, filename : drug_malady_data_01_prepared_valid.jsonl\n",
            "FileObject(id='file-YAFVX7UBg5FwbsYHc1NzzXUb', bytes=32407, created_at=1701855305, filename='drug_malady_data_01_prepared_valid.jsonl', object='file', purpose='fine-tune', status='processed', status_details=None)\n",
            "\n",
            "id : file-sB5jGDkGgavmRrSbcuOzFMKe, created_at : 2023-12-06 18:34:06, filename : drug_malady_data_01_prepared_valid.jsonl\n",
            "FileObject(id='file-sB5jGDkGgavmRrSbcuOzFMKe', bytes=32407, created_at=1701855246, filename='drug_malady_data_01_prepared_valid.jsonl', object='file', purpose='fine-tune', status='processed', status_details=None)\n",
            "\n",
            "id : file-aPOvxfhXRLwtVNbOCHLGQHGH, created_at : 2023-12-06 18:34:05, filename : drug_malady_data_01_prepared_train.jsonl\n",
            "FileObject(id='file-aPOvxfhXRLwtVNbOCHLGQHGH', bytes=129849, created_at=1701855245, filename='drug_malady_data_01_prepared_train.jsonl', object='file', purpose='fine-tune', status='processed', status_details=None)\n",
            "\n",
            "id : file-54A8rgmVJnIV1lfgBYLTRfti, created_at : 2023-12-06 13:39:20, filename : step_metrics.csv\n",
            "FileObject(id='file-54A8rgmVJnIV1lfgBYLTRfti', bytes=1895, created_at=1701837560, filename='step_metrics.csv', object='file', purpose='fine-tune-results', status='processed', status_details=None)\n",
            "\n",
            "id : file-G33NIp5kUkVFmoH7sXixT5tW, created_at : 2023-12-06 13:33:01, filename : mydata.jsonl\n",
            "FileObject(id='file-G33NIp5kUkVFmoH7sXixT5tW', bytes=2759, created_at=1701837181, filename='mydata.jsonl', object='file', purpose='fine-tune', status='processed', status_details=None)\n",
            "\n",
            "id : file-t4k95fuxQoG6QEXNpnj9J7oF, created_at : 2023-12-06 13:30:28, filename : step_metrics.csv\n",
            "FileObject(id='file-t4k95fuxQoG6QEXNpnj9J7oF', bytes=1888, created_at=1701837028, filename='step_metrics.csv', object='file', purpose='fine-tune-results', status='processed', status_details=None)\n",
            "\n",
            "id : file-leVpC6pIFdksKToCIceVCH1X, created_at : 2023-12-06 12:18:26, filename : my_data.jsonl\n",
            "FileObject(id='file-leVpC6pIFdksKToCIceVCH1X', bytes=2763, created_at=1701832706, filename='my_data.jsonl', object='file', purpose='fine-tune', status='processed', status_details=None)\n",
            "\n",
            "id : file-CZGUpt2U1qeI7wkLgw3YOCBG, created_at : 2023-12-05 12:52:52, filename : step_metrics.csv\n",
            "FileObject(id='file-CZGUpt2U1qeI7wkLgw3YOCBG', bytes=1473, created_at=1701748372, filename='step_metrics.csv', object='file', purpose='fine-tune-results', status='processed', status_details=None)\n",
            "\n",
            "id : file-hAktYdSfFAOxftAX57t6e0Aq, created_at : 2023-12-05 12:46:52, filename : my_data_12.jsonl\n",
            "FileObject(id='file-hAktYdSfFAOxftAX57t6e0Aq', bytes=3138, created_at=1701748012, filename='my_data_12.jsonl', object='file', purpose='fine-tune', status='processed', status_details=None)\n",
            "\n",
            "id : file-G6kRheWmRA4qHdfWk8FYPiMA, created_at : 2023-12-05 12:07:16, filename : dat_prepared.jsonl\n",
            "FileObject(id='file-G6kRheWmRA4qHdfWk8FYPiMA', bytes=417, created_at=1701745636, filename='dat_prepared.jsonl', object='file', purpose='fine-tune', status='processed', status_details=None)\n",
            "\n",
            "id : file-GyxVlHyBuIAqggd5OfnOBtqr, created_at : 2023-12-05 12:07:01, filename : dat_prepared.jsonl\n",
            "FileObject(id='file-GyxVlHyBuIAqggd5OfnOBtqr', bytes=417, created_at=1701745621, filename='dat_prepared.jsonl', object='file', purpose='fine-tune', status='processed', status_details=None)\n",
            "\n"
          ]
        }
      ]
    },
    {
      "cell_type": "markdown",
      "source": [
        "### 02. OpenAI서버의 미세 조정(fine-tuning)작업 목록 리스트 확인"
      ],
      "metadata": {
        "id": "-t9fjq8E9gz7"
      }
    },
    {
      "cell_type": "code",
      "source": [
        "models = client.fine_tuning.jobs.list()\n",
        "\n",
        "print(\"미세 조정 모델 리스트 개수 : \", len(models.data))\n",
        "print(\"리스트 상세 내용 객체 출력(전체내용) : \", models.data[0])\n",
        "\n",
        "for m in models.data:\n",
        "  created_time = format_timestamp_to_kst(m.created_at)\n",
        "  finished_time = format_timestamp_to_kst(m.finished_at)\n",
        "\n",
        "  print(f\"id : {m.id}\")\n",
        "  print(f\"created_at : {created_time}, finished_at : {finished_time}, status : {m.status}\")\n",
        "  print(f\"fine_tuned_model : {m.fine_tuned_model}, model : {m.model},  result_files : {m.result_files}\")\n",
        "  print(f\"trained_tokens : {m.trained_tokens}, error : {m.error},  hyperparameters : {m.hyperparameters}\")\n",
        "  print()"
      ],
      "metadata": {
        "colab": {
          "base_uri": "https://localhost:8080/"
        },
        "id": "sn9s2nuVMuuf",
        "outputId": "f0873375-49bf-4cec-e6f9-1dc6907eac83"
      },
      "execution_count": 13,
      "outputs": [
        {
          "output_type": "stream",
          "name": "stdout",
          "text": [
            "미세 조정 모델 리스트 개수 :  8\n",
            "리스트 상세 내용 객체 출력(전체내용) :  FineTuningJob(id='ftjob-MGf34t0EqAywt8WJypnipJXb', created_at=1701855458, error=None, fine_tuned_model='ft:davinci-002:personal:drug-malady-data:8Sin3adT', finished_at=1701856048, hyperparameters=Hyperparameters(n_epochs=3, batch_size=3, learning_rate_multiplier=2), model='davinci-002', object='fine_tuning.job', organization_id='org-VSSDsvSmnHA1izxVflKKw4HZ', result_files=['file-FVzfAk066UovIhCo3aFyfi08'], status='succeeded', trained_tokens=102660, training_file='file-IPOA67JLwoRVXBRNDOZwFPq1', validation_file='file-0KYZqcFqA9c6f6boNGLWh5lQ')\n",
            "id : ftjob-MGf34t0EqAywt8WJypnipJXb\n",
            "created_at : 2023-12-06 18:37:38, finished_at : 2023-12-06 18:47:28, status : succeeded\n",
            "fine_tuned_model : ft:davinci-002:personal:drug-malady-data:8Sin3adT, model : davinci-002,  result_files : ['file-FVzfAk066UovIhCo3aFyfi08']\n",
            "trained_tokens : 102660, error : None,  hyperparameters : Hyperparameters(n_epochs=3, batch_size=3, learning_rate_multiplier=2)\n",
            "\n",
            "id : ftjob-P1dIj6Gdl4Cab9etkUjAK78f\n",
            "created_at : 2023-12-06 13:33:02, finished_at : 2023-12-06 13:39:17, status : succeeded\n",
            "fine_tuned_model : ft:gpt-3.5-turbo-0613:personal::8SdyoWac, model : gpt-3.5-turbo-0613,  result_files : ['file-54A8rgmVJnIV1lfgBYLTRfti']\n",
            "trained_tokens : 5290, error : None,  hyperparameters : Hyperparameters(n_epochs=10, batch_size=1, learning_rate_multiplier=2)\n",
            "\n",
            "id : ftjob-ymz88CB46Q2Yo8hlxfCiXs4b\n",
            "created_at : 2023-12-06 13:32:46, finished_at : None, status : failed\n",
            "fine_tuned_model : None, model : gpt-3.5-turbo-0613,  result_files : []\n",
            "trained_tokens : None, error : Error(code='deleted_training_file', message='The job failed because the training file was deleted', param='training_file'),  hyperparameters : Hyperparameters(n_epochs=10, batch_size=1, learning_rate_multiplier=2)\n",
            "\n",
            "id : ftjob-i7QIm7BCq8OMgUkK2kj6dutT\n",
            "created_at : 2023-12-06 13:24:15, finished_at : 2023-12-06 13:30:25, status : succeeded\n",
            "fine_tuned_model : ft:gpt-3.5-turbo-0613:personal::8SdqEnMk, model : gpt-3.5-turbo-0613,  result_files : ['file-t4k95fuxQoG6QEXNpnj9J7oF']\n",
            "trained_tokens : 5290, error : None,  hyperparameters : Hyperparameters(n_epochs=10, batch_size=1, learning_rate_multiplier=2)\n",
            "\n",
            "id : ftjob-ZxymWuKLICXNUHS5zAxHU8R1\n",
            "created_at : 2023-12-06 13:07:10, finished_at : None, status : failed\n",
            "fine_tuned_model : None, model : gpt-3.5-turbo-0613,  result_files : []\n",
            "trained_tokens : None, error : Error(code='invalid_training_file', message='The job failed due to an invalid training file. Invalid file format. Example 11 is not a valid JSON object.', param='training_file'),  hyperparameters : Hyperparameters(n_epochs='auto', batch_size='auto', learning_rate_multiplier='auto')\n",
            "\n",
            "id : ftjob-HpFBVOsT3QbZVvHVhsxA3QOa\n",
            "created_at : 2023-12-05 12:46:53, finished_at : 2023-12-05 12:52:49, status : succeeded\n",
            "fine_tuned_model : ft:gpt-3.5-turbo-0613:personal::8SGmIbvT, model : gpt-3.5-turbo-0613,  result_files : ['file-CZGUpt2U1qeI7wkLgw3YOCBG']\n",
            "trained_tokens : 4640, error : None,  hyperparameters : Hyperparameters(n_epochs=8, batch_size=1, learning_rate_multiplier=2)\n",
            "\n",
            "id : ftjob-hSyAPrCsnsCgErn7EYjz0phc\n",
            "created_at : 2023-12-05 12:40:48, finished_at : None, status : failed\n",
            "fine_tuned_model : None, model : gpt-3.5-turbo-0613,  result_files : []\n",
            "trained_tokens : None, error : Error(code='invalid_n_examples', message='Training file has 3 example(s), but must have at least 10 examples', param='training_file'),  hyperparameters : Hyperparameters(n_epochs='auto', batch_size='auto', learning_rate_multiplier='auto')\n",
            "\n",
            "id : ftjob-GT16FSNy1xP5iAGU2LuCvzd2\n",
            "created_at : 2023-12-05 12:21:09, finished_at : None, status : failed\n",
            "fine_tuned_model : None, model : gpt-3.5-turbo-0613,  result_files : []\n",
            "trained_tokens : None, error : Error(code='invalid_n_examples', message='Training file has 3 example(s), but must have at least 10 examples', param='training_file'),  hyperparameters : Hyperparameters(n_epochs='auto', batch_size='auto', learning_rate_multiplier='auto')\n",
            "\n"
          ]
        }
      ]
    },
    {
      "cell_type": "markdown",
      "source": [
        "```\n",
        "01. client.fine_tuning.jobs.list(): API 클라이언트를 통해 모든 미세 조정 작업의 목록을 가져옵니다.\n",
        "\n",
        "02. len(models.data): 가져온 목록에서 미세 조정 작업의 총 개수를 계산합니다.\n",
        "\n",
        "03. 반복문(for m in models.data): 각 미세 조정 작업에 대해 다음 정보를 출력합니다:\n",
        "\n",
        "id: 미세 조정 작업의 고유 식별자\n",
        "created_at: 작업이 생성된 날짜 및 시간\n",
        "status: 작업의 현재 상태 (예: 진행 중, 완료됨)\n",
        "finished_at: 작업이 완료된 날짜 및 시간\n",
        "fine_tuned_model: 미세 조정된 모델의 식별자\n",
        "model: 원본 모델의 식별자\n",
        "result_files: 작업 결과 파일의 목록\n",
        "trained_tokens: 훈련에 사용된 토큰의 수\n",
        "error: 작업 중 발생한 오류 (있는 경우)\n",
        "hyperparameters: 미세 조정에 사용된 하이퍼파라미터\n",
        "```"
      ],
      "metadata": {
        "id": "EggFhbtQK7gT"
      }
    },
    {
      "cell_type": "markdown",
      "metadata": {
        "id": "s0uHf1jSCSBf"
      },
      "source": [
        "### 03. jsonl파일 리스트 확인 후, 있다면 기존의 리스트 삭제 후, OpenAI 서버에 업로드."
      ]
    },
    {
      "cell_type": "code",
      "source": [
        "# 파일 목록을 가져옵니다.\n",
        "files = client.files.list()\n",
        "\n",
        "# 업로드하려는 파일의 이름\n",
        "uploading_file_name = \"mydata.jsonl\"\n",
        "\n",
        "# 기존에 업로드된 파일 중 동일한 이름의 파일을 찾아 삭제합니다.\n",
        "for file in files.data:\n",
        "    if file.filename == uploading_file_name:\n",
        "        client.files.delete(file.id)\n",
        "        print(f\"Deleted file with ID: {file.id}\")\n",
        "\n",
        "# 새 파일 업로드\n",
        "response = client.files.create(\n",
        "  file=open(uploading_file_name, \"rb\"),\n",
        "  purpose=\"fine-tune\"\n",
        ")\n",
        "\n",
        "print(response)\n",
        "file_id = response.id\n",
        "print(file_id)\n"
      ],
      "metadata": {
        "colab": {
          "base_uri": "https://localhost:8080/"
        },
        "id": "QKeZzgStITyv",
        "outputId": "d5a9bef7-4415-48df-93e2-da955c6fc0bb"
      },
      "execution_count": 23,
      "outputs": [
        {
          "output_type": "stream",
          "name": "stdout",
          "text": [
            "Deleted file with ID: file-pv1zVZFdVmkPaIh1vwGFO4KD\n",
            "FileObject(id='file-UFaFoNxdZyEIhK4ACGPd08Vm', bytes=3316, created_at=1702027988, filename='mydata.jsonl', object='file', purpose='fine-tune', status='processed', status_details=None)\n",
            "file-UFaFoNxdZyEIhK4ACGPd08Vm\n"
          ]
        }
      ]
    },
    {
      "cell_type": "code",
      "source": [
        "# 파일 목록을 가져옵니다.\n",
        "files = client.files.list()\n",
        "\n",
        "# 데이터의 전체 목록 확인\n",
        "for file in files.data:\n",
        "  change_time = format_timestamp_to_kst(file.created_at)\n",
        "  print(f\"id : {file.id}, created_at : {change_time}, filename : {file.filename},  bytes : {file.bytes}, purpose : {file.purpose} object : {file.object} \")"
      ],
      "metadata": {
        "colab": {
          "base_uri": "https://localhost:8080/"
        },
        "id": "ELSXNq6eInaL",
        "outputId": "c7d11c14-65c8-4ffd-9fd1-729ccf009a16"
      },
      "execution_count": 24,
      "outputs": [
        {
          "output_type": "stream",
          "name": "stdout",
          "text": [
            "id : file-UFaFoNxdZyEIhK4ACGPd08Vm, created_at : 2023-12-08 18:33:08, filename : mydata.jsonl,  bytes : 3316, purpose : fine-tune object : file \n",
            "id : file-FVzfAk066UovIhCo3aFyfi08, created_at : 2023-12-06 18:47:31, filename : step_metrics.csv,  bytes : 28617, purpose : fine-tune-results object : file \n",
            "id : file-0KYZqcFqA9c6f6boNGLWh5lQ, created_at : 2023-12-06 18:37:37, filename : drug_malady_data_01_prepared_valid.jsonl,  bytes : 32407, purpose : fine-tune object : file \n",
            "id : file-IPOA67JLwoRVXBRNDOZwFPq1, created_at : 2023-12-06 18:37:36, filename : drug_malady_data_01_prepared_train.jsonl,  bytes : 129849, purpose : fine-tune object : file \n",
            "id : file-boVmKjibUaTDr1cqFAWD8ZMe, created_at : 2023-12-06 18:37:26, filename : drug_malady_data_01_prepared_valid.jsonl,  bytes : 32407, purpose : fine-tune object : file \n",
            "id : file-DlAsULtJLe3ewgqVWjlKeG2x, created_at : 2023-12-06 18:37:26, filename : drug_malady_data_01_prepared_train.jsonl,  bytes : 129849, purpose : fine-tune object : file \n",
            "id : file-Zw0WAZjbce4rWBF1WbBPh0j2, created_at : 2023-12-06 18:35:05, filename : drug_malady_data_01_prepared_train.jsonl,  bytes : 129849, purpose : fine-tune object : file \n",
            "id : file-YAFVX7UBg5FwbsYHc1NzzXUb, created_at : 2023-12-06 18:35:05, filename : drug_malady_data_01_prepared_valid.jsonl,  bytes : 32407, purpose : fine-tune object : file \n",
            "id : file-sB5jGDkGgavmRrSbcuOzFMKe, created_at : 2023-12-06 18:34:06, filename : drug_malady_data_01_prepared_valid.jsonl,  bytes : 32407, purpose : fine-tune object : file \n",
            "id : file-aPOvxfhXRLwtVNbOCHLGQHGH, created_at : 2023-12-06 18:34:05, filename : drug_malady_data_01_prepared_train.jsonl,  bytes : 129849, purpose : fine-tune object : file \n",
            "id : file-54A8rgmVJnIV1lfgBYLTRfti, created_at : 2023-12-06 13:39:20, filename : step_metrics.csv,  bytes : 1895, purpose : fine-tune-results object : file \n",
            "id : file-t4k95fuxQoG6QEXNpnj9J7oF, created_at : 2023-12-06 13:30:28, filename : step_metrics.csv,  bytes : 1888, purpose : fine-tune-results object : file \n",
            "id : file-leVpC6pIFdksKToCIceVCH1X, created_at : 2023-12-06 12:18:26, filename : my_data.jsonl,  bytes : 2763, purpose : fine-tune object : file \n",
            "id : file-CZGUpt2U1qeI7wkLgw3YOCBG, created_at : 2023-12-05 12:52:52, filename : step_metrics.csv,  bytes : 1473, purpose : fine-tune-results object : file \n",
            "id : file-hAktYdSfFAOxftAX57t6e0Aq, created_at : 2023-12-05 12:46:52, filename : my_data_12.jsonl,  bytes : 3138, purpose : fine-tune object : file \n",
            "id : file-G6kRheWmRA4qHdfWk8FYPiMA, created_at : 2023-12-05 12:07:16, filename : dat_prepared.jsonl,  bytes : 417, purpose : fine-tune object : file \n",
            "id : file-GyxVlHyBuIAqggd5OfnOBtqr, created_at : 2023-12-05 12:07:01, filename : dat_prepared.jsonl,  bytes : 417, purpose : fine-tune object : file \n"
          ]
        }
      ]
    },
    {
      "cell_type": "markdown",
      "source": [
        "### 04. OpenAI의 GPT API를 활용한 미세 조정(fine-tuning) 작업을 수행"
      ],
      "metadata": {
        "id": "tlraPPIj9pFT"
      }
    },
    {
      "cell_type": "markdown",
      "source": [
        "* 미세 조정이란 기존의 모델을 특정 데이터셋에 맞게 조정하여 모델의 성능을 특정 작업이나 도메인에 더 적합하게 만드는 과정."
      ],
      "metadata": {
        "id": "c76QSCb2Lfnb"
      }
    },
    {
      "cell_type": "code",
      "source": [
        "data_id = \"file-UFaFoNxdZyEIhK4ACGPd08Vm\"\n",
        "\n",
        "fine_tune_job = client.fine_tuning.jobs.create(\n",
        "  training_file=data_id,\n",
        "  model=\"gpt-3.5-turbo\"\n",
        ")\n",
        "\n",
        "print(fine_tune_job)\n",
        "print(fine_tune_job.id)\n"
      ],
      "metadata": {
        "id": "fzv1urGu9o1Z",
        "colab": {
          "base_uri": "https://localhost:8080/"
        },
        "outputId": "fc62c8bc-3a48-43a2-a144-724156f54d67"
      },
      "execution_count": 25,
      "outputs": [
        {
          "output_type": "stream",
          "name": "stdout",
          "text": [
            "FineTuningJob(id='ftjob-7ZZdOZAgFhZmFb4qspk2XoWv', created_at=1702028025, error=None, fine_tuned_model=None, finished_at=None, hyperparameters=Hyperparameters(n_epochs='auto', batch_size='auto', learning_rate_multiplier='auto'), model='gpt-3.5-turbo-0613', object='fine_tuning.job', organization_id='org-VSSDsvSmnHA1izxVflKKw4HZ', result_files=[], status='validating_files', trained_tokens=None, training_file='file-UFaFoNxdZyEIhK4ACGPd08Vm', validation_file=None)\n",
            "ftjob-7ZZdOZAgFhZmFb4qspk2XoWv\n"
          ]
        }
      ]
    },
    {
      "cell_type": "markdown",
      "source": [
        "```\n",
        "client.fine_tuning.jobs.create() : 이 메소드는 새로운 미세 조정 작업을 생성하는 데 사용\n",
        "    training_file=\"file-MlCjaveJ2sD4rY2Ilbjk1MNn\"  :  여기서 training_file 매개변수는 미세 조정에 사용될 트레이닝 데이터 파일의 고유 식별자(ID)를 나타냅니다. 이 식별자는 이전에 API를 통해 업로드된 특정 파일을 가리킵니다.\n",
        "\n",
        "    model=\"gpt-3.5-turbo <= 이 매개변수는 사용할 기본 모델을 지정합니다. 여기서는 gpt-3.5-turbo 모델을 사용하도록 설정되어 있습니다. 이 모델은 GPT-3.5 시리즈의 일부로, 대규모 언어 생성 작업에 최적화된 모델입니다.\n",
        "```"
      ],
      "metadata": {
        "id": "wWUdmmM2Lrnk"
      }
    },
    {
      "cell_type": "markdown",
      "source": [
        "* 추가 설명\n",
        "  * 이 작업을 통해, 사용자는 기존 GPT-3.5-turbo 모델을 자신의 데이터셋으로 미세 조정하여, 특정 작업이나 도메인에 더 특화된 언어 모델을 생성할 수 있습니다. 예를 들어, 특정 산업 분야의 전문 용어, 스타일 또는 특정 형식의 대화에 더 적합하도록 모델을 조정할 수 있습니다."
      ],
      "metadata": {
        "id": "EhhkyLKkLrk4"
      }
    },
    {
      "cell_type": "code",
      "source": [
        "models = client.fine_tuning.jobs.list()\n",
        "\n",
        "print(\"미세 조정 모델 리스트 개수 : \", len(models.data))\n",
        "\n",
        "for m in models.data:\n",
        "  created_time = format_timestamp_to_kst(m.created_at)\n",
        "  finished_time = format_timestamp_to_kst(m.finished_at)\n",
        "\n",
        "  print(f\"id : {m.id}\")\n",
        "  print(f\"created_at : {created_time}, finished_at : {finished_time}, status : {m.status}\")\n",
        "  print(f\"fine_tuned_model : {m.fine_tuned_model}, model : {m.model},  result_files : {m.result_files}\")\n",
        "  print(f\"trained_tokens : {m.trained_tokens}, error : {m.error},  hyperparameters : {m.hyperparameters}\")\n",
        "  print()"
      ],
      "metadata": {
        "colab": {
          "base_uri": "https://localhost:8080/"
        },
        "id": "yvlvUBeJxuMJ",
        "outputId": "3e0c50c8-c723-4417-f599-f0a4b8d4a22c"
      },
      "execution_count": 33,
      "outputs": [
        {
          "output_type": "stream",
          "name": "stdout",
          "text": [
            "미세 조정 모델 리스트 개수 :  9\n",
            "id : ftjob-7ZZdOZAgFhZmFb4qspk2XoWv\n",
            "created_at : 2023-12-08 18:33:45, finished_at : 2023-12-08 18:40:33, status : succeeded\n",
            "fine_tuned_model : ft:gpt-3.5-turbo-0613:personal::8TRdS2aQ, model : gpt-3.5-turbo-0613,  result_files : ['file-BPBHJKjuUW2x2Hr6kDqEbtxA']\n",
            "trained_tokens : 6110, error : None,  hyperparameters : Hyperparameters(n_epochs=10, batch_size=1, learning_rate_multiplier=2)\n",
            "\n",
            "id : ftjob-MGf34t0EqAywt8WJypnipJXb\n",
            "created_at : 2023-12-06 18:37:38, finished_at : 2023-12-06 18:47:28, status : succeeded\n",
            "fine_tuned_model : ft:davinci-002:personal:drug-malady-data:8Sin3adT, model : davinci-002,  result_files : ['file-FVzfAk066UovIhCo3aFyfi08']\n",
            "trained_tokens : 102660, error : None,  hyperparameters : Hyperparameters(n_epochs=3, batch_size=3, learning_rate_multiplier=2)\n",
            "\n",
            "id : ftjob-P1dIj6Gdl4Cab9etkUjAK78f\n",
            "created_at : 2023-12-06 13:33:02, finished_at : 2023-12-06 13:39:17, status : succeeded\n",
            "fine_tuned_model : ft:gpt-3.5-turbo-0613:personal::8SdyoWac, model : gpt-3.5-turbo-0613,  result_files : ['file-54A8rgmVJnIV1lfgBYLTRfti']\n",
            "trained_tokens : 5290, error : None,  hyperparameters : Hyperparameters(n_epochs=10, batch_size=1, learning_rate_multiplier=2)\n",
            "\n",
            "id : ftjob-ymz88CB46Q2Yo8hlxfCiXs4b\n",
            "created_at : 2023-12-06 13:32:46, finished_at : None, status : failed\n",
            "fine_tuned_model : None, model : gpt-3.5-turbo-0613,  result_files : []\n",
            "trained_tokens : None, error : Error(code='deleted_training_file', message='The job failed because the training file was deleted', param='training_file'),  hyperparameters : Hyperparameters(n_epochs=10, batch_size=1, learning_rate_multiplier=2)\n",
            "\n",
            "id : ftjob-i7QIm7BCq8OMgUkK2kj6dutT\n",
            "created_at : 2023-12-06 13:24:15, finished_at : 2023-12-06 13:30:25, status : succeeded\n",
            "fine_tuned_model : ft:gpt-3.5-turbo-0613:personal::8SdqEnMk, model : gpt-3.5-turbo-0613,  result_files : ['file-t4k95fuxQoG6QEXNpnj9J7oF']\n",
            "trained_tokens : 5290, error : None,  hyperparameters : Hyperparameters(n_epochs=10, batch_size=1, learning_rate_multiplier=2)\n",
            "\n",
            "id : ftjob-ZxymWuKLICXNUHS5zAxHU8R1\n",
            "created_at : 2023-12-06 13:07:10, finished_at : None, status : failed\n",
            "fine_tuned_model : None, model : gpt-3.5-turbo-0613,  result_files : []\n",
            "trained_tokens : None, error : Error(code='invalid_training_file', message='The job failed due to an invalid training file. Invalid file format. Example 11 is not a valid JSON object.', param='training_file'),  hyperparameters : Hyperparameters(n_epochs='auto', batch_size='auto', learning_rate_multiplier='auto')\n",
            "\n",
            "id : ftjob-HpFBVOsT3QbZVvHVhsxA3QOa\n",
            "created_at : 2023-12-05 12:46:53, finished_at : 2023-12-05 12:52:49, status : succeeded\n",
            "fine_tuned_model : ft:gpt-3.5-turbo-0613:personal::8SGmIbvT, model : gpt-3.5-turbo-0613,  result_files : ['file-CZGUpt2U1qeI7wkLgw3YOCBG']\n",
            "trained_tokens : 4640, error : None,  hyperparameters : Hyperparameters(n_epochs=8, batch_size=1, learning_rate_multiplier=2)\n",
            "\n",
            "id : ftjob-hSyAPrCsnsCgErn7EYjz0phc\n",
            "created_at : 2023-12-05 12:40:48, finished_at : None, status : failed\n",
            "fine_tuned_model : None, model : gpt-3.5-turbo-0613,  result_files : []\n",
            "trained_tokens : None, error : Error(code='invalid_n_examples', message='Training file has 3 example(s), but must have at least 10 examples', param='training_file'),  hyperparameters : Hyperparameters(n_epochs='auto', batch_size='auto', learning_rate_multiplier='auto')\n",
            "\n",
            "id : ftjob-GT16FSNy1xP5iAGU2LuCvzd2\n",
            "created_at : 2023-12-05 12:21:09, finished_at : None, status : failed\n",
            "fine_tuned_model : None, model : gpt-3.5-turbo-0613,  result_files : []\n",
            "trained_tokens : None, error : Error(code='invalid_n_examples', message='Training file has 3 example(s), but must have at least 10 examples', param='training_file'),  hyperparameters : Hyperparameters(n_epochs='auto', batch_size='auto', learning_rate_multiplier='auto')\n",
            "\n"
          ]
        }
      ]
    },
    {
      "cell_type": "markdown",
      "source": [
        "### 05. fine-tuning 작업 상태 확인\n",
        " *  작업 ID를 이용하여 현재 미세 조정 작업 전반적인 상태 확인"
      ],
      "metadata": {
        "id": "geGF2Jr_T1GP"
      }
    },
    {
      "cell_type": "code",
      "source": [
        "### 현재 미세 조정 상태 확인\n",
        "job_id = \"ftjob-7ZZdOZAgFhZmFb4qspk2XoWv\"\n",
        "job_status = client.fine_tuning.jobs.retrieve(job_id)\n",
        "\n",
        "created_time = format_timestamp_to_kst(job_status.created_at)\n",
        "finished_time = format_timestamp_to_kst(job_status.finished_at)\n",
        "\n",
        "print(f\"id : {m.id}\")\n",
        "print(f\"created_at : {created_time}, finished_at : {finished_time}, model : {job_status.model} status : {job_status.status}, error : {job_status.error}\")\n",
        "print()\n",
        "print(\"객체 상태 전체 정보 : \", job_status)\n"
      ],
      "metadata": {
        "colab": {
          "base_uri": "https://localhost:8080/"
        },
        "id": "ee9SAjDFArj5",
        "outputId": "dd6ad9cd-ee33-46cc-b9d0-d4ee25951771"
      },
      "execution_count": 34,
      "outputs": [
        {
          "output_type": "stream",
          "name": "stdout",
          "text": [
            "id : ftjob-GT16FSNy1xP5iAGU2LuCvzd2\n",
            "created_at : 2023-12-08 18:33:45, finished_at : 2023-12-08 18:40:33, model : gpt-3.5-turbo-0613 status : succeeded, error : None\n",
            "\n",
            "객체 상태 전체 정보 :  FineTuningJob(id='ftjob-7ZZdOZAgFhZmFb4qspk2XoWv', created_at=1702028025, error=None, fine_tuned_model='ft:gpt-3.5-turbo-0613:personal::8TRdS2aQ', finished_at=1702028433, hyperparameters=Hyperparameters(n_epochs=10, batch_size=1, learning_rate_multiplier=2), model='gpt-3.5-turbo-0613', object='fine_tuning.job', organization_id='org-VSSDsvSmnHA1izxVflKKw4HZ', result_files=['file-BPBHJKjuUW2x2Hr6kDqEbtxA'], status='succeeded', trained_tokens=6110, training_file='file-UFaFoNxdZyEIhK4ACGPd08Vm', validation_file=None)\n"
          ]
        }
      ]
    },
    {
      "cell_type": "markdown",
      "source": [
        "* 미세 조정 작업과 관련된 이벤트들의 목록을 검색합니다."
      ],
      "metadata": {
        "id": "iO2o06biuaB7"
      }
    },
    {
      "cell_type": "code",
      "source": [
        "### 현재 미세 조정 이벤트 목록 확인\n",
        "job_id = \"ftjob-7ZZdOZAgFhZmFb4qspk2XoWv\"\n",
        "\n",
        "job_list_events =client.fine_tuning.jobs.list_events(fine_tuning_job_id= job_id , limit=10)\n",
        "print(job_list_events)\n",
        "\n",
        "for e in job_list_events.data:\n",
        "  print(e)"
      ],
      "metadata": {
        "colab": {
          "base_uri": "https://localhost:8080/"
        },
        "id": "aTLSIuJtok3O",
        "outputId": "f7a0d7b7-3afc-4f64-ca2c-055a27d9ab10"
      },
      "execution_count": 35,
      "outputs": [
        {
          "output_type": "stream",
          "name": "stdout",
          "text": [
            "SyncCursorPage[FineTuningJobEvent](data=[FineTuningJobEvent(id='ftevent-8ZKOFWQucD1HNxreJZDqGagG', created_at=1702028437, level='info', message='The job has successfully completed', object='fine_tuning.job.event', data={}, type='message'), FineTuningJobEvent(id='ftevent-0jsnwtuqG0cJr0P5ojbICtt5', created_at=1702028434, level='info', message='New fine-tuned model created: ft:gpt-3.5-turbo-0613:personal::8TRdS2aQ', object='fine_tuning.job.event', data={}, type='message'), FineTuningJobEvent(id='ftevent-a1utaHGxfpPMSDoVP6chEy75', created_at=1702028414, level='info', message='Step 91/100: training loss=0.55', object='fine_tuning.job.event', data={'step': 91, 'train_loss': 0.5537483096122742, 'train_mean_token_accuracy': 0.9473684430122375}, type='metrics'), FineTuningJobEvent(id='ftevent-tkJdyJcNHCGdTqOf6YZxx1Ta', created_at=1702028400, level='info', message='Step 81/100: training loss=0.16', object='fine_tuning.job.event', data={'step': 81, 'train_loss': 0.16153459250926971, 'train_mean_token_accuracy': 0.9354838728904724}, type='metrics'), FineTuningJobEvent(id='ftevent-zp5Bu3XrpSNPkzFehVqrkzko', created_at=1702028384, level='info', message='Step 71/100: training loss=0.74', object='fine_tuning.job.event', data={'step': 71, 'train_loss': 0.7400593161582947, 'train_mean_token_accuracy': 0.8947368264198303}, type='metrics'), FineTuningJobEvent(id='ftevent-ClDdrcilohqhPA8Z3du0Jsjj', created_at=1702028368, level='info', message='Step 61/100: training loss=0.04', object='fine_tuning.job.event', data={'step': 61, 'train_loss': 0.04009830951690674, 'train_mean_token_accuracy': 1.0}, type='metrics'), FineTuningJobEvent(id='ftevent-Df9LY7BfE29ZBuJJZGE43os2', created_at=1702028354, level='info', message='Step 51/100: training loss=0.88', object='fine_tuning.job.event', data={'step': 51, 'train_loss': 0.8777830004692078, 'train_mean_token_accuracy': 0.8421052694320679}, type='metrics'), FineTuningJobEvent(id='ftevent-4sC4r9X0UmcVlyeHIEo7roID', created_at=1702028338, level='info', message='Step 41/100: training loss=0.29', object='fine_tuning.job.event', data={'step': 41, 'train_loss': 0.29034093022346497, 'train_mean_token_accuracy': 0.8666666746139526}, type='metrics'), FineTuningJobEvent(id='ftevent-m6mPV4e9YUy4alThYDjYAz5k', created_at=1702028322, level='info', message='Step 31/100: training loss=1.00', object='fine_tuning.job.event', data={'step': 31, 'train_loss': 1.001160979270935, 'train_mean_token_accuracy': 0.7222222089767456}, type='metrics'), FineTuningJobEvent(id='ftevent-PLLf7jOfThVLL4981eYrT6Tc', created_at=1702028308, level='info', message='Step 21/100: training loss=0.75', object='fine_tuning.job.event', data={'step': 21, 'train_loss': 0.7452482581138611, 'train_mean_token_accuracy': 0.7647058963775635}, type='metrics')], object='list', has_more=True)\n",
            "FineTuningJobEvent(id='ftevent-8ZKOFWQucD1HNxreJZDqGagG', created_at=1702028437, level='info', message='The job has successfully completed', object='fine_tuning.job.event', data={}, type='message')\n",
            "FineTuningJobEvent(id='ftevent-0jsnwtuqG0cJr0P5ojbICtt5', created_at=1702028434, level='info', message='New fine-tuned model created: ft:gpt-3.5-turbo-0613:personal::8TRdS2aQ', object='fine_tuning.job.event', data={}, type='message')\n",
            "FineTuningJobEvent(id='ftevent-a1utaHGxfpPMSDoVP6chEy75', created_at=1702028414, level='info', message='Step 91/100: training loss=0.55', object='fine_tuning.job.event', data={'step': 91, 'train_loss': 0.5537483096122742, 'train_mean_token_accuracy': 0.9473684430122375}, type='metrics')\n",
            "FineTuningJobEvent(id='ftevent-tkJdyJcNHCGdTqOf6YZxx1Ta', created_at=1702028400, level='info', message='Step 81/100: training loss=0.16', object='fine_tuning.job.event', data={'step': 81, 'train_loss': 0.16153459250926971, 'train_mean_token_accuracy': 0.9354838728904724}, type='metrics')\n",
            "FineTuningJobEvent(id='ftevent-zp5Bu3XrpSNPkzFehVqrkzko', created_at=1702028384, level='info', message='Step 71/100: training loss=0.74', object='fine_tuning.job.event', data={'step': 71, 'train_loss': 0.7400593161582947, 'train_mean_token_accuracy': 0.8947368264198303}, type='metrics')\n",
            "FineTuningJobEvent(id='ftevent-ClDdrcilohqhPA8Z3du0Jsjj', created_at=1702028368, level='info', message='Step 61/100: training loss=0.04', object='fine_tuning.job.event', data={'step': 61, 'train_loss': 0.04009830951690674, 'train_mean_token_accuracy': 1.0}, type='metrics')\n",
            "FineTuningJobEvent(id='ftevent-Df9LY7BfE29ZBuJJZGE43os2', created_at=1702028354, level='info', message='Step 51/100: training loss=0.88', object='fine_tuning.job.event', data={'step': 51, 'train_loss': 0.8777830004692078, 'train_mean_token_accuracy': 0.8421052694320679}, type='metrics')\n",
            "FineTuningJobEvent(id='ftevent-4sC4r9X0UmcVlyeHIEo7roID', created_at=1702028338, level='info', message='Step 41/100: training loss=0.29', object='fine_tuning.job.event', data={'step': 41, 'train_loss': 0.29034093022346497, 'train_mean_token_accuracy': 0.8666666746139526}, type='metrics')\n",
            "FineTuningJobEvent(id='ftevent-m6mPV4e9YUy4alThYDjYAz5k', created_at=1702028322, level='info', message='Step 31/100: training loss=1.00', object='fine_tuning.job.event', data={'step': 31, 'train_loss': 1.001160979270935, 'train_mean_token_accuracy': 0.7222222089767456}, type='metrics')\n",
            "FineTuningJobEvent(id='ftevent-PLLf7jOfThVLL4981eYrT6Tc', created_at=1702028308, level='info', message='Step 21/100: training loss=0.75', object='fine_tuning.job.event', data={'step': 21, 'train_loss': 0.7452482581138611, 'train_mean_token_accuracy': 0.7647058963775635}, type='metrics')\n"
          ]
        }
      ]
    },
    {
      "cell_type": "markdown",
      "source": [
        "### 전체 코드\n",
        " * 데이터를 준비 - 10행 이상의 데이터\n",
        " * 데이터를 올린다.\n",
        " * 데이터 목록 확인\n",
        " * 미세 조정 작업 수행\n",
        " * 미세 조정 작업 리스트 확인"
      ],
      "metadata": {
        "id": "yk0kn4XZZbo9"
      }
    },
    {
      "cell_type": "code",
      "source": [
        "# 기본 인증\n",
        "import os\n",
        "from openai import OpenAI\n",
        "\n",
        "def init_api():\n",
        "    with open(\"chatgpt.env\") as env:\n",
        "       for line in env:\n",
        "           key, value = line.strip().split(\"=\")\n",
        "           os.environ[key] = value\n",
        "\n",
        "init_api()\n",
        "\n",
        "client = OpenAI(api_key  = os.environ.get(\"API_KEY\"),\n",
        "                organization  = os.environ.get(\"ORG_ID\"))\n",
        "\n",
        "# 시간 표시\n",
        "from datetime import datetime\n",
        "import pytz\n",
        "\n",
        "def format_timestamp_to_kst(timestamp):\n",
        "    \"\"\"\n",
        "    타임스탬프가 주어지면 KST (한국 시간대) 시간 문자열로 변환하고, None이면 None을 반환합니다.\n",
        "    \"\"\"\n",
        "    if timestamp is not None:\n",
        "        utc_time = datetime.utcfromtimestamp(timestamp)\n",
        "        utc_time = utc_time.replace(tzinfo=pytz.UTC)\n",
        "        kst_time = utc_time.astimezone(pytz.timezone(\"Asia/Seoul\"))\n",
        "        return kst_time.strftime('%Y-%m-%d %H:%M:%S')\n",
        "    return None\n",
        "\n",
        "# 01. 데이터를 올린다.\n",
        "# 파일 목록을 가져옵니다.\n",
        "files = client.files.list()\n",
        "\n",
        "# 업로드하려는 파일의 이름\n",
        "uploading_file_name = \"mydata.jsonl\"\n",
        "\n",
        "# 기존에 업로드된 파일 중 동일한 이름의 파일을 찾아 삭제합니다.\n",
        "for file in files.data:\n",
        "    if file.filename == uploading_file_name:\n",
        "        client.files.delete(file.id)\n",
        "        print(f\"Deleted file with ID: {file.id}\")\n",
        "\n",
        "# 새 파일 업로드\n",
        "response = client.files.create(\n",
        "  file=open(uploading_file_name, \"rb\"),\n",
        "  purpose=\"fine-tune\"\n",
        ")\n",
        "\n",
        "file_id = response.id\n",
        "print(\"작업 ID : \", file_id)\n",
        "\n",
        "# 02. 데이터의 전체 목록 확인\n",
        "# 파일 목록을 가져옵니다.\n",
        "files = client.files.list()\n",
        "\n",
        "# 데이터의 전체 목록 확인\n",
        "for file in files.data:\n",
        "  change_time = format_timestamp_to_kst(file.created_at)\n",
        "  print(f\"id : {file.id}, created_at : {change_time}, filename : {file.filename}\")\n",
        "\n",
        "# 03. 미세 조정 작업 수행\n",
        "fine_tune_job = client.fine_tuning.jobs.create(\n",
        "  training_file=file_id,\n",
        "  model=\"gpt-3.5-turbo\"\n",
        ")\n",
        "\n",
        "print(\"미세 조정 작업 ID : \", fine_tune_job.id)\n",
        "\n",
        "# 04. 미세 조정 작업 리스트 확인\n",
        "models = client.fine_tuning.jobs.list()\n",
        "\n",
        "print(\"현재 OpenAI 서버의 미세 조정 모델 리스트 개수 : \", len(models.data))\n",
        "\n",
        "for m in models.data:\n",
        "  created_time = format_timestamp_to_kst(m.created_at)\n",
        "  finished_time = format_timestamp_to_kst(m.finished_at)\n",
        "\n",
        "  print(f\"id : {m.id}\")\n",
        "  print(f\"created_at : {created_time}, finished_at : {finished_time}, status : {m.status}\")\n",
        "  print(f\"fine_tuned_model : {m.fine_tuned_model}, model : {m.model},  result_files : {m.result_files}\")\n",
        "  print(f\"trained_tokens : {m.trained_tokens}, error : {m.error},  hyperparameters : {m.hyperparameters}\")\n",
        "  print()"
      ],
      "metadata": {
        "colab": {
          "base_uri": "https://localhost:8080/"
        },
        "id": "B3q4SgTAEeT5",
        "outputId": "03bc0d6a-343c-4c74-ea93-c4684e904982"
      },
      "execution_count": null,
      "outputs": [
        {
          "output_type": "stream",
          "name": "stdout",
          "text": [
            "Deleted file with ID: file-ysoAOKTpYCPaugvsb0WEyP6Y\n",
            "작업 ID :  file-G33NIp5kUkVFmoH7sXixT5tW\n",
            "id : file-G33NIp5kUkVFmoH7sXixT5tW, created_at : 2023-12-06 13:33:01, filename : mydata.jsonl\n",
            "id : file-t4k95fuxQoG6QEXNpnj9J7oF, created_at : 2023-12-06 13:30:28, filename : step_metrics.csv\n",
            "id : file-leVpC6pIFdksKToCIceVCH1X, created_at : 2023-12-06 12:18:26, filename : my_data.jsonl\n",
            "id : file-CZGUpt2U1qeI7wkLgw3YOCBG, created_at : 2023-12-05 12:52:52, filename : step_metrics.csv\n",
            "id : file-hAktYdSfFAOxftAX57t6e0Aq, created_at : 2023-12-05 12:46:52, filename : my_data_12.jsonl\n",
            "id : file-G6kRheWmRA4qHdfWk8FYPiMA, created_at : 2023-12-05 12:07:16, filename : dat_prepared.jsonl\n",
            "id : file-GyxVlHyBuIAqggd5OfnOBtqr, created_at : 2023-12-05 12:07:01, filename : dat_prepared.jsonl\n",
            "미세 조정 작업 ID :  ftjob-P1dIj6Gdl4Cab9etkUjAK78f\n",
            "현재 OpenAI 서버의 미세 조정 모델 리스트 개수 :  7\n",
            "id : ftjob-P1dIj6Gdl4Cab9etkUjAK78f\n",
            "created_at : 2023-12-06 13:33:02, finished_at : None, status : validating_files\n",
            "fine_tuned_model : None, model : gpt-3.5-turbo-0613,  result_files : []\n",
            "trained_tokens : None, error : None,  hyperparameters : Hyperparameters(n_epochs='auto', batch_size='auto', learning_rate_multiplier='auto')\n",
            "\n",
            "id : ftjob-ymz88CB46Q2Yo8hlxfCiXs4b\n",
            "created_at : 2023-12-06 13:32:46, finished_at : None, status : validating_files\n",
            "fine_tuned_model : None, model : gpt-3.5-turbo-0613,  result_files : []\n",
            "trained_tokens : None, error : None,  hyperparameters : Hyperparameters(n_epochs=10, batch_size=1, learning_rate_multiplier=2)\n",
            "\n",
            "id : ftjob-i7QIm7BCq8OMgUkK2kj6dutT\n",
            "created_at : 2023-12-06 13:24:15, finished_at : 2023-12-06 13:30:25, status : succeeded\n",
            "fine_tuned_model : ft:gpt-3.5-turbo-0613:personal::8SdqEnMk, model : gpt-3.5-turbo-0613,  result_files : ['file-t4k95fuxQoG6QEXNpnj9J7oF']\n",
            "trained_tokens : 5290, error : None,  hyperparameters : Hyperparameters(n_epochs=10, batch_size=1, learning_rate_multiplier=2)\n",
            "\n",
            "id : ftjob-ZxymWuKLICXNUHS5zAxHU8R1\n",
            "created_at : 2023-12-06 13:07:10, finished_at : None, status : failed\n",
            "fine_tuned_model : None, model : gpt-3.5-turbo-0613,  result_files : []\n",
            "trained_tokens : None, error : Error(code='invalid_training_file', message='The job failed due to an invalid training file. Invalid file format. Example 11 is not a valid JSON object.', param='training_file'),  hyperparameters : Hyperparameters(n_epochs='auto', batch_size='auto', learning_rate_multiplier='auto')\n",
            "\n",
            "id : ftjob-HpFBVOsT3QbZVvHVhsxA3QOa\n",
            "created_at : 2023-12-05 12:46:53, finished_at : 2023-12-05 12:52:49, status : succeeded\n",
            "fine_tuned_model : ft:gpt-3.5-turbo-0613:personal::8SGmIbvT, model : gpt-3.5-turbo-0613,  result_files : ['file-CZGUpt2U1qeI7wkLgw3YOCBG']\n",
            "trained_tokens : 4640, error : None,  hyperparameters : Hyperparameters(n_epochs=8, batch_size=1, learning_rate_multiplier=2)\n",
            "\n",
            "id : ftjob-hSyAPrCsnsCgErn7EYjz0phc\n",
            "created_at : 2023-12-05 12:40:48, finished_at : None, status : failed\n",
            "fine_tuned_model : None, model : gpt-3.5-turbo-0613,  result_files : []\n",
            "trained_tokens : None, error : Error(code='invalid_n_examples', message='Training file has 3 example(s), but must have at least 10 examples', param='training_file'),  hyperparameters : Hyperparameters(n_epochs='auto', batch_size='auto', learning_rate_multiplier='auto')\n",
            "\n",
            "id : ftjob-GT16FSNy1xP5iAGU2LuCvzd2\n",
            "created_at : 2023-12-05 12:21:09, finished_at : None, status : failed\n",
            "fine_tuned_model : None, model : gpt-3.5-turbo-0613,  result_files : []\n",
            "trained_tokens : None, error : Error(code='invalid_n_examples', message='Training file has 3 example(s), but must have at least 10 examples', param='training_file'),  hyperparameters : Hyperparameters(n_epochs='auto', batch_size='auto', learning_rate_multiplier='auto')\n",
            "\n"
          ]
        }
      ]
    },
    {
      "cell_type": "markdown",
      "source": [
        "### 06. fine-tuned model 사용해보기"
      ],
      "metadata": {
        "id": "9wAfgrzvQ_Al"
      }
    },
    {
      "cell_type": "code",
      "source": [
        "response1 = client.chat.completions.create(\n",
        "  model=\"ft:gpt-3.5-turbo-0613:personal::8TRdS2aQ\",\n",
        "  messages=[\n",
        "    {\"role\": \"system\", \"content\": \"너는 멋지고 사실적이고 유머러스한 챗봇이야.\"},\n",
        "    {\"role\": \"user\", \"content\": \"한국의 수도는 어디이니?\"}\n",
        "  ]\n",
        ")\n",
        "\n",
        "response2 = client.chat.completions.create(\n",
        "  model=\"ft:gpt-3.5-turbo-0613:personal::8TRdS2aQ\",\n",
        "  messages=[\n",
        "    {\"role\": \"system\", \"content\": \"너는 멋지고 사실적이고 유머러스한 챗봇이야.\"},\n",
        "    {\"role\": \"user\", \"content\": \"지구상의 가장 큰 포유동물은 무엇이니?\"}\n",
        "  ]\n",
        ")\n",
        "\n",
        "print(response1.choices[0].message.content)\n",
        "print(response2.choices[0].message.content)\n"
      ],
      "metadata": {
        "colab": {
          "base_uri": "https://localhost:8080/"
        },
        "id": "qxfCIlIlQ-9k",
        "outputId": "368d826a-cfe4-4c7b-b842-e432223f8ad7"
      },
      "execution_count": 40,
      "outputs": [
        {
          "output_type": "stream",
          "name": "stdout",
          "text": [
            "서울이 수도라고 해야지, 한국의 중심이니까요. 그래서 말이 많은 도시라고도 하죠!\n",
            "지구상에서 가장 큰 포유동물은 고래야. 그들은 거대하고 매우 인상적이지. 하지만, 그들은 물론 사실적으로 우리와 대화하지 않아. 그치만 다행히도 나는 여기 있어서 멋진 대화를 할 수 있어.\n"
          ]
        }
      ]
    },
    {
      "cell_type": "markdown",
      "source": [
        "### REFERENCE\n",
        " * https://platform.openai.com/docs/guides/fine-tuning/use-a-fine-tuned-model"
      ],
      "metadata": {
        "id": "J0r4NUggK269"
      }
    }
  ],
  "metadata": {
    "accelerator": "GPU",
    "colab": {
      "provenance": []
    },
    "kernelspec": {
      "display_name": "Python 3",
      "name": "python3"
    },
    "language_info": {
      "name": "python"
    }
  },
  "nbformat": 4,
  "nbformat_minor": 0
}